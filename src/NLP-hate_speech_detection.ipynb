{
  "cells": [
    {
      "cell_type": "markdown",
      "metadata": {
        "id": "DNSRlDdb4clU"
      },
      "source": [
        "# Hate Speech Detection on English tweets\n",
        "\n",
        "Author: Bigarella Chiara"
      ]
    },
    {
      "cell_type": "markdown",
      "metadata": {
        "id": "lE8iY3LbCgKO"
      },
      "source": [
        "## 1 - Introduction\n",
        "\n",
        "Natural Language Processing tasks have been widely studied in the context of big corpora, but, when applied to social media content, they have been proven to be harder. This is mainly due to the following reasons:\n",
        "\n",
        "- Social media have a high-paced, conversational and idiosyncratic nature;\n",
        "- There might be restrictions on the number of characters allowed (this is the case on Twitter);\n",
        "- Short texts cointain a limited amount of contextual cues;\n",
        "- The lack of a unified evaluation framework makes it hard to compare different models.\n",
        "\n",
        "In this notebook we will use **BERTweet**, a large-scale language model pretrained on English tweets, and we will evaluate its performances on the **Hate Speech Detection** task, which consists in understanding whether a tweet is hateful or not toward certain target communities.\n",
        "\n",
        "Below, you can see an example of the aforementioned task:\n",
        "\n",
        "\n",
        "``` python\n",
        "# Hate Speech detection\n",
        "tweet = \"THIS WOMEN CAN DO ONLY ONE THINK, BACK INTO HER RAT🐀 HOLE NEVER TO COME OUT AGAIN🐀IF SHE SHOW UP ON SURFACE AM CALL…\"\n",
        "tokenized_tweet = tokenizer(tweet)\n",
        "predictions = model_hate.predict(tokenized_tweet)\n",
        "preds = np.argmax(predictions.predictions, axis=-1)\n",
        "preds\n",
        "\n",
        "> 1 # Hate\n",
        "```"
      ]
    },
    {
      "cell_type": "markdown",
      "metadata": {
        "id": "_cSHNPAoCjOg"
      },
      "source": [
        "## 2 - Model\n",
        "\n",
        "[BERTweet](https://huggingface.co/vinai/bertweet-base) is the first large-scale language model based on the $BERT_{base}$ architecture, that has been pretrained using a corpus of 850M English Tweets. The training of the model is based on the $RoBERTa$ pre-training procedure, which leads to more robust performances compared to the $BERT$ pretraining approach ([Nguyen et al. ,2020](https://aclanthology.org/2020.emnlp-demos.2/)).\n",
        "\n",
        "BERT, which stands for **Bidirectional Encoder Representations from Transformers**, is a language representation model based on a multi-layer bidirectional Transformer encoder that jointly conditions on both left and right context in all layers. It has been pre-trained using a Masked Language Model (MLM) objective together with a Next Sentence Prediction task ([Devlin et al., 2019](https://arxiv.org/abs/1810.04805)).\n",
        "\n",
        "The pre-trained BERT model can be easily finetuned by adding a single output layer and using the labeled data from the downstream task to update all the training parameters.\n"
      ]
    },
    {
      "cell_type": "markdown",
      "metadata": {
        "id": "Iwwh5LaKCllD"
      },
      "source": [
        "## 3 - Methodology\n",
        "\n",
        "In order to perform the Hate Speech Detection task,\n",
        "we will finetune the $BERTweet_{base}$ model on the **TweetEval hate** dataset, belonging to the [TweetEval](https://huggingface.co/datasets/tweet_eval) framework.\n",
        "This dataset is based on the SemEval2019 Hateval challenge and each tweet is associated with a label stating whether the tweet is hatefull or not against immigrants and women.\n",
        "\n",
        "A detailed overview of the dataset can be found in the Exploratory Data Analysis part of the Experiments section.\n",
        "\n",
        "\n"
      ]
    },
    {
      "cell_type": "markdown",
      "metadata": {
        "id": "wJuKnNwTn_dZ"
      },
      "source": [
        "We will perform the finetuning using two kinds of data:\n",
        "- The original tweets, as they are provided in the dataset;\n",
        "- Tweets that have been preprocessed using the `preprocess_tweet` function of the [pysentimiento](https://github.com/pysentimiento/pysentimiento) library.\n",
        "\n",
        "The `preprocess_tweet` function performs the following actions on the original tweets:\n",
        "\n",
        "1. It replaces all the emojis with the corresponding text, delimited by the word `emoji`.\n",
        "2. It removes all the hashtag symbols (`#`).\n",
        "3. Hashtags where the first letter of each word is capitalized, are split into the corresponding words and the first letters get changed to lowercase.\n",
        "4. It replaces urls with the world `HTTPURL`.\n",
        "5. It anonymizes all the users' mentions by replacing the usernames with `@USER`.\n",
        "\n",
        "Here you can find an example of preprocessing of a tweet:\n",
        "``` python\n",
        "tweet = \"Now that @user has snapchat back it's a constant battle to see who can get the ugliest snap of one another 😂🙃 #SnapSurvival\"\n",
        "preprocessed_tweet = preprocess_tweet(tweet, lang=\"en\")\n",
        "preprocessed_tweet\n",
        "\n",
        "> \"Now that @USER has snapchat back it's a constant battle to see who can get the ugliest snap of one another  emoji face with tears of joy emoji  emoji upside-down face emoji  snap survival\"\n",
        "```\n"
      ]
    },
    {
      "cell_type": "markdown",
      "metadata": {
        "id": "AbIYaNZRoGQQ"
      },
      "source": [
        "During the finetuning process, a validation set is used to select the batch size and the number of epochs. To do so, we only consider the values suggested by the [Devlin et al., 2019](https://arxiv.org/abs/1810.04805) for finetuning BERT:\n",
        "- Batch size: `16, 32`\n",
        "- Number of epochs: `2, 3, 4`\n",
        "\n",
        "Due to limited hardware resources, we won't select the learning rate optimal value, but we will rather use the default value of the Hugging Face [TrainingArguments](https://huggingface.co/docs/transformers/main_classes/trainer#transformers.TrainingArguments) class, i.e. `5e-5`. This value is among the suggested learning rates for the finetuning of BERT (`5e-5, 3e-5, 2e-5`).\n",
        "\n",
        "Finally, we will evaluate the resulting models by computing the following metrics on the corresponding test sets:\n",
        "- Accuracy\n",
        "- Macro-averaged precision: $P = \\frac{TP}{TP + FP}$\n",
        "- Macro-averaged recall: $R = \\frac{TP}{TP + FN}$\n",
        "- Macro-averaged $F_{1}$ score: $F_{1} = 2 \\frac{P * R}{P + R}$\n",
        "\n",
        "In particular, macro-averaged $F_{1}$  score is the metric suggested by the TweetEval framework to evaluate Hate Speech Detection on tweets.\n",
        "\n",
        "However, note that the macro average is an unweighted mean and therefore it does not take label imbalance into account."
      ]
    },
    {
      "cell_type": "markdown",
      "metadata": {
        "id": "q02jUe7iCqsZ"
      },
      "source": [
        "## 4 - Experiments\n",
        "\n",
        "This section contains the entire code needed to carry out the task, and its related output."
      ]
    },
    {
      "cell_type": "markdown",
      "metadata": {
        "id": "z2Bi8MQm_Kvz"
      },
      "source": [
        "### 4.1 Setup"
      ]
    },
    {
      "cell_type": "code",
      "execution_count": null,
      "metadata": {
        "id": "zfWfQVx68PBR"
      },
      "outputs": [],
      "source": [
        "! pip uninstall folium --yes\n",
        "! pip install datasets\n",
        "\n",
        "! pip install pysentimiento\n",
        "\n",
        "! pip install transformers\n",
        "\n",
        "! pip install colorama"
      ]
    },
    {
      "cell_type": "code",
      "execution_count": null,
      "metadata": {
        "colab": {
          "base_uri": "https://localhost:8080/"
        },
        "id": "wGJF8pUP8iF-",
        "outputId": "68263517-c06c-4413-e538-cc0eb5103214"
      },
      "outputs": [
        {
          "data": {
            "text/plain": [
              "device(type='cpu')"
            ]
          },
          "execution_count": 2,
          "metadata": {},
          "output_type": "execute_result"
        }
      ],
      "source": [
        "from collections import defaultdict\n",
        "import colorama\n",
        "from colorama import Fore\n",
        "from datasets import load_dataset, load_metric\n",
        "import matplotlib.pyplot as plt\n",
        "import numpy as np\n",
        "from pysentimiento.preprocessing import preprocess_tweet\n",
        "import seaborn as sns\n",
        "\n",
        "import torch\n",
        "from torch import nn, optim\n",
        "from torch.utils.data import Dataset, DataLoader\n",
        "from transformers import AutoTokenizer, AutoModelForSequenceClassification, \\\n",
        "    AdamW, get_linear_schedule_with_warmup, TrainingArguments, Trainer\n",
        "\n",
        "%matplotlib inline\n",
        "\n",
        "sns.set(style='whitegrid', palette='muted', font_scale=1.2)\n",
        "COLORS_PALETTE = [\"#d952a1\", \"#3C9BFA\",  \"#04C896\",  \"#FCB405\",  \"#7C5CFF\", \"#FC8204\"]\n",
        "sns.set_palette(sns.color_palette(COLORS_PALETTE))\n",
        "\n",
        "RANDOM_SEED = 5\n",
        "np.random.seed(RANDOM_SEED)\n",
        "torch.manual_seed(RANDOM_SEED)\n",
        "\n",
        "device = torch.device(\"cuda:0\" if torch.cuda.is_available() else \"cpu\")\n",
        "device"
      ]
    },
    {
      "cell_type": "code",
      "execution_count": null,
      "metadata": {
        "id": "RmjK4a0PK5xI"
      },
      "outputs": [],
      "source": [
        "BERTWEET_BASE = 'vinai/bertweet-base'"
      ]
    },
    {
      "cell_type": "markdown",
      "metadata": {
        "id": "5REDhV2k8WjR"
      },
      "source": [
        "### 4.2 - Exploratory Data Analysis\n",
        "\n",
        "In this section we will download the data from the TweetEval dataset related to Hate Speech Detection, and we will perform some explorary data analysis.\n",
        "\n",
        "The table below shows a summary of the dataset. Note that the dataset is already split into train, validation and test set.\n",
        "\n",
        "Dataset   | Lables | Train | Validation | Test\n",
        "----------|--------| ------| -----------| ----\n",
        "hate      | ['non-hate', 'hate'] | 9000  | 1000       | 2970\n",
        "\n",
        "\n",
        "As we can see, the *hate* dataset is pretty small. This might lead to low performances in the Hate Speech Detection task.\n"
      ]
    },
    {
      "cell_type": "code",
      "execution_count": null,
      "metadata": {
        "id": "QjLgeL2M-3v2"
      },
      "outputs": [],
      "source": [
        "# BERTweet tokenizer\n",
        "tokenizer = AutoTokenizer.from_pretrained(BERTWEET_BASE)"
      ]
    },
    {
      "cell_type": "code",
      "execution_count": null,
      "metadata": {
        "id": "_GrDuAybzWSr"
      },
      "outputs": [],
      "source": [
        "# Helper functions\n",
        "\n",
        "def dataset_overview(name, train, val, test):\n",
        "  \"\"\" Print the dataset's information. \"\"\"\n",
        "\n",
        "  print(f\"** {name} **\\n\")\n",
        "  print(\"Features:\", train.features)\n",
        "  print(\"Training examples:\", train.num_rows)\n",
        "  print(\"Validation examples:\", val.num_rows)\n",
        "  print(\"Test examples:\", test.num_rows)\n",
        "\n",
        "\n",
        "def show_data_examples(data, first, last, color=Fore.BLUE):\n",
        "  \"\"\" Print some dataset examples. \"\"\"\n",
        "\n",
        "  print('EXAMPLES:\\n')\n",
        "  for idx in range(first, last):\n",
        "    tweet = data['text'][idx]\n",
        "    label = data['label'][idx]\n",
        "    print(f\"{Fore.BLACK} {idx + 1}. {tweet} -> {color} {data.features['label'].int2str(label)}\")\n",
        "\n",
        "\n",
        "def labels_piechart(train, val, test):\n",
        "  \"\"\" Generate three pie charts, one for the train, one for the validation and \n",
        "  one for the test sets. Each pie chart shows the labels frequencies as \n",
        "  percentages. \"\"\"\n",
        "\n",
        "  classes, counts = np.unique(train['label'], return_counts=True)\n",
        "  val_classes, val_counts = np.unique(val['label'], return_counts=True)\n",
        "  test_classes, test_counts = np.unique(test['label'], return_counts=True)\n",
        "\n",
        "  # Pie chart, where the slices will be ordered and plotted counter-clockwise:\n",
        "  fig1, ax = plt.subplots(1, 3, figsize=(20, 8))\n",
        "\n",
        "  ax[0].pie(counts, labels=classes, autopct='%1.1f%%', startangle=90, textprops={'size':15})\n",
        "  ax[0].axis('equal')  # Equal aspect ratio ensures that pie is drawn as a circle.\n",
        "  ax[0].set_title(\"Training set\", size=15)\n",
        "\n",
        "  ax[1].pie(val_counts, labels=val_classes, autopct='%1.1f%%', startangle=90, textprops={'size':15})\n",
        "  ax[1].axis('equal')\n",
        "  ax[1].set_title(\"Validation set\", size=15)\n",
        "\n",
        "  ax[2].pie(test_counts, labels=test_classes, autopct='%1.1f%%', startangle=90, textprops={'size':15})\n",
        "  ax[2].axis('equal')\n",
        "  ax[2].set_title(\"Test set\", size=15)\n",
        "\n",
        "  plt.show()\n",
        "\n",
        "\n",
        "def count_sequence_length(train, val, test):\n",
        "  \"\"\" Count the length of the token's sequences in the entire datasets (train,\n",
        "  validation and test sets). \"\"\"\n",
        "\n",
        "  token_lens = []\n",
        "\n",
        "  for txt in train['text']:\n",
        "    tokens = tokenizer.encode(txt, max_length=512, truncation=True)\n",
        "    token_lens.append(len(tokens))\n",
        "\n",
        "  for txt in val['text']:\n",
        "    tokens = tokenizer.encode(txt, max_length=512, truncation=True)\n",
        "    token_lens.append(len(tokens))\n",
        "\n",
        "  for txt in test['text']:\n",
        "    tokens = tokenizer.encode(txt, max_length=512, truncation=True)\n",
        "    token_lens.append(len(tokens))\n",
        "\n",
        "  return token_lens\n",
        "\n",
        "\n",
        "def plot_sequence_length(token_lens):\n",
        "  \"\"\" Plot an histogram of the token sequence lengths. \"\"\"\n",
        "\n",
        "  fig1, ax = plt.subplots(1, 1, figsize=(20, 8))\n",
        "\n",
        "  sns.histplot(token_lens, kde=True)\n",
        "\n",
        "  plt.xlim([0, 150]);\n",
        "  plt.xlabel('Tokens');\n",
        "\n",
        "\n",
        "def preprocessing_function(example):\n",
        "  \"\"\" Preprocess a tweet using the 'preprocess_tweet' function. \"\"\"\n",
        "  \n",
        "  example_cp = example.copy()\n",
        "  preprocessed_tweet = preprocess_tweet(example_cp['text'], lang=\"en\")\n",
        "  example_cp['text'] = preprocessed_tweet\n",
        "  return example_cp"
      ]
    },
    {
      "cell_type": "code",
      "execution_count": null,
      "metadata": {
        "id": "Ir_ScIvMxs4J"
      },
      "outputs": [],
      "source": [
        "# Load dataset\n",
        "train_hate = load_dataset('tweet_eval', 'hate',  split='train')\n",
        "val_hate = load_dataset('tweet_eval', 'hate',  split='validation')\n",
        "test_hate = load_dataset('tweet_eval', 'hate',  split='test')"
      ]
    },
    {
      "cell_type": "code",
      "execution_count": null,
      "metadata": {
        "colab": {
          "base_uri": "https://localhost:8080/"
        },
        "id": "a5WuWnYA0w0A",
        "outputId": "1d881d5e-c860-4b83-c0cf-1941c2163a66"
      },
      "outputs": [
        {
          "name": "stdout",
          "output_type": "stream",
          "text": [
            "** Hate Speech dataset **\n",
            "\n",
            "Features: {'text': Value(dtype='string', id=None), 'label': ClassLabel(num_classes=2, names=['non-hate', 'hate'], id=None)}\n",
            "Training examples: 9000\n",
            "Validation examples: 1000\n",
            "Test examples: 2970\n"
          ]
        }
      ],
      "source": [
        "# Dataset overview\n",
        "dataset_overview('Hate Speech dataset', train_hate, val_hate, test_hate)"
      ]
    },
    {
      "cell_type": "markdown",
      "metadata": {
        "id": "yRVNOpsc6VO5"
      },
      "source": [
        "**Class frequency**"
      ]
    },
    {
      "cell_type": "code",
      "execution_count": null,
      "metadata": {
        "colab": {
          "base_uri": "https://localhost:8080/",
          "height": 436
        },
        "id": "SumitOFa6VO6",
        "outputId": "720dcac5-d59e-4176-ea6b-101df5d1a9eb"
      },
      "outputs": [
        {
          "data": {
            "image/png": "[encoded data removed]",
            "text/plain": [
              "<Figure size 1440x576 with 3 Axes>"
            ]
          },
          "metadata": {},
          "output_type": "display_data"
        }
      ],
      "source": [
        "labels_piechart(train_hate, val_hate, test_hate)\n",
        "\n",
        "# 0 -> non-hate\n",
        "# 1 -> hate"
      ]
    },
    {
      "cell_type": "markdown",
      "metadata": {
        "id": "VLdrWIIO4Ml0"
      },
      "source": [
        "As we can see from the pie charts above, the dataset is almost balanced, with a small prevalence of non-hateful examples. Also for this dataset, the classes' proportions are kept the same in the training, validation and test splits."
      ]
    },
    {
      "cell_type": "code",
      "execution_count": null,
      "metadata": {
        "colab": {
          "base_uri": "https://localhost:8080/"
        },
        "id": "rgFVR3Me1QOE",
        "outputId": "c1bc2bfa-21c6-46af-c780-c023108ad586"
      },
      "outputs": [
        {
          "name": "stdout",
          "output_type": "stream",
          "text": [
            "EXAMPLES:\n",
            "\n",
            "\u001b[30m 176. THIS WOMEN CAN DO ONLY ONE THINK, BACK INTO HER RAT🐀 HOLE NEVER TO COME OUT AGAIN🐀IF SHE SHOW UP ON SURFACE AM CALL… -> \u001b[91m hate\n",
            "\u001b[30m 177. #ACTNOW! #USA #EB5 #EB5Visa #Immigrant #Foreign #Investor #Visa Program Laws ARE Changing! $500k #Investment. Payment plans available. Use #bitcoin #ether #cryptocurrency. Become a US Citizen! Visit us at Contact us TODAY at gbibuildingco@outlook.com. RT -> \u001b[91m non-hate\n",
            "\u001b[30m 178. The Latest: Spanish PM lets migrant boat dock at Valencia    You idiots are killing Spain with islamists... -> \u001b[91m hate\n",
            "\u001b[30m 179. Afghan and Pakistani migrants were shot at as they tried to invade Hungary - Free Speech Time - @user -> \u001b[91m non-hate\n",
            "\u001b[30m 180. @user shut the fuck up hes not gonna dick you was gonna send u this dope steroline edit but u can go cry to olly -> \u001b[91m hate\n",
            "\u001b[30m 181. you low life scum, pathetic, deprave, pile of shit, maggots. like i said that brainless skank bitch should've died… -> \u001b[91m hate\n",
            "\u001b[30m 182. @user @user bitch we r now TxF sluts -> \u001b[91m non-hate\n",
            "\u001b[30m 183. @user At the very least Ryan and McConnell need to force the dems to vote against the wall. -> \u001b[91m non-hate\n",
            "\u001b[30m 184. Russia Liquidates Its US Treasury Holdings | Zero Hedge   No surprise here... -> \u001b[91m non-hate\n",
            "\u001b[30m 185. #FactCheck wow #FactsMatter #VoteDemsOut #RedWaveRising2018 #StopTheInvasion #BuildTheWall #DeportThemAll #EndSanctuaryCities #TakeAmericaBack #WalkAwayMovementGrowing #MAGA -> \u001b[91m hate\n",
            "\u001b[30m 186. @user @user @user THIS CANNOT BE ALLOWED TO HAPPEN----CHILD KIDNAPPER AND MOLESTER MILLER NEEDS TO BE GONE! -> \u001b[91m hate\n",
            "\u001b[30m 187. @user  IDS the man who smirks at his own policies and implications on his own people y wont he admit its migration that fuels this -> \u001b[91m non-hate\n",
            "\u001b[30m 188. UN seeks new funding pledges for Palestinian refugees... -> \u001b[91m non-hate\n",
            "\u001b[30m 189. @user Total lie. CONG is the main culprit for influx of illegal migrants both Bangladeshis&amp; Rhongyias. If they deported few, millions came during their tenures&amp; they encouraged Muslim illegal migrants&amp;shooed away Hindu migrants -> \u001b[91m hate\n",
            "\u001b[30m 190. Sigh... -> \u001b[91m non-hate\n",
            "\u001b[30m 191. Immigration Will Not Make America Great Again -> \u001b[91m hate\n",
            "\u001b[30m 192. Obama, our SMALLEST president. Must take credit for all good; disavows all that was bad during his 8 year assault on our great country.#MAGA #KAG #POTUS #Trump #NEWS #VoteRed #NoDACA #WalkAway #AmericaFirst #USA #BackTheBlue #AllLivesMatter #LiberalismIsAMentalDisorder #NRA -> \u001b[91m hate\n",
            "\u001b[30m 193. @user This trashy whore gold digger at again trying be something that makes her think shes good ughhh not happening hoe bag pos -> \u001b[91m hate\n",
            "\u001b[30m 194. When his dick game is garbage but his mouth game is fire AF -> \u001b[91m non-hate\n",
            "\u001b[30m 195. “The verification will play a key role in establishing refugees’ identities and their declared places of origin in Myanmar. It will help to preserve their right to voluntarily return home, if and when they decide that the conditions are right to do so.” -> \u001b[91m non-hate\n",
            "\u001b[30m 196. I recently read a book with a passage between a woman and a powerful man. I had to ask author if it was rape or nah. That's how blurry it is -> \u001b[91m non-hate\n",
            "\u001b[30m 197. #Rohingya refugees move to higher ground to avert loss of lives in the upcoming monsoon season #ucanews #voiceforthevoiceless #refugee #Bangladesh @user @user @user @user @user -> \u001b[91m non-hate\n",
            "\u001b[30m 198. Tesla Driving Russian Immigrant Running As A Democrat For US House Seat In Alaska -> \u001b[91m non-hate\n",
            "\u001b[30m 199. Never try to Holla at women who dissed you in his school I got called misogynistic egotistical whore monger damn bitch OK have a nice day 😂 -> \u001b[91m non-hate\n",
            "\u001b[30m 200. HIV-positive shelter worker in Mesa sexually abused 8 immigrant boys, authorities say -> \u001b[91m non-hate\n"
          ]
        }
      ],
      "source": [
        "# Data examples\n",
        "show_data_examples(train_hate, 175, 200, Fore.LIGHTRED_EX)"
      ]
    },
    {
      "cell_type": "markdown",
      "metadata": {
        "id": "7DuBnNeG8THd"
      },
      "source": [
        "The tweets contained in the dataset have been partially preprocessed: the users mentions have been anonymized and substitudet by `@user`, while emoji and hastags have been kept."
      ]
    },
    {
      "cell_type": "markdown",
      "metadata": {
        "id": "PPhTFj6r_yXb"
      },
      "source": [
        "**Sequence length**"
      ]
    },
    {
      "cell_type": "code",
      "execution_count": null,
      "metadata": {
        "colab": {
          "base_uri": "https://localhost:8080/",
          "height": 461
        },
        "id": "xauDRi14_yXb",
        "outputId": "c0b69199-d037-42a1-a839-47bffad698ca"
      },
      "outputs": [
        {
          "data": {
            "image/png": "[encoded data removed]",
            "text/plain": [
              "<Figure size 1440x576 with 1 Axes>"
            ]
          },
          "metadata": {},
          "output_type": "display_data"
        }
      ],
      "source": [
        "sequence_lengths = count_sequence_length(train_hate, val_hate, test_hate)\n",
        "plot_sequence_length(sequence_lengths)"
      ]
    },
    {
      "cell_type": "code",
      "execution_count": null,
      "metadata": {
        "colab": {
          "base_uri": "https://localhost:8080/"
        },
        "id": "Nvlu3Ei1IPh4",
        "outputId": "25a5118e-d75c-4a0a-98a5-8102b13ce4ce"
      },
      "outputs": [
        {
          "data": {
            "text/plain": [
              "144"
            ]
          },
          "execution_count": 37,
          "metadata": {},
          "output_type": "execute_result"
        }
      ],
      "source": [
        "max(sequence_lengths)"
      ]
    },
    {
      "cell_type": "code",
      "execution_count": null,
      "metadata": {
        "colab": {
          "base_uri": "https://localhost:8080/"
        },
        "id": "p2ZLnQ0WrLBV",
        "outputId": "1c5b060b-dc27-4b80-bbb0-3a800dd29b5f"
      },
      "outputs": [
        {
          "data": {
            "text/plain": [
              "5"
            ]
          },
          "execution_count": 70,
          "metadata": {},
          "output_type": "execute_result"
        }
      ],
      "source": [
        "# number of tweets with more than 100 tokens\n",
        "sl = [x for x in sequence_lengths if x > 100]\n",
        "len(sl)"
      ]
    },
    {
      "cell_type": "markdown",
      "metadata": {
        "id": "mOVEgEm6AFUS"
      },
      "source": [
        "From the histogram above, we can see that most of the tokenized tweets have less then 100 tokens. However, the longest tokenized tweet has 144 tokens."
      ]
    },
    {
      "cell_type": "markdown",
      "metadata": {
        "id": "NQvP-3tsy64S"
      },
      "source": [
        "**Tweet Preprocessing**"
      ]
    },
    {
      "cell_type": "code",
      "execution_count": null,
      "metadata": {
        "id": "CanuBeufoPs4"
      },
      "outputs": [],
      "source": [
        "train_hate_prep = train_hate.map(preprocessing_function)\n",
        "val_hate_prep = val_hate.map(preprocessing_function)\n",
        "test_hate_prep = test_hate.map(preprocessing_function)"
      ]
    },
    {
      "cell_type": "code",
      "execution_count": null,
      "metadata": {
        "colab": {
          "base_uri": "https://localhost:8080/"
        },
        "id": "c8kDW4wJoPs4",
        "outputId": "4ae47983-0d18-44ac-fd4a-c646420d9c01"
      },
      "outputs": [
        {
          "name": "stdout",
          "output_type": "stream",
          "text": [
            "EXAMPLES:\n",
            "\n",
            "\u001b[30m 176. THIS WOMEN CAN DO ONLY ONE THINK, BACK INTO HER RAT emoji rat emoji  HOLE NEVER TO COME OUT AGAIN emoji rat emoji IF SHE SHOW UP ON SURFACE AM CALL -> \u001b[91m hate\n",
            "\u001b[30m 177. actnow! usa eb5 eb5 visa immigrant foreign investor visa Program Laws ARE Changing! $500k investment. Payment plans available. Use bitcoin ether cryptocurrency. Become a US Citizen! Visit us at Contact us TODAY at gbibuildingco@HTTPURL. RT -> \u001b[91m non-hate\n",
            "\u001b[30m 178. The Latest: Spanish PM lets migrant boat dock at Valencia   You idiots are killing Spain with islamists... -> \u001b[91m hate\n",
            "\u001b[30m 179. Afghan and Pakistani migrants were shot at as they tried to invade Hungary - Free Speech Time - @USER -> \u001b[91m non-hate\n",
            "\u001b[30m 180. @USER shut the fuck up hes not gonna dick you was gonna send u this dope steroline edit but u can go cry to olly -> \u001b[91m hate\n",
            "\u001b[30m 181. you low life scum, pathetic, deprave, pile of shit, maggots. like i said that brainless skank bitch should've died -> \u001b[91m hate\n",
            "\u001b[30m 182. @USER @USER bitch we r now TxF sluts -> \u001b[91m non-hate\n",
            "\u001b[30m 183. @USER At the very least Ryan and McConnell need to force the dems to vote against the wall. -> \u001b[91m non-hate\n",
            "\u001b[30m 184. Russia Liquidates Its US Treasury Holdings | Zero Hedge   No surprise here... -> \u001b[91m non-hate\n",
            "\u001b[30m 185. fact check wow facts matter vote dems out red wave rising2018 stop the invasion build the wall deport them all end sanctuary cities take america back walk away movement growing maga -> \u001b[91m hate\n",
            "\u001b[30m 186. @USER @USER @USER THIS CANNOT BE ALLOWED TO HAPPEN---CHILD KIDNAPPER AND MOLESTER MILLER NEEDS TO BE GONE! -> \u001b[91m hate\n",
            "\u001b[30m 187. @USER  IDS the man who smirks at his own policies and implications on his own people y wont he admit its migration that fuels this -> \u001b[91m non-hate\n",
            "\u001b[30m 188. UN seeks new funding pledges for Palestinian refugees... -> \u001b[91m non-hate\n",
            "\u001b[30m 189. @USER Total lie. CONG is the main culprit for influx of illegal migrants both Bangladeshis&amp; Rhongyias. If they deported few, millions came during their tenures&amp; they encouraged Muslim illegal migrants&amp;shooed away Hindu migrants -> \u001b[91m hate\n",
            "\u001b[30m 190. Sigh... -> \u001b[91m non-hate\n",
            "\u001b[30m 191. Immigration Will Not Make America Great Again -> \u001b[91m hate\n",
            "\u001b[30m 192. Obama, our SMALLEST president. Must take credit for all good; disavows all that was bad during his 8 year assault on our great country.maga kag potus trump news vote red no daca walk away america first usa back the blue all lives matter liberalism is amental disorder nra -> \u001b[91m hate\n",
            "\u001b[30m 193. @USER This trashy whore gold digger at again trying be something that makes her think shes good ughhh not happening hoe bag pos -> \u001b[91m hate\n",
            "\u001b[30m 194. When his dick game is garbage but his mouth game is fire AF -> \u001b[91m non-hate\n",
            "\u001b[30m 195. \"The verification will play a key role in establishing refugees identities and their declared places of origin in Myanmar. It will help to preserve their right to voluntarily return home, if and when they decide that the conditions are right to do so.\" -> \u001b[91m non-hate\n",
            "\u001b[30m 196. I recently read a book with a passage between a woman and a powerful man. I had to ask author if it was rape or nah. That's how blurry it is -> \u001b[91m non-hate\n",
            "\u001b[30m 197. rohingya refugees move to higher ground to avert loss of lives in the upcoming monsoon season ucanews voiceforthevoiceless refugee bangladesh @USER @USER @USER @USER @USER -> \u001b[91m non-hate\n",
            "\u001b[30m 198. Tesla Driving Russian Immigrant Running As A Democrat For US House Seat In Alaska -> \u001b[91m non-hate\n",
            "\u001b[30m 199. Never try to Holla at women who dissed you in his school I got called misogynistic egotistical whore monger damn bitch OK have a nice day  emoji face with tears of joy emoji -> \u001b[91m non-hate\n",
            "\u001b[30m 200. HIV-positive shelter worker in Mesa sexually abused 8 immigrant boys, authorities say -> \u001b[91m non-hate\n"
          ]
        }
      ],
      "source": [
        "show_data_examples(train_hate_prep, 175, 200, Fore.LIGHTRED_EX)"
      ]
    },
    {
      "cell_type": "markdown",
      "metadata": {
        "id": "OnbuFqBRzUyj"
      },
      "source": [
        "The preprocessing function has performed the actions described above in the preprocessing section of the *emotion* dataset.\n",
        "\n"
      ]
    },
    {
      "cell_type": "code",
      "execution_count": null,
      "metadata": {
        "colab": {
          "base_uri": "https://localhost:8080/",
          "height": 526
        },
        "id": "fhx3PQV_OIJR",
        "outputId": "b0522d13-0d84-4a04-851e-db398e2d0880"
      },
      "outputs": [
        {
          "data": {
            "image/png": "[encoded data removed]",
            "text/plain": [
              "<Figure size 1440x576 with 1 Axes>"
            ]
          },
          "metadata": {},
          "output_type": "display_data"
        }
      ],
      "source": [
        "sequence_lengths = count_sequence_length(train_hate_prep, val_hate_prep, test_hate_prep)\n",
        "plot_sequence_length(sequence_lengths)"
      ]
    },
    {
      "cell_type": "code",
      "execution_count": null,
      "metadata": {
        "colab": {
          "base_uri": "https://localhost:8080/"
        },
        "id": "bRMLrNMpOPRm",
        "outputId": "4048979a-8ac9-413c-9ba5-9e7fd233aaea"
      },
      "outputs": [
        {
          "data": {
            "text/plain": [
              "105"
            ]
          },
          "execution_count": 90,
          "metadata": {},
          "output_type": "execute_result"
        }
      ],
      "source": [
        "max(sequence_lengths)"
      ]
    },
    {
      "cell_type": "code",
      "execution_count": null,
      "metadata": {
        "colab": {
          "base_uri": "https://localhost:8080/"
        },
        "id": "4vWXNwFuzDzY",
        "outputId": "cd8b35bd-3caf-4b7e-8dca-14f6e902d975"
      },
      "outputs": [
        {
          "data": {
            "text/plain": [
              "3"
            ]
          },
          "execution_count": 91,
          "metadata": {},
          "output_type": "execute_result"
        }
      ],
      "source": [
        "# number of tweets with more than 100 tokens\n",
        "sl = [x for x in sequence_lengths if x > 100]\n",
        "len(sl)"
      ]
    },
    {
      "cell_type": "markdown",
      "metadata": {
        "id": "7hWWGYSIzJC2"
      },
      "source": [
        "From the histogram above, we can see that most of the tokenized preprocessed tweets have less then 100 tokens. However, the longest tokenized tweet has 105 tokens."
      ]
    },
    {
      "cell_type": "markdown",
      "metadata": {
        "id": "m7WgteOB9wq6"
      },
      "source": [
        "### 4.3 - Data Tokenization\n",
        "\n",
        "In this section, tweets are tokenized by using the BERTweet tokenizer. We will first apply the tokenization to the original tweets. Then, we will tokenize the preprocessed tweets.\n",
        "\n",
        "To tokenize the tweets, we will use the `max_length` padding option, which truncates the tokenized tweets to the same length. Most of the original tweets have a length below 80, however, the longest tokenized tweets have 144 tokens.\n",
        "\n",
        "Therefore, we can use a max length of 100 so that most of the tweets in the dataset won't be truncated.\n"
      ]
    },
    {
      "cell_type": "code",
      "execution_count": null,
      "metadata": {
        "id": "72ceZGwg5LxX"
      },
      "outputs": [],
      "source": [
        "MAX_LEN = 100"
      ]
    },
    {
      "cell_type": "code",
      "execution_count": null,
      "metadata": {
        "id": "TPpVqwQ993s6"
      },
      "outputs": [],
      "source": [
        "# helper functions\n",
        "\n",
        "def tokenize_function(examples):\n",
        "  \"\"\" Call the tokenizer on a tweet. \"\"\"\n",
        "\n",
        "  return tokenizer(examples[\"text\"], padding='max_length', truncation=True, max_length=MAX_LEN)\n",
        "\n",
        "\n",
        "def tokenize_datasets(train, val, test):\n",
        "  \"\"\" Tokenize the tweets in the training, validation and test sets. After that,\n",
        "  the 'label' column is renamed to 'labels' and the 'text' column is removed. \n",
        "  Finally, the dataset's format is set to 'torch'. The resulting datasets have the\n",
        "  columns required by the BERTweet tokenizer.\"\"\"\n",
        "\n",
        "  train_tokenized_dataset = train.map(tokenize_function, batched=True)\n",
        "  train_tokenized_dataset = train_tokenized_dataset.rename_column('label', 'labels')\n",
        "  train_tokenized_dataset = train_tokenized_dataset.remove_columns(['text'])\n",
        "  train_tokenized_dataset = train_tokenized_dataset.with_format('torch')\n",
        "\n",
        "  val_tokenized_dataset = val.map(tokenize_function, batched=True)\n",
        "  val_tokenized_dataset = val_tokenized_dataset.rename_column('label', 'labels')\n",
        "  val_tokenized_dataset = val_tokenized_dataset.remove_columns(['text'])\n",
        "  val_tokenized_dataset = val_tokenized_dataset.with_format('torch')\n",
        "\n",
        "  test_tokenized_dataset = test.map(tokenize_function, batched=True)\n",
        "  test_tokenized_dataset = test_tokenized_dataset.rename_column('label', 'labels')\n",
        "  test_tokenized_dataset = test_tokenized_dataset.remove_columns(['text'])\n",
        "  test_tokenized_dataset = test_tokenized_dataset.with_format('torch')\n",
        "\n",
        "  return train_tokenized_dataset, val_tokenized_dataset, test_tokenized_dataset\n"
      ]
    },
    {
      "cell_type": "markdown",
      "metadata": {
        "id": "jla4J3-bn2Fl"
      },
      "source": [
        "**Original Tweet Tokenization**"
      ]
    },
    {
      "cell_type": "code",
      "execution_count": null,
      "metadata": {
        "id": "uVNO1UyMCwIh"
      },
      "outputs": [],
      "source": [
        "# Data tokenization\n",
        "train_tokenized_hate, val_tokenized_hate, test_tokenized_hate = tokenize_datasets(train_hate, val_hate, test_hate)"
      ]
    },
    {
      "cell_type": "markdown",
      "metadata": {
        "id": "xS2pC4u_oPs3"
      },
      "source": [
        "**Preprocessed Tweet Tokenization**"
      ]
    },
    {
      "cell_type": "code",
      "execution_count": null,
      "metadata": {
        "id": "gDv0Mr_joPs4"
      },
      "outputs": [],
      "source": [
        "# Data tokenization\n",
        "train_tokenized_hate_prep, val_tokenized_hate_prep, test_tokenized_hate_prep = tokenize_datasets(train_hate_prep, val_hate_prep, test_hate_prep)"
      ]
    },
    {
      "cell_type": "markdown",
      "metadata": {
        "id": "Y1RqBajss8lz"
      },
      "source": [
        "### 4.4 - Model finetuning\n",
        "\n",
        "This section contains the code used to finetuned $BERTeet_{base}$ on both the original and the preprocessed tweets of the *hate* dataset.\n",
        "\n",
        "For each kind of data, we select the model with the best validation accuracy. The table below shows a summary of the hyperparameters of the best models.\n",
        "\n",
        "Dataset                 | Batch Size | Number of Epochs | Validation Accuracy\n",
        "----------------------  |------------| ----| -------\n",
        "hate (original)         | 32         | 2   | 80.3%\n",
        "hate (preprocessed)     | 16         | 2   | 78.1%\n",
        "\n",
        "As we can see, the models reached the best validation accuracy in 2 epochs, using a batch size of 16 or 32."
      ]
    },
    {
      "cell_type": "code",
      "execution_count": null,
      "metadata": {
        "id": "21Pa2oMzc6h4"
      },
      "outputs": [],
      "source": [
        "accuracy = load_metric(\"accuracy\")"
      ]
    },
    {
      "cell_type": "code",
      "execution_count": null,
      "metadata": {
        "id": "O9dfquc5v3cF"
      },
      "outputs": [],
      "source": [
        "# Hyperparameters\n",
        "batch_sizes = [16, 32]\n",
        "epochs = [2, 3, 4]"
      ]
    },
    {
      "cell_type": "code",
      "execution_count": null,
      "metadata": {
        "id": "H2sZ_EjGdAbS"
      },
      "outputs": [],
      "source": [
        "def compute_accuracy(eval_pred):\n",
        "  \"\"\" Compute accuracy on the model's predictions. \"\"\"\n",
        "  \n",
        "    logits, labels = eval_pred\n",
        "    predictions = np.argmax(logits, axis=-1)\n",
        "    return accuracy.compute(predictions=predictions, references=labels)"
      ]
    },
    {
      "cell_type": "code",
      "execution_count": null,
      "metadata": {
        "colab": {
          "base_uri": "https://localhost:8080/",
          "height": 158,
          "referenced_widgets": [
            "7a69f0f8cf294d6c9f04be68775dda91",
            "36c718b3225b49b6a6887e924fc5dc91",
            "19ab0d30c08b4210b8fbef08584eb38f",
            "c93dee28aec54539be5d37532f7e5d8a",
            "e5b7267744e644d0a09745874d8e7c59",
            "99d22ef683ed4f31bff77da9ae8a7ec9",
            "ee6cbf6f41484994a65059d718781ec8",
            "82f6852fbc414e6bb4f68d671367a354",
            "1e1cc05b179348b89662e896f01fd221",
            "2b5aa557752245ba91b3da67d673a517",
            "7c98307563fe4e10b3d8568528de3b62"
          ]
        },
        "id": "yT2mHavmtHN-",
        "outputId": "920ae501-58db-4cac-95a1-4440f314275d"
      },
      "outputs": [
        {
          "data": {
            "application/vnd.jupyter.widget-view+json": {
              "model_id": "7a69f0f8cf294d6c9f04be68775dda91",
              "version_major": 2,
              "version_minor": 0
            },
            "text/plain": [
              "Downloading:   0%|          | 0.00/517M [00:00<?, ?B/s]"
            ]
          },
          "metadata": {},
          "output_type": "display_data"
        },
        {
          "name": "stderr",
          "output_type": "stream",
          "text": [
            "Some weights of the model checkpoint at vinai/bertweet-base were not used when initializing RobertaForSequenceClassification: ['roberta.pooler.dense.weight', 'lm_head.layer_norm.bias', 'lm_head.dense.bias', 'lm_head.bias', 'lm_head.dense.weight', 'lm_head.decoder.bias', 'roberta.pooler.dense.bias', 'lm_head.layer_norm.weight', 'lm_head.decoder.weight']\n",
            "- This IS expected if you are initializing RobertaForSequenceClassification from the checkpoint of a model trained on another task or with another architecture (e.g. initializing a BertForSequenceClassification model from a BertForPreTraining model).\n",
            "- This IS NOT expected if you are initializing RobertaForSequenceClassification from the checkpoint of a model that you expect to be exactly identical (initializing a BertForSequenceClassification model from a BertForSequenceClassification model).\n",
            "Some weights of RobertaForSequenceClassification were not initialized from the model checkpoint at vinai/bertweet-base and are newly initialized: ['classifier.out_proj.weight', 'classifier.out_proj.bias', 'classifier.dense.weight', 'classifier.dense.bias']\n",
            "You should probably TRAIN this model on a down-stream task to be able to use it for predictions and inference.\n"
          ]
        }
      ],
      "source": [
        "num_classes = train_hate.features['label'].num_classes\n",
        "bertweet_hate = AutoModelForSequenceClassification.from_pretrained(BERTWEET_BASE, num_labels=num_classes)"
      ]
    },
    {
      "cell_type": "markdown",
      "metadata": {
        "id": "pKYcBecPiZvQ"
      },
      "source": [
        "**Original data**"
      ]
    },
    {
      "cell_type": "code",
      "execution_count": null,
      "metadata": {
        "colab": {
          "base_uri": "https://localhost:8080/",
          "height": 1000
        },
        "id": "T5tTv1W-iZvR",
        "outputId": "162d8454-d957-42fb-e805-c6daac727940"
      },
      "outputs": [
        {
          "name": "stderr",
          "output_type": "stream",
          "text": [
            "PyTorch: setting up devices\n",
            "The default value for the training argument `--report_to` will change in v5 (from all installed integrations to none). In v5, you will need to use `--report_to all` to get the same behavior as now. You should start updating your code and make this info disappear :-).\n",
            "/usr/local/lib/python3.7/dist-packages/transformers/optimization.py:310: FutureWarning: This implementation of AdamW is deprecated and will be removed in a future version. Use the PyTorch implementation torch.optim.AdamW instead, or set `no_deprecation_warning=True` to disable this warning\n",
            "  FutureWarning,\n",
            "***** Running training *****\n",
            "  Num examples = 9000\n",
            "  Num Epochs = 2\n",
            "  Instantaneous batch size per device = 16\n",
            "  Total train batch size (w. parallel, distributed & accumulation) = 16\n",
            "  Gradient Accumulation steps = 1\n",
            "  Total optimization steps = 1126\n"
          ]
        },
        {
          "data": {
            "text/html": [
              "\n",
              "    <div>\n",
              "      \n",
              "      <progress value='1126' max='1126' style='width:300px; height:20px; vertical-align: middle;'></progress>\n",
              "      [1126/1126 03:52, Epoch 2/2]\n",
              "    </div>\n",
              "    <table border=\"1\" class=\"dataframe\">\n",
              "  <thead>\n",
              " <tr style=\"text-align: left;\">\n",
              "      <th>Epoch</th>\n",
              "      <th>Training Loss</th>\n",
              "      <th>Validation Loss</th>\n",
              "      <th>Accuracy</th>\n",
              "    </tr>\n",
              "  </thead>\n",
              "  <tbody>\n",
              "    <tr>\n",
              "      <td>1</td>\n",
              "      <td>0.684600</td>\n",
              "      <td>0.690615</td>\n",
              "      <td>0.573000</td>\n",
              "    </tr>\n",
              "    <tr>\n",
              "      <td>2</td>\n",
              "      <td>0.674100</td>\n",
              "      <td>0.660920</td>\n",
              "      <td>0.661000</td>\n",
              "    </tr>\n",
              "  </tbody>\n",
              "</table><p>"
            ],
            "text/plain": [
              "<IPython.core.display.HTML object>"
            ]
          },
          "metadata": {},
          "output_type": "display_data"
        },
        {
          "name": "stderr",
          "output_type": "stream",
          "text": [
            "Saving model checkpoint to trainer_hate_16_2/checkpoint-500\n",
            "Configuration saved in trainer_hate_16_2/checkpoint-500/config.json\n",
            "Model weights saved in trainer_hate_16_2/checkpoint-500/pytorch_model.bin\n",
            "***** Running Evaluation *****\n",
            "  Num examples = 1000\n",
            "  Batch size = 8\n",
            "Saving model checkpoint to trainer_hate_16_2/checkpoint-1000\n",
            "Configuration saved in trainer_hate_16_2/checkpoint-1000/config.json\n",
            "Model weights saved in trainer_hate_16_2/checkpoint-1000/pytorch_model.bin\n",
            "***** Running Evaluation *****\n",
            "  Num examples = 1000\n",
            "  Batch size = 8\n",
            "\n",
            "\n",
            "Training completed. Do not forget to share your model on huggingface.co/models =)\n",
            "\n",
            "\n",
            "***** Running Prediction *****\n",
            "  Num examples = 1000\n",
            "  Batch size = 8\n"
          ]
        },
        {
          "data": {
            "text/html": [
              "\n",
              "    <div>\n",
              "      \n",
              "      <progress value='125' max='125' style='width:300px; height:20px; vertical-align: middle;'></progress>\n",
              "      [125/125 00:04]\n",
              "    </div>\n",
              "    "
            ],
            "text/plain": [
              "<IPython.core.display.HTML object>"
            ]
          },
          "metadata": {},
          "output_type": "display_data"
        },
        {
          "name": "stderr",
          "output_type": "stream",
          "text": [
            "PyTorch: setting up devices\n",
            "The default value for the training argument `--report_to` will change in v5 (from all installed integrations to none). In v5, you will need to use `--report_to all` to get the same behavior as now. You should start updating your code and make this info disappear :-).\n",
            "/usr/local/lib/python3.7/dist-packages/transformers/optimization.py:310: FutureWarning: This implementation of AdamW is deprecated and will be removed in a future version. Use the PyTorch implementation torch.optim.AdamW instead, or set `no_deprecation_warning=True` to disable this warning\n",
            "  FutureWarning,\n",
            "***** Running training *****\n",
            "  Num examples = 9000\n",
            "  Num Epochs = 2\n",
            "  Instantaneous batch size per device = 32\n",
            "  Total train batch size (w. parallel, distributed & accumulation) = 32\n",
            "  Gradient Accumulation steps = 1\n",
            "  Total optimization steps = 564\n"
          ]
        },
        {
          "name": "stdout",
          "output_type": "stream",
          "text": [
            "\u001b[35m \n",
            "Validation accuracy (batch size 16 and epochs 2): 0.661\n",
            " \u001b[30m\n"
          ]
        },
        {
          "data": {
            "text/html": [
              "\n",
              "    <div>\n",
              "      \n",
              "      <progress value='564' max='564' style='width:300px; height:20px; vertical-align: middle;'></progress>\n",
              "      [564/564 03:16, Epoch 2/2]\n",
              "    </div>\n",
              "    <table border=\"1\" class=\"dataframe\">\n",
              "  <thead>\n",
              " <tr style=\"text-align: left;\">\n",
              "      <th>Epoch</th>\n",
              "      <th>Training Loss</th>\n",
              "      <th>Validation Loss</th>\n",
              "      <th>Accuracy</th>\n",
              "    </tr>\n",
              "  </thead>\n",
              "  <tbody>\n",
              "    <tr>\n",
              "      <td>1</td>\n",
              "      <td>No log</td>\n",
              "      <td>0.478203</td>\n",
              "      <td>0.774000</td>\n",
              "    </tr>\n",
              "    <tr>\n",
              "      <td>2</td>\n",
              "      <td>0.400600</td>\n",
              "      <td>0.454387</td>\n",
              "      <td>0.803000</td>\n",
              "    </tr>\n",
              "  </tbody>\n",
              "</table><p>"
            ],
            "text/plain": [
              "<IPython.core.display.HTML object>"
            ]
          },
          "metadata": {},
          "output_type": "display_data"
        },
        {
          "name": "stderr",
          "output_type": "stream",
          "text": [
            "***** Running Evaluation *****\n",
            "  Num examples = 1000\n",
            "  Batch size = 8\n",
            "Saving model checkpoint to trainer_hate_32_2/checkpoint-500\n",
            "Configuration saved in trainer_hate_32_2/checkpoint-500/config.json\n",
            "Model weights saved in trainer_hate_32_2/checkpoint-500/pytorch_model.bin\n",
            "***** Running Evaluation *****\n",
            "  Num examples = 1000\n",
            "  Batch size = 8\n",
            "\n",
            "\n",
            "Training completed. Do not forget to share your model on huggingface.co/models =)\n",
            "\n",
            "\n",
            "***** Running Prediction *****\n",
            "  Num examples = 1000\n",
            "  Batch size = 8\n"
          ]
        },
        {
          "data": {
            "text/html": [
              "\n",
              "    <div>\n",
              "      \n",
              "      <progress value='125' max='125' style='width:300px; height:20px; vertical-align: middle;'></progress>\n",
              "      [125/125 00:04]\n",
              "    </div>\n",
              "    "
            ],
            "text/plain": [
              "<IPython.core.display.HTML object>"
            ]
          },
          "metadata": {},
          "output_type": "display_data"
        },
        {
          "name": "stderr",
          "output_type": "stream",
          "text": [
            "PyTorch: setting up devices\n",
            "The default value for the training argument `--report_to` will change in v5 (from all installed integrations to none). In v5, you will need to use `--report_to all` to get the same behavior as now. You should start updating your code and make this info disappear :-).\n",
            "/usr/local/lib/python3.7/dist-packages/transformers/optimization.py:310: FutureWarning: This implementation of AdamW is deprecated and will be removed in a future version. Use the PyTorch implementation torch.optim.AdamW instead, or set `no_deprecation_warning=True` to disable this warning\n",
            "  FutureWarning,\n",
            "***** Running training *****\n",
            "  Num examples = 9000\n",
            "  Num Epochs = 3\n",
            "  Instantaneous batch size per device = 16\n",
            "  Total train batch size (w. parallel, distributed & accumulation) = 16\n",
            "  Gradient Accumulation steps = 1\n",
            "  Total optimization steps = 1689\n"
          ]
        },
        {
          "name": "stdout",
          "output_type": "stream",
          "text": [
            "\u001b[35m \n",
            "Validation accuracy (batch size 32 and epochs 2): 0.803\n",
            " \u001b[30m\n"
          ]
        },
        {
          "data": {
            "text/html": [
              "\n",
              "    <div>\n",
              "      \n",
              "      <progress value='1689' max='1689' style='width:300px; height:20px; vertical-align: middle;'></progress>\n",
              "      [1689/1689 05:44, Epoch 3/3]\n",
              "    </div>\n",
              "    <table border=\"1\" class=\"dataframe\">\n",
              "  <thead>\n",
              " <tr style=\"text-align: left;\">\n",
              "      <th>Epoch</th>\n",
              "      <th>Training Loss</th>\n",
              "      <th>Validation Loss</th>\n",
              "      <th>Accuracy</th>\n",
              "    </tr>\n",
              "  </thead>\n",
              "  <tbody>\n",
              "    <tr>\n",
              "      <td>1</td>\n",
              "      <td>0.332800</td>\n",
              "      <td>0.544180</td>\n",
              "      <td>0.766000</td>\n",
              "    </tr>\n",
              "    <tr>\n",
              "      <td>2</td>\n",
              "      <td>0.226900</td>\n",
              "      <td>0.718171</td>\n",
              "      <td>0.794000</td>\n",
              "    </tr>\n",
              "    <tr>\n",
              "      <td>3</td>\n",
              "      <td>0.132200</td>\n",
              "      <td>0.869335</td>\n",
              "      <td>0.789000</td>\n",
              "    </tr>\n",
              "  </tbody>\n",
              "</table><p>"
            ],
            "text/plain": [
              "<IPython.core.display.HTML object>"
            ]
          },
          "metadata": {},
          "output_type": "display_data"
        },
        {
          "name": "stderr",
          "output_type": "stream",
          "text": [
            "Saving model checkpoint to trainer_hate_16_3/checkpoint-500\n",
            "Configuration saved in trainer_hate_16_3/checkpoint-500/config.json\n",
            "Model weights saved in trainer_hate_16_3/checkpoint-500/pytorch_model.bin\n",
            "***** Running Evaluation *****\n",
            "  Num examples = 1000\n",
            "  Batch size = 8\n",
            "Saving model checkpoint to trainer_hate_16_3/checkpoint-1000\n",
            "Configuration saved in trainer_hate_16_3/checkpoint-1000/config.json\n",
            "Model weights saved in trainer_hate_16_3/checkpoint-1000/pytorch_model.bin\n",
            "***** Running Evaluation *****\n",
            "  Num examples = 1000\n",
            "  Batch size = 8\n",
            "Saving model checkpoint to trainer_hate_16_3/checkpoint-1500\n",
            "Configuration saved in trainer_hate_16_3/checkpoint-1500/config.json\n",
            "Model weights saved in trainer_hate_16_3/checkpoint-1500/pytorch_model.bin\n",
            "***** Running Evaluation *****\n",
            "  Num examples = 1000\n",
            "  Batch size = 8\n",
            "\n",
            "\n",
            "Training completed. Do not forget to share your model on huggingface.co/models =)\n",
            "\n",
            "\n",
            "***** Running Prediction *****\n",
            "  Num examples = 1000\n",
            "  Batch size = 8\n"
          ]
        },
        {
          "data": {
            "text/html": [
              "\n",
              "    <div>\n",
              "      \n",
              "      <progress value='125' max='125' style='width:300px; height:20px; vertical-align: middle;'></progress>\n",
              "      [125/125 00:04]\n",
              "    </div>\n",
              "    "
            ],
            "text/plain": [
              "<IPython.core.display.HTML object>"
            ]
          },
          "metadata": {},
          "output_type": "display_data"
        },
        {
          "name": "stderr",
          "output_type": "stream",
          "text": [
            "PyTorch: setting up devices\n",
            "The default value for the training argument `--report_to` will change in v5 (from all installed integrations to none). In v5, you will need to use `--report_to all` to get the same behavior as now. You should start updating your code and make this info disappear :-).\n",
            "/usr/local/lib/python3.7/dist-packages/transformers/optimization.py:310: FutureWarning: This implementation of AdamW is deprecated and will be removed in a future version. Use the PyTorch implementation torch.optim.AdamW instead, or set `no_deprecation_warning=True` to disable this warning\n",
            "  FutureWarning,\n",
            "***** Running training *****\n",
            "  Num examples = 9000\n",
            "  Num Epochs = 3\n",
            "  Instantaneous batch size per device = 32\n",
            "  Total train batch size (w. parallel, distributed & accumulation) = 32\n",
            "  Gradient Accumulation steps = 1\n",
            "  Total optimization steps = 846\n"
          ]
        },
        {
          "name": "stdout",
          "output_type": "stream",
          "text": [
            "\u001b[35m \n",
            "Validation accuracy (batch size 16 and epochs 3): 0.789\n",
            " \u001b[30m\n"
          ]
        },
        {
          "data": {
            "text/html": [
              "\n",
              "    <div>\n",
              "      \n",
              "      <progress value='417' max='846' style='width:300px; height:20px; vertical-align: middle;'></progress>\n",
              "      [417/846 02:18 < 02:22, 3.00 it/s, Epoch 1.48/3]\n",
              "    </div>\n",
              "    <table border=\"1\" class=\"dataframe\">\n",
              "  <thead>\n",
              " <tr style=\"text-align: left;\">\n",
              "      <th>Epoch</th>\n",
              "      <th>Training Loss</th>\n",
              "      <th>Validation Loss</th>\n",
              "      <th>Accuracy</th>\n",
              "    </tr>\n",
              "  </thead>\n",
              "  <tbody>\n",
              "    <tr>\n",
              "      <td>1</td>\n",
              "      <td>No log</td>\n",
              "      <td>0.793692</td>\n",
              "      <td>0.776000</td>\n",
              "    </tr>\n",
              "  </tbody>\n",
              "</table><p>"
            ],
            "text/plain": [
              "<IPython.core.display.HTML object>"
            ]
          },
          "metadata": {},
          "output_type": "display_data"
        },
        {
          "name": "stderr",
          "output_type": "stream",
          "text": [
            "***** Running Evaluation *****\n",
            "  Num examples = 1000\n",
            "  Batch size = 8\n"
          ]
        },
        {
          "data": {
            "text/html": [
              "\n",
              "    <div>\n",
              "      \n",
              "      <progress value='846' max='846' style='width:300px; height:20px; vertical-align: middle;'></progress>\n",
              "      [846/846 04:51, Epoch 3/3]\n",
              "    </div>\n",
              "    <table border=\"1\" class=\"dataframe\">\n",
              "  <thead>\n",
              " <tr style=\"text-align: left;\">\n",
              "      <th>Epoch</th>\n",
              "      <th>Training Loss</th>\n",
              "      <th>Validation Loss</th>\n",
              "      <th>Accuracy</th>\n",
              "    </tr>\n",
              "  </thead>\n",
              "  <tbody>\n",
              "    <tr>\n",
              "      <td>1</td>\n",
              "      <td>No log</td>\n",
              "      <td>0.793692</td>\n",
              "      <td>0.776000</td>\n",
              "    </tr>\n",
              "    <tr>\n",
              "      <td>2</td>\n",
              "      <td>0.099600</td>\n",
              "      <td>1.005491</td>\n",
              "      <td>0.769000</td>\n",
              "    </tr>\n",
              "    <tr>\n",
              "      <td>3</td>\n",
              "      <td>0.099600</td>\n",
              "      <td>1.114714</td>\n",
              "      <td>0.790000</td>\n",
              "    </tr>\n",
              "  </tbody>\n",
              "</table><p>"
            ],
            "text/plain": [
              "<IPython.core.display.HTML object>"
            ]
          },
          "metadata": {},
          "output_type": "display_data"
        },
        {
          "name": "stderr",
          "output_type": "stream",
          "text": [
            "Saving model checkpoint to trainer_hate_32_3/checkpoint-500\n",
            "Configuration saved in trainer_hate_32_3/checkpoint-500/config.json\n",
            "Model weights saved in trainer_hate_32_3/checkpoint-500/pytorch_model.bin\n",
            "***** Running Evaluation *****\n",
            "  Num examples = 1000\n",
            "  Batch size = 8\n",
            "***** Running Evaluation *****\n",
            "  Num examples = 1000\n",
            "  Batch size = 8\n",
            "\n",
            "\n",
            "Training completed. Do not forget to share your model on huggingface.co/models =)\n",
            "\n",
            "\n",
            "***** Running Prediction *****\n",
            "  Num examples = 1000\n",
            "  Batch size = 8\n"
          ]
        },
        {
          "data": {
            "text/html": [
              "\n",
              "    <div>\n",
              "      \n",
              "      <progress value='125' max='125' style='width:300px; height:20px; vertical-align: middle;'></progress>\n",
              "      [125/125 00:04]\n",
              "    </div>\n",
              "    "
            ],
            "text/plain": [
              "<IPython.core.display.HTML object>"
            ]
          },
          "metadata": {},
          "output_type": "display_data"
        },
        {
          "name": "stderr",
          "output_type": "stream",
          "text": [
            "PyTorch: setting up devices\n",
            "The default value for the training argument `--report_to` will change in v5 (from all installed integrations to none). In v5, you will need to use `--report_to all` to get the same behavior as now. You should start updating your code and make this info disappear :-).\n",
            "/usr/local/lib/python3.7/dist-packages/transformers/optimization.py:310: FutureWarning: This implementation of AdamW is deprecated and will be removed in a future version. Use the PyTorch implementation torch.optim.AdamW instead, or set `no_deprecation_warning=True` to disable this warning\n",
            "  FutureWarning,\n",
            "***** Running training *****\n",
            "  Num examples = 9000\n",
            "  Num Epochs = 4\n",
            "  Instantaneous batch size per device = 16\n",
            "  Total train batch size (w. parallel, distributed & accumulation) = 16\n",
            "  Gradient Accumulation steps = 1\n",
            "  Total optimization steps = 2252\n"
          ]
        },
        {
          "name": "stdout",
          "output_type": "stream",
          "text": [
            "\u001b[35m \n",
            "Validation accuracy (batch size 32 and epochs 3): 0.79\n",
            " \u001b[30m\n"
          ]
        },
        {
          "data": {
            "text/html": [
              "\n",
              "    <div>\n",
              "      \n",
              "      <progress value='2252' max='2252' style='width:300px; height:20px; vertical-align: middle;'></progress>\n",
              "      [2252/2252 07:40, Epoch 4/4]\n",
              "    </div>\n",
              "    <table border=\"1\" class=\"dataframe\">\n",
              "  <thead>\n",
              " <tr style=\"text-align: left;\">\n",
              "      <th>Epoch</th>\n",
              "      <th>Training Loss</th>\n",
              "      <th>Validation Loss</th>\n",
              "      <th>Accuracy</th>\n",
              "    </tr>\n",
              "  </thead>\n",
              "  <tbody>\n",
              "    <tr>\n",
              "      <td>1</td>\n",
              "      <td>0.092400</td>\n",
              "      <td>0.905089</td>\n",
              "      <td>0.786000</td>\n",
              "    </tr>\n",
              "    <tr>\n",
              "      <td>2</td>\n",
              "      <td>0.074500</td>\n",
              "      <td>1.206654</td>\n",
              "      <td>0.776000</td>\n",
              "    </tr>\n",
              "    <tr>\n",
              "      <td>3</td>\n",
              "      <td>0.045100</td>\n",
              "      <td>1.237608</td>\n",
              "      <td>0.787000</td>\n",
              "    </tr>\n",
              "    <tr>\n",
              "      <td>4</td>\n",
              "      <td>0.028100</td>\n",
              "      <td>1.341593</td>\n",
              "      <td>0.793000</td>\n",
              "    </tr>\n",
              "  </tbody>\n",
              "</table><p>"
            ],
            "text/plain": [
              "<IPython.core.display.HTML object>"
            ]
          },
          "metadata": {},
          "output_type": "display_data"
        },
        {
          "name": "stderr",
          "output_type": "stream",
          "text": [
            "Saving model checkpoint to trainer_hate_16_4/checkpoint-500\n",
            "Configuration saved in trainer_hate_16_4/checkpoint-500/config.json\n",
            "Model weights saved in trainer_hate_16_4/checkpoint-500/pytorch_model.bin\n",
            "***** Running Evaluation *****\n",
            "  Num examples = 1000\n",
            "  Batch size = 8\n",
            "Saving model checkpoint to trainer_hate_16_4/checkpoint-1000\n",
            "Configuration saved in trainer_hate_16_4/checkpoint-1000/config.json\n",
            "Model weights saved in trainer_hate_16_4/checkpoint-1000/pytorch_model.bin\n",
            "***** Running Evaluation *****\n",
            "  Num examples = 1000\n",
            "  Batch size = 8\n",
            "Saving model checkpoint to trainer_hate_16_4/checkpoint-1500\n",
            "Configuration saved in trainer_hate_16_4/checkpoint-1500/config.json\n",
            "Model weights saved in trainer_hate_16_4/checkpoint-1500/pytorch_model.bin\n",
            "***** Running Evaluation *****\n",
            "  Num examples = 1000\n",
            "  Batch size = 8\n",
            "Saving model checkpoint to trainer_hate_16_4/checkpoint-2000\n",
            "Configuration saved in trainer_hate_16_4/checkpoint-2000/config.json\n",
            "Model weights saved in trainer_hate_16_4/checkpoint-2000/pytorch_model.bin\n",
            "***** Running Evaluation *****\n",
            "  Num examples = 1000\n",
            "  Batch size = 8\n",
            "\n",
            "\n",
            "Training completed. Do not forget to share your model on huggingface.co/models =)\n",
            "\n",
            "\n",
            "***** Running Prediction *****\n",
            "  Num examples = 1000\n",
            "  Batch size = 8\n"
          ]
        },
        {
          "data": {
            "text/html": [
              "\n",
              "    <div>\n",
              "      \n",
              "      <progress value='125' max='125' style='width:300px; height:20px; vertical-align: middle;'></progress>\n",
              "      [125/125 00:04]\n",
              "    </div>\n",
              "    "
            ],
            "text/plain": [
              "<IPython.core.display.HTML object>"
            ]
          },
          "metadata": {},
          "output_type": "display_data"
        },
        {
          "name": "stderr",
          "output_type": "stream",
          "text": [
            "PyTorch: setting up devices\n",
            "The default value for the training argument `--report_to` will change in v5 (from all installed integrations to none). In v5, you will need to use `--report_to all` to get the same behavior as now. You should start updating your code and make this info disappear :-).\n",
            "/usr/local/lib/python3.7/dist-packages/transformers/optimization.py:310: FutureWarning: This implementation of AdamW is deprecated and will be removed in a future version. Use the PyTorch implementation torch.optim.AdamW instead, or set `no_deprecation_warning=True` to disable this warning\n",
            "  FutureWarning,\n",
            "***** Running training *****\n",
            "  Num examples = 9000\n",
            "  Num Epochs = 4\n",
            "  Instantaneous batch size per device = 32\n",
            "  Total train batch size (w. parallel, distributed & accumulation) = 32\n",
            "  Gradient Accumulation steps = 1\n",
            "  Total optimization steps = 1128\n"
          ]
        },
        {
          "name": "stdout",
          "output_type": "stream",
          "text": [
            "\u001b[35m \n",
            "Validation accuracy (batch size 16 and epochs 4): 0.793\n",
            " \u001b[30m\n"
          ]
        },
        {
          "data": {
            "text/html": [
              "\n",
              "    <div>\n",
              "      \n",
              "      <progress value='1128' max='1128' style='width:300px; height:20px; vertical-align: middle;'></progress>\n",
              "      [1128/1128 06:33, Epoch 4/4]\n",
              "    </div>\n",
              "    <table border=\"1\" class=\"dataframe\">\n",
              "  <thead>\n",
              " <tr style=\"text-align: left;\">\n",
              "      <th>Epoch</th>\n",
              "      <th>Training Loss</th>\n",
              "      <th>Validation Loss</th>\n",
              "      <th>Accuracy</th>\n",
              "    </tr>\n",
              "  </thead>\n",
              "  <tbody>\n",
              "    <tr>\n",
              "      <td>1</td>\n",
              "      <td>No log</td>\n",
              "      <td>1.206334</td>\n",
              "      <td>0.776000</td>\n",
              "    </tr>\n",
              "    <tr>\n",
              "      <td>2</td>\n",
              "      <td>0.039400</td>\n",
              "      <td>1.251963</td>\n",
              "      <td>0.788000</td>\n",
              "    </tr>\n",
              "    <tr>\n",
              "      <td>3</td>\n",
              "      <td>0.039400</td>\n",
              "      <td>1.458718</td>\n",
              "      <td>0.780000</td>\n",
              "    </tr>\n",
              "    <tr>\n",
              "      <td>4</td>\n",
              "      <td>0.020000</td>\n",
              "      <td>1.435398</td>\n",
              "      <td>0.779000</td>\n",
              "    </tr>\n",
              "  </tbody>\n",
              "</table><p>"
            ],
            "text/plain": [
              "<IPython.core.display.HTML object>"
            ]
          },
          "metadata": {},
          "output_type": "display_data"
        },
        {
          "name": "stderr",
          "output_type": "stream",
          "text": [
            "***** Running Evaluation *****\n",
            "  Num examples = 1000\n",
            "  Batch size = 8\n",
            "Saving model checkpoint to trainer_hate_32_4/checkpoint-500\n",
            "Configuration saved in trainer_hate_32_4/checkpoint-500/config.json\n",
            "Model weights saved in trainer_hate_32_4/checkpoint-500/pytorch_model.bin\n",
            "***** Running Evaluation *****\n",
            "  Num examples = 1000\n",
            "  Batch size = 8\n",
            "***** Running Evaluation *****\n",
            "  Num examples = 1000\n",
            "  Batch size = 8\n",
            "Saving model checkpoint to trainer_hate_32_4/checkpoint-1000\n",
            "Configuration saved in trainer_hate_32_4/checkpoint-1000/config.json\n",
            "Model weights saved in trainer_hate_32_4/checkpoint-1000/pytorch_model.bin\n",
            "***** Running Evaluation *****\n",
            "  Num examples = 1000\n",
            "  Batch size = 8\n",
            "\n",
            "\n",
            "Training completed. Do not forget to share your model on huggingface.co/models =)\n",
            "\n",
            "\n",
            "***** Running Prediction *****\n",
            "  Num examples = 1000\n",
            "  Batch size = 8\n"
          ]
        },
        {
          "data": {
            "text/html": [
              "\n",
              "    <div>\n",
              "      \n",
              "      <progress value='125' max='125' style='width:300px; height:20px; vertical-align: middle;'></progress>\n",
              "      [125/125 00:04]\n",
              "    </div>\n",
              "    "
            ],
            "text/plain": [
              "<IPython.core.display.HTML object>"
            ]
          },
          "metadata": {},
          "output_type": "display_data"
        },
        {
          "name": "stdout",
          "output_type": "stream",
          "text": [
            "\u001b[35m \n",
            "Validation accuracy (batch size 32 and epochs 4): 0.779\n",
            " \u001b[30m\n"
          ]
        }
      ],
      "source": [
        "best_model_hate = None\n",
        "best_accuracy_hate = 0\n",
        "best_epoch_hate = 0\n",
        "best_batch_size_hate = 0\n",
        "\n",
        "models_hate = []\n",
        "\n",
        "for epoch in epochs:\n",
        "  for batch_size in batch_sizes:\n",
        "\n",
        "    args = TrainingArguments(output_dir='trainer_hate_'+str(batch_size)+'_'+str(epoch),\n",
        "                              evaluation_strategy=\"epoch\",\n",
        "                              num_train_epochs=epoch,\n",
        "                              per_device_train_batch_size=batch_size)\n",
        "\n",
        "    trainer = Trainer(\n",
        "        model=bertweet_hate,\n",
        "        args=args,\n",
        "        train_dataset=train_tokenized_hate,\n",
        "        eval_dataset=val_tokenized_hate,\n",
        "        compute_metrics=compute_accuracy,\n",
        "    )\n",
        "\n",
        "    trainer.train()\n",
        "  \n",
        "    predictions = trainer.predict(val_tokenized_hate)\n",
        "    preds = np.argmax(predictions.predictions, axis=-1)\n",
        "    val_accuracy = accuracy.compute(predictions=preds, references=predictions.label_ids)['accuracy']\n",
        "\n",
        "    print(f'{Fore.MAGENTA} \\nValidation accuracy (batch size {batch_size} and epochs {epoch}): {val_accuracy}\\n {Fore.BLACK}')\n",
        "    \n",
        "    models_hate.append(dict(val_accuracy=val_accuracy,\n",
        "                       batch_size=batch_size,\n",
        "                       epochs=epoch\n",
        "                       ))\n",
        "\n",
        "    if val_accuracy > best_accuracy_hate:\n",
        "      best_accuracy_hate = val_accuracy\n",
        "      best_model_hate = trainer\n",
        "      best_epoch_hate = epoch\n",
        "      best_batch_size_hate = batch_size\n"
      ]
    },
    {
      "cell_type": "code",
      "execution_count": null,
      "metadata": {
        "colab": {
          "base_uri": "https://localhost:8080/"
        },
        "id": "yEPMEhBCzYBE",
        "outputId": "58b1ff9b-d020-469a-83b8-8a41226640da"
      },
      "outputs": [
        {
          "name": "stdout",
          "output_type": "stream",
          "text": [
            "** Best model for Hate Speech Detection **\n",
            "batch size: 32, epochs: 2, validation accuracy: 0.803\n"
          ]
        }
      ],
      "source": [
        "print('** Best model for Hate Speech Detection **')\n",
        "print(f'batch size: {best_batch_size_hate}, epochs: {best_epoch_hate}, validation accuracy: {best_accuracy_hate}')\n",
        "# 16-4, 32-4"
      ]
    },
    {
      "cell_type": "markdown",
      "metadata": {
        "id": "PIrEsEGdiZvR"
      },
      "source": [
        "**Preprocessed data**"
      ]
    },
    {
      "cell_type": "code",
      "execution_count": null,
      "metadata": {
        "colab": {
          "base_uri": "https://localhost:8080/",
          "height": 1000
        },
        "id": "vrdD-kW9iZvR",
        "outputId": "93b6b01d-7eeb-416f-8454-7fb65d6f197c"
      },
      "outputs": [
        {
          "name": "stderr",
          "output_type": "stream",
          "text": [
            "PyTorch: setting up devices\n",
            "The default value for the training argument `--report_to` will change in v5 (from all installed integrations to none). In v5, you will need to use `--report_to all` to get the same behavior as now. You should start updating your code and make this info disappear :-).\n",
            "/usr/local/lib/python3.7/dist-packages/transformers/optimization.py:310: FutureWarning: This implementation of AdamW is deprecated and will be removed in a future version. Use the PyTorch implementation torch.optim.AdamW instead, or set `no_deprecation_warning=True` to disable this warning\n",
            "  FutureWarning,\n",
            "***** Running training *****\n",
            "  Num examples = 9000\n",
            "  Num Epochs = 2\n",
            "  Instantaneous batch size per device = 16\n",
            "  Total train batch size (w. parallel, distributed & accumulation) = 16\n",
            "  Gradient Accumulation steps = 1\n",
            "  Total optimization steps = 1126\n"
          ]
        },
        {
          "data": {
            "text/html": [
              "\n",
              "    <div>\n",
              "      \n",
              "      <progress value='1126' max='1126' style='width:300px; height:20px; vertical-align: middle;'></progress>\n",
              "      [1126/1126 03:51, Epoch 2/2]\n",
              "    </div>\n",
              "    <table border=\"1\" class=\"dataframe\">\n",
              "  <thead>\n",
              " <tr style=\"text-align: left;\">\n",
              "      <th>Epoch</th>\n",
              "      <th>Training Loss</th>\n",
              "      <th>Validation Loss</th>\n",
              "      <th>Accuracy</th>\n",
              "    </tr>\n",
              "  </thead>\n",
              "  <tbody>\n",
              "    <tr>\n",
              "      <td>1</td>\n",
              "      <td>0.083800</td>\n",
              "      <td>1.144966</td>\n",
              "      <td>0.784000</td>\n",
              "    </tr>\n",
              "    <tr>\n",
              "      <td>2</td>\n",
              "      <td>0.043100</td>\n",
              "      <td>1.390039</td>\n",
              "      <td>0.781000</td>\n",
              "    </tr>\n",
              "  </tbody>\n",
              "</table><p>"
            ],
            "text/plain": [
              "<IPython.core.display.HTML object>"
            ]
          },
          "metadata": {},
          "output_type": "display_data"
        },
        {
          "name": "stderr",
          "output_type": "stream",
          "text": [
            "Saving model checkpoint to trainer_hate_prep16_2/checkpoint-500\n",
            "Configuration saved in trainer_hate_prep16_2/checkpoint-500/config.json\n",
            "Model weights saved in trainer_hate_prep16_2/checkpoint-500/pytorch_model.bin\n",
            "***** Running Evaluation *****\n",
            "  Num examples = 1000\n",
            "  Batch size = 8\n",
            "Saving model checkpoint to trainer_hate_prep16_2/checkpoint-1000\n",
            "Configuration saved in trainer_hate_prep16_2/checkpoint-1000/config.json\n",
            "Model weights saved in trainer_hate_prep16_2/checkpoint-1000/pytorch_model.bin\n",
            "***** Running Evaluation *****\n",
            "  Num examples = 1000\n",
            "  Batch size = 8\n",
            "\n",
            "\n",
            "Training completed. Do not forget to share your model on huggingface.co/models =)\n",
            "\n",
            "\n",
            "***** Running Prediction *****\n",
            "  Num examples = 1000\n",
            "  Batch size = 8\n"
          ]
        },
        {
          "data": {
            "text/html": [
              "\n",
              "    <div>\n",
              "      \n",
              "      <progress value='125' max='125' style='width:300px; height:20px; vertical-align: middle;'></progress>\n",
              "      [125/125 00:04]\n",
              "    </div>\n",
              "    "
            ],
            "text/plain": [
              "<IPython.core.display.HTML object>"
            ]
          },
          "metadata": {},
          "output_type": "display_data"
        },
        {
          "name": "stderr",
          "output_type": "stream",
          "text": [
            "PyTorch: setting up devices\n",
            "The default value for the training argument `--report_to` will change in v5 (from all installed integrations to none). In v5, you will need to use `--report_to all` to get the same behavior as now. You should start updating your code and make this info disappear :-).\n",
            "/usr/local/lib/python3.7/dist-packages/transformers/optimization.py:310: FutureWarning: This implementation of AdamW is deprecated and will be removed in a future version. Use the PyTorch implementation torch.optim.AdamW instead, or set `no_deprecation_warning=True` to disable this warning\n",
            "  FutureWarning,\n",
            "***** Running training *****\n",
            "  Num examples = 9000\n",
            "  Num Epochs = 2\n",
            "  Instantaneous batch size per device = 32\n",
            "  Total train batch size (w. parallel, distributed & accumulation) = 32\n",
            "  Gradient Accumulation steps = 1\n",
            "  Total optimization steps = 564\n"
          ]
        },
        {
          "name": "stdout",
          "output_type": "stream",
          "text": [
            "\u001b[35m \n",
            "Validation accuracy (batch size 16 and epochs 2): 0.781\n",
            " \u001b[30m\n"
          ]
        },
        {
          "data": {
            "text/html": [
              "\n",
              "    <div>\n",
              "      \n",
              "      <progress value='564' max='564' style='width:300px; height:20px; vertical-align: middle;'></progress>\n",
              "      [564/564 03:16, Epoch 2/2]\n",
              "    </div>\n",
              "    <table border=\"1\" class=\"dataframe\">\n",
              "  <thead>\n",
              " <tr style=\"text-align: left;\">\n",
              "      <th>Epoch</th>\n",
              "      <th>Training Loss</th>\n",
              "      <th>Validation Loss</th>\n",
              "      <th>Accuracy</th>\n",
              "    </tr>\n",
              "  </thead>\n",
              "  <tbody>\n",
              "    <tr>\n",
              "      <td>1</td>\n",
              "      <td>No log</td>\n",
              "      <td>1.238325</td>\n",
              "      <td>0.773000</td>\n",
              "    </tr>\n",
              "    <tr>\n",
              "      <td>2</td>\n",
              "      <td>0.031200</td>\n",
              "      <td>1.477002</td>\n",
              "      <td>0.778000</td>\n",
              "    </tr>\n",
              "  </tbody>\n",
              "</table><p>"
            ],
            "text/plain": [
              "<IPython.core.display.HTML object>"
            ]
          },
          "metadata": {},
          "output_type": "display_data"
        },
        {
          "name": "stderr",
          "output_type": "stream",
          "text": [
            "***** Running Evaluation *****\n",
            "  Num examples = 1000\n",
            "  Batch size = 8\n",
            "Saving model checkpoint to trainer_hate_prep32_2/checkpoint-500\n",
            "Configuration saved in trainer_hate_prep32_2/checkpoint-500/config.json\n",
            "Model weights saved in trainer_hate_prep32_2/checkpoint-500/pytorch_model.bin\n",
            "***** Running Evaluation *****\n",
            "  Num examples = 1000\n",
            "  Batch size = 8\n",
            "\n",
            "\n",
            "Training completed. Do not forget to share your model on huggingface.co/models =)\n",
            "\n",
            "\n",
            "***** Running Prediction *****\n",
            "  Num examples = 1000\n",
            "  Batch size = 8\n"
          ]
        },
        {
          "data": {
            "text/html": [
              "\n",
              "    <div>\n",
              "      \n",
              "      <progress value='125' max='125' style='width:300px; height:20px; vertical-align: middle;'></progress>\n",
              "      [125/125 00:04]\n",
              "    </div>\n",
              "    "
            ],
            "text/plain": [
              "<IPython.core.display.HTML object>"
            ]
          },
          "metadata": {},
          "output_type": "display_data"
        },
        {
          "name": "stderr",
          "output_type": "stream",
          "text": [
            "PyTorch: setting up devices\n",
            "The default value for the training argument `--report_to` will change in v5 (from all installed integrations to none). In v5, you will need to use `--report_to all` to get the same behavior as now. You should start updating your code and make this info disappear :-).\n",
            "/usr/local/lib/python3.7/dist-packages/transformers/optimization.py:310: FutureWarning: This implementation of AdamW is deprecated and will be removed in a future version. Use the PyTorch implementation torch.optim.AdamW instead, or set `no_deprecation_warning=True` to disable this warning\n",
            "  FutureWarning,\n",
            "***** Running training *****\n",
            "  Num examples = 9000\n",
            "  Num Epochs = 3\n",
            "  Instantaneous batch size per device = 16\n",
            "  Total train batch size (w. parallel, distributed & accumulation) = 16\n",
            "  Gradient Accumulation steps = 1\n",
            "  Total optimization steps = 1689\n"
          ]
        },
        {
          "name": "stdout",
          "output_type": "stream",
          "text": [
            "\u001b[35m \n",
            "Validation accuracy (batch size 32 and epochs 2): 0.778\n",
            " \u001b[30m\n"
          ]
        },
        {
          "data": {
            "text/html": [
              "\n",
              "    <div>\n",
              "      \n",
              "      <progress value='1689' max='1689' style='width:300px; height:20px; vertical-align: middle;'></progress>\n",
              "      [1689/1689 05:43, Epoch 3/3]\n",
              "    </div>\n",
              "    <table border=\"1\" class=\"dataframe\">\n",
              "  <thead>\n",
              " <tr style=\"text-align: left;\">\n",
              "      <th>Epoch</th>\n",
              "      <th>Training Loss</th>\n",
              "      <th>Validation Loss</th>\n",
              "      <th>Accuracy</th>\n",
              "    </tr>\n",
              "  </thead>\n",
              "  <tbody>\n",
              "    <tr>\n",
              "      <td>1</td>\n",
              "      <td>0.062700</td>\n",
              "      <td>1.618517</td>\n",
              "      <td>0.764000</td>\n",
              "    </tr>\n",
              "    <tr>\n",
              "      <td>2</td>\n",
              "      <td>0.025700</td>\n",
              "      <td>1.531692</td>\n",
              "      <td>0.785000</td>\n",
              "    </tr>\n",
              "    <tr>\n",
              "      <td>3</td>\n",
              "      <td>0.010400</td>\n",
              "      <td>1.666404</td>\n",
              "      <td>0.779000</td>\n",
              "    </tr>\n",
              "  </tbody>\n",
              "</table><p>"
            ],
            "text/plain": [
              "<IPython.core.display.HTML object>"
            ]
          },
          "metadata": {},
          "output_type": "display_data"
        },
        {
          "name": "stderr",
          "output_type": "stream",
          "text": [
            "Saving model checkpoint to trainer_hate_prep16_3/checkpoint-500\n",
            "Configuration saved in trainer_hate_prep16_3/checkpoint-500/config.json\n",
            "Model weights saved in trainer_hate_prep16_3/checkpoint-500/pytorch_model.bin\n",
            "***** Running Evaluation *****\n",
            "  Num examples = 1000\n",
            "  Batch size = 8\n",
            "Saving model checkpoint to trainer_hate_prep16_3/checkpoint-1000\n",
            "Configuration saved in trainer_hate_prep16_3/checkpoint-1000/config.json\n",
            "Model weights saved in trainer_hate_prep16_3/checkpoint-1000/pytorch_model.bin\n",
            "***** Running Evaluation *****\n",
            "  Num examples = 1000\n",
            "  Batch size = 8\n",
            "Saving model checkpoint to trainer_hate_prep16_3/checkpoint-1500\n",
            "Configuration saved in trainer_hate_prep16_3/checkpoint-1500/config.json\n",
            "Model weights saved in trainer_hate_prep16_3/checkpoint-1500/pytorch_model.bin\n",
            "***** Running Evaluation *****\n",
            "  Num examples = 1000\n",
            "  Batch size = 8\n",
            "\n",
            "\n",
            "Training completed. Do not forget to share your model on huggingface.co/models =)\n",
            "\n",
            "\n",
            "***** Running Prediction *****\n",
            "  Num examples = 1000\n",
            "  Batch size = 8\n"
          ]
        },
        {
          "data": {
            "text/html": [
              "\n",
              "    <div>\n",
              "      \n",
              "      <progress value='125' max='125' style='width:300px; height:20px; vertical-align: middle;'></progress>\n",
              "      [125/125 00:04]\n",
              "    </div>\n",
              "    "
            ],
            "text/plain": [
              "<IPython.core.display.HTML object>"
            ]
          },
          "metadata": {},
          "output_type": "display_data"
        },
        {
          "name": "stderr",
          "output_type": "stream",
          "text": [
            "PyTorch: setting up devices\n",
            "The default value for the training argument `--report_to` will change in v5 (from all installed integrations to none). In v5, you will need to use `--report_to all` to get the same behavior as now. You should start updating your code and make this info disappear :-).\n",
            "/usr/local/lib/python3.7/dist-packages/transformers/optimization.py:310: FutureWarning: This implementation of AdamW is deprecated and will be removed in a future version. Use the PyTorch implementation torch.optim.AdamW instead, or set `no_deprecation_warning=True` to disable this warning\n",
            "  FutureWarning,\n",
            "***** Running training *****\n",
            "  Num examples = 9000\n",
            "  Num Epochs = 3\n",
            "  Instantaneous batch size per device = 32\n",
            "  Total train batch size (w. parallel, distributed & accumulation) = 32\n",
            "  Gradient Accumulation steps = 1\n",
            "  Total optimization steps = 846\n"
          ]
        },
        {
          "name": "stdout",
          "output_type": "stream",
          "text": [
            "\u001b[35m \n",
            "Validation accuracy (batch size 16 and epochs 3): 0.779\n",
            " \u001b[30m\n"
          ]
        },
        {
          "data": {
            "text/html": [
              "\n",
              "    <div>\n",
              "      \n",
              "      <progress value='846' max='846' style='width:300px; height:20px; vertical-align: middle;'></progress>\n",
              "      [846/846 04:51, Epoch 3/3]\n",
              "    </div>\n",
              "    <table border=\"1\" class=\"dataframe\">\n",
              "  <thead>\n",
              " <tr style=\"text-align: left;\">\n",
              "      <th>Epoch</th>\n",
              "      <th>Training Loss</th>\n",
              "      <th>Validation Loss</th>\n",
              "      <th>Accuracy</th>\n",
              "    </tr>\n",
              "  </thead>\n",
              "  <tbody>\n",
              "    <tr>\n",
              "      <td>1</td>\n",
              "      <td>No log</td>\n",
              "      <td>1.724600</td>\n",
              "      <td>0.762000</td>\n",
              "    </tr>\n",
              "    <tr>\n",
              "      <td>2</td>\n",
              "      <td>0.017600</td>\n",
              "      <td>1.743068</td>\n",
              "      <td>0.763000</td>\n",
              "    </tr>\n",
              "    <tr>\n",
              "      <td>3</td>\n",
              "      <td>0.017600</td>\n",
              "      <td>1.768635</td>\n",
              "      <td>0.769000</td>\n",
              "    </tr>\n",
              "  </tbody>\n",
              "</table><p>"
            ],
            "text/plain": [
              "<IPython.core.display.HTML object>"
            ]
          },
          "metadata": {},
          "output_type": "display_data"
        },
        {
          "name": "stderr",
          "output_type": "stream",
          "text": [
            "***** Running Evaluation *****\n",
            "  Num examples = 1000\n",
            "  Batch size = 8\n",
            "Saving model checkpoint to trainer_hate_prep32_3/checkpoint-500\n",
            "Configuration saved in trainer_hate_prep32_3/checkpoint-500/config.json\n",
            "Model weights saved in trainer_hate_prep32_3/checkpoint-500/pytorch_model.bin\n",
            "***** Running Evaluation *****\n",
            "  Num examples = 1000\n",
            "  Batch size = 8\n",
            "***** Running Evaluation *****\n",
            "  Num examples = 1000\n",
            "  Batch size = 8\n",
            "\n",
            "\n",
            "Training completed. Do not forget to share your model on huggingface.co/models =)\n",
            "\n",
            "\n",
            "***** Running Prediction *****\n",
            "  Num examples = 1000\n",
            "  Batch size = 8\n"
          ]
        },
        {
          "data": {
            "text/html": [
              "\n",
              "    <div>\n",
              "      \n",
              "      <progress value='125' max='125' style='width:300px; height:20px; vertical-align: middle;'></progress>\n",
              "      [125/125 00:04]\n",
              "    </div>\n",
              "    "
            ],
            "text/plain": [
              "<IPython.core.display.HTML object>"
            ]
          },
          "metadata": {},
          "output_type": "display_data"
        },
        {
          "name": "stderr",
          "output_type": "stream",
          "text": [
            "PyTorch: setting up devices\n",
            "The default value for the training argument `--report_to` will change in v5 (from all installed integrations to none). In v5, you will need to use `--report_to all` to get the same behavior as now. You should start updating your code and make this info disappear :-).\n",
            "/usr/local/lib/python3.7/dist-packages/transformers/optimization.py:310: FutureWarning: This implementation of AdamW is deprecated and will be removed in a future version. Use the PyTorch implementation torch.optim.AdamW instead, or set `no_deprecation_warning=True` to disable this warning\n",
            "  FutureWarning,\n",
            "***** Running training *****\n",
            "  Num examples = 9000\n",
            "  Num Epochs = 4\n",
            "  Instantaneous batch size per device = 16\n",
            "  Total train batch size (w. parallel, distributed & accumulation) = 16\n",
            "  Gradient Accumulation steps = 1\n",
            "  Total optimization steps = 2252\n"
          ]
        },
        {
          "name": "stdout",
          "output_type": "stream",
          "text": [
            "\u001b[35m \n",
            "Validation accuracy (batch size 32 and epochs 3): 0.769\n",
            " \u001b[30m\n"
          ]
        },
        {
          "data": {
            "text/html": [
              "\n",
              "    <div>\n",
              "      \n",
              "      <progress value='2252' max='2252' style='width:300px; height:20px; vertical-align: middle;'></progress>\n",
              "      [2252/2252 07:38, Epoch 4/4]\n",
              "    </div>\n",
              "    <table border=\"1\" class=\"dataframe\">\n",
              "  <thead>\n",
              " <tr style=\"text-align: left;\">\n",
              "      <th>Epoch</th>\n",
              "      <th>Training Loss</th>\n",
              "      <th>Validation Loss</th>\n",
              "      <th>Accuracy</th>\n",
              "    </tr>\n",
              "  </thead>\n",
              "  <tbody>\n",
              "    <tr>\n",
              "      <td>1</td>\n",
              "      <td>0.041000</td>\n",
              "      <td>1.744837</td>\n",
              "      <td>0.759000</td>\n",
              "    </tr>\n",
              "    <tr>\n",
              "      <td>2</td>\n",
              "      <td>0.028900</td>\n",
              "      <td>1.557923</td>\n",
              "      <td>0.753000</td>\n",
              "    </tr>\n",
              "    <tr>\n",
              "      <td>3</td>\n",
              "      <td>0.015900</td>\n",
              "      <td>1.713759</td>\n",
              "      <td>0.773000</td>\n",
              "    </tr>\n",
              "    <tr>\n",
              "      <td>4</td>\n",
              "      <td>0.010600</td>\n",
              "      <td>1.927164</td>\n",
              "      <td>0.767000</td>\n",
              "    </tr>\n",
              "  </tbody>\n",
              "</table><p>"
            ],
            "text/plain": [
              "<IPython.core.display.HTML object>"
            ]
          },
          "metadata": {},
          "output_type": "display_data"
        },
        {
          "name": "stderr",
          "output_type": "stream",
          "text": [
            "Saving model checkpoint to trainer_hate_prep16_4/checkpoint-500\n",
            "Configuration saved in trainer_hate_prep16_4/checkpoint-500/config.json\n",
            "Model weights saved in trainer_hate_prep16_4/checkpoint-500/pytorch_model.bin\n",
            "***** Running Evaluation *****\n",
            "  Num examples = 1000\n",
            "  Batch size = 8\n",
            "Saving model checkpoint to trainer_hate_prep16_4/checkpoint-1000\n",
            "Configuration saved in trainer_hate_prep16_4/checkpoint-1000/config.json\n",
            "Model weights saved in trainer_hate_prep16_4/checkpoint-1000/pytorch_model.bin\n",
            "***** Running Evaluation *****\n",
            "  Num examples = 1000\n",
            "  Batch size = 8\n",
            "Saving model checkpoint to trainer_hate_prep16_4/checkpoint-1500\n",
            "Configuration saved in trainer_hate_prep16_4/checkpoint-1500/config.json\n",
            "Model weights saved in trainer_hate_prep16_4/checkpoint-1500/pytorch_model.bin\n",
            "***** Running Evaluation *****\n",
            "  Num examples = 1000\n",
            "  Batch size = 8\n",
            "Saving model checkpoint to trainer_hate_prep16_4/checkpoint-2000\n",
            "Configuration saved in trainer_hate_prep16_4/checkpoint-2000/config.json\n",
            "Model weights saved in trainer_hate_prep16_4/checkpoint-2000/pytorch_model.bin\n",
            "***** Running Evaluation *****\n",
            "  Num examples = 1000\n",
            "  Batch size = 8\n",
            "\n",
            "\n",
            "Training completed. Do not forget to share your model on huggingface.co/models =)\n",
            "\n",
            "\n",
            "***** Running Prediction *****\n",
            "  Num examples = 1000\n",
            "  Batch size = 8\n"
          ]
        },
        {
          "data": {
            "text/html": [
              "\n",
              "    <div>\n",
              "      \n",
              "      <progress value='125' max='125' style='width:300px; height:20px; vertical-align: middle;'></progress>\n",
              "      [125/125 00:04]\n",
              "    </div>\n",
              "    "
            ],
            "text/plain": [
              "<IPython.core.display.HTML object>"
            ]
          },
          "metadata": {},
          "output_type": "display_data"
        },
        {
          "name": "stderr",
          "output_type": "stream",
          "text": [
            "PyTorch: setting up devices\n",
            "The default value for the training argument `--report_to` will change in v5 (from all installed integrations to none). In v5, you will need to use `--report_to all` to get the same behavior as now. You should start updating your code and make this info disappear :-).\n",
            "/usr/local/lib/python3.7/dist-packages/transformers/optimization.py:310: FutureWarning: This implementation of AdamW is deprecated and will be removed in a future version. Use the PyTorch implementation torch.optim.AdamW instead, or set `no_deprecation_warning=True` to disable this warning\n",
            "  FutureWarning,\n",
            "***** Running training *****\n",
            "  Num examples = 9000\n",
            "  Num Epochs = 4\n",
            "  Instantaneous batch size per device = 32\n",
            "  Total train batch size (w. parallel, distributed & accumulation) = 32\n",
            "  Gradient Accumulation steps = 1\n",
            "  Total optimization steps = 1128\n"
          ]
        },
        {
          "name": "stdout",
          "output_type": "stream",
          "text": [
            "\u001b[35m \n",
            "Validation accuracy (batch size 16 and epochs 4): 0.767\n",
            " \u001b[30m\n"
          ]
        },
        {
          "data": {
            "text/html": [
              "\n",
              "    <div>\n",
              "      \n",
              "      <progress value='1128' max='1128' style='width:300px; height:20px; vertical-align: middle;'></progress>\n",
              "      [1128/1128 06:33, Epoch 4/4]\n",
              "    </div>\n",
              "    <table border=\"1\" class=\"dataframe\">\n",
              "  <thead>\n",
              " <tr style=\"text-align: left;\">\n",
              "      <th>Epoch</th>\n",
              "      <th>Training Loss</th>\n",
              "      <th>Validation Loss</th>\n",
              "      <th>Accuracy</th>\n",
              "    </tr>\n",
              "  </thead>\n",
              "  <tbody>\n",
              "    <tr>\n",
              "      <td>1</td>\n",
              "      <td>No log</td>\n",
              "      <td>1.834215</td>\n",
              "      <td>0.762000</td>\n",
              "    </tr>\n",
              "    <tr>\n",
              "      <td>2</td>\n",
              "      <td>0.022300</td>\n",
              "      <td>2.130250</td>\n",
              "      <td>0.760000</td>\n",
              "    </tr>\n",
              "    <tr>\n",
              "      <td>3</td>\n",
              "      <td>0.022300</td>\n",
              "      <td>1.965113</td>\n",
              "      <td>0.763000</td>\n",
              "    </tr>\n",
              "    <tr>\n",
              "      <td>4</td>\n",
              "      <td>0.005500</td>\n",
              "      <td>2.040073</td>\n",
              "      <td>0.759000</td>\n",
              "    </tr>\n",
              "  </tbody>\n",
              "</table><p>"
            ],
            "text/plain": [
              "<IPython.core.display.HTML object>"
            ]
          },
          "metadata": {},
          "output_type": "display_data"
        },
        {
          "name": "stderr",
          "output_type": "stream",
          "text": [
            "***** Running Evaluation *****\n",
            "  Num examples = 1000\n",
            "  Batch size = 8\n",
            "Saving model checkpoint to trainer_hate_prep32_4/checkpoint-500\n",
            "Configuration saved in trainer_hate_prep32_4/checkpoint-500/config.json\n",
            "Model weights saved in trainer_hate_prep32_4/checkpoint-500/pytorch_model.bin\n",
            "***** Running Evaluation *****\n",
            "  Num examples = 1000\n",
            "  Batch size = 8\n",
            "***** Running Evaluation *****\n",
            "  Num examples = 1000\n",
            "  Batch size = 8\n",
            "Saving model checkpoint to trainer_hate_prep32_4/checkpoint-1000\n",
            "Configuration saved in trainer_hate_prep32_4/checkpoint-1000/config.json\n",
            "Model weights saved in trainer_hate_prep32_4/checkpoint-1000/pytorch_model.bin\n",
            "***** Running Evaluation *****\n",
            "  Num examples = 1000\n",
            "  Batch size = 8\n",
            "\n",
            "\n",
            "Training completed. Do not forget to share your model on huggingface.co/models =)\n",
            "\n",
            "\n",
            "***** Running Prediction *****\n",
            "  Num examples = 1000\n",
            "  Batch size = 8\n"
          ]
        },
        {
          "data": {
            "text/html": [
              "\n",
              "    <div>\n",
              "      \n",
              "      <progress value='125' max='125' style='width:300px; height:20px; vertical-align: middle;'></progress>\n",
              "      [125/125 00:04]\n",
              "    </div>\n",
              "    "
            ],
            "text/plain": [
              "<IPython.core.display.HTML object>"
            ]
          },
          "metadata": {},
          "output_type": "display_data"
        },
        {
          "name": "stdout",
          "output_type": "stream",
          "text": [
            "\u001b[35m \n",
            "Validation accuracy (batch size 32 and epochs 4): 0.759\n",
            " \u001b[30m\n"
          ]
        }
      ],
      "source": [
        "best_model_hate_prep = None\n",
        "best_accuracy_hate_prep = 0\n",
        "best_epoch_haten_prep = 0\n",
        "best_batch_size_hate_prep = 0\n",
        "\n",
        "models_hate_prep = []\n",
        "\n",
        "for epoch in epochs:\n",
        "  for batch_size in batch_sizes:\n",
        "\n",
        "    args = TrainingArguments(output_dir='trainer_hate_prep'+str(batch_size)+'_'+str(epoch),\n",
        "                              evaluation_strategy=\"epoch\",\n",
        "                              num_train_epochs=epoch,\n",
        "                              per_device_train_batch_size=batch_size)\n",
        "    \n",
        "    trainer = Trainer(\n",
        "        model=bertweet_hate,\n",
        "        args=args,\n",
        "        train_dataset=train_tokenized_hate_prep,\n",
        "        eval_dataset=val_tokenized_hate_prep,\n",
        "        compute_metrics=compute_accuracy,\n",
        "    )\n",
        "\n",
        "    trainer.train()\n",
        "  \n",
        "    predictions = trainer.predict(val_tokenized_hate_prep)\n",
        "    preds = np.argmax(predictions.predictions, axis=-1)\n",
        "    val_accuracy = accuracy.compute(predictions=preds, references=predictions.label_ids)['accuracy']\n",
        "\n",
        "    print(f'{Fore.MAGENTA} \\nValidation accuracy (batch size {batch_size} and epochs {epoch}): {val_accuracy}\\n {Fore.BLACK}')\n",
        "    \n",
        "    models_hate_prep.append(dict(val_accuracy=val_accuracy,\n",
        "                       batch_size=batch_size,\n",
        "                       epochs=epoch\n",
        "                       ))\n",
        "\n",
        "    if val_accuracy > best_accuracy_hate_prep:\n",
        "      best_accuracy_hate_prep = val_accuracy\n",
        "      best_model_hate_prep = trainer\n",
        "      best_epoch_hate_prep = epoch\n",
        "      best_batch_size_hate_prep = batch_size\n"
      ]
    },
    {
      "cell_type": "code",
      "execution_count": null,
      "metadata": {
        "colab": {
          "base_uri": "https://localhost:8080/"
        },
        "id": "qNT-MjS40NXF",
        "outputId": "d7178095-58e0-40b9-ce90-c07f095cba1a"
      },
      "outputs": [
        {
          "name": "stdout",
          "output_type": "stream",
          "text": [
            "** Best model for Hate Speech Detection with preprocessed tweets **\n",
            "batch size: 16, epochs: 2, validation accuracy: 0.781\n"
          ]
        }
      ],
      "source": [
        "print('** Best model for Hate Speech Detection with preprocessed tweets **')\n",
        "print(f'batch size: {best_batch_size_hate_prep}, epochs: {best_epoch_hate_prep}, validation accuracy: {best_accuracy_hate_prep}')\n"
      ]
    },
    {
      "cell_type": "markdown",
      "metadata": {
        "id": "oz6hKkw8gBf2"
      },
      "source": [
        "### 4.5 - Models evaluation\n",
        "\n",
        "In order to evaluate the models' performances, we will compute the following metrics on the test sets:\n",
        "- Accuracy\n",
        "- Macro-averaged precision\n",
        "- Macro-averaged recall\n",
        "- Macro-averaged $F_{1}$  score\n",
        "\n",
        "The results are shown in the table below, together with the $F_{1}$  scores obtained by **RoB-RT**, one of the models reported as a benchmark by TweetEval. We will compare the models' performances with RoB-RT because this is the benchmark model that obtained overall the highest results. \n",
        "\n",
        "Dataset                 | Accuracy | Precision | Recall | $F_{1}$  score | TweetEval benchmark ($F_{1}$  score)\n",
        "----------------------  |-------| ------|-------|------| ---\n",
        "hate (original)         | 57.0 | 70.6 | 62.3 | 54.2 | 52.3±0.2\n",
        "hate (preprocessed)     | 56.0 | 67.7 | 61.1 | 53.5\n",
        "\n",
        "Conversely to what we could have expected, the model finetuned on the original tweets and the model finetuned on the preprocessed tweets obtained more or less the same results in terms of performances. This might be due to the fact that, the way emoji and hashtags get encoded does not depend much on how they are represented in the input tweets, but rather on the context in which they appear.\n",
        "\n",
        "To conclude, we can see that, overall, the $F_{1}$  scores obtained by finetuning BERTweet are in the same range of the $F_{1}$ scores reported in the TweetEval benchmark."
      ]
    },
    {
      "cell_type": "code",
      "execution_count": null,
      "metadata": {
        "id": "Tqt-rJXKgpzm"
      },
      "outputs": [],
      "source": [
        "f1_score = load_metric('f1')\n",
        "precision = load_metric('precision')\n",
        "recall = load_metric('recall')"
      ]
    },
    {
      "cell_type": "markdown",
      "metadata": {
        "id": "aH7QRBWAiqP7"
      },
      "source": [
        "**Original data**"
      ]
    },
    {
      "cell_type": "code",
      "execution_count": null,
      "metadata": {
        "colab": {
          "base_uri": "https://localhost:8080/",
          "height": 91
        },
        "id": "GNkxAAMAiUTx",
        "outputId": "fe7474d5-2eb9-4ccf-df03-beaddce68e7c"
      },
      "outputs": [
        {
          "name": "stderr",
          "output_type": "stream",
          "text": [
            "***** Running Prediction *****\n",
            "  Num examples = 2970\n",
            "  Batch size = 8\n"
          ]
        },
        {
          "data": {
            "text/html": [
              "\n",
              "    <div>\n",
              "      \n",
              "      <progress value='497' max='125' style='width:300px; height:20px; vertical-align: middle;'></progress>\n",
              "      [125/125 25:26]\n",
              "    </div>\n",
              "    "
            ],
            "text/plain": [
              "<IPython.core.display.HTML object>"
            ]
          },
          "metadata": {},
          "output_type": "display_data"
        }
      ],
      "source": [
        "predictions_hate = best_model_hate.predict(test_tokenized_hate)\n",
        "preds_hate = np.argmax(predictions_hate.predictions, axis=-1)"
      ]
    },
    {
      "cell_type": "code",
      "execution_count": null,
      "metadata": {
        "id": "HzROxXrpiUTy"
      },
      "outputs": [],
      "source": [
        "accuracy_hate = accuracy.compute(predictions=preds_hate, references=predictions_hate.label_ids)\n",
        "precision_hate = precision.compute(predictions=preds_hate, references=predictions_hate.label_ids, average='macro')\n",
        "recall_hate = recall.compute(predictions=preds_hate, references=predictions_hate.label_ids, average='macro')\n",
        "f1_score_hate = f1_score.compute(predictions=preds_hate, references=predictions_hate.label_ids, average='macro')"
      ]
    },
    {
      "cell_type": "code",
      "execution_count": null,
      "metadata": {
        "colab": {
          "base_uri": "https://localhost:8080/"
        },
        "id": "85p_GXekrzZW",
        "outputId": "cf44d2bf-4eda-4c20-949a-a5b6bf0c8a0c"
      },
      "outputs": [
        {
          "name": "stdout",
          "output_type": "stream",
          "text": [
            "** Hate Speech Detection **\n",
            "Test accuracy: 0.5696969696969697\n",
            "Precision (macro average): 0.7056715806715806\n",
            "Recall (macro average): 0.6232895818378603\n",
            "F1 score (macro average): 0.5425109959063361\n"
          ]
        }
      ],
      "source": [
        "print('** Hate Speech Detection **')\n",
        "print('Test accuracy:', accuracy_hate['accuracy'])\n",
        "print('Precision (macro average):', precision_hate['precision'])\n",
        "print('Recall (macro average):', recall_hate['recall'])\n",
        "print('F1 score (macro average):', f1_score_hate['f1'])"
      ]
    },
    {
      "cell_type": "markdown",
      "metadata": {
        "id": "SS4lSGuvirhT"
      },
      "source": [
        "**Preprocessed data**"
      ]
    },
    {
      "cell_type": "code",
      "execution_count": null,
      "metadata": {
        "colab": {
          "base_uri": "https://localhost:8080/",
          "height": 91
        },
        "id": "OTjWwQ6AirhU",
        "outputId": "f5f00e80-e82f-45bf-cbdd-15600a9bb173"
      },
      "outputs": [
        {
          "name": "stderr",
          "output_type": "stream",
          "text": [
            "***** Running Prediction *****\n",
            "  Num examples = 2970\n",
            "  Batch size = 8\n"
          ]
        },
        {
          "data": {
            "text/html": [
              "\n",
              "    <div>\n",
              "      \n",
              "      <progress value='497' max='125' style='width:300px; height:20px; vertical-align: middle;'></progress>\n",
              "      [125/125 35:32]\n",
              "    </div>\n",
              "    "
            ],
            "text/plain": [
              "<IPython.core.display.HTML object>"
            ]
          },
          "metadata": {},
          "output_type": "display_data"
        }
      ],
      "source": [
        "predictions_hate_prep = best_model_hate_prep.predict(test_tokenized_hate_prep)\n",
        "preds_hate_prep = np.argmax(predictions_hate_prep.predictions, axis=-1)"
      ]
    },
    {
      "cell_type": "code",
      "execution_count": null,
      "metadata": {
        "id": "CxgllQwbirhU"
      },
      "outputs": [],
      "source": [
        "accuracy_hate_prep = accuracy.compute(predictions=preds_hate_prep, references=predictions_hate_prep.label_ids)\n",
        "precision_hate_prep = precision.compute(predictions=preds_hate_prep, references=predictions_hate_prep.label_ids, average='macro')\n",
        "recall_hate_prep = recall.compute(predictions=preds_hate_prep, references=predictions_hate_prep.label_ids, average='macro')\n",
        "f1_score_hate_prep = f1_score.compute(predictions=preds_hate_prep, references=predictions_hate_prep.label_ids, average='macro')"
      ]
    },
    {
      "cell_type": "code",
      "execution_count": null,
      "metadata": {
        "colab": {
          "base_uri": "https://localhost:8080/"
        },
        "id": "LR0YDroKLWEF",
        "outputId": "c7fcb513-fa33-46a2-8625-2e1c9172834b"
      },
      "outputs": [
        {
          "name": "stdout",
          "output_type": "stream",
          "text": [
            "** Hate Speech Detection with preprocessed tweets **\n",
            "Test accuracy: 0.55993265993266\n",
            "Precision (macro average): 0.6774473176568261\n",
            "Recall (macro average): 0.6114914623215195\n",
            "F1 score (macro average): 0.5347482848458168\n"
          ]
        }
      ],
      "source": [
        "print('** Hate Speech Detection with preprocessed tweets **')\n",
        "print('Test accuracy:', accuracy_hate_prep['accuracy'])\n",
        "print('Precision (macro average):', precision_hate_prep['precision'])\n",
        "print('Recall (macro average):', recall_hate_prep['recall'])\n",
        "print('F1 score (macro average):', f1_score_hate_prep['f1'])"
      ]
    },
    {
      "cell_type": "markdown",
      "metadata": {
        "id": "pDR-_CezCyvM"
      },
      "source": [
        "### 5 - Conclusions\n",
        "\n",
        "In this notebook we finetuned BERTweet on the Hate Speech Detection task.\n",
        "\n",
        "We have seen that there are no big differences in finetuning BERTweet with or without applying a further tweet preprocessing step to replace emojies and hashtags with text. This can be explained by the fact that BERT is a contextual encoder that considers both right and left contexts when generating the input embedding. Therefore, the way emojis and hashtags are encoded in the input tweets doesn't seem to have an impact on the tweet embedding and, consequently, on the task performances.\n",
        "\n",
        "Furthermore, it is interesting to notice that finetuning BERTweet with just 2 or 3 training epochs allows us to reach the same performaces reported in the TweetEval benchmark.\n",
        "\n",
        "To conclude, it's important to highlight that we can use the same procedure presented in this notebook to finetune BERTweet on different datasets, in order to perform other NLP tasks, such as Sentiment Analysis and Emotion Recognition."
      ]
    }
  ],
  "metadata": {
    "colab": {
      "provenance": [],
      "toc_visible": true
    },
    "kernelspec": {
      "display_name": "Python 3",
      "name": "python3"
    },
    "language_info": {
      "name": "python"
    },
    "widgets": {
      "application/vnd.jupyter.widget-state+json": {
        "19ab0d30c08b4210b8fbef08584eb38f": {
          "model_module": "@jupyter-widgets/controls",
          "model_module_version": "1.5.0",
          "model_name": "FloatProgressModel",
          "state": {
            "_dom_classes": [],
            "_model_module": "@jupyter-widgets/controls",
            "_model_module_version": "1.5.0",
            "_model_name": "FloatProgressModel",
            "_view_count": null,
            "_view_module": "@jupyter-widgets/controls",
            "_view_module_version": "1.5.0",
            "_view_name": "ProgressView",
            "bar_style": "success",
            "description": "",
            "description_tooltip": null,
            "layout": "IPY_MODEL_82f6852fbc414e6bb4f68d671367a354",
            "max": 542529064,
            "min": 0,
            "orientation": "horizontal",
            "style": "IPY_MODEL_1e1cc05b179348b89662e896f01fd221",
            "value": 542529064
          }
        },
        "1e1cc05b179348b89662e896f01fd221": {
          "model_module": "@jupyter-widgets/controls",
          "model_module_version": "1.5.0",
          "model_name": "ProgressStyleModel",
          "state": {
            "_model_module": "@jupyter-widgets/controls",
            "_model_module_version": "1.5.0",
            "_model_name": "ProgressStyleModel",
            "_view_count": null,
            "_view_module": "@jupyter-widgets/base",
            "_view_module_version": "1.2.0",
            "_view_name": "StyleView",
            "bar_color": null,
            "description_width": ""
          }
        },
        "2b5aa557752245ba91b3da67d673a517": {
          "model_module": "@jupyter-widgets/base",
          "model_module_version": "1.2.0",
          "model_name": "LayoutModel",
          "state": {
            "_model_module": "@jupyter-widgets/base",
            "_model_module_version": "1.2.0",
            "_model_name": "LayoutModel",
            "_view_count": null,
            "_view_module": "@jupyter-widgets/base",
            "_view_module_version": "1.2.0",
            "_view_name": "LayoutView",
            "align_content": null,
            "align_items": null,
            "align_self": null,
            "border": null,
            "bottom": null,
            "display": null,
            "flex": null,
            "flex_flow": null,
            "grid_area": null,
            "grid_auto_columns": null,
            "grid_auto_flow": null,
            "grid_auto_rows": null,
            "grid_column": null,
            "grid_gap": null,
            "grid_row": null,
            "grid_template_areas": null,
            "grid_template_columns": null,
            "grid_template_rows": null,
            "height": null,
            "justify_content": null,
            "justify_items": null,
            "left": null,
            "margin": null,
            "max_height": null,
            "max_width": null,
            "min_height": null,
            "min_width": null,
            "object_fit": null,
            "object_position": null,
            "order": null,
            "overflow": null,
            "overflow_x": null,
            "overflow_y": null,
            "padding": null,
            "right": null,
            "top": null,
            "visibility": null,
            "width": null
          }
        },
        "36c718b3225b49b6a6887e924fc5dc91": {
          "model_module": "@jupyter-widgets/controls",
          "model_module_version": "1.5.0",
          "model_name": "HTMLModel",
          "state": {
            "_dom_classes": [],
            "_model_module": "@jupyter-widgets/controls",
            "_model_module_version": "1.5.0",
            "_model_name": "HTMLModel",
            "_view_count": null,
            "_view_module": "@jupyter-widgets/controls",
            "_view_module_version": "1.5.0",
            "_view_name": "HTMLView",
            "description": "",
            "description_tooltip": null,
            "layout": "IPY_MODEL_99d22ef683ed4f31bff77da9ae8a7ec9",
            "placeholder": "​",
            "style": "IPY_MODEL_ee6cbf6f41484994a65059d718781ec8",
            "value": "Downloading: 100%"
          }
        },
        "7a69f0f8cf294d6c9f04be68775dda91": {
          "model_module": "@jupyter-widgets/controls",
          "model_module_version": "1.5.0",
          "model_name": "HBoxModel",
          "state": {
            "_dom_classes": [],
            "_model_module": "@jupyter-widgets/controls",
            "_model_module_version": "1.5.0",
            "_model_name": "HBoxModel",
            "_view_count": null,
            "_view_module": "@jupyter-widgets/controls",
            "_view_module_version": "1.5.0",
            "_view_name": "HBoxView",
            "box_style": "",
            "children": [
              "IPY_MODEL_36c718b3225b49b6a6887e924fc5dc91",
              "IPY_MODEL_19ab0d30c08b4210b8fbef08584eb38f",
              "IPY_MODEL_c93dee28aec54539be5d37532f7e5d8a"
            ],
            "layout": "IPY_MODEL_e5b7267744e644d0a09745874d8e7c59"
          }
        },
        "7c98307563fe4e10b3d8568528de3b62": {
          "model_module": "@jupyter-widgets/controls",
          "model_module_version": "1.5.0",
          "model_name": "DescriptionStyleModel",
          "state": {
            "_model_module": "@jupyter-widgets/controls",
            "_model_module_version": "1.5.0",
            "_model_name": "DescriptionStyleModel",
            "_view_count": null,
            "_view_module": "@jupyter-widgets/base",
            "_view_module_version": "1.2.0",
            "_view_name": "StyleView",
            "description_width": ""
          }
        },
        "82f6852fbc414e6bb4f68d671367a354": {
          "model_module": "@jupyter-widgets/base",
          "model_module_version": "1.2.0",
          "model_name": "LayoutModel",
          "state": {
            "_model_module": "@jupyter-widgets/base",
            "_model_module_version": "1.2.0",
            "_model_name": "LayoutModel",
            "_view_count": null,
            "_view_module": "@jupyter-widgets/base",
            "_view_module_version": "1.2.0",
            "_view_name": "LayoutView",
            "align_content": null,
            "align_items": null,
            "align_self": null,
            "border": null,
            "bottom": null,
            "display": null,
            "flex": null,
            "flex_flow": null,
            "grid_area": null,
            "grid_auto_columns": null,
            "grid_auto_flow": null,
            "grid_auto_rows": null,
            "grid_column": null,
            "grid_gap": null,
            "grid_row": null,
            "grid_template_areas": null,
            "grid_template_columns": null,
            "grid_template_rows": null,
            "height": null,
            "justify_content": null,
            "justify_items": null,
            "left": null,
            "margin": null,
            "max_height": null,
            "max_width": null,
            "min_height": null,
            "min_width": null,
            "object_fit": null,
            "object_position": null,
            "order": null,
            "overflow": null,
            "overflow_x": null,
            "overflow_y": null,
            "padding": null,
            "right": null,
            "top": null,
            "visibility": null,
            "width": null
          }
        },
        "99d22ef683ed4f31bff77da9ae8a7ec9": {
          "model_module": "@jupyter-widgets/base",
          "model_module_version": "1.2.0",
          "model_name": "LayoutModel",
          "state": {
            "_model_module": "@jupyter-widgets/base",
            "_model_module_version": "1.2.0",
            "_model_name": "LayoutModel",
            "_view_count": null,
            "_view_module": "@jupyter-widgets/base",
            "_view_module_version": "1.2.0",
            "_view_name": "LayoutView",
            "align_content": null,
            "align_items": null,
            "align_self": null,
            "border": null,
            "bottom": null,
            "display": null,
            "flex": null,
            "flex_flow": null,
            "grid_area": null,
            "grid_auto_columns": null,
            "grid_auto_flow": null,
            "grid_auto_rows": null,
            "grid_column": null,
            "grid_gap": null,
            "grid_row": null,
            "grid_template_areas": null,
            "grid_template_columns": null,
            "grid_template_rows": null,
            "height": null,
            "justify_content": null,
            "justify_items": null,
            "left": null,
            "margin": null,
            "max_height": null,
            "max_width": null,
            "min_height": null,
            "min_width": null,
            "object_fit": null,
            "object_position": null,
            "order": null,
            "overflow": null,
            "overflow_x": null,
            "overflow_y": null,
            "padding": null,
            "right": null,
            "top": null,
            "visibility": null,
            "width": null
          }
        },
        "c93dee28aec54539be5d37532f7e5d8a": {
          "model_module": "@jupyter-widgets/controls",
          "model_module_version": "1.5.0",
          "model_name": "HTMLModel",
          "state": {
            "_dom_classes": [],
            "_model_module": "@jupyter-widgets/controls",
            "_model_module_version": "1.5.0",
            "_model_name": "HTMLModel",
            "_view_count": null,
            "_view_module": "@jupyter-widgets/controls",
            "_view_module_version": "1.5.0",
            "_view_name": "HTMLView",
            "description": "",
            "description_tooltip": null,
            "layout": "IPY_MODEL_2b5aa557752245ba91b3da67d673a517",
            "placeholder": "​",
            "style": "IPY_MODEL_7c98307563fe4e10b3d8568528de3b62",
            "value": " 517M/517M [00:15&lt;00:00, 39.2MB/s]"
          }
        },
        "e5b7267744e644d0a09745874d8e7c59": {
          "model_module": "@jupyter-widgets/base",
          "model_module_version": "1.2.0",
          "model_name": "LayoutModel",
          "state": {
            "_model_module": "@jupyter-widgets/base",
            "_model_module_version": "1.2.0",
            "_model_name": "LayoutModel",
            "_view_count": null,
            "_view_module": "@jupyter-widgets/base",
            "_view_module_version": "1.2.0",
            "_view_name": "LayoutView",
            "align_content": null,
            "align_items": null,
            "align_self": null,
            "border": null,
            "bottom": null,
            "display": null,
            "flex": null,
            "flex_flow": null,
            "grid_area": null,
            "grid_auto_columns": null,
            "grid_auto_flow": null,
            "grid_auto_rows": null,
            "grid_column": null,
            "grid_gap": null,
            "grid_row": null,
            "grid_template_areas": null,
            "grid_template_columns": null,
            "grid_template_rows": null,
            "height": null,
            "justify_content": null,
            "justify_items": null,
            "left": null,
            "margin": null,
            "max_height": null,
            "max_width": null,
            "min_height": null,
            "min_width": null,
            "object_fit": null,
            "object_position": null,
            "order": null,
            "overflow": null,
            "overflow_x": null,
            "overflow_y": null,
            "padding": null,
            "right": null,
            "top": null,
            "visibility": null,
            "width": null
          }
        },
        "ee6cbf6f41484994a65059d718781ec8": {
          "model_module": "@jupyter-widgets/controls",
          "model_module_version": "1.5.0",
          "model_name": "DescriptionStyleModel",
          "state": {
            "_model_module": "@jupyter-widgets/controls",
            "_model_module_version": "1.5.0",
            "_model_name": "DescriptionStyleModel",
            "_view_count": null,
            "_view_module": "@jupyter-widgets/base",
            "_view_module_version": "1.2.0",
            "_view_name": "StyleView",
            "description_width": ""
          }
        }
      }
    }
  },
  "nbformat": 4,
  "nbformat_minor": 0
}

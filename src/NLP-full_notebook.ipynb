{
  "nbformat": 4,
  "nbformat_minor": 0,
  "metadata": {
    "colab": {
      "provenance": [],
      "toc_visible": true
    },
    "kernelspec": {
      "name": "python3",
      "display_name": "Python 3"
    },
    "language_info": {
      "name": "python"
    },
    "widgets": {
      "application/vnd.jupyter.widget-state+json": {
        "7a69f0f8cf294d6c9f04be68775dda91": {
          "model_module": "@jupyter-widgets/controls",
          "model_name": "HBoxModel",
          "model_module_version": "1.5.0",
          "state": {
            "_dom_classes": [],
            "_model_module": "@jupyter-widgets/controls",
            "_model_module_version": "1.5.0",
            "_model_name": "HBoxModel",
            "_view_count": null,
            "_view_module": "@jupyter-widgets/controls",
            "_view_module_version": "1.5.0",
            "_view_name": "HBoxView",
            "box_style": "",
            "children": [
              "IPY_MODEL_36c718b3225b49b6a6887e924fc5dc91",
              "IPY_MODEL_19ab0d30c08b4210b8fbef08584eb38f",
              "IPY_MODEL_c93dee28aec54539be5d37532f7e5d8a"
            ],
            "layout": "IPY_MODEL_e5b7267744e644d0a09745874d8e7c59"
          }
        },
        "36c718b3225b49b6a6887e924fc5dc91": {
          "model_module": "@jupyter-widgets/controls",
          "model_name": "HTMLModel",
          "model_module_version": "1.5.0",
          "state": {
            "_dom_classes": [],
            "_model_module": "@jupyter-widgets/controls",
            "_model_module_version": "1.5.0",
            "_model_name": "HTMLModel",
            "_view_count": null,
            "_view_module": "@jupyter-widgets/controls",
            "_view_module_version": "1.5.0",
            "_view_name": "HTMLView",
            "description": "",
            "description_tooltip": null,
            "layout": "IPY_MODEL_99d22ef683ed4f31bff77da9ae8a7ec9",
            "placeholder": "​",
            "style": "IPY_MODEL_ee6cbf6f41484994a65059d718781ec8",
            "value": "Downloading: 100%"
          }
        },
        "19ab0d30c08b4210b8fbef08584eb38f": {
          "model_module": "@jupyter-widgets/controls",
          "model_name": "FloatProgressModel",
          "model_module_version": "1.5.0",
          "state": {
            "_dom_classes": [],
            "_model_module": "@jupyter-widgets/controls",
            "_model_module_version": "1.5.0",
            "_model_name": "FloatProgressModel",
            "_view_count": null,
            "_view_module": "@jupyter-widgets/controls",
            "_view_module_version": "1.5.0",
            "_view_name": "ProgressView",
            "bar_style": "success",
            "description": "",
            "description_tooltip": null,
            "layout": "IPY_MODEL_82f6852fbc414e6bb4f68d671367a354",
            "max": 542529064,
            "min": 0,
            "orientation": "horizontal",
            "style": "IPY_MODEL_1e1cc05b179348b89662e896f01fd221",
            "value": 542529064
          }
        },
        "c93dee28aec54539be5d37532f7e5d8a": {
          "model_module": "@jupyter-widgets/controls",
          "model_name": "HTMLModel",
          "model_module_version": "1.5.0",
          "state": {
            "_dom_classes": [],
            "_model_module": "@jupyter-widgets/controls",
            "_model_module_version": "1.5.0",
            "_model_name": "HTMLModel",
            "_view_count": null,
            "_view_module": "@jupyter-widgets/controls",
            "_view_module_version": "1.5.0",
            "_view_name": "HTMLView",
            "description": "",
            "description_tooltip": null,
            "layout": "IPY_MODEL_2b5aa557752245ba91b3da67d673a517",
            "placeholder": "​",
            "style": "IPY_MODEL_7c98307563fe4e10b3d8568528de3b62",
            "value": " 517M/517M [00:15&lt;00:00, 39.2MB/s]"
          }
        },
        "e5b7267744e644d0a09745874d8e7c59": {
          "model_module": "@jupyter-widgets/base",
          "model_name": "LayoutModel",
          "model_module_version": "1.2.0",
          "state": {
            "_model_module": "@jupyter-widgets/base",
            "_model_module_version": "1.2.0",
            "_model_name": "LayoutModel",
            "_view_count": null,
            "_view_module": "@jupyter-widgets/base",
            "_view_module_version": "1.2.0",
            "_view_name": "LayoutView",
            "align_content": null,
            "align_items": null,
            "align_self": null,
            "border": null,
            "bottom": null,
            "display": null,
            "flex": null,
            "flex_flow": null,
            "grid_area": null,
            "grid_auto_columns": null,
            "grid_auto_flow": null,
            "grid_auto_rows": null,
            "grid_column": null,
            "grid_gap": null,
            "grid_row": null,
            "grid_template_areas": null,
            "grid_template_columns": null,
            "grid_template_rows": null,
            "height": null,
            "justify_content": null,
            "justify_items": null,
            "left": null,
            "margin": null,
            "max_height": null,
            "max_width": null,
            "min_height": null,
            "min_width": null,
            "object_fit": null,
            "object_position": null,
            "order": null,
            "overflow": null,
            "overflow_x": null,
            "overflow_y": null,
            "padding": null,
            "right": null,
            "top": null,
            "visibility": null,
            "width": null
          }
        },
        "99d22ef683ed4f31bff77da9ae8a7ec9": {
          "model_module": "@jupyter-widgets/base",
          "model_name": "LayoutModel",
          "model_module_version": "1.2.0",
          "state": {
            "_model_module": "@jupyter-widgets/base",
            "_model_module_version": "1.2.0",
            "_model_name": "LayoutModel",
            "_view_count": null,
            "_view_module": "@jupyter-widgets/base",
            "_view_module_version": "1.2.0",
            "_view_name": "LayoutView",
            "align_content": null,
            "align_items": null,
            "align_self": null,
            "border": null,
            "bottom": null,
            "display": null,
            "flex": null,
            "flex_flow": null,
            "grid_area": null,
            "grid_auto_columns": null,
            "grid_auto_flow": null,
            "grid_auto_rows": null,
            "grid_column": null,
            "grid_gap": null,
            "grid_row": null,
            "grid_template_areas": null,
            "grid_template_columns": null,
            "grid_template_rows": null,
            "height": null,
            "justify_content": null,
            "justify_items": null,
            "left": null,
            "margin": null,
            "max_height": null,
            "max_width": null,
            "min_height": null,
            "min_width": null,
            "object_fit": null,
            "object_position": null,
            "order": null,
            "overflow": null,
            "overflow_x": null,
            "overflow_y": null,
            "padding": null,
            "right": null,
            "top": null,
            "visibility": null,
            "width": null
          }
        },
        "ee6cbf6f41484994a65059d718781ec8": {
          "model_module": "@jupyter-widgets/controls",
          "model_name": "DescriptionStyleModel",
          "model_module_version": "1.5.0",
          "state": {
            "_model_module": "@jupyter-widgets/controls",
            "_model_module_version": "1.5.0",
            "_model_name": "DescriptionStyleModel",
            "_view_count": null,
            "_view_module": "@jupyter-widgets/base",
            "_view_module_version": "1.2.0",
            "_view_name": "StyleView",
            "description_width": ""
          }
        },
        "82f6852fbc414e6bb4f68d671367a354": {
          "model_module": "@jupyter-widgets/base",
          "model_name": "LayoutModel",
          "model_module_version": "1.2.0",
          "state": {
            "_model_module": "@jupyter-widgets/base",
            "_model_module_version": "1.2.0",
            "_model_name": "LayoutModel",
            "_view_count": null,
            "_view_module": "@jupyter-widgets/base",
            "_view_module_version": "1.2.0",
            "_view_name": "LayoutView",
            "align_content": null,
            "align_items": null,
            "align_self": null,
            "border": null,
            "bottom": null,
            "display": null,
            "flex": null,
            "flex_flow": null,
            "grid_area": null,
            "grid_auto_columns": null,
            "grid_auto_flow": null,
            "grid_auto_rows": null,
            "grid_column": null,
            "grid_gap": null,
            "grid_row": null,
            "grid_template_areas": null,
            "grid_template_columns": null,
            "grid_template_rows": null,
            "height": null,
            "justify_content": null,
            "justify_items": null,
            "left": null,
            "margin": null,
            "max_height": null,
            "max_width": null,
            "min_height": null,
            "min_width": null,
            "object_fit": null,
            "object_position": null,
            "order": null,
            "overflow": null,
            "overflow_x": null,
            "overflow_y": null,
            "padding": null,
            "right": null,
            "top": null,
            "visibility": null,
            "width": null
          }
        },
        "1e1cc05b179348b89662e896f01fd221": {
          "model_module": "@jupyter-widgets/controls",
          "model_name": "ProgressStyleModel",
          "model_module_version": "1.5.0",
          "state": {
            "_model_module": "@jupyter-widgets/controls",
            "_model_module_version": "1.5.0",
            "_model_name": "ProgressStyleModel",
            "_view_count": null,
            "_view_module": "@jupyter-widgets/base",
            "_view_module_version": "1.2.0",
            "_view_name": "StyleView",
            "bar_color": null,
            "description_width": ""
          }
        },
        "2b5aa557752245ba91b3da67d673a517": {
          "model_module": "@jupyter-widgets/base",
          "model_name": "LayoutModel",
          "model_module_version": "1.2.0",
          "state": {
            "_model_module": "@jupyter-widgets/base",
            "_model_module_version": "1.2.0",
            "_model_name": "LayoutModel",
            "_view_count": null,
            "_view_module": "@jupyter-widgets/base",
            "_view_module_version": "1.2.0",
            "_view_name": "LayoutView",
            "align_content": null,
            "align_items": null,
            "align_self": null,
            "border": null,
            "bottom": null,
            "display": null,
            "flex": null,
            "flex_flow": null,
            "grid_area": null,
            "grid_auto_columns": null,
            "grid_auto_flow": null,
            "grid_auto_rows": null,
            "grid_column": null,
            "grid_gap": null,
            "grid_row": null,
            "grid_template_areas": null,
            "grid_template_columns": null,
            "grid_template_rows": null,
            "height": null,
            "justify_content": null,
            "justify_items": null,
            "left": null,
            "margin": null,
            "max_height": null,
            "max_width": null,
            "min_height": null,
            "min_width": null,
            "object_fit": null,
            "object_position": null,
            "order": null,
            "overflow": null,
            "overflow_x": null,
            "overflow_y": null,
            "padding": null,
            "right": null,
            "top": null,
            "visibility": null,
            "width": null
          }
        },
        "7c98307563fe4e10b3d8568528de3b62": {
          "model_module": "@jupyter-widgets/controls",
          "model_name": "DescriptionStyleModel",
          "model_module_version": "1.5.0",
          "state": {
            "_model_module": "@jupyter-widgets/controls",
            "_model_module_version": "1.5.0",
            "_model_name": "DescriptionStyleModel",
            "_view_count": null,
            "_view_module": "@jupyter-widgets/base",
            "_view_module_version": "1.2.0",
            "_view_name": "StyleView",
            "description_width": ""
          }
        }
      }
    }
  },
  "cells": [
    {
      "cell_type": "markdown",
      "source": [
        "# Sentiment Analysis, Emotion Recognition and Hate Speech Detection on English tweets\n",
        "\n",
        "Author: Bigarella Chiara"
      ],
      "metadata": {
        "id": "DNSRlDdb4clU"
      }
    },
    {
      "cell_type": "markdown",
      "source": [
        "## 1 - Introduction\n",
        "\n",
        "Natural Language Processing tasks have been widely studied in the context of big corpora, but, when applied to social media content, they have been proven to be harder. This is mainly due to the following reasons:\n",
        "\n",
        "- Social media have a high-paced, conversational and idiosyncratic nature;\n",
        "- There might be restriction in the number of characters allowed (this is the case on Twitter);\n",
        "- Short texts cointains a limited amount of contextual cues;\n",
        "- The lack of a unified evaluation framework makes it hard to compare different models.\n",
        "\n",
        "In this project I am going to use BERTweet, a large-scale language model pretrained on English tweets, and I will evaluate its performances on three different NLP tasks:\n",
        "\n",
        "- Emotion Recognition, which consists in recognizing the emotion evoked in a text (a tweet in this case);\n",
        "- Hate Speech Detection, which consists in understanding whether a tweet is hateful or not towards certain target communities;\n",
        "- Sentiment Analysis, i.e. the task of recognizing if the content of a text is positive, negative or neutral.\n",
        "\n",
        "Below, you can see an example for each of the aforementioned tasks:\n",
        "\n",
        "``` python\n",
        "# Emotion Recognition\n",
        "tweet = \"Now that @user has snapchat back it's a constant battle to see who can get the ugliest snap of one another 😂🙃 #snap survival\"\n",
        "tokenized_tweet = tokenizer(tweet)\n",
        "predictions = model_emotion.predict(tokenized_tweet)\n",
        "preds = np.argmax(predictions.predictions, axis=-1)\n",
        "preds\n",
        "\n",
        "> 1 # Joy\n",
        "```\n",
        "\n",
        "``` python\n",
        "# Hate Speech detection\n",
        "tweet = \"THIS WOMEN CAN DO ONLY ONE THINK, BACK INTO HER RAT🐀 HOLE NEVER TO COME OUT AGAIN🐀IF SHE SHOW UP ON SURFACE AM CALL…\"\n",
        "tokenized_tweet = tokenizer(tweet)\n",
        "predictions = model_hate.predict(tokenized_tweet)\n",
        "preds = np.argmax(predictions.predictions, axis=-1)\n",
        "preds\n",
        "\n",
        "> 1 # Hate\n",
        "```\n",
        "\n",
        "``` python\n",
        "# Sentiment Analysis\n",
        "tweet = \"The Book of Souls sounds like it's going to be everything we love about Iron Maiden. Can't wait for sept 4th!\"\n",
        "tokenized_tweet = tokenizer(tweet)\n",
        "predictions = model_sentiment.predict(tokenized_tweet)\n",
        "preds = np.argmax(predictions.predictions, axis=-1)\n",
        "preds\n",
        "\n",
        "> 2 # Positive\n",
        "```"
      ],
      "metadata": {
        "id": "lE8iY3LbCgKO"
      }
    },
    {
      "cell_type": "markdown",
      "source": [
        "## 2 - Model\n",
        "\n",
        "[BERTweet](https://huggingface.co/vinai/bertweet-base) is the first large-scale language model based on the $BERT_{base}$ architecture, that has been pretrained using a corpus of 850M English Tweets. The training of the model is based on the $RoBERTa$ pre-training procedure, which leads to more rubust performances compared to the $BERT$ pretraining approach ([Nguyen et al. ,2020](https://aclanthology.org/2020.emnlp-demos.2/)).\n",
        "\n",
        "BERT, which stands for **Bidirectional Encoder Representations from Transformers**, is a language representation model based on a multi-layer bidirectional Transformer encoder that jointly conditions on both left and right context in all layers. It has been pre-trained using a Masked Language Model (MLM) objective together with a Next Sentence Prediction task ([Devlin et al., 2019](https://arxiv.org/abs/1810.04805)).\n",
        "\n",
        "The pre-trained BERT model can be easily finetuned by adding a single output layer and using the labeled data from the downstream task to update all the training parameters.\n"
      ],
      "metadata": {
        "id": "_cSHNPAoCjOg"
      }
    },
    {
      "cell_type": "markdown",
      "source": [
        "## 3 - Methodology\n",
        "\n",
        "In order to perform the above mentioned NLP tasks,\n",
        "I finetuned the $BERTweet_{base}$ model on three different datasets belonging to the [TweetEval](https://huggingface.co/datasets/tweet_eval) framework:\n",
        "\n",
        "- For the **Emotion Recognition** task, I used the **TweetEval emotion** dataset, obtained from the SemEval2018, “Affects in Tweets” (Mohammad et al., 2018) dataset. This multi-label dataset has been transformed into a multi-class classification dataset by associating each tweet with a single emotion and by keeping only the four most common emotions, such as Anger, Joy, Sadness, Optimism.\n",
        "- For **Hate Speech Detection**, I used the **TweetEval hate** dataset, based on the SemEval2019 Hateval challenge. Here each tweet is associated with a label stating whether the tweet is hatefull or not against immigrants and women.\n",
        "- Finally, for the **Sentiment Analysis** task, I used the **TweetEval sentiment** dataset, based on the Semeval2017 dataset for Subtask A, where each tweet is a associated with a label specifying if the tweet's content is positive, negative or neutral.\n",
        "\n",
        "A detailed overview of each dataset can be found in the Exploratory Data Analysis part of the Experiments section.\n",
        "\n",
        "\n"
      ],
      "metadata": {
        "id": "Iwwh5LaKCllD"
      }
    },
    {
      "cell_type": "markdown",
      "source": [
        "For each task, I performed the finetuning using two kinds of data:\n",
        "- The original tweets, as they are provided in the datasets;\n",
        "- Tweets that have been preprocessed using the `preprocess_tweet` function of the [pysentimiento](https://github.com/pysentimiento/pysentimiento) library.\n",
        "\n",
        "The `preprocess_tweet` function performs the following actions on the original tweets:\n",
        "\n",
        "1. It replaces all the emojis with the corresponding text, delimited by the word `emoji`.\n",
        "2. It removes all the hashtag symbols (`#`).\n",
        "3. Hashtags where the first letter of each word is capitalized, are split into the corresponding words and the first letters get changed to lowercase.\n",
        "4. It replaces urls with the world `HTTPURL`.\n",
        "5. It anonymizes all the users' mentions by replacing the usernames with `@USER`.\n",
        "\n",
        "Here you can find an example of preprocessing of a tweet taken from the *emotion* dataset:\n",
        "``` python\n",
        "tweet = \"Now that @user has snapchat back it's a constant battle to see who can get the ugliest snap of one another 😂🙃 #SnapSurvival\"\n",
        "preprocessed_tweet = preprocess_tweet(tweet, lang=\"en\")\n",
        "preprocessed_tweet\n",
        "\n",
        "> \"Now that @USER has snapchat back it's a constant battle to see who can get the ugliest snap of one another  emoji face with tears of joy emoji  emoji upside-down face emoji  snap survival\"\n",
        "```\n"
      ],
      "metadata": {
        "id": "wJuKnNwTn_dZ"
      }
    },
    {
      "cell_type": "markdown",
      "source": [
        "During the finetuning process, I used a validation set to select the batch size and the number of epochs. To do so, I only considered the values suggested by the [Devlin et al., 2019](https://arxiv.org/abs/1810.04805) for finetuning BERT:\n",
        "- Batch size: `16, 32`\n",
        "- Number of epochs: `2, 3, 4`\n",
        "\n",
        "Due to the limited hardware resources I had, I decided to not select the learning rate optimal value, but rather I used the default value of the Hugging Face [TrainingArguments](https://huggingface.co/docs/transformers/main_classes/trainer#transformers.TrainingArguments) class, i.e. `5e-5`. However, this value is among the suggested learning rates for the finetuning of BERT (`5e-5, 3e-5, 2e-5`).\n",
        "\n",
        "Finally, I evaluated the resulting models by computing the following metrics on the corresponding test sets:\n",
        "- Accuracy\n",
        "- Macro-averaged precision: $P = \\frac{TP}{TP + FP}$\n",
        "- Macro-averaged recall: $R = \\frac{TP}{TP + FN}$\n",
        "- Macro-averaged $F_{1}$ score: $F_{1} = 2 \\frac{P * R}{P + R}$\n",
        "\n",
        "In particular, macro-averaged $F_{1}$  score is the metric suggested by the TweetEval framework to evaluate Emotion Recognition, Hate Speech Detection and Sentiment Analysis on tweets.\n",
        "\n",
        "However, note that the macro average is an unweighted mean and therefore it does not take label imbalance into account."
      ],
      "metadata": {
        "id": "AbIYaNZRoGQQ"
      }
    },
    {
      "cell_type": "markdown",
      "source": [
        "## 4 - Experiments\n",
        "\n",
        "This section contains the entire code developed to carry out the project, and its related output."
      ],
      "metadata": {
        "id": "q02jUe7iCqsZ"
      }
    },
    {
      "cell_type": "markdown",
      "source": [
        "### 4.1 Setup"
      ],
      "metadata": {
        "id": "z2Bi8MQm_Kvz"
      }
    },
    {
      "cell_type": "code",
      "execution_count": null,
      "metadata": {
        "id": "zfWfQVx68PBR"
      },
      "outputs": [],
      "source": [
        "! pip uninstall folium --yes\n",
        "! pip install datasets\n",
        "\n",
        "! pip install pysentimiento\n",
        "\n",
        "! pip install transformers\n",
        "# ! pip install emoji==0.6.0\n",
        "\n",
        "! pip install colorama"
      ]
    },
    {
      "cell_type": "code",
      "source": [
        "from collections import defaultdict\n",
        "import colorama\n",
        "from colorama import Fore\n",
        "from datasets import load_dataset, load_metric\n",
        "import matplotlib.pyplot as plt\n",
        "import numpy as np\n",
        "from pysentimiento.preprocessing import preprocess_tweet\n",
        "import seaborn as sns\n",
        "\n",
        "import torch\n",
        "from torch import nn, optim\n",
        "from torch.utils.data import Dataset, DataLoader\n",
        "from transformers import AutoTokenizer, AutoModelForSequenceClassification, \\\n",
        "    AdamW, get_linear_schedule_with_warmup, TrainingArguments, Trainer\n",
        "\n",
        "%matplotlib inline\n",
        "\n",
        "sns.set(style='whitegrid', palette='muted', font_scale=1.2)\n",
        "COLORS_PALETTE = [\"#d952a1\", \"#3C9BFA\",  \"#04C896\",  \"#FCB405\",  \"#7C5CFF\", \"#FC8204\"]\n",
        "sns.set_palette(sns.color_palette(COLORS_PALETTE))\n",
        "\n",
        "RANDOM_SEED = 5\n",
        "np.random.seed(RANDOM_SEED)\n",
        "torch.manual_seed(RANDOM_SEED)\n",
        "\n",
        "device = torch.device(\"cuda:0\" if torch.cuda.is_available() else \"cpu\")\n",
        "device"
      ],
      "metadata": {
        "colab": {
          "base_uri": "https://localhost:8080/"
        },
        "id": "wGJF8pUP8iF-",
        "outputId": "68263517-c06c-4413-e538-cc0eb5103214"
      },
      "execution_count": null,
      "outputs": [
        {
          "output_type": "execute_result",
          "data": {
            "text/plain": [
              "device(type='cpu')"
            ]
          },
          "metadata": {},
          "execution_count": 2
        }
      ]
    },
    {
      "cell_type": "code",
      "source": [
        "BERTWEET_BASE = 'vinai/bertweet-base'"
      ],
      "metadata": {
        "id": "RmjK4a0PK5xI"
      },
      "execution_count": null,
      "outputs": []
    },
    {
      "cell_type": "markdown",
      "source": [
        "### 4.2 - Exploratory Data Analysis\n",
        "\n",
        "In this section I downloaded the data from the TweetEval datasets related to Emotion Recognition, Hate Speech Detection and Sentiment Analysis, and I performed some explorary data analysis.\n",
        "\n",
        "The table below shows a summary of the datasets. Note that each dataset is already split into train, validation and test set.\n",
        "\n",
        "Dataset   | Lables | Train | Validation | Test\n",
        "----------|--------| ------| -----------| ----\n",
        "emotion   | ['anger', 'joy', 'optimism', 'sadness']| 3257  | 374        | 1421\n",
        "hate      | ['non-hate', 'hate'] | 9000  | 1000       | 2970\n",
        "sentiment | ['negative', 'neutral', 'positive'] | 45615 | 2000       | 12284\n",
        "\n",
        "\n",
        "As we can see, the *emotion* and *hate* datasets are pretty small compared to the *sentiment* dataset. This might lead to lower performances in the Emotion Recognition and Hate Speech Detection tasks.\n"
      ],
      "metadata": {
        "id": "5REDhV2k8WjR"
      }
    },
    {
      "cell_type": "code",
      "source": [
        "# BERTweet tokenizer\n",
        "tokenizer = AutoTokenizer.from_pretrained(BERTWEET_BASE)"
      ],
      "metadata": {
        "id": "QjLgeL2M-3v2"
      },
      "execution_count": null,
      "outputs": []
    },
    {
      "cell_type": "code",
      "source": [
        "# Helper functions\n",
        "\n",
        "def dataset_overview(name, train, val, test):\n",
        "  \"\"\" Print the dataset's information. \"\"\"\n",
        "\n",
        "  print(f\"** {name} **\\n\")\n",
        "  print(\"Features:\", train.features)\n",
        "  print(\"Training examples:\", train.num_rows)\n",
        "  print(\"Validation examples:\", val.num_rows)\n",
        "  print(\"Test examples:\", test.num_rows)\n",
        "\n",
        "\n",
        "def show_data_examples(data, first, last, color=Fore.BLUE):\n",
        "  \"\"\" Print some dataset examples. \"\"\"\n",
        "\n",
        "  print('EXAMPLES:\\n')\n",
        "  for idx in range(first, last):\n",
        "    tweet = data['text'][idx]\n",
        "    label = data['label'][idx]\n",
        "    print(f\"{Fore.BLACK} {idx + 1}. {tweet} -> {color} {data.features['label'].int2str(label)}\")\n",
        "\n",
        "\n",
        "def labels_piechart(train, val, test):\n",
        "  \"\"\" Generate three pie charts, one for the train, one for the validation and \n",
        "  one for the test sets. Each pie chart shows the labels frequencies as \n",
        "  percentages. \"\"\"\n",
        "\n",
        "  classes, counts = np.unique(train['label'], return_counts=True)\n",
        "  val_classes, val_counts = np.unique(val['label'], return_counts=True)\n",
        "  test_classes, test_counts = np.unique(test['label'], return_counts=True)\n",
        "\n",
        "  # Pie chart, where the slices will be ordered and plotted counter-clockwise:\n",
        "  fig1, ax = plt.subplots(1, 3, figsize=(20, 8))\n",
        "\n",
        "  ax[0].pie(counts, labels=classes, autopct='%1.1f%%', startangle=90, textprops={'size':15})\n",
        "  ax[0].axis('equal')  # Equal aspect ratio ensures that pie is drawn as a circle.\n",
        "  ax[0].set_title(\"Training set\", size=15)\n",
        "\n",
        "  ax[1].pie(val_counts, labels=val_classes, autopct='%1.1f%%', startangle=90, textprops={'size':15})\n",
        "  ax[1].axis('equal')\n",
        "  ax[1].set_title(\"Validation set\", size=15)\n",
        "\n",
        "  ax[2].pie(test_counts, labels=test_classes, autopct='%1.1f%%', startangle=90, textprops={'size':15})\n",
        "  ax[2].axis('equal')\n",
        "  ax[2].set_title(\"Test set\", size=15)\n",
        "\n",
        "  plt.show()\n",
        "\n",
        "\n",
        "def count_sequence_length(train, val, test):\n",
        "  \"\"\" Count the length of the token's sequences in the entire datasets (train,\n",
        "  validation and test sets). \"\"\"\n",
        "\n",
        "  token_lens = []\n",
        "\n",
        "  for txt in train['text']:\n",
        "    tokens = tokenizer.encode(txt, max_length=512, truncation=True)\n",
        "    token_lens.append(len(tokens))\n",
        "\n",
        "  for txt in val['text']:\n",
        "    tokens = tokenizer.encode(txt, max_length=512, truncation=True)\n",
        "    token_lens.append(len(tokens))\n",
        "\n",
        "  for txt in test['text']:\n",
        "    tokens = tokenizer.encode(txt, max_length=512, truncation=True)\n",
        "    token_lens.append(len(tokens))\n",
        "\n",
        "  return token_lens\n",
        "\n",
        "\n",
        "def plot_sequence_length(token_lens):\n",
        "  \"\"\" Plot an histogram of the token sequence lengths. \"\"\"\n",
        "\n",
        "  fig1, ax = plt.subplots(1, 1, figsize=(20, 8))\n",
        "\n",
        "  sns.histplot(token_lens, kde=True)\n",
        "\n",
        "  plt.xlim([0, 150]);\n",
        "  plt.xlabel('Tokens');\n",
        "\n",
        "\n",
        "def preprocessing_function(example):\n",
        "  \"\"\" Preprocess a tweet using the 'preprocess_tweet' function. \"\"\"\n",
        "  \n",
        "  example_cp = example.copy()\n",
        "  preprocessed_tweet = preprocess_tweet(example_cp['text'], lang=\"en\")\n",
        "  example_cp['text'] = preprocessed_tweet\n",
        "  return example_cp"
      ],
      "metadata": {
        "id": "_GrDuAybzWSr"
      },
      "execution_count": null,
      "outputs": []
    },
    {
      "cell_type": "markdown",
      "source": [
        "#### 4.2.1 - Emotion Recognition"
      ],
      "metadata": {
        "id": "H0RSurfjxf-h"
      }
    },
    {
      "cell_type": "code",
      "source": [
        "train_emotion = load_dataset('tweet_eval', 'emotion',  split='train')\n",
        "val_emotion= load_dataset('tweet_eval', 'emotion',  split='validation')\n",
        "test_emotion = load_dataset('tweet_eval', 'emotion',  split='test')"
      ],
      "metadata": {
        "id": "Ua1nPalZ8jbH"
      },
      "execution_count": null,
      "outputs": []
    },
    {
      "cell_type": "code",
      "source": [
        "# Dataset overview\n",
        "dataset_overview('Emotion dataset', train_emotion, val_emotion, test_emotion)"
      ],
      "metadata": {
        "colab": {
          "base_uri": "https://localhost:8080/"
        },
        "id": "ZGw_Fz6yCOaN",
        "outputId": "7291566c-eb00-4a3e-fe7f-27103b7a8e8d"
      },
      "execution_count": null,
      "outputs": [
        {
          "output_type": "stream",
          "name": "stdout",
          "text": [
            "** Emotion dataset **\n",
            "\n",
            "Features: {'text': Value(dtype='string', id=None), 'label': ClassLabel(num_classes=4, names=['anger', 'joy', 'optimism', 'sadness'], id=None)}\n",
            "Training examples: 3257\n",
            "Validation examples: 374\n",
            "Test examples: 1421\n"
          ]
        }
      ]
    },
    {
      "cell_type": "markdown",
      "source": [
        "**Class frequency**"
      ],
      "metadata": {
        "id": "5h29pKnU8qXN"
      }
    },
    {
      "cell_type": "code",
      "source": [
        "labels_piechart(train_emotion, val_emotion, test_emotion)\n",
        "\n",
        "# 0 -> anger\n",
        "# 1 -> joy\n",
        "# 2 -> optimism\n",
        "# 3 -> sadness"
      ],
      "metadata": {
        "colab": {
          "base_uri": "https://localhost:8080/",
          "height": 460
        },
        "id": "7_aVsSOD1BAa",
        "outputId": "499d407b-3c53-4e57-c28c-e4a2dbf623c8"
      },
      "execution_count": null,
      "outputs": [
        {
          "output_type": "display_data",
          "data": {
            "text/plain": [
              "<Figure size 1440x576 with 3 Axes>"
            ],
            "image/png": "[encoded data removed]"
          },
          "metadata": {}
        }
      ]
    },
    {
      "cell_type": "markdown",
      "source": [
        "From the pie charts above, we can see that the dataset is not well balanced: `anger` is the predominant class, while `optimism` is associated to less than 10% of the dataset's examples. However, the classes' proportions are kept the same in the training, validation and test splits."
      ],
      "metadata": {
        "id": "Bf8Spaxu1JgU"
      }
    },
    {
      "cell_type": "code",
      "source": [
        "# Data examples\n",
        "show_data_examples(train_emotion, 200, 220, Fore.MAGENTA)"
      ],
      "metadata": {
        "colab": {
          "base_uri": "https://localhost:8080/"
        },
        "id": "xBNV04du86mn",
        "outputId": "52e9d057-f5c1-41bb-9228-fda72b832c49"
      },
      "execution_count": null,
      "outputs": [
        {
          "output_type": "stream",
          "name": "stdout",
          "text": [
            "EXAMPLES:\n",
            "\n",
            "\u001b[30m 201. Now that @user has snapchat back it's a constant battle to see who can get the ugliest snap of one another 😂🙃 #snap survival -> \u001b[35m joy\n",
            "\u001b[30m 202. @user He's just too raging to type properly... Ha ha! -> \u001b[35m anger\n",
            "\u001b[30m 203. Pakistan continues to treat #terror as a matter of state policy says @user #UriAttack -> \u001b[35m anger\n",
            "\u001b[30m 204. i have so much hair it's a nightmare but it's also very soft so it guess it's a win-lose situation -> \u001b[35m optimism\n",
            "\u001b[30m 205. @user @user whatever Sam is holding on your tee looks like it's got a droop on 😂 -> \u001b[35m joy\n",
            "\u001b[30m 206. One step forward, two steps backward, the link to RogerFedererShop doesn´t work.😰 I am losing hope about Roger Federer new Website #sadness -> \u001b[35m sadness\n",
            "\u001b[30m 207. The Pats are awesome. Belichick is awesome ...they just are. -> \u001b[35m joy\n",
            "\u001b[30m 208. Don't join @user they put the phone down on you, talk over you and are rude. Taking money out of my acc willynilly! -> \u001b[35m anger\n",
            "\u001b[30m 209. @user @user @user @user Take 2k out of it the numbers on madden are low and have dropped and people are unhappy -> \u001b[35m sadness\n",
            "\u001b[30m 210. @user No!  By Y'all I mean rioting, fire starting, business burning, looting ASSHOLES!  That create #BlackLivesmatter -> \u001b[35m anger\n",
            "\u001b[30m 211. HMS Pinafore' time.\\n\\nI need some mirth. -> \u001b[35m joy\n",
            "\u001b[30m 212. Grim and despair feeling-I look at self and my family. Hubby fought 20+ years for this country. I've worked 20+ years for this govt--&gt; -> \u001b[35m sadness\n",
            "\u001b[30m 213. #COINCIDENCE??? When you turn on the TV, etc.&amp; listen &amp; watch, the objective is to #CaptureYourMind with #fear &amp; #depression. #FindGODNow!!! -> \u001b[35m sadness\n",
            "\u001b[30m 214. Turkish exhilaration: for a 30% shade off irruptive russian visitors this twelvemonth, gobbler is nephalism so... -> \u001b[35m joy\n",
            "\u001b[30m 215. When will the weeks full of Mondays end?? #disheartened -> \u001b[35m sadness\n",
            "\u001b[30m 216. @user I'm not on about history or  other people, I'm on about you. I've bullied no one, I make three posts and you attack #bully -> \u001b[35m anger\n",
            "\u001b[30m 217. @user way to go #London. Nice job electing a #muslim #jihadist for mayor. Good luck with your future #terror attacks #sadiqkhan -> \u001b[35m sadness\n",
            "\u001b[30m 218. Pull over #tonight and make your car #shake 😋💦 -> \u001b[35m joy\n",
            "\u001b[30m 219. Feeling #gloomy -> \u001b[35m sadness\n",
            "\u001b[30m 220. B day next week, catch the sauce and watch the heaviness! -> \u001b[35m joy\n"
          ]
        }
      ]
    },
    {
      "cell_type": "markdown",
      "source": [
        "The tweets contained in the dataset have been partially preprocessed: the users mentions have been anonymized and substitudet by `@user`, while emoji and hastags have been kept.\n",
        "\n",
        "\n"
      ],
      "metadata": {
        "id": "H3gOdHUi6ALT"
      }
    },
    {
      "cell_type": "markdown",
      "source": [
        "**Sequence length**"
      ],
      "metadata": {
        "id": "XTS_dIE8--QV"
      }
    },
    {
      "cell_type": "code",
      "source": [
        "sequence_lengths = count_sequence_length(train_emotion, val_emotion, test_emotion)\n",
        "plot_sequence_length(sequence_lengths)"
      ],
      "metadata": {
        "colab": {
          "base_uri": "https://localhost:8080/",
          "height": 461
        },
        "id": "ILEkE87S_B-Y",
        "outputId": "80452c53-0f44-4325-be7b-670262ce523e"
      },
      "execution_count": null,
      "outputs": [
        {
          "output_type": "display_data",
          "data": {
            "text/plain": [
              "<Figure size 1440x576 with 1 Axes>"
            ],
            "image/png": "[encoded data removed]"
          },
          "metadata": {}
        }
      ]
    },
    {
      "cell_type": "code",
      "source": [
        "max(sequence_lengths)"
      ],
      "metadata": {
        "colab": {
          "base_uri": "https://localhost:8080/"
        },
        "id": "EmhRyNfIIk9I",
        "outputId": "513c9600-ce94-4f7e-9a7a-fcf7f6c3d86a"
      },
      "execution_count": null,
      "outputs": [
        {
          "output_type": "execute_result",
          "data": {
            "text/plain": [
              "88"
            ]
          },
          "metadata": {},
          "execution_count": 39
        }
      ]
    },
    {
      "cell_type": "code",
      "source": [
        "# number of tweets with more than 60 tokens\n",
        "sl = [x for x in sequence_lengths if x > 60]\n",
        "len(sl)"
      ],
      "metadata": {
        "colab": {
          "base_uri": "https://localhost:8080/"
        },
        "id": "f76iul0fqqNj",
        "outputId": "fa7adaa2-e28c-4168-a8ce-67788653dcfd"
      },
      "execution_count": null,
      "outputs": [
        {
          "output_type": "execute_result",
          "data": {
            "text/plain": [
              "3"
            ]
          },
          "metadata": {},
          "execution_count": 82
        }
      ]
    },
    {
      "cell_type": "markdown",
      "source": [
        "From the histogram above, we can see that most of the tokenized tweets have less then 60 tokens. However, the longest tokenized tweet has 88 tokens."
      ],
      "metadata": {
        "id": "_0d9WZvK_s6J"
      }
    },
    {
      "cell_type": "markdown",
      "source": [
        "**Tweet Preprocessing**"
      ],
      "metadata": {
        "id": "2q3YL3actlk_"
      }
    },
    {
      "cell_type": "code",
      "source": [
        "train_emotion_prep = train_emotion.map(preprocessing_function)\n",
        "val_emotion_prep = val_emotion.map(preprocessing_function)\n",
        "test_emotion_prep = test_emotion.map(preprocessing_function)"
      ],
      "metadata": {
        "id": "qxV496amddrw"
      },
      "execution_count": null,
      "outputs": []
    },
    {
      "cell_type": "code",
      "source": [
        "# Preprocessed tweets examples\n",
        "show_data_examples(train_emotion_prep, 200, 220, Fore.MAGENTA)"
      ],
      "metadata": {
        "colab": {
          "base_uri": "https://localhost:8080/"
        },
        "id": "tI09ATEQgec3",
        "outputId": "09a09afd-8c62-46da-b5a8-8c8f03796a39"
      },
      "execution_count": null,
      "outputs": [
        {
          "output_type": "stream",
          "name": "stdout",
          "text": [
            "EXAMPLES:\n",
            "\n",
            "\u001b[30m 201. Now that @USER has snapchat back it's a constant battle to see who can get the ugliest snap of one another  emoji face with tears of joy emoji  emoji upside-down face emoji  snap survival -> \u001b[35m joy\n",
            "\u001b[30m 202. @USER He's just too raging to type properly... Ha ha! -> \u001b[35m anger\n",
            "\u001b[30m 203. Pakistan continues to treat terror as a matter of state policy says @USER uri attack -> \u001b[35m anger\n",
            "\u001b[30m 204. i have so much hair it's a nightmare but it's also very soft so it guess it's a win-lose situation -> \u001b[35m optimism\n",
            "\u001b[30m 205. @USER @USER whatever Sam is holding on your tee looks like it's got a droop on  emoji face with tears of joy emoji -> \u001b[35m joy\n",
            "\u001b[30m 206. One step forward, two steps backward, the link to RogerFedererShop doesnt work. emoji anxious face with sweat emoji  I am losing hope about Roger Federer new Website sadness -> \u001b[35m sadness\n",
            "\u001b[30m 207. The Pats are awesome. Belichick is awesome ...they just are. -> \u001b[35m joy\n",
            "\u001b[30m 208. Don't join @USER they put the phone down on you, talk over you and are rude. Taking money out of my acc willynilly! -> \u001b[35m anger\n",
            "\u001b[30m 209. @USER @USER @USER @USER Take 2k out of it the numbers on madden are low and have dropped and people are unhappy -> \u001b[35m sadness\n",
            "\u001b[30m 210. @USER No!  By Y'all I mean rioting, fire starting, business burning, looting ASSHOLES!  That create black livesmatter -> \u001b[35m anger\n",
            "\u001b[30m 211. HMS Pinafore' time.\\n\\nI need some mirth. -> \u001b[35m joy\n",
            "\u001b[30m 212. Grim and despair feeling-I look at self and my family. Hubby fought 20+ years for this country. I've worked 20+ years for this govt--&gt; -> \u001b[35m sadness\n",
            "\u001b[30m 213. coincidence??? When you turn on the TV, etc.&amp; listen &amp; watch, the objective is to capture your mind with fear &amp; depression. find godnow!!! -> \u001b[35m sadness\n",
            "\u001b[30m 214. Turkish exhilaration: for a 30% shade off irruptive russian visitors this twelvemonth, gobbler is nephalism so... -> \u001b[35m joy\n",
            "\u001b[30m 215. When will the weeks full of Mondays end?? disheartened -> \u001b[35m sadness\n",
            "\u001b[30m 216. @USER I'm not on about history or  other people, I'm on about you. I've bullied no one, I make three posts and you attack bully -> \u001b[35m anger\n",
            "\u001b[30m 217. @USER way to go london. Nice job electing a muslim jihadist for mayor. Good luck with your future terror attacks sadiqkhan -> \u001b[35m sadness\n",
            "\u001b[30m 218. Pull over tonight and make your car shake  emoji face savoring food emoji  emoji sweat droplets emoji -> \u001b[35m joy\n",
            "\u001b[30m 219. Feeling gloomy -> \u001b[35m sadness\n",
            "\u001b[30m 220. B day next week, catch the sauce and watch the heaviness! -> \u001b[35m joy\n"
          ]
        }
      ]
    },
    {
      "cell_type": "markdown",
      "source": [
        "The preprocessing function has performed the following actions on the original tweets:\n",
        "- All the emoji have been replaced with the corresponding text, delimited by the word `emoji` (for example, in tweet number 201, 😂🙃 have been replaced with `emoji face with tears of joy emoji  emoji upside-down face emoji`).\n",
        "- All the hashtag symbols (`#`) have been removed.\n",
        "- Hashtags where the first letter of each word is capitalized, have been split into the corresponding word and the first letters have been changed to lowercase (for example, in tweet number 210, the hashtag `#BlackLivesmatter` has been turned into `black livesmatter`).\n"
      ],
      "metadata": {
        "id": "Ih7Stueru0ve"
      }
    },
    {
      "cell_type": "code",
      "source": [
        "# preprocessed tweets sequence length\n",
        "sequence_lengths = count_sequence_length(train_emotion_prep, val_emotion_prep, test_emotion_prep)\n",
        "plot_sequence_length(sequence_lengths)"
      ],
      "metadata": {
        "colab": {
          "base_uri": "https://localhost:8080/",
          "height": 461
        },
        "id": "jUpOLKtmOelK",
        "outputId": "39fd123c-2394-447c-d823-1c5e8c96a015"
      },
      "execution_count": null,
      "outputs": [
        {
          "output_type": "display_data",
          "data": {
            "text/plain": [
              "<Figure size 1440x576 with 1 Axes>"
            ],
            "image/png": "[encoded data removed]"
          },
          "metadata": {}
        }
      ]
    },
    {
      "cell_type": "code",
      "source": [
        "max(sequence_lengths)"
      ],
      "metadata": {
        "colab": {
          "base_uri": "https://localhost:8080/"
        },
        "id": "7LKJIqoFOnvM",
        "outputId": "b53145df-81e8-4769-e12b-276a0b409822"
      },
      "execution_count": null,
      "outputs": [
        {
          "output_type": "execute_result",
          "data": {
            "text/plain": [
              "91"
            ]
          },
          "metadata": {},
          "execution_count": 48
        }
      ]
    },
    {
      "cell_type": "code",
      "source": [
        "# number of tweets with more than 60 tokens\n",
        "sl = [x for x in sequence_lengths if x > 60]\n",
        "len(sl)"
      ],
      "metadata": {
        "colab": {
          "base_uri": "https://localhost:8080/"
        },
        "id": "xNckXkd6uUfB",
        "outputId": "4f006924-37ad-47fd-dc31-a020eabd8ce6"
      },
      "execution_count": null,
      "outputs": [
        {
          "output_type": "execute_result",
          "data": {
            "text/plain": [
              "9"
            ]
          },
          "metadata": {},
          "execution_count": 87
        }
      ]
    },
    {
      "cell_type": "markdown",
      "source": [
        "From the histogram above, we can see that most of the tokenized preprocessed tweets have less then 60 tokens. However, the longest tokenized tweet has 91 tokens."
      ],
      "metadata": {
        "id": "9afppVMpucFV"
      }
    },
    {
      "cell_type": "markdown",
      "source": [
        "#### 4.2.2 -  Hate Speech Detection"
      ],
      "metadata": {
        "id": "xQmIenfExj3v"
      }
    },
    {
      "cell_type": "code",
      "source": [
        "train_hate = load_dataset('tweet_eval', 'hate',  split='train')\n",
        "val_hate = load_dataset('tweet_eval', 'hate',  split='validation')\n",
        "test_hate = load_dataset('tweet_eval', 'hate',  split='test')"
      ],
      "metadata": {
        "id": "Ir_ScIvMxs4J"
      },
      "execution_count": null,
      "outputs": []
    },
    {
      "cell_type": "code",
      "source": [
        "# Dataset overview\n",
        "dataset_overview('Hate Speech dataset', train_hate, val_hate, test_hate)"
      ],
      "metadata": {
        "colab": {
          "base_uri": "https://localhost:8080/"
        },
        "id": "a5WuWnYA0w0A",
        "outputId": "1d881d5e-c860-4b83-c0cf-1941c2163a66"
      },
      "execution_count": null,
      "outputs": [
        {
          "output_type": "stream",
          "name": "stdout",
          "text": [
            "** Hate Speech dataset **\n",
            "\n",
            "Features: {'text': Value(dtype='string', id=None), 'label': ClassLabel(num_classes=2, names=['non-hate', 'hate'], id=None)}\n",
            "Training examples: 9000\n",
            "Validation examples: 1000\n",
            "Test examples: 2970\n"
          ]
        }
      ]
    },
    {
      "cell_type": "markdown",
      "source": [
        "**Class frequency**"
      ],
      "metadata": {
        "id": "yRVNOpsc6VO5"
      }
    },
    {
      "cell_type": "code",
      "source": [
        "labels_piechart(train_hate, val_hate, test_hate)\n",
        "\n",
        "# 0 -> non-hate\n",
        "# 1 -> hate"
      ],
      "metadata": {
        "colab": {
          "base_uri": "https://localhost:8080/",
          "height": 436
        },
        "outputId": "720dcac5-d59e-4176-ea6b-101df5d1a9eb",
        "id": "SumitOFa6VO6"
      },
      "execution_count": null,
      "outputs": [
        {
          "output_type": "display_data",
          "data": {
            "text/plain": [
              "<Figure size 1440x576 with 3 Axes>"
            ],
            "image/png": "[encoded data removed]"
          },
          "metadata": {}
        }
      ]
    },
    {
      "cell_type": "markdown",
      "source": [
        "As we can see from the pie charts above, the dataset is almost balanced, with a small prevalence of non-hateful examples. Also for this dataset, the classes' proportions are kept the same in the training, validation and test splits."
      ],
      "metadata": {
        "id": "VLdrWIIO4Ml0"
      }
    },
    {
      "cell_type": "code",
      "source": [
        "# Data examples\n",
        "show_data_examples(train_hate, 175, 200, Fore.LIGHTRED_EX)"
      ],
      "metadata": {
        "colab": {
          "base_uri": "https://localhost:8080/"
        },
        "id": "rgFVR3Me1QOE",
        "outputId": "c1bc2bfa-21c6-46af-c780-c023108ad586"
      },
      "execution_count": null,
      "outputs": [
        {
          "output_type": "stream",
          "name": "stdout",
          "text": [
            "EXAMPLES:\n",
            "\n",
            "\u001b[30m 176. THIS WOMEN CAN DO ONLY ONE THINK, BACK INTO HER RAT🐀 HOLE NEVER TO COME OUT AGAIN🐀IF SHE SHOW UP ON SURFACE AM CALL… -> \u001b[91m hate\n",
            "\u001b[30m 177. #ACTNOW! #USA #EB5 #EB5Visa #Immigrant #Foreign #Investor #Visa Program Laws ARE Changing! $500k #Investment. Payment plans available. Use #bitcoin #ether #cryptocurrency. Become a US Citizen! Visit us at Contact us TODAY at gbibuildingco@outlook.com. RT -> \u001b[91m non-hate\n",
            "\u001b[30m 178. The Latest: Spanish PM lets migrant boat dock at Valencia    You idiots are killing Spain with islamists... -> \u001b[91m hate\n",
            "\u001b[30m 179. Afghan and Pakistani migrants were shot at as they tried to invade Hungary - Free Speech Time - @user -> \u001b[91m non-hate\n",
            "\u001b[30m 180. @user shut the fuck up hes not gonna dick you was gonna send u this dope steroline edit but u can go cry to olly -> \u001b[91m hate\n",
            "\u001b[30m 181. you low life scum, pathetic, deprave, pile of shit, maggots. like i said that brainless skank bitch should've died… -> \u001b[91m hate\n",
            "\u001b[30m 182. @user @user bitch we r now TxF sluts -> \u001b[91m non-hate\n",
            "\u001b[30m 183. @user At the very least Ryan and McConnell need to force the dems to vote against the wall. -> \u001b[91m non-hate\n",
            "\u001b[30m 184. Russia Liquidates Its US Treasury Holdings | Zero Hedge   No surprise here... -> \u001b[91m non-hate\n",
            "\u001b[30m 185. #FactCheck wow #FactsMatter #VoteDemsOut #RedWaveRising2018 #StopTheInvasion #BuildTheWall #DeportThemAll #EndSanctuaryCities #TakeAmericaBack #WalkAwayMovementGrowing #MAGA -> \u001b[91m hate\n",
            "\u001b[30m 186. @user @user @user THIS CANNOT BE ALLOWED TO HAPPEN----CHILD KIDNAPPER AND MOLESTER MILLER NEEDS TO BE GONE! -> \u001b[91m hate\n",
            "\u001b[30m 187. @user  IDS the man who smirks at his own policies and implications on his own people y wont he admit its migration that fuels this -> \u001b[91m non-hate\n",
            "\u001b[30m 188. UN seeks new funding pledges for Palestinian refugees... -> \u001b[91m non-hate\n",
            "\u001b[30m 189. @user Total lie. CONG is the main culprit for influx of illegal migrants both Bangladeshis&amp; Rhongyias. If they deported few, millions came during their tenures&amp; they encouraged Muslim illegal migrants&amp;shooed away Hindu migrants -> \u001b[91m hate\n",
            "\u001b[30m 190. Sigh... -> \u001b[91m non-hate\n",
            "\u001b[30m 191. Immigration Will Not Make America Great Again -> \u001b[91m hate\n",
            "\u001b[30m 192. Obama, our SMALLEST president. Must take credit for all good; disavows all that was bad during his 8 year assault on our great country.#MAGA #KAG #POTUS #Trump #NEWS #VoteRed #NoDACA #WalkAway #AmericaFirst #USA #BackTheBlue #AllLivesMatter #LiberalismIsAMentalDisorder #NRA -> \u001b[91m hate\n",
            "\u001b[30m 193. @user This trashy whore gold digger at again trying be something that makes her think shes good ughhh not happening hoe bag pos -> \u001b[91m hate\n",
            "\u001b[30m 194. When his dick game is garbage but his mouth game is fire AF -> \u001b[91m non-hate\n",
            "\u001b[30m 195. “The verification will play a key role in establishing refugees’ identities and their declared places of origin in Myanmar. It will help to preserve their right to voluntarily return home, if and when they decide that the conditions are right to do so.” -> \u001b[91m non-hate\n",
            "\u001b[30m 196. I recently read a book with a passage between a woman and a powerful man. I had to ask author if it was rape or nah. That's how blurry it is -> \u001b[91m non-hate\n",
            "\u001b[30m 197. #Rohingya refugees move to higher ground to avert loss of lives in the upcoming monsoon season #ucanews #voiceforthevoiceless #refugee #Bangladesh @user @user @user @user @user -> \u001b[91m non-hate\n",
            "\u001b[30m 198. Tesla Driving Russian Immigrant Running As A Democrat For US House Seat In Alaska -> \u001b[91m non-hate\n",
            "\u001b[30m 199. Never try to Holla at women who dissed you in his school I got called misogynistic egotistical whore monger damn bitch OK have a nice day 😂 -> \u001b[91m non-hate\n",
            "\u001b[30m 200. HIV-positive shelter worker in Mesa sexually abused 8 immigrant boys, authorities say -> \u001b[91m non-hate\n"
          ]
        }
      ]
    },
    {
      "cell_type": "markdown",
      "source": [
        "The tweets contained in the dataset have been partially preprocessed: the users mentions have been anonymized and substitudet by `@user`, while emoji and hastags have been kept."
      ],
      "metadata": {
        "id": "7DuBnNeG8THd"
      }
    },
    {
      "cell_type": "markdown",
      "source": [
        "**Sequence length**"
      ],
      "metadata": {
        "id": "PPhTFj6r_yXb"
      }
    },
    {
      "cell_type": "code",
      "source": [
        "sequence_lengths = count_sequence_length(train_hate, val_hate, test_hate)\n",
        "plot_sequence_length(sequence_lengths)"
      ],
      "metadata": {
        "colab": {
          "base_uri": "https://localhost:8080/",
          "height": 461
        },
        "outputId": "c0b69199-d037-42a1-a839-47bffad698ca",
        "id": "xauDRi14_yXb"
      },
      "execution_count": null,
      "outputs": [
        {
          "output_type": "display_data",
          "data": {
            "text/plain": [
              "<Figure size 1440x576 with 1 Axes>"
            ],
            "image/png": "[encoded data removed]"
          },
          "metadata": {}
        }
      ]
    },
    {
      "cell_type": "code",
      "source": [
        "max(sequence_lengths)"
      ],
      "metadata": {
        "colab": {
          "base_uri": "https://localhost:8080/"
        },
        "id": "Nvlu3Ei1IPh4",
        "outputId": "25a5118e-d75c-4a0a-98a5-8102b13ce4ce"
      },
      "execution_count": null,
      "outputs": [
        {
          "output_type": "execute_result",
          "data": {
            "text/plain": [
              "144"
            ]
          },
          "metadata": {},
          "execution_count": 37
        }
      ]
    },
    {
      "cell_type": "code",
      "source": [
        "# number of tweets with more than 100 tokens\n",
        "sl = [x for x in sequence_lengths if x > 100]\n",
        "len(sl)"
      ],
      "metadata": {
        "colab": {
          "base_uri": "https://localhost:8080/"
        },
        "id": "p2ZLnQ0WrLBV",
        "outputId": "1c5b060b-dc27-4b80-bbb0-3a800dd29b5f"
      },
      "execution_count": null,
      "outputs": [
        {
          "output_type": "execute_result",
          "data": {
            "text/plain": [
              "5"
            ]
          },
          "metadata": {},
          "execution_count": 70
        }
      ]
    },
    {
      "cell_type": "markdown",
      "source": [
        "From the histogram above, we can see that most of the tokenized tweets have less then 100 tokens. However, the longest tokenized tweet has 144 tokens."
      ],
      "metadata": {
        "id": "mOVEgEm6AFUS"
      }
    },
    {
      "cell_type": "markdown",
      "source": [
        "**Tweet Preprocessing**"
      ],
      "metadata": {
        "id": "NQvP-3tsy64S"
      }
    },
    {
      "cell_type": "code",
      "source": [
        "train_hate_prep = train_hate.map(preprocessing_function)\n",
        "val_hate_prep = val_hate.map(preprocessing_function)\n",
        "test_hate_prep = test_hate.map(preprocessing_function)"
      ],
      "metadata": {
        "id": "CanuBeufoPs4"
      },
      "execution_count": null,
      "outputs": []
    },
    {
      "cell_type": "code",
      "source": [
        "show_data_examples(train_hate_prep, 175, 200, Fore.LIGHTRED_EX)"
      ],
      "metadata": {
        "colab": {
          "base_uri": "https://localhost:8080/"
        },
        "outputId": "4ae47983-0d18-44ac-fd4a-c646420d9c01",
        "id": "c8kDW4wJoPs4"
      },
      "execution_count": null,
      "outputs": [
        {
          "output_type": "stream",
          "name": "stdout",
          "text": [
            "EXAMPLES:\n",
            "\n",
            "\u001b[30m 176. THIS WOMEN CAN DO ONLY ONE THINK, BACK INTO HER RAT emoji rat emoji  HOLE NEVER TO COME OUT AGAIN emoji rat emoji IF SHE SHOW UP ON SURFACE AM CALL -> \u001b[91m hate\n",
            "\u001b[30m 177. actnow! usa eb5 eb5 visa immigrant foreign investor visa Program Laws ARE Changing! $500k investment. Payment plans available. Use bitcoin ether cryptocurrency. Become a US Citizen! Visit us at Contact us TODAY at gbibuildingco@HTTPURL. RT -> \u001b[91m non-hate\n",
            "\u001b[30m 178. The Latest: Spanish PM lets migrant boat dock at Valencia   You idiots are killing Spain with islamists... -> \u001b[91m hate\n",
            "\u001b[30m 179. Afghan and Pakistani migrants were shot at as they tried to invade Hungary - Free Speech Time - @USER -> \u001b[91m non-hate\n",
            "\u001b[30m 180. @USER shut the fuck up hes not gonna dick you was gonna send u this dope steroline edit but u can go cry to olly -> \u001b[91m hate\n",
            "\u001b[30m 181. you low life scum, pathetic, deprave, pile of shit, maggots. like i said that brainless skank bitch should've died -> \u001b[91m hate\n",
            "\u001b[30m 182. @USER @USER bitch we r now TxF sluts -> \u001b[91m non-hate\n",
            "\u001b[30m 183. @USER At the very least Ryan and McConnell need to force the dems to vote against the wall. -> \u001b[91m non-hate\n",
            "\u001b[30m 184. Russia Liquidates Its US Treasury Holdings | Zero Hedge   No surprise here... -> \u001b[91m non-hate\n",
            "\u001b[30m 185. fact check wow facts matter vote dems out red wave rising2018 stop the invasion build the wall deport them all end sanctuary cities take america back walk away movement growing maga -> \u001b[91m hate\n",
            "\u001b[30m 186. @USER @USER @USER THIS CANNOT BE ALLOWED TO HAPPEN---CHILD KIDNAPPER AND MOLESTER MILLER NEEDS TO BE GONE! -> \u001b[91m hate\n",
            "\u001b[30m 187. @USER  IDS the man who smirks at his own policies and implications on his own people y wont he admit its migration that fuels this -> \u001b[91m non-hate\n",
            "\u001b[30m 188. UN seeks new funding pledges for Palestinian refugees... -> \u001b[91m non-hate\n",
            "\u001b[30m 189. @USER Total lie. CONG is the main culprit for influx of illegal migrants both Bangladeshis&amp; Rhongyias. If they deported few, millions came during their tenures&amp; they encouraged Muslim illegal migrants&amp;shooed away Hindu migrants -> \u001b[91m hate\n",
            "\u001b[30m 190. Sigh... -> \u001b[91m non-hate\n",
            "\u001b[30m 191. Immigration Will Not Make America Great Again -> \u001b[91m hate\n",
            "\u001b[30m 192. Obama, our SMALLEST president. Must take credit for all good; disavows all that was bad during his 8 year assault on our great country.maga kag potus trump news vote red no daca walk away america first usa back the blue all lives matter liberalism is amental disorder nra -> \u001b[91m hate\n",
            "\u001b[30m 193. @USER This trashy whore gold digger at again trying be something that makes her think shes good ughhh not happening hoe bag pos -> \u001b[91m hate\n",
            "\u001b[30m 194. When his dick game is garbage but his mouth game is fire AF -> \u001b[91m non-hate\n",
            "\u001b[30m 195. \"The verification will play a key role in establishing refugees identities and their declared places of origin in Myanmar. It will help to preserve their right to voluntarily return home, if and when they decide that the conditions are right to do so.\" -> \u001b[91m non-hate\n",
            "\u001b[30m 196. I recently read a book with a passage between a woman and a powerful man. I had to ask author if it was rape or nah. That's how blurry it is -> \u001b[91m non-hate\n",
            "\u001b[30m 197. rohingya refugees move to higher ground to avert loss of lives in the upcoming monsoon season ucanews voiceforthevoiceless refugee bangladesh @USER @USER @USER @USER @USER -> \u001b[91m non-hate\n",
            "\u001b[30m 198. Tesla Driving Russian Immigrant Running As A Democrat For US House Seat In Alaska -> \u001b[91m non-hate\n",
            "\u001b[30m 199. Never try to Holla at women who dissed you in his school I got called misogynistic egotistical whore monger damn bitch OK have a nice day  emoji face with tears of joy emoji -> \u001b[91m non-hate\n",
            "\u001b[30m 200. HIV-positive shelter worker in Mesa sexually abused 8 immigrant boys, authorities say -> \u001b[91m non-hate\n"
          ]
        }
      ]
    },
    {
      "cell_type": "markdown",
      "source": [
        "The preprocessing function has performed the actions described above in the preprocessing section of the *emotion* dataset.\n",
        "\n"
      ],
      "metadata": {
        "id": "OnbuFqBRzUyj"
      }
    },
    {
      "cell_type": "code",
      "source": [
        "sequence_lengths = count_sequence_length(train_hate_prep, val_hate_prep, test_hate_prep)\n",
        "plot_sequence_length(sequence_lengths)"
      ],
      "metadata": {
        "colab": {
          "base_uri": "https://localhost:8080/",
          "height": 526
        },
        "id": "fhx3PQV_OIJR",
        "outputId": "b0522d13-0d84-4a04-851e-db398e2d0880"
      },
      "execution_count": null,
      "outputs": [
        {
          "output_type": "display_data",
          "data": {
            "text/plain": [
              "<Figure size 1440x576 with 1 Axes>"
            ],
            "image/png": "[encoded data removed]"
          },
          "metadata": {}
        }
      ]
    },
    {
      "cell_type": "code",
      "source": [
        "max(sequence_lengths)"
      ],
      "metadata": {
        "colab": {
          "base_uri": "https://localhost:8080/"
        },
        "id": "bRMLrNMpOPRm",
        "outputId": "4048979a-8ac9-413c-9ba5-9e7fd233aaea"
      },
      "execution_count": null,
      "outputs": [
        {
          "output_type": "execute_result",
          "data": {
            "text/plain": [
              "105"
            ]
          },
          "metadata": {},
          "execution_count": 90
        }
      ]
    },
    {
      "cell_type": "code",
      "source": [
        "# number of tweets with more than 100 tokens\n",
        "sl = [x for x in sequence_lengths if x > 100]\n",
        "len(sl)"
      ],
      "metadata": {
        "colab": {
          "base_uri": "https://localhost:8080/"
        },
        "id": "4vWXNwFuzDzY",
        "outputId": "cd8b35bd-3caf-4b7e-8dca-14f6e902d975"
      },
      "execution_count": null,
      "outputs": [
        {
          "output_type": "execute_result",
          "data": {
            "text/plain": [
              "3"
            ]
          },
          "metadata": {},
          "execution_count": 91
        }
      ]
    },
    {
      "cell_type": "markdown",
      "source": [
        "From the histogram above, we can see that most of the tokenized preprocessed tweets have less then 100 tokens. However, the longest tokenized tweet has 105 tokens."
      ],
      "metadata": {
        "id": "7hWWGYSIzJC2"
      }
    },
    {
      "cell_type": "markdown",
      "source": [
        "#### 4.2.3 - Sentiment Analysis"
      ],
      "metadata": {
        "id": "C93wHlS_xnU4"
      }
    },
    {
      "cell_type": "code",
      "source": [
        "train_sentiment = load_dataset('tweet_eval', 'sentiment',  split='train')\n",
        "val_sentiment = load_dataset('tweet_eval', 'sentiment',  split='validation')\n",
        "test_sentiment = load_dataset('tweet_eval', 'sentiment',  split='test')"
      ],
      "metadata": {
        "id": "LMME8tLhxtgw"
      },
      "execution_count": null,
      "outputs": []
    },
    {
      "cell_type": "code",
      "source": [
        "# Dataset overview\n",
        "dataset_overview('Sentiment Analysis dataset', train_sentiment, val_sentiment, test_sentiment)"
      ],
      "metadata": {
        "colab": {
          "base_uri": "https://localhost:8080/"
        },
        "id": "CPJgdwvs4mZV",
        "outputId": "6f2ea7d2-097b-4040-d03b-5dbca978df44"
      },
      "execution_count": null,
      "outputs": [
        {
          "output_type": "stream",
          "name": "stdout",
          "text": [
            "** Sentiment Analysis dataset **\n",
            "\n",
            "Features: {'text': Value(dtype='string', id=None), 'label': ClassLabel(num_classes=3, names=['negative', 'neutral', 'positive'], id=None)}\n",
            "Training examples: 45615\n",
            "Validation examples: 2000\n",
            "Test examples: 12284\n"
          ]
        }
      ]
    },
    {
      "cell_type": "markdown",
      "source": [
        "**Class frequency**"
      ],
      "metadata": {
        "id": "uOOZ1CPM6ebq"
      }
    },
    {
      "cell_type": "code",
      "source": [
        "labels_piechart(train_sentiment, val_sentiment, test_sentiment)\n",
        "\n",
        "# 0 -> negative\n",
        "# 1 -> neutral\n",
        "# 2 -> positive"
      ],
      "metadata": {
        "colab": {
          "base_uri": "https://localhost:8080/",
          "height": 437
        },
        "outputId": "44d60076-f603-4e34-a596-5a373d5486ab",
        "id": "3cH4e7nJ6ebq"
      },
      "execution_count": null,
      "outputs": [
        {
          "output_type": "display_data",
          "data": {
            "text/plain": [
              "<Figure size 1440x576 with 3 Axes>"
            ],
            "image/png": "[encoded data removed]"
          },
          "metadata": {}
        }
      ]
    },
    {
      "cell_type": "markdown",
      "source": [
        "As we can see from the pie charts above, the dataset is not balanced since the `negative` examples are just the 15% of the dataset. However, the other two classes are present in similar proportions. Also in this case, the classes' proportions are kept the same in the training, validation and test splits."
      ],
      "metadata": {
        "id": "G2SnbGvt-nAQ"
      }
    },
    {
      "cell_type": "code",
      "source": [
        "# Data examples\n",
        "show_data_examples(train_sentiment, 660, 680, Fore.LIGHTGREEN_EX)"
      ],
      "metadata": {
        "colab": {
          "base_uri": "https://localhost:8080/"
        },
        "id": "xpvpeXvx4z_x",
        "outputId": "08a7df01-0114-4361-83e9-a3dffedce492"
      },
      "execution_count": null,
      "outputs": [
        {
          "output_type": "stream",
          "name": "stdout",
          "text": [
            "EXAMPLES:\n",
            "\n",
            "\u001b[30m 661. @user Dana white reportedly said holly will have to wait to fight Ronda in July but she wants to fight in February or March smgdh -> \u001b[92m neutral\n",
            "\u001b[30m 662. @user it\\u2019s time to call in the CBB...Monday is going down! -> \u001b[92m negative\n",
            "\u001b[30m 663. \"it's august 8th and still no Frank Ocean album, when will this terror end\" -> \u001b[92m negative\n",
            "\u001b[30m 664. Is your computer acting like it is still on Labor Day break? Just reboot - It's patch Tuesday :) -> \u001b[92m neutral\n",
            "\u001b[30m 665. We didn 39t make The Hills Tuesday night session at PaleyFest but those -> \u001b[92m neutral\n",
            "\u001b[30m 666. AC Milan reportedly want Miralem Pjanic to join the San Siro in January #FootballFanatic -> \u001b[92m neutral\n",
            "\u001b[30m 667. @user You can now Listen new song cover of @user  Love yourself\"\" by: Justin bieber heres the link~&gt;https://t.co/Mq1tVGbqxm\"\"\" -> \u001b[92m neutral\n",
            "\u001b[30m 668. \"Bucks backcourt mates Brandon Jennings and Monta Ellis had a \\\"\"\"\"little brother-big brother\\\"\"\"\" talk on Sunday\\u002c as Jennings described it.\" -> \u001b[92m neutral\n",
            "\u001b[30m 669. Capello: I\\u2019ll Tweak Lineup for Azerbaijan Game: Coach Fabio Capello said Monday he will tweak the Russian lineup... -> \u001b[92m neutral\n",
            "\u001b[30m 670. \"Managed to loose my keys on 6th, puke my guts up all the next day and sober up in time for the sam smith concert... Then\" -> \u001b[92m negative\n",
            "\u001b[30m 671. \"The 2nd act released onto the FUTURE-ONE line up is the massive ORGAN DONORS! 30th November @ City Nightclub, Falkirk. #Nutcases\" -> \u001b[92m neutral\n",
            "\u001b[30m 672. PSN Tuesday: Assassin\\u2019s Creed 3\\u002c Okami HD: You can buy all the Assassin\\u2019s Creed you can handle on PSN today. Both... -> \u001b[92m neutral\n",
            "\u001b[30m 673. Dear God, may we trade you all the music \"artists\" at tonight's #MTVVMAs and have Frank Sinatra and Kurt Cobain back? Please? #Amen -> \u001b[92m neutral\n",
            "\u001b[30m 674. Fan walks with Seth Rollins on Monday night raw @user via @user -> \u001b[92m neutral\n",
            "\u001b[30m 675. Waiting for Newcastle to smash the Mackems with @user #DerbyDay in the sun! -> \u001b[92m neutral\n",
            "\u001b[30m 676. I basically live here. Find me on the 4th floor! (@ Dr. Martin Luther King Jr. Library) on #Yelp -> \u001b[92m neutral\n",
            "\u001b[30m 677. Chelsea Manning may face solitary confinement after caught with the Caitlyn Jenner Vanity Fair -> \u001b[92m neutral\n",
            "\u001b[30m 678. The Book of Souls sounds like it's going to be everything we love about Iron Maiden. Can't wait for sept 4th! -> \u001b[92m positive\n",
            "\u001b[30m 679. \"Or may be they're not convinced that Yakub was a traitor, rather helping the authorities. It's a perception game. -> \u001b[92m neutral\n",
            "\u001b[30m 680. Something is wrong with those people born at the end of march including myself and Lady Gaga -> \u001b[92m negative\n"
          ]
        }
      ]
    },
    {
      "cell_type": "markdown",
      "source": [
        "The tweets contained in the dataset have been partially preprocessed: the users mentions have been anonymized and substitudet by `@user`, while emoji and hastags have been kept."
      ],
      "metadata": {
        "id": "aKjBoHnj9V-X"
      }
    },
    {
      "cell_type": "markdown",
      "source": [
        "**Sequence length**"
      ],
      "metadata": {
        "id": "vLdPhCBhBJYu"
      }
    },
    {
      "cell_type": "code",
      "source": [
        "sequence_lengths = count_sequence_length(train_sentiment, val_sentiment, test_sentiment)\n",
        "plot_sequence_length(sequence_lengths)"
      ],
      "metadata": {
        "colab": {
          "base_uri": "https://localhost:8080/",
          "height": 458
        },
        "id": "puOM91KmBJYw",
        "outputId": "a6cbb2d2-425a-4fa7-d059-d158dd31a454"
      },
      "execution_count": null,
      "outputs": [
        {
          "output_type": "display_data",
          "data": {
            "text/plain": [
              "<Figure size 1440x576 with 1 Axes>"
            ],
            "image/png": "[encoded data removed]"
          },
          "metadata": {}
        }
      ]
    },
    {
      "cell_type": "code",
      "source": [
        "max(sequence_lengths)"
      ],
      "metadata": {
        "colab": {
          "base_uri": "https://localhost:8080/"
        },
        "id": "DVQoLDxBI2Tt",
        "outputId": "dc17012c-96d1-4fb1-e7cf-f47ab0b0fd69"
      },
      "execution_count": null,
      "outputs": [
        {
          "output_type": "execute_result",
          "data": {
            "text/plain": [
              "117"
            ]
          },
          "metadata": {},
          "execution_count": 41
        }
      ]
    },
    {
      "cell_type": "code",
      "source": [
        "# number of tweets with more than 80 tokens\n",
        "sl = [x for x in sequence_lengths if x > 80]\n",
        "len(sl)"
      ],
      "metadata": {
        "colab": {
          "base_uri": "https://localhost:8080/"
        },
        "id": "C3smH4qyrg-f",
        "outputId": "e2f325e0-4898-4423-e7b1-59fb2cd0ee39"
      },
      "execution_count": null,
      "outputs": [
        {
          "output_type": "execute_result",
          "data": {
            "text/plain": [
              "5"
            ]
          },
          "metadata": {},
          "execution_count": 80
        }
      ]
    },
    {
      "cell_type": "markdown",
      "source": [
        "From the histogram above, we can see that most of the tokenized tweets have less then 80 tokens. However, the longest tokenized tweet has 117 tokens."
      ],
      "metadata": {
        "id": "vvC6K2L0BOa9"
      }
    },
    {
      "cell_type": "markdown",
      "source": [
        "**Tweet Preprocessing**"
      ],
      "metadata": {
        "id": "7D6jZbCI3B1W"
      }
    },
    {
      "cell_type": "code",
      "source": [
        "train_sentiment_prep = train_sentiment.map(preprocessing_function)\n",
        "val_sentiment_prep = val_sentiment.map(preprocessing_function)\n",
        "test_sentiment_prep = test_sentiment.map(preprocessing_function)"
      ],
      "metadata": {
        "id": "LUZqQSvnrzQk"
      },
      "execution_count": null,
      "outputs": []
    },
    {
      "cell_type": "code",
      "source": [
        "show_data_examples(train_sentiment_prep, 10, 100, Fore.LIGHTGREEN_EX)"
      ],
      "metadata": {
        "colab": {
          "base_uri": "https://localhost:8080/"
        },
        "outputId": "9f67d1a5-8e2d-4ca7-d91d-8a7df90a8545",
        "id": "Sbf73wb2rzQk"
      },
      "execution_count": null,
      "outputs": [
        {
          "output_type": "stream",
          "name": "stdout",
          "text": [
            "EXAMPLES:\n",
            "\n",
            "\u001b[30m 11. @USER Well said on HMW. Can you now address why Texans fans file out of the stadium midway through the 4th qtr of every game? -> \u001b[92m neutral\n",
            "\u001b[30m 12. Just said hello to Dennis Kucinich as he walked casually through campus with his hotwife. He's on 22nd st! -> \u001b[92m neutral\n",
            "\u001b[30m 13. Super excited for homecoming Saturday with Monroe! :D my new nephew is here but I can\\u2019t see him :( -> \u001b[92m positive\n",
            "\u001b[30m 14. That sucks if you have to take the SATs tomorrow -> \u001b[92m negative\n",
            "\u001b[30m 15. @USER  6 tickets for Sam smith concert  Sept 30 cheap! Flew our family of 6 here fir the concert! BEYOND UPSET! -> \u001b[92m neutral\n",
            "\u001b[30m 16. \"Fiorentina have reportedly opened talks with Chelsea over taking the 20yr old Kurt Zuoma on loan in January.\" -> \u001b[92m neutral\n",
            "\u001b[30m 17. Creighton Volleyball leads 8-5 early in 2nd set. Match becomes even bigger with both Wichita St. & Missouri State down 0-1 at home tonight. -> \u001b[92m positive\n",
            "\u001b[30m 18. This time tomorrow...we'll have the Iron on. Iron Maiden pieces Drops tomorrow nights. -> \u001b[92m positive\n",
            "\u001b[30m 19. Amy Schumer sat down with The Hollywood Reporter and opened up about the sexist remarks and unnecessary criticism she's faced since -> \u001b[92m negative\n",
            "\u001b[30m 20. What is Jamie Foxx doing sitting next to Niall like you could've sat in a better spot just saying lol -> \u001b[92m neutral\n",
            "\u001b[30m 21. @USER @USER 1st uneasyness was when he got v defensive about the Charlie Hebdo stuff, even tho he had pals patiently explaining\" -> \u001b[92m neutral\n",
            "\u001b[30m 22. Reminder: Samsung Unveils the Galaxy Note 5 and S6 Edge+ Tomorrow Morning! - - tech news... -> \u001b[92m positive\n",
            "\u001b[30m 23. \"Gonna do a movie marathon with my friend today and tomorrow. Twilight, New Moon, Eclipse, BD1, The Runaways, Adventureland, (c)\" -> \u001b[92m neutral\n",
            "\u001b[30m 24. Oscars Well makes his debut over fences at Punchestown tomorrow. It looks as though he\\u2019ll have Plan A and Darwins Fox to overcome. -> \u001b[92m neutral\n",
            "\u001b[30m 25. Q2 10:30. Philip Rivers pass to Eddie Royal to the San Diego 19 for 7 yards. 3rd & 1. -> \u001b[92m neutral\n",
            "\u001b[30m 26. @USER Work colleague of mine on Thursday night: \"\"oh, look, they're showing the Bee Gees on video.\"\" 23-yr old colleague: \"\"who?\"\"\" -> \u001b[92m neutral\n",
            "\u001b[30m 27. Who's going to get them Gucci foams tomorrow -> \u001b[92m neutral\n",
            "\u001b[30m 28. Yes glass of red\\u002c Rammstein and day off tomorrow (thank you @USER just what I needed. -> \u001b[92m positive\n",
            "\u001b[30m 29. Vampettes we are back on the 21st place keep tweeting with the hashtag mtvstars The Vamps mtvstars of2015 -> \u001b[92m positive\n",
            "\u001b[30m 30. Ryan Braun returned to the lineup on Wednesday after missing two games with lower back tightness. -> \u001b[92m neutral\n",
            "\u001b[30m 31. \"ichiro has nothing. If you want to see hustle: Kenny Lofton, 17 October 1995, scores from second base on a past ball. go tribe alds\" -> \u001b[92m neutral\n",
            "\u001b[30m 32. Looking forward to going to Carrow Rd tonight. Last time we were there\\u002c Bale scored 2 and we were 3rd. Do not want extra time though -> \u001b[92m positive\n",
            "\u001b[30m 33. Gonna go to the north game tomorrow night. I better see some of you north kiddos -> \u001b[92m neutral\n",
            "\u001b[30m 34. Right guys\\u002c last competition of the night... Like this status for a chance to win a copy of Judas Priest\\u2019s 30th... -> \u001b[92m positive\n",
            "\u001b[30m 35. We\\u2019re in the studio working on the new album and it sounds EPIC. We may as well pick up our Brit Award now\\u002c tbh. -> \u001b[92m positive\n",
            "\u001b[30m 36. \"last day of august, waiting for frank ocean to pull a beyonce. -> \u001b[92m neutral\n",
            "\u001b[30m 37. info --> Grand opening sharetea bubble tea with @USER 2 nov 2012 mall taman anggrek 11:00 - 14:00 * Jadwal ke-1 besok ! -> \u001b[92m neutral\n",
            "\u001b[30m 38. Sunday (tomorrow) is National Ice Cream Day and have we got a gift for you!   Join us for an ice cream sundae and... -> \u001b[92m positive\n",
            "\u001b[30m 39. Gucci pants himself store january lay open the span thine atomic irruptive concomitant so that cons comburent:... -> \u001b[92m neutral\n",
            "\u001b[30m 40. still not over how Nicki snapped like a 12th grader on their last day of high school -> \u001b[92m neutral\n",
            "\u001b[30m 41. I may or may not buy myself the illustrated version of Harry potter for my birthday -> \u001b[92m positive\n",
            "\u001b[30m 42. I wanna see STUDIO FOOTAGE SO BAD. We are about to hear some unreleased STUFF! Likeee I can\\u2019t wait until Sunday. -> \u001b[92m positive\n",
            "\u001b[30m 43. @USER how the hell does every one else get to keep their religious and 1st amnt rights, except Christians!!! This is just wrong!!!\" -> \u001b[92m negative\n",
            "\u001b[30m 44. A @USER rule change should allow Carly Fiorina to earn a spot on the main stage for the 2nd Republican debate. -> \u001b[92m positive\n",
            "\u001b[30m 45. \"TFI Friday doesn't look like it's coming back, as Chris Evans focuses on new-look Top Gear -> \u001b[92m neutral\n",
            "\u001b[30m 46. np The Way You Make Me Feel - 2012 Remaster by Michael Jackson from the album Bad 25th Anniversary. -> \u001b[92m neutral\n",
            "\u001b[30m 47. \"I'm going to see Paper Towns. Saturday, 22 August 2015 at 17:40 in Leigh cineworld\" -> \u001b[92m positive\n",
            "\u001b[30m 48. @USER Yepo I came in Milan it was my 1st concert and it was so good you guys did an amazing job! You are flawless live like PERFECT! -> \u001b[92m positive\n",
            "\u001b[30m 49. days dool Tuesday Hope has to pick up Ciara. Rafe wants a real case not just publicity like Justin -> \u001b[92m neutral\n",
            "\u001b[30m 50. Seth Rollins talks &amp; talks every Monday on RAW for about 45 minutes -> \u001b[92m neutral\n",
            "\u001b[30m 51. Thanks manager for putting me on the schedule for Sunday\" -> \u001b[92m negative\n",
            "\u001b[30m 52. I'm sat at work just laughing at all these Hulk Hogan tweets. Hahha ffs -> \u001b[92m positive\n",
            "\u001b[30m 53. @USER mlbcentral David Wright crushing a dinger on his first swing since April 14th. I didn't think he would pull a Wilmer Flores! -> \u001b[92m neutral\n",
            "\u001b[30m 54. I feel like the new Janet Jackson single is bringing back 90s R&amp;B. via @USER -> \u001b[92m positive\n",
            "\u001b[30m 55. Anyone want to see Sam smith with me on October 6th? -> \u001b[92m neutral\n",
            "\u001b[30m 56. This Friday OUTHOUSE is playing at Still Partners in Sea Cliff ! Hop on the Expressway to Nirvana! -> \u001b[92m positive\n",
            "\u001b[30m 57. \"You can't shit talk Kpop. Every group is so in sync and vocally on point. It may not be your thing, but it's talent.\" -> \u001b[92m neutral\n",
            "\u001b[30m 58. I hope Milan mom say that she can come over on the 28th -> \u001b[92m neutral\n",
            "\u001b[30m 59. Don\\u2019t forget Mitch Daniels is going to be on Steven Colbert\\u2019s show Thursday.  Think this will come up as a topic? -> \u001b[92m neutral\n",
            "\u001b[30m 60. Amazon prime is literally a lie...I ordered a book LAST MONDAY &amp; it still isn't here. do better @USER -> \u001b[92m negative\n",
            "\u001b[30m 61. Who the hell moshes at Matt and Kim?? Next time watch out for my face\\u002c mofos! My cheekbones better not be purple tomorrow. @USER -> \u001b[92m negative\n",
            "\u001b[30m 62. \"What a difference not having Sterling on the pitch makes! Welbeck dragged wide 1st half, the Ox replaces Sterling, Welbeck down middle, goal\" -> \u001b[92m positive\n",
            "\u001b[30m 63. \"Dear lovely Christians, I wish to inform you, tomorrow we got one Mass @USER 10am as we'll be submitting our parish family day collection!\" -> \u001b[92m positive\n",
            "\u001b[30m 64. \"To Kpop fans, we song along to vocals, 2nd voices, raps, fanchants, do the instruments &amp; even perform its own choreo -> \u001b[92m positive\n",
            "\u001b[30m 65. Cherie Blair is sat on our coach going to the games! olympics2012 -> \u001b[92m neutral\n",
            "\u001b[30m 66. continued : Emmanuel Adebayor has not travelled with the squad for our Europa League away tie in Greece tomorrow evening. -> \u001b[92m neutral\n",
            "\u001b[30m 67. Mario Williams is catching hell! He will be Exposed on Sunday... Not like Buffalo don't see him 4 who he is Already! -> \u001b[92m negative\n",
            "\u001b[30m 68. \"Kris Bryant hurt, Joe Maddon ejected in today's Cubs game, and it's only the 6th inning. -> \u001b[92m negative\n",
            "\u001b[30m 69. @USER Last Wednesday, when I saw you dressed as Robin, all I can think about is \"Who's Batman? Where's the Teen Titans?\" -> \u001b[92m neutral\n",
            "\u001b[30m 70. @USER Brock lesnar live from madison square garden sounds like it could just be a live feed of him sat on a chair for 3 hours -> \u001b[92m neutral\n",
            "\u001b[30m 71. @USER Frank ocean releasing his second album december 31st 2015 on new years eve. heres the interview... -> \u001b[92m neutral\n",
            "\u001b[30m 72. @USER @USER at da end of da night no girl that roll with me is on da MTA! They are above that as long as I can afford that! -> \u001b[92m positive\n",
            "\u001b[30m 73. @USER SCOTUS based their argument on the 14th. No matter how you stretch it race was not involved. -> \u001b[92m neutral\n",
            "\u001b[30m 74. My mom's over here tryna tell me that we're taking the CAHSEE tomorrow ._. Nigga it's only the second month of school.. slow your roll -> \u001b[92m negative\n",
            "\u001b[30m 75. \"Rahul Gandhi held Indian citizenship from day one: Congress: New Delhi, Nov 18: Dismissing BJP leader Subraman... -> \u001b[92m neutral\n",
            "\u001b[30m 76. \"I'm going to Paramore at Rock Im Park in Nuremburg, Germany - Jun 8 -> \u001b[92m neutral\n",
            "\u001b[30m 77. Happy Birthday Nick J  May you live long and Happy :) -> \u001b[92m positive\n",
            "\u001b[30m 78. ECHO: Sex offender is warned he may face jail over offences dorset -> \u001b[92m negative\n",
            "\u001b[30m 79. I hope Bernie Sanders is a sun and the other two are shooting stars or black holes. -> \u001b[92m positive\n",
            "\u001b[30m 80. \"Shows how much you can trust drivers answering these questions. Alonso was still saying on Monday that Ferrari split is \"\"\"just a rumor.\"\"\" f1\" -> \u001b[92m neutral\n",
            "\u001b[30m 81. Who else is going to the Chris brown tour this Thursday chris brown#onehellofanighttour -> \u001b[92m positive\n",
            "\u001b[30m 82. Your inspirational quotes on twitter/Feb never really got to me. But oh damn ur pics of them on IG have truly inspired me. idiots\" -> \u001b[92m negative\n",
            "\u001b[30m 83. Another beauty of a day in Athens\\u002c Greece. I trust you\\u2019ll have an exceptional Friday wherever in the world you are. Much love. -> \u001b[92m positive\n",
            "\u001b[30m 84. \"Another great night in Split, off to Hvar on the 8:30 ferry tomorrow morning... dreading the packing but excited to get there!\" -> \u001b[92m positive\n",
            "\u001b[30m 85. @USER and im seeing Ed live this Saturday at b'ham NIA! It would be amazing to get the book signed. Thanks for putting it together -> \u001b[92m positive\n",
            "\u001b[30m 86. \"Church tonight, who will you bring???\" -> \u001b[92m neutral\n",
            "\u001b[30m 87. Q_Q Today was the day that Naruto shippuden: UNS4 was suppose to come out. WHYYY DID THEY PUSH IT ALL THE WAY TO JAN??? HELLO -> \u001b[92m negative\n",
            "\u001b[30m 88. Pics of the March Fourth Marching Band at the Oregon Country Fair closing out the show Sunday night. Their... -> \u001b[92m neutral\n",
            "\u001b[30m 89. The audio booth is ready to blow the roof off the Comcast Center tomorrow! Are you? mdmadness -> \u001b[92m positive\n",
            "\u001b[30m 90. welll who wants to see Ed Sheeran with me on the 17th??? -> \u001b[92m positive\n",
            "\u001b[30m 91. GOALdotCOM: Premier League Team of the Week: Van Persie & Aguero both star after City & Arsenal wins -> \u001b[92m positive\n",
            "\u001b[30m 92. The Hitchhiker's Guide to the Galaxy Game - 30th Anniversary Edition Need to sign up with the BBC online. -> \u001b[92m neutral\n",
            "\u001b[30m 93. I'm seeing Ed Sheeran on Wednesday in Miami so if you wanna meet up or say hi hmu! -> \u001b[92m positive\n",
            "\u001b[30m 94. \"Chuck Close shares his best-kept secrets with @USER on the eve of his new show, opening Thursday @USER -> \u001b[92m neutral\n",
            "\u001b[30m 95. Vermaelen the hero for Barca: Thomas Vermaelen was the unlikely hero as Barcelona laboured to a 1-0 home win over Malaga on Saturday ... -> \u001b[92m positive\n",
            "\u001b[30m 96. @USER I\\u2019m sick with something ill be at school on Monday though -> \u001b[92m negative\n",
            "\u001b[30m 97. \"There's something about Friday Night Lights, you just get chills thinking about it .\" -> \u001b[92m positive\n",
            "\u001b[30m 98. Googled the snake I stepped over on the trail Sunday. Baby timber rattler. So time to Google \"snake-proof hiking boots.\" -> \u001b[92m neutral\n",
            "\u001b[30m 99. @USER Also, his anger against Hindus are justified but couldn't get why he was so anti Islam..may be he was just fed up of religions\" -> \u001b[92m negative\n",
            "\u001b[30m 100. Ricky Ponting and I now have something in common. Today he passed 23\\u002c000 1st class runs. Last night at training\\u002c i was hit for 23\\u002c000 runs. -> \u001b[92m neutral\n"
          ]
        }
      ]
    },
    {
      "cell_type": "markdown",
      "source": [
        "The preprocessing function has performed the actions described in the previous sections."
      ],
      "metadata": {
        "id": "egZ756h_3zpK"
      }
    },
    {
      "cell_type": "code",
      "source": [
        "sequence_lengths = count_sequence_length(train_sentiment_prep, val_sentiment_prep, test_sentiment_prep)\n",
        "plot_sequence_length(sequence_lengths)"
      ],
      "metadata": {
        "colab": {
          "base_uri": "https://localhost:8080/",
          "height": 526
        },
        "id": "RfUpawJvO-hg",
        "outputId": "3024cbe3-b0e3-4df1-aea2-d2b2cf87898c"
      },
      "execution_count": null,
      "outputs": [
        {
          "output_type": "display_data",
          "data": {
            "text/plain": [
              "<Figure size 1440x576 with 1 Axes>"
            ],
            "image/png": "[encoded data removed]"
          },
          "metadata": {}
        }
      ]
    },
    {
      "cell_type": "code",
      "source": [
        "max(sequence_lengths)"
      ],
      "metadata": {
        "colab": {
          "base_uri": "https://localhost:8080/"
        },
        "id": "s-1Ll-7KPF7j",
        "outputId": "0cb1c41e-cddd-4001-f558-c57da50f99d9"
      },
      "execution_count": null,
      "outputs": [
        {
          "output_type": "execute_result",
          "data": {
            "text/plain": [
              "107"
            ]
          },
          "metadata": {},
          "execution_count": 94
        }
      ]
    },
    {
      "cell_type": "code",
      "source": [
        "# number of tweets with more than 80 tokens\n",
        "sl = [x for x in sequence_lengths if x > 80]\n",
        "len(sl)"
      ],
      "metadata": {
        "colab": {
          "base_uri": "https://localhost:8080/"
        },
        "id": "lgk9cezk3I4B",
        "outputId": "47a4e3b6-708b-4c0b-c5bc-8e853314e172"
      },
      "execution_count": null,
      "outputs": [
        {
          "output_type": "execute_result",
          "data": {
            "text/plain": [
              "6"
            ]
          },
          "metadata": {},
          "execution_count": 97
        }
      ]
    },
    {
      "cell_type": "markdown",
      "source": [
        "From the histogram above, we can see that most of the tokenized preprocessed tweets have less then 80 tokens. However, the longest tokenized tweet has 107 tokens."
      ],
      "metadata": {
        "id": "syZwEdZd3RTL"
      }
    },
    {
      "cell_type": "markdown",
      "source": [
        "### 4.3 - Data Tokenization\n",
        "\n",
        "In this section, tweets are tokenized by using the BERTweet tokenizer. I first applied the tokenization to the original tweets. Then, I tokenized the preprocessed tweets.\n",
        "\n",
        "To tokenize the tweets, I used the `max_length` padding option, which truncates the tokenized tweets to the same length. Most of the original tweets have a length below 80, however, in the *hate* and *sentiment* datasets the longest tokenized tweets have 144 and 117 tokens respectively.\n",
        "\n",
        "I decided to use a max length of 100 so that most of the tweets in the three datasets won't be truncated.\n"
      ],
      "metadata": {
        "id": "m7WgteOB9wq6"
      }
    },
    {
      "cell_type": "code",
      "source": [
        "MAX_LEN = 100"
      ],
      "metadata": {
        "id": "72ceZGwg5LxX"
      },
      "execution_count": null,
      "outputs": []
    },
    {
      "cell_type": "code",
      "source": [
        "# helper functions\n",
        "\n",
        "def tokenize_function(examples):\n",
        "  \"\"\" Call the tokenizer on a tweet. \"\"\"\n",
        "\n",
        "  return tokenizer(examples[\"text\"], padding='max_length', truncation=True, max_length=MAX_LEN)\n",
        "\n",
        "\n",
        "def tokenize_datasets(train, val, test):\n",
        "  \"\"\" Tokenize the tweets in the training, validation and test sets. After that,\n",
        "  the 'label' column is renamed to 'labels' and the 'text' column is removed. \n",
        "  Finally, the dataset's format is set to 'torch'. The resulting datasets have the\n",
        "  columns required by the BERTweet tokenizer.\"\"\"\n",
        "\n",
        "  train_tokenized_dataset = train.map(tokenize_function, batched=True)\n",
        "  train_tokenized_dataset = train_tokenized_dataset.rename_column('label', 'labels')\n",
        "  train_tokenized_dataset = train_tokenized_dataset.remove_columns(['text'])\n",
        "  train_tokenized_dataset = train_tokenized_dataset.with_format('torch')\n",
        "\n",
        "  val_tokenized_dataset = val.map(tokenize_function, batched=True)\n",
        "  val_tokenized_dataset = val_tokenized_dataset.rename_column('label', 'labels')\n",
        "  val_tokenized_dataset = val_tokenized_dataset.remove_columns(['text'])\n",
        "  val_tokenized_dataset = val_tokenized_dataset.with_format('torch')\n",
        "\n",
        "  test_tokenized_dataset = test.map(tokenize_function, batched=True)\n",
        "  test_tokenized_dataset = test_tokenized_dataset.rename_column('label', 'labels')\n",
        "  test_tokenized_dataset = test_tokenized_dataset.remove_columns(['text'])\n",
        "  test_tokenized_dataset = test_tokenized_dataset.with_format('torch')\n",
        "\n",
        "  return train_tokenized_dataset, val_tokenized_dataset, test_tokenized_dataset\n"
      ],
      "metadata": {
        "id": "TPpVqwQ993s6"
      },
      "execution_count": null,
      "outputs": []
    },
    {
      "cell_type": "markdown",
      "source": [
        "#### 4.3.1 - Emotion Recognition"
      ],
      "metadata": {
        "id": "YppyQ1Kg98tu"
      }
    },
    {
      "cell_type": "markdown",
      "source": [
        "**Original Tweet Tokenization**"
      ],
      "metadata": {
        "id": "JFW3AcVpeDyS"
      }
    },
    {
      "cell_type": "code",
      "source": [
        "# Data tokenization\n",
        "train_tokenized_emotion, val_tokenized_emotion, test_tokenized_emotion = tokenize_datasets(train_emotion, val_emotion, test_emotion)\n"
      ],
      "metadata": {
        "id": "tAHNdmaSCa7O"
      },
      "execution_count": null,
      "outputs": []
    },
    {
      "cell_type": "code",
      "source": [
        "# column names of the tokenized tweets\n",
        "train_tokenized_emotion.column_names"
      ],
      "metadata": {
        "colab": {
          "base_uri": "https://localhost:8080/"
        },
        "id": "_al9sWv6DPYC",
        "outputId": "92ac66f6-87f9-4de7-e9e8-846097954d4f"
      },
      "execution_count": null,
      "outputs": [
        {
          "output_type": "execute_result",
          "data": {
            "text/plain": [
              "['labels', 'input_ids', 'token_type_ids', 'attention_mask']"
            ]
          },
          "metadata": {},
          "execution_count": 156
        }
      ]
    },
    {
      "cell_type": "markdown",
      "source": [
        "**Preprocessed Tweet Tokenization**"
      ],
      "metadata": {
        "id": "fvrmGVqveKCY"
      }
    },
    {
      "cell_type": "code",
      "source": [
        "# Data tokenization\n",
        "train_tokenized_emotion_prep, val_tokenized_emotion_prep, test_tokenized_emotion_prep = tokenize_datasets(train_emotion_prep, val_emotion_prep, test_emotion_prep)"
      ],
      "metadata": {
        "id": "KeppzGTcmUww"
      },
      "execution_count": null,
      "outputs": []
    },
    {
      "cell_type": "markdown",
      "source": [
        "#### 4.3.2 - Hate Speech Detection"
      ],
      "metadata": {
        "id": "RN08d0Sh-A30"
      }
    },
    {
      "cell_type": "markdown",
      "source": [
        "**Original Tweet Tokenization**"
      ],
      "metadata": {
        "id": "jla4J3-bn2Fl"
      }
    },
    {
      "cell_type": "code",
      "source": [
        "# Data tokenization\n",
        "train_tokenized_hate, val_tokenized_hate, test_tokenized_hate = tokenize_datasets(train_hate, val_hate, test_hate)"
      ],
      "metadata": {
        "id": "uVNO1UyMCwIh"
      },
      "execution_count": null,
      "outputs": []
    },
    {
      "cell_type": "markdown",
      "source": [
        "**Preprocessed Tweet Tokenization**"
      ],
      "metadata": {
        "id": "xS2pC4u_oPs3"
      }
    },
    {
      "cell_type": "code",
      "source": [
        "# Data tokenization\n",
        "train_tokenized_hate_prep, val_tokenized_hate_prep, test_tokenized_hate_prep = tokenize_datasets(train_hate_prep, val_hate_prep, test_hate_prep)"
      ],
      "metadata": {
        "id": "gDv0Mr_joPs4"
      },
      "execution_count": null,
      "outputs": []
    },
    {
      "cell_type": "markdown",
      "source": [
        "#### 4.3.3 - Sentiment Analysis"
      ],
      "metadata": {
        "id": "bEeTrynR9_BP"
      }
    },
    {
      "cell_type": "markdown",
      "source": [
        "**Original Tweet Tokenization**"
      ],
      "metadata": {
        "id": "QKIhC7T4n2yj"
      }
    },
    {
      "cell_type": "code",
      "source": [
        "# Data tokenization\n",
        "train_tokenized_sentiment, val_tokenized_sentiment, test_tokenized_sentiment = tokenize_datasets(train_sentiment, val_sentiment, test_sentiment)"
      ],
      "metadata": {
        "id": "E_kMrjTWC4Tw"
      },
      "execution_count": null,
      "outputs": []
    },
    {
      "cell_type": "markdown",
      "source": [
        "**Preprocessed Tweet Tokenization**"
      ],
      "metadata": {
        "id": "i_XJeE2_rzQj"
      }
    },
    {
      "cell_type": "code",
      "source": [
        "# Data tokenization\n",
        "train_tokenized_sentiment_prep, val_tokenized_sentiment_prep, test_tokenized_sentiment_prep = tokenize_datasets(train_sentiment_prep, val_sentiment_prep, test_sentiment_prep)"
      ],
      "metadata": {
        "id": "l7fyRlvHrzQk"
      },
      "execution_count": null,
      "outputs": []
    },
    {
      "cell_type": "markdown",
      "metadata": {
        "id": "Y1RqBajss8lz"
      },
      "source": [
        "### 4.4 - Model finetuning\n",
        "\n",
        "This section contains the code used to finetuned $BERTeet_{base}$ on both the original and the preprocessed tweets of the *emotion*, *hate* and *sentiment* datasets.\n",
        "\n",
        "For each dataset and for each kind of data, I selected the model with the best validation accuracy. The table below shows a summary of the hyperparameters of the best models.\n",
        "\n",
        "Dataset                 | Batch Size | Number of Epochs | Validation Accuracy\n",
        "----------------------  |------------| ----| -------\n",
        "emotion (original)      | 32         | 3   | 82.4%\n",
        "emotion (preprocessed)  | 16         | 2   | 80.7%\n",
        "hate (original)         | 32         | 2   | 80.3%\n",
        "hate (preprocessed)     | 16         | 2   | 78.1%\n",
        "sentiment (original)    | 16         | 2   | 73.7%\n",
        "sentiment (preprocessed)| 16         | 4   | 72.1%\n",
        "\n",
        "As we can see, most of the models reached the best validation accuracy in 2 epochs, using a batch size of 16."
      ]
    },
    {
      "cell_type": "code",
      "execution_count": null,
      "metadata": {
        "id": "21Pa2oMzc6h4"
      },
      "outputs": [],
      "source": [
        "accuracy = load_metric(\"accuracy\")"
      ]
    },
    {
      "cell_type": "code",
      "execution_count": null,
      "metadata": {
        "id": "O9dfquc5v3cF"
      },
      "outputs": [],
      "source": [
        "# Hyperparameters\n",
        "batch_sizes = [16, 32]\n",
        "epochs = [2, 3, 4]"
      ]
    },
    {
      "cell_type": "code",
      "execution_count": null,
      "metadata": {
        "id": "H2sZ_EjGdAbS"
      },
      "outputs": [],
      "source": [
        "def compute_accuracy(eval_pred):\n",
        "  \"\"\" Compute accuracy on the model's predictions. \"\"\"\n",
        "  \n",
        "    logits, labels = eval_pred\n",
        "    predictions = np.argmax(logits, axis=-1)\n",
        "    return accuracy.compute(predictions=predictions, references=labels)"
      ]
    },
    {
      "cell_type": "markdown",
      "metadata": {
        "id": "0UGZOim2t7wf"
      },
      "source": [
        "#### 4.4.1 - Emotion Recognition"
      ]
    },
    {
      "cell_type": "code",
      "execution_count": null,
      "metadata": {
        "colab": {
          "base_uri": "https://localhost:8080/"
        },
        "id": "_17IHiLBtBJR",
        "outputId": "052208cc-9179-49f0-e166-ff91810e323e"
      },
      "outputs": [
        {
          "name": "stderr",
          "output_type": "stream",
          "text": [
            "loading configuration file https://huggingface.co/vinai/bertweet-base/resolve/main/config.json from cache at /root/.cache/huggingface/transformers/356366feedcea0917e30f7f235e1e062ffc2d28138445d5672a184be756c8686.a2b6026e688d1b19cebc0981d8f3a5b1668eabfda55b2c42049d5eac0bc8cb2d\n",
            "Model config RobertaConfig {\n",
            "  \"_name_or_path\": \"vinai/bertweet-base\",\n",
            "  \"architectures\": [\n",
            "    \"RobertaForMaskedLM\"\n",
            "  ],\n",
            "  \"attention_probs_dropout_prob\": 0.1,\n",
            "  \"bos_token_id\": 0,\n",
            "  \"classifier_dropout\": null,\n",
            "  \"eos_token_id\": 2,\n",
            "  \"gradient_checkpointing\": false,\n",
            "  \"hidden_act\": \"gelu\",\n",
            "  \"hidden_dropout_prob\": 0.1,\n",
            "  \"hidden_size\": 768,\n",
            "  \"id2label\": {\n",
            "    \"0\": \"LABEL_0\",\n",
            "    \"1\": \"LABEL_1\",\n",
            "    \"2\": \"LABEL_2\",\n",
            "    \"3\": \"LABEL_3\"\n",
            "  },\n",
            "  \"initializer_range\": 0.02,\n",
            "  \"intermediate_size\": 3072,\n",
            "  \"label2id\": {\n",
            "    \"LABEL_0\": 0,\n",
            "    \"LABEL_1\": 1,\n",
            "    \"LABEL_2\": 2,\n",
            "    \"LABEL_3\": 3\n",
            "  },\n",
            "  \"layer_norm_eps\": 1e-05,\n",
            "  \"max_position_embeddings\": 130,\n",
            "  \"model_type\": \"roberta\",\n",
            "  \"num_attention_heads\": 12,\n",
            "  \"num_hidden_layers\": 12,\n",
            "  \"pad_token_id\": 1,\n",
            "  \"position_embedding_type\": \"absolute\",\n",
            "  \"tokenizer_class\": \"BertweetTokenizer\",\n",
            "  \"transformers_version\": \"4.20.1\",\n",
            "  \"type_vocab_size\": 1,\n",
            "  \"use_cache\": true,\n",
            "  \"vocab_size\": 64001\n",
            "}\n",
            "\n",
            "loading weights file https://huggingface.co/vinai/bertweet-base/resolve/main/pytorch_model.bin from cache at /root/.cache/huggingface/transformers/4e07e2989cb95a6f63c704a7170b48e6e663cc203c05db424e47f4d75562cf0e.7b2adda243ecb4b085eb2d22ef1b2cd12a882a43bbb13a34c11e10f960b9bfc3\n",
            "Some weights of the model checkpoint at vinai/bertweet-base were not used when initializing RobertaForSequenceClassification: ['lm_head.decoder.bias', 'lm_head.bias', 'roberta.pooler.dense.bias', 'lm_head.layer_norm.weight', 'lm_head.dense.weight', 'lm_head.decoder.weight', 'lm_head.layer_norm.bias', 'lm_head.dense.bias', 'roberta.pooler.dense.weight']\n",
            "- This IS expected if you are initializing RobertaForSequenceClassification from the checkpoint of a model trained on another task or with another architecture (e.g. initializing a BertForSequenceClassification model from a BertForPreTraining model).\n",
            "- This IS NOT expected if you are initializing RobertaForSequenceClassification from the checkpoint of a model that you expect to be exactly identical (initializing a BertForSequenceClassification model from a BertForSequenceClassification model).\n",
            "Some weights of RobertaForSequenceClassification were not initialized from the model checkpoint at vinai/bertweet-base and are newly initialized: ['classifier.out_proj.bias', 'classifier.dense.bias', 'classifier.dense.weight', 'classifier.out_proj.weight']\n",
            "You should probably TRAIN this model on a down-stream task to be able to use it for predictions and inference.\n"
          ]
        }
      ],
      "source": [
        "num_classes = train_emotion.features['label'].num_classes\n",
        "bertweet_emotion = AutoModelForSequenceClassification.from_pretrained(BERTWEET_BASE, num_labels=num_classes)"
      ]
    },
    {
      "cell_type": "markdown",
      "metadata": {
        "id": "DkcI0npsg8O2"
      },
      "source": [
        "**Original data**"
      ]
    },
    {
      "cell_type": "code",
      "execution_count": null,
      "metadata": {
        "colab": {
          "base_uri": "https://localhost:8080/",
          "height": 1000
        },
        "id": "8m9LNBE40T8X",
        "outputId": "1ed2b2cc-554f-4e77-df05-5f75905853da"
      },
      "outputs": [
        {
          "name": "stderr",
          "output_type": "stream",
          "text": [
            "PyTorch: setting up devices\n",
            "The default value for the training argument `--report_to` will change in v5 (from all installed integrations to none). In v5, you will need to use `--report_to all` to get the same behavior as now. You should start updating your code and make this info disappear :-).\n",
            "/usr/local/lib/python3.7/dist-packages/transformers/optimization.py:310: FutureWarning: This implementation of AdamW is deprecated and will be removed in a future version. Use the PyTorch implementation torch.optim.AdamW instead, or set `no_deprecation_warning=True` to disable this warning\n",
            "  FutureWarning,\n",
            "***** Running training *****\n",
            "  Num examples = 3257\n",
            "  Num Epochs = 2\n",
            "  Instantaneous batch size per device = 16\n",
            "  Total train batch size (w. parallel, distributed & accumulation) = 16\n",
            "  Gradient Accumulation steps = 1\n",
            "  Total optimization steps = 408\n"
          ]
        },
        {
          "data": {
            "text/html": [
              "\n",
              "    <div>\n",
              "      \n",
              "      <progress value='408' max='408' style='width:300px; height:20px; vertical-align: middle;'></progress>\n",
              "      [408/408 01:19, Epoch 2/2]\n",
              "    </div>\n",
              "    <table border=\"1\" class=\"dataframe\">\n",
              "  <thead>\n",
              " <tr style=\"text-align: left;\">\n",
              "      <th>Epoch</th>\n",
              "      <th>Training Loss</th>\n",
              "      <th>Validation Loss</th>\n",
              "      <th>Accuracy</th>\n",
              "    </tr>\n",
              "  </thead>\n",
              "  <tbody>\n",
              "    <tr>\n",
              "      <td>1</td>\n",
              "      <td>No log</td>\n",
              "      <td>0.618158</td>\n",
              "      <td>0.799465</td>\n",
              "    </tr>\n",
              "    <tr>\n",
              "      <td>2</td>\n",
              "      <td>No log</td>\n",
              "      <td>0.539504</td>\n",
              "      <td>0.812834</td>\n",
              "    </tr>\n",
              "  </tbody>\n",
              "</table><p>"
            ],
            "text/plain": [
              "<IPython.core.display.HTML object>"
            ]
          },
          "metadata": {},
          "output_type": "display_data"
        },
        {
          "name": "stderr",
          "output_type": "stream",
          "text": [
            "***** Running Evaluation *****\n",
            "  Num examples = 374\n",
            "  Batch size = 8\n",
            "***** Running Evaluation *****\n",
            "  Num examples = 374\n",
            "  Batch size = 8\n",
            "\n",
            "\n",
            "Training completed. Do not forget to share your model on huggingface.co/models =)\n",
            "\n",
            "\n",
            "***** Running Prediction *****\n",
            "  Num examples = 374\n",
            "  Batch size = 8\n"
          ]
        },
        {
          "data": {
            "text/html": [
              "\n",
              "    <div>\n",
              "      \n",
              "      <progress value='47' max='47' style='width:300px; height:20px; vertical-align: middle;'></progress>\n",
              "      [47/47 00:01]\n",
              "    </div>\n",
              "    "
            ],
            "text/plain": [
              "<IPython.core.display.HTML object>"
            ]
          },
          "metadata": {},
          "output_type": "display_data"
        },
        {
          "name": "stderr",
          "output_type": "stream",
          "text": [
            "PyTorch: setting up devices\n",
            "The default value for the training argument `--report_to` will change in v5 (from all installed integrations to none). In v5, you will need to use `--report_to all` to get the same behavior as now. You should start updating your code and make this info disappear :-).\n",
            "/usr/local/lib/python3.7/dist-packages/transformers/optimization.py:310: FutureWarning: This implementation of AdamW is deprecated and will be removed in a future version. Use the PyTorch implementation torch.optim.AdamW instead, or set `no_deprecation_warning=True` to disable this warning\n",
            "  FutureWarning,\n",
            "***** Running training *****\n",
            "  Num examples = 3257\n",
            "  Num Epochs = 2\n",
            "  Instantaneous batch size per device = 32\n",
            "  Total train batch size (w. parallel, distributed & accumulation) = 32\n",
            "  Gradient Accumulation steps = 1\n",
            "  Total optimization steps = 204\n"
          ]
        },
        {
          "name": "stdout",
          "output_type": "stream",
          "text": [
            "\u001b[35m \n",
            "Validation accuracy (batch size 16 and epochs 2): 0.8128342245989305\n",
            " \u001b[30m\n"
          ]
        },
        {
          "data": {
            "text/html": [
              "\n",
              "    <div>\n",
              "      \n",
              "      <progress value='204' max='204' style='width:300px; height:20px; vertical-align: middle;'></progress>\n",
              "      [204/204 01:08, Epoch 2/2]\n",
              "    </div>\n",
              "    <table border=\"1\" class=\"dataframe\">\n",
              "  <thead>\n",
              " <tr style=\"text-align: left;\">\n",
              "      <th>Epoch</th>\n",
              "      <th>Training Loss</th>\n",
              "      <th>Validation Loss</th>\n",
              "      <th>Accuracy</th>\n",
              "    </tr>\n",
              "  </thead>\n",
              "  <tbody>\n",
              "    <tr>\n",
              "      <td>1</td>\n",
              "      <td>No log</td>\n",
              "      <td>0.514170</td>\n",
              "      <td>0.815508</td>\n",
              "    </tr>\n",
              "    <tr>\n",
              "      <td>2</td>\n",
              "      <td>No log</td>\n",
              "      <td>0.579458</td>\n",
              "      <td>0.799465</td>\n",
              "    </tr>\n",
              "  </tbody>\n",
              "</table><p>"
            ],
            "text/plain": [
              "<IPython.core.display.HTML object>"
            ]
          },
          "metadata": {},
          "output_type": "display_data"
        },
        {
          "name": "stderr",
          "output_type": "stream",
          "text": [
            "***** Running Evaluation *****\n",
            "  Num examples = 374\n",
            "  Batch size = 8\n",
            "***** Running Evaluation *****\n",
            "  Num examples = 374\n",
            "  Batch size = 8\n",
            "\n",
            "\n",
            "Training completed. Do not forget to share your model on huggingface.co/models =)\n",
            "\n",
            "\n",
            "***** Running Prediction *****\n",
            "  Num examples = 374\n",
            "  Batch size = 8\n"
          ]
        },
        {
          "data": {
            "text/html": [
              "\n",
              "    <div>\n",
              "      \n",
              "      <progress value='47' max='47' style='width:300px; height:20px; vertical-align: middle;'></progress>\n",
              "      [47/47 00:01]\n",
              "    </div>\n",
              "    "
            ],
            "text/plain": [
              "<IPython.core.display.HTML object>"
            ]
          },
          "metadata": {},
          "output_type": "display_data"
        },
        {
          "name": "stderr",
          "output_type": "stream",
          "text": [
            "PyTorch: setting up devices\n",
            "The default value for the training argument `--report_to` will change in v5 (from all installed integrations to none). In v5, you will need to use `--report_to all` to get the same behavior as now. You should start updating your code and make this info disappear :-).\n",
            "/usr/local/lib/python3.7/dist-packages/transformers/optimization.py:310: FutureWarning: This implementation of AdamW is deprecated and will be removed in a future version. Use the PyTorch implementation torch.optim.AdamW instead, or set `no_deprecation_warning=True` to disable this warning\n",
            "  FutureWarning,\n",
            "***** Running training *****\n",
            "  Num examples = 3257\n",
            "  Num Epochs = 3\n",
            "  Instantaneous batch size per device = 16\n",
            "  Total train batch size (w. parallel, distributed & accumulation) = 16\n",
            "  Gradient Accumulation steps = 1\n",
            "  Total optimization steps = 612\n"
          ]
        },
        {
          "name": "stdout",
          "output_type": "stream",
          "text": [
            "\u001b[35m \n",
            "Validation accuracy (batch size 32 and epochs 2): 0.7994652406417112\n",
            " \u001b[30m\n"
          ]
        },
        {
          "data": {
            "text/html": [
              "\n",
              "    <div>\n",
              "      \n",
              "      <progress value='612' max='612' style='width:300px; height:20px; vertical-align: middle;'></progress>\n",
              "      [612/612 02:04, Epoch 3/3]\n",
              "    </div>\n",
              "    <table border=\"1\" class=\"dataframe\">\n",
              "  <thead>\n",
              " <tr style=\"text-align: left;\">\n",
              "      <th>Epoch</th>\n",
              "      <th>Training Loss</th>\n",
              "      <th>Validation Loss</th>\n",
              "      <th>Accuracy</th>\n",
              "    </tr>\n",
              "  </thead>\n",
              "  <tbody>\n",
              "    <tr>\n",
              "      <td>1</td>\n",
              "      <td>No log</td>\n",
              "      <td>0.762361</td>\n",
              "      <td>0.804813</td>\n",
              "    </tr>\n",
              "    <tr>\n",
              "      <td>2</td>\n",
              "      <td>No log</td>\n",
              "      <td>0.785664</td>\n",
              "      <td>0.823529</td>\n",
              "    </tr>\n",
              "    <tr>\n",
              "      <td>3</td>\n",
              "      <td>0.226000</td>\n",
              "      <td>0.871312</td>\n",
              "      <td>0.818182</td>\n",
              "    </tr>\n",
              "  </tbody>\n",
              "</table><p>"
            ],
            "text/plain": [
              "<IPython.core.display.HTML object>"
            ]
          },
          "metadata": {},
          "output_type": "display_data"
        },
        {
          "name": "stderr",
          "output_type": "stream",
          "text": [
            "***** Running Evaluation *****\n",
            "  Num examples = 374\n",
            "  Batch size = 8\n",
            "***** Running Evaluation *****\n",
            "  Num examples = 374\n",
            "  Batch size = 8\n",
            "Saving model checkpoint to trainer_emotion_16_3/checkpoint-500\n",
            "Configuration saved in trainer_emotion_16_3/checkpoint-500/config.json\n",
            "Model weights saved in trainer_emotion_16_3/checkpoint-500/pytorch_model.bin\n",
            "***** Running Evaluation *****\n",
            "  Num examples = 374\n",
            "  Batch size = 8\n",
            "\n",
            "\n",
            "Training completed. Do not forget to share your model on huggingface.co/models =)\n",
            "\n",
            "\n",
            "***** Running Prediction *****\n",
            "  Num examples = 374\n",
            "  Batch size = 8\n"
          ]
        },
        {
          "data": {
            "text/html": [
              "\n",
              "    <div>\n",
              "      \n",
              "      <progress value='47' max='47' style='width:300px; height:20px; vertical-align: middle;'></progress>\n",
              "      [47/47 00:01]\n",
              "    </div>\n",
              "    "
            ],
            "text/plain": [
              "<IPython.core.display.HTML object>"
            ]
          },
          "metadata": {},
          "output_type": "display_data"
        },
        {
          "name": "stderr",
          "output_type": "stream",
          "text": [
            "PyTorch: setting up devices\n",
            "The default value for the training argument `--report_to` will change in v5 (from all installed integrations to none). In v5, you will need to use `--report_to all` to get the same behavior as now. You should start updating your code and make this info disappear :-).\n",
            "/usr/local/lib/python3.7/dist-packages/transformers/optimization.py:310: FutureWarning: This implementation of AdamW is deprecated and will be removed in a future version. Use the PyTorch implementation torch.optim.AdamW instead, or set `no_deprecation_warning=True` to disable this warning\n",
            "  FutureWarning,\n",
            "***** Running training *****\n",
            "  Num examples = 3257\n",
            "  Num Epochs = 3\n",
            "  Instantaneous batch size per device = 32\n",
            "  Total train batch size (w. parallel, distributed & accumulation) = 32\n",
            "  Gradient Accumulation steps = 1\n",
            "  Total optimization steps = 306\n"
          ]
        },
        {
          "name": "stdout",
          "output_type": "stream",
          "text": [
            "\u001b[35m \n",
            "Validation accuracy (batch size 16 and epochs 3): 0.8181818181818182\n",
            " \u001b[30m\n"
          ]
        },
        {
          "data": {
            "text/html": [
              "\n",
              "    <div>\n",
              "      \n",
              "      <progress value='306' max='306' style='width:300px; height:20px; vertical-align: middle;'></progress>\n",
              "      [306/306 01:43, Epoch 3/3]\n",
              "    </div>\n",
              "    <table border=\"1\" class=\"dataframe\">\n",
              "  <thead>\n",
              " <tr style=\"text-align: left;\">\n",
              "      <th>Epoch</th>\n",
              "      <th>Training Loss</th>\n",
              "      <th>Validation Loss</th>\n",
              "      <th>Accuracy</th>\n",
              "    </tr>\n",
              "  </thead>\n",
              "  <tbody>\n",
              "    <tr>\n",
              "      <td>1</td>\n",
              "      <td>No log</td>\n",
              "      <td>1.042687</td>\n",
              "      <td>0.783422</td>\n",
              "    </tr>\n",
              "    <tr>\n",
              "      <td>2</td>\n",
              "      <td>No log</td>\n",
              "      <td>1.029904</td>\n",
              "      <td>0.799465</td>\n",
              "    </tr>\n",
              "    <tr>\n",
              "      <td>3</td>\n",
              "      <td>No log</td>\n",
              "      <td>1.006998</td>\n",
              "      <td>0.823529</td>\n",
              "    </tr>\n",
              "  </tbody>\n",
              "</table><p>"
            ],
            "text/plain": [
              "<IPython.core.display.HTML object>"
            ]
          },
          "metadata": {},
          "output_type": "display_data"
        },
        {
          "name": "stderr",
          "output_type": "stream",
          "text": [
            "***** Running Evaluation *****\n",
            "  Num examples = 374\n",
            "  Batch size = 8\n",
            "***** Running Evaluation *****\n",
            "  Num examples = 374\n",
            "  Batch size = 8\n",
            "***** Running Evaluation *****\n",
            "  Num examples = 374\n",
            "  Batch size = 8\n",
            "\n",
            "\n",
            "Training completed. Do not forget to share your model on huggingface.co/models =)\n",
            "\n",
            "\n",
            "***** Running Prediction *****\n",
            "  Num examples = 374\n",
            "  Batch size = 8\n"
          ]
        },
        {
          "data": {
            "text/html": [
              "\n",
              "    <div>\n",
              "      \n",
              "      <progress value='47' max='47' style='width:300px; height:20px; vertical-align: middle;'></progress>\n",
              "      [47/47 00:01]\n",
              "    </div>\n",
              "    "
            ],
            "text/plain": [
              "<IPython.core.display.HTML object>"
            ]
          },
          "metadata": {},
          "output_type": "display_data"
        },
        {
          "name": "stderr",
          "output_type": "stream",
          "text": [
            "PyTorch: setting up devices\n",
            "The default value for the training argument `--report_to` will change in v5 (from all installed integrations to none). In v5, you will need to use `--report_to all` to get the same behavior as now. You should start updating your code and make this info disappear :-).\n",
            "/usr/local/lib/python3.7/dist-packages/transformers/optimization.py:310: FutureWarning: This implementation of AdamW is deprecated and will be removed in a future version. Use the PyTorch implementation torch.optim.AdamW instead, or set `no_deprecation_warning=True` to disable this warning\n",
            "  FutureWarning,\n",
            "***** Running training *****\n",
            "  Num examples = 3257\n",
            "  Num Epochs = 4\n",
            "  Instantaneous batch size per device = 16\n",
            "  Total train batch size (w. parallel, distributed & accumulation) = 16\n",
            "  Gradient Accumulation steps = 1\n",
            "  Total optimization steps = 816\n"
          ]
        },
        {
          "name": "stdout",
          "output_type": "stream",
          "text": [
            "\u001b[35m \n",
            "Validation accuracy (batch size 32 and epochs 3): 0.8235294117647058\n",
            " \u001b[30m\n"
          ]
        },
        {
          "data": {
            "text/html": [
              "\n",
              "    <div>\n",
              "      \n",
              "      <progress value='816' max='816' style='width:300px; height:20px; vertical-align: middle;'></progress>\n",
              "      [816/816 02:43, Epoch 4/4]\n",
              "    </div>\n",
              "    <table border=\"1\" class=\"dataframe\">\n",
              "  <thead>\n",
              " <tr style=\"text-align: left;\">\n",
              "      <th>Epoch</th>\n",
              "      <th>Training Loss</th>\n",
              "      <th>Validation Loss</th>\n",
              "      <th>Accuracy</th>\n",
              "    </tr>\n",
              "  </thead>\n",
              "  <tbody>\n",
              "    <tr>\n",
              "      <td>1</td>\n",
              "      <td>No log</td>\n",
              "      <td>1.052484</td>\n",
              "      <td>0.802139</td>\n",
              "    </tr>\n",
              "    <tr>\n",
              "      <td>2</td>\n",
              "      <td>No log</td>\n",
              "      <td>1.157816</td>\n",
              "      <td>0.818182</td>\n",
              "    </tr>\n",
              "    <tr>\n",
              "      <td>3</td>\n",
              "      <td>0.095700</td>\n",
              "      <td>1.282906</td>\n",
              "      <td>0.796791</td>\n",
              "    </tr>\n",
              "    <tr>\n",
              "      <td>4</td>\n",
              "      <td>0.095700</td>\n",
              "      <td>1.412571</td>\n",
              "      <td>0.783422</td>\n",
              "    </tr>\n",
              "  </tbody>\n",
              "</table><p>"
            ],
            "text/plain": [
              "<IPython.core.display.HTML object>"
            ]
          },
          "metadata": {},
          "output_type": "display_data"
        },
        {
          "name": "stderr",
          "output_type": "stream",
          "text": [
            "***** Running Evaluation *****\n",
            "  Num examples = 374\n",
            "  Batch size = 8\n",
            "***** Running Evaluation *****\n",
            "  Num examples = 374\n",
            "  Batch size = 8\n",
            "Saving model checkpoint to trainer_emotion_16_4/checkpoint-500\n",
            "Configuration saved in trainer_emotion_16_4/checkpoint-500/config.json\n",
            "Model weights saved in trainer_emotion_16_4/checkpoint-500/pytorch_model.bin\n",
            "***** Running Evaluation *****\n",
            "  Num examples = 374\n",
            "  Batch size = 8\n",
            "***** Running Evaluation *****\n",
            "  Num examples = 374\n",
            "  Batch size = 8\n",
            "\n",
            "\n",
            "Training completed. Do not forget to share your model on huggingface.co/models =)\n",
            "\n",
            "\n",
            "***** Running Prediction *****\n",
            "  Num examples = 374\n",
            "  Batch size = 8\n"
          ]
        },
        {
          "data": {
            "text/html": [
              "\n",
              "    <div>\n",
              "      \n",
              "      <progress value='47' max='47' style='width:300px; height:20px; vertical-align: middle;'></progress>\n",
              "      [47/47 00:01]\n",
              "    </div>\n",
              "    "
            ],
            "text/plain": [
              "<IPython.core.display.HTML object>"
            ]
          },
          "metadata": {},
          "output_type": "display_data"
        },
        {
          "name": "stderr",
          "output_type": "stream",
          "text": [
            "PyTorch: setting up devices\n",
            "The default value for the training argument `--report_to` will change in v5 (from all installed integrations to none). In v5, you will need to use `--report_to all` to get the same behavior as now. You should start updating your code and make this info disappear :-).\n",
            "/usr/local/lib/python3.7/dist-packages/transformers/optimization.py:310: FutureWarning: This implementation of AdamW is deprecated and will be removed in a future version. Use the PyTorch implementation torch.optim.AdamW instead, or set `no_deprecation_warning=True` to disable this warning\n",
            "  FutureWarning,\n",
            "***** Running training *****\n",
            "  Num examples = 3257\n",
            "  Num Epochs = 4\n",
            "  Instantaneous batch size per device = 32\n",
            "  Total train batch size (w. parallel, distributed & accumulation) = 32\n",
            "  Gradient Accumulation steps = 1\n",
            "  Total optimization steps = 408\n"
          ]
        },
        {
          "name": "stdout",
          "output_type": "stream",
          "text": [
            "\u001b[35m \n",
            "Validation accuracy (batch size 16 and epochs 4): 0.7834224598930482\n",
            " \u001b[30m\n"
          ]
        },
        {
          "data": {
            "text/html": [
              "\n",
              "    <div>\n",
              "      \n",
              "      <progress value='408' max='408' style='width:300px; height:20px; vertical-align: middle;'></progress>\n",
              "      [408/408 02:18, Epoch 4/4]\n",
              "    </div>\n",
              "    <table border=\"1\" class=\"dataframe\">\n",
              "  <thead>\n",
              " <tr style=\"text-align: left;\">\n",
              "      <th>Epoch</th>\n",
              "      <th>Training Loss</th>\n",
              "      <th>Validation Loss</th>\n",
              "      <th>Accuracy</th>\n",
              "    </tr>\n",
              "  </thead>\n",
              "  <tbody>\n",
              "    <tr>\n",
              "      <td>1</td>\n",
              "      <td>No log</td>\n",
              "      <td>1.436661</td>\n",
              "      <td>0.791444</td>\n",
              "    </tr>\n",
              "    <tr>\n",
              "      <td>2</td>\n",
              "      <td>No log</td>\n",
              "      <td>1.655609</td>\n",
              "      <td>0.783422</td>\n",
              "    </tr>\n",
              "    <tr>\n",
              "      <td>3</td>\n",
              "      <td>No log</td>\n",
              "      <td>1.443683</td>\n",
              "      <td>0.802139</td>\n",
              "    </tr>\n",
              "    <tr>\n",
              "      <td>4</td>\n",
              "      <td>No log</td>\n",
              "      <td>1.399361</td>\n",
              "      <td>0.810160</td>\n",
              "    </tr>\n",
              "  </tbody>\n",
              "</table><p>"
            ],
            "text/plain": [
              "<IPython.core.display.HTML object>"
            ]
          },
          "metadata": {},
          "output_type": "display_data"
        },
        {
          "name": "stderr",
          "output_type": "stream",
          "text": [
            "***** Running Evaluation *****\n",
            "  Num examples = 374\n",
            "  Batch size = 8\n",
            "***** Running Evaluation *****\n",
            "  Num examples = 374\n",
            "  Batch size = 8\n",
            "***** Running Evaluation *****\n",
            "  Num examples = 374\n",
            "  Batch size = 8\n",
            "***** Running Evaluation *****\n",
            "  Num examples = 374\n",
            "  Batch size = 8\n",
            "\n",
            "\n",
            "Training completed. Do not forget to share your model on huggingface.co/models =)\n",
            "\n",
            "\n",
            "***** Running Prediction *****\n",
            "  Num examples = 374\n",
            "  Batch size = 8\n"
          ]
        },
        {
          "data": {
            "text/html": [
              "\n",
              "    <div>\n",
              "      \n",
              "      <progress value='47' max='47' style='width:300px; height:20px; vertical-align: middle;'></progress>\n",
              "      [47/47 00:01]\n",
              "    </div>\n",
              "    "
            ],
            "text/plain": [
              "<IPython.core.display.HTML object>"
            ]
          },
          "metadata": {},
          "output_type": "display_data"
        },
        {
          "name": "stdout",
          "output_type": "stream",
          "text": [
            "\u001b[35m \n",
            "Validation accuracy (batch size 32 and epochs 4): 0.8101604278074866\n",
            " \u001b[30m\n"
          ]
        }
      ],
      "source": [
        "best_model_emotion = None\n",
        "best_accuracy_emotion = 0\n",
        "best_epoch_emotion = 0\n",
        "best_batch_size_emotion = 0\n",
        "\n",
        "models_emotion = []\n",
        "\n",
        "for epoch in epochs:\n",
        "  for batch_size in batch_sizes:\n",
        "\n",
        "    args = TrainingArguments(output_dir='trainer_emotion_'+str(batch_size)+'_'+str(epoch),\n",
        "                              evaluation_strategy=\"epoch\",\n",
        "                              num_train_epochs=epoch,\n",
        "                              per_device_train_batch_size=batch_size)\n",
        "\n",
        "    trainer = Trainer(\n",
        "        model=bertweet_emotion,\n",
        "        args=args,\n",
        "        train_dataset=train_tokenized_emotion,\n",
        "        eval_dataset=val_tokenized_emotion,\n",
        "        compute_metrics=compute_accuracy,\n",
        "    )\n",
        "\n",
        "    trainer.train()\n",
        "  \n",
        "    predictions = trainer.predict(val_tokenized_emotion)\n",
        "    preds = np.argmax(predictions.predictions, axis=-1)\n",
        "    val_accuracy = accuracy.compute(predictions=preds, references=predictions.label_ids)['accuracy']\n",
        "\n",
        "    print(f'{Fore.MAGENTA} \\nValidation accuracy (batch size {batch_size} and epochs {epoch}): {val_accuracy}\\n {Fore.BLACK}')\n",
        "    \n",
        "    models_emotion.append(dict(val_accuracy=val_accuracy,\n",
        "                       batch_size=batch_size,\n",
        "                       epochs=epoch\n",
        "                       ))\n",
        "\n",
        "    if val_accuracy > best_accuracy_emotion:\n",
        "      best_accuracy_emotion = val_accuracy\n",
        "      best_model_emotion = trainer\n",
        "      best_epoch_emotion = epoch\n",
        "      best_batch_size_emotion = batch_size"
      ]
    },
    {
      "cell_type": "code",
      "execution_count": null,
      "metadata": {
        "colab": {
          "base_uri": "https://localhost:8080/"
        },
        "id": "vMw65oCCoIpa",
        "outputId": "8753218f-47e6-4b42-8b06-59db5fd6930f"
      },
      "outputs": [
        {
          "name": "stdout",
          "output_type": "stream",
          "text": [
            "** Best model for Emotion Recognition **\n",
            "batch size: 32, epochs: 3, validation accuracy: 0.8235294117647058\n"
          ]
        }
      ],
      "source": [
        "print('** Best model for Emotion Recognition **')\n",
        "print(f'batch size: {best_batch_size_emotion}, epochs: {best_epoch_emotion}, validation accuracy: {best_accuracy_emotion}')\n"
      ]
    },
    {
      "cell_type": "markdown",
      "metadata": {
        "id": "DPVo9yC7iE91"
      },
      "source": [
        "**Preprocessed data**"
      ]
    },
    {
      "cell_type": "code",
      "execution_count": null,
      "metadata": {
        "colab": {
          "base_uri": "https://localhost:8080/",
          "height": 1000
        },
        "id": "EcQ7mgO4d573",
        "outputId": "65cbdc80-6916-44ee-b99e-756f1b042597"
      },
      "outputs": [
        {
          "name": "stderr",
          "output_type": "stream",
          "text": [
            "PyTorch: setting up devices\n",
            "The default value for the training argument `--report_to` will change in v5 (from all installed integrations to none). In v5, you will need to use `--report_to all` to get the same behavior as now. You should start updating your code and make this info disappear :-).\n",
            "/usr/local/lib/python3.7/dist-packages/transformers/optimization.py:310: FutureWarning: This implementation of AdamW is deprecated and will be removed in a future version. Use the PyTorch implementation torch.optim.AdamW instead, or set `no_deprecation_warning=True` to disable this warning\n",
            "  FutureWarning,\n",
            "***** Running training *****\n",
            "  Num examples = 3257\n",
            "  Num Epochs = 2\n",
            "  Instantaneous batch size per device = 16\n",
            "  Total train batch size (w. parallel, distributed & accumulation) = 16\n",
            "  Gradient Accumulation steps = 1\n",
            "  Total optimization steps = 408\n"
          ]
        },
        {
          "data": {
            "text/html": [
              "\n",
              "    <div>\n",
              "      \n",
              "      <progress value='408' max='408' style='width:300px; height:20px; vertical-align: middle;'></progress>\n",
              "      [408/408 01:18, Epoch 2/2]\n",
              "    </div>\n",
              "    <table border=\"1\" class=\"dataframe\">\n",
              "  <thead>\n",
              " <tr style=\"text-align: left;\">\n",
              "      <th>Epoch</th>\n",
              "      <th>Training Loss</th>\n",
              "      <th>Validation Loss</th>\n",
              "      <th>Accuracy</th>\n",
              "    </tr>\n",
              "  </thead>\n",
              "  <tbody>\n",
              "    <tr>\n",
              "      <td>1</td>\n",
              "      <td>No log</td>\n",
              "      <td>1.760274</td>\n",
              "      <td>0.783422</td>\n",
              "    </tr>\n",
              "    <tr>\n",
              "      <td>2</td>\n",
              "      <td>No log</td>\n",
              "      <td>1.571827</td>\n",
              "      <td>0.807487</td>\n",
              "    </tr>\n",
              "  </tbody>\n",
              "</table><p>"
            ],
            "text/plain": [
              "<IPython.core.display.HTML object>"
            ]
          },
          "metadata": {},
          "output_type": "display_data"
        },
        {
          "name": "stderr",
          "output_type": "stream",
          "text": [
            "***** Running Evaluation *****\n",
            "  Num examples = 374\n",
            "  Batch size = 8\n",
            "***** Running Evaluation *****\n",
            "  Num examples = 374\n",
            "  Batch size = 8\n",
            "\n",
            "\n",
            "Training completed. Do not forget to share your model on huggingface.co/models =)\n",
            "\n",
            "\n",
            "***** Running Prediction *****\n",
            "  Num examples = 374\n",
            "  Batch size = 8\n"
          ]
        },
        {
          "data": {
            "text/html": [
              "\n",
              "    <div>\n",
              "      \n",
              "      <progress value='47' max='47' style='width:300px; height:20px; vertical-align: middle;'></progress>\n",
              "      [47/47 00:01]\n",
              "    </div>\n",
              "    "
            ],
            "text/plain": [
              "<IPython.core.display.HTML object>"
            ]
          },
          "metadata": {},
          "output_type": "display_data"
        },
        {
          "name": "stderr",
          "output_type": "stream",
          "text": [
            "PyTorch: setting up devices\n",
            "The default value for the training argument `--report_to` will change in v5 (from all installed integrations to none). In v5, you will need to use `--report_to all` to get the same behavior as now. You should start updating your code and make this info disappear :-).\n",
            "/usr/local/lib/python3.7/dist-packages/transformers/optimization.py:310: FutureWarning: This implementation of AdamW is deprecated and will be removed in a future version. Use the PyTorch implementation torch.optim.AdamW instead, or set `no_deprecation_warning=True` to disable this warning\n",
            "  FutureWarning,\n",
            "***** Running training *****\n",
            "  Num examples = 3257\n",
            "  Num Epochs = 2\n",
            "  Instantaneous batch size per device = 32\n",
            "  Total train batch size (w. parallel, distributed & accumulation) = 32\n",
            "  Gradient Accumulation steps = 1\n",
            "  Total optimization steps = 204\n"
          ]
        },
        {
          "name": "stdout",
          "output_type": "stream",
          "text": [
            "\u001b[35m \n",
            "Validation accuracy (batch size 16 and epochs 2): 0.8074866310160428\n",
            " \u001b[30m\n"
          ]
        },
        {
          "data": {
            "text/html": [
              "\n",
              "    <div>\n",
              "      \n",
              "      <progress value='204' max='204' style='width:300px; height:20px; vertical-align: middle;'></progress>\n",
              "      [204/204 01:09, Epoch 2/2]\n",
              "    </div>\n",
              "    <table border=\"1\" class=\"dataframe\">\n",
              "  <thead>\n",
              " <tr style=\"text-align: left;\">\n",
              "      <th>Epoch</th>\n",
              "      <th>Training Loss</th>\n",
              "      <th>Validation Loss</th>\n",
              "      <th>Accuracy</th>\n",
              "    </tr>\n",
              "  </thead>\n",
              "  <tbody>\n",
              "    <tr>\n",
              "      <td>1</td>\n",
              "      <td>No log</td>\n",
              "      <td>1.532327</td>\n",
              "      <td>0.812834</td>\n",
              "    </tr>\n",
              "    <tr>\n",
              "      <td>2</td>\n",
              "      <td>No log</td>\n",
              "      <td>1.723712</td>\n",
              "      <td>0.791444</td>\n",
              "    </tr>\n",
              "  </tbody>\n",
              "</table><p>"
            ],
            "text/plain": [
              "<IPython.core.display.HTML object>"
            ]
          },
          "metadata": {},
          "output_type": "display_data"
        },
        {
          "name": "stderr",
          "output_type": "stream",
          "text": [
            "***** Running Evaluation *****\n",
            "  Num examples = 374\n",
            "  Batch size = 8\n",
            "***** Running Evaluation *****\n",
            "  Num examples = 374\n",
            "  Batch size = 8\n",
            "\n",
            "\n",
            "Training completed. Do not forget to share your model on huggingface.co/models =)\n",
            "\n",
            "\n",
            "***** Running Prediction *****\n",
            "  Num examples = 374\n",
            "  Batch size = 8\n"
          ]
        },
        {
          "data": {
            "text/html": [
              "\n",
              "    <div>\n",
              "      \n",
              "      <progress value='47' max='47' style='width:300px; height:20px; vertical-align: middle;'></progress>\n",
              "      [47/47 00:01]\n",
              "    </div>\n",
              "    "
            ],
            "text/plain": [
              "<IPython.core.display.HTML object>"
            ]
          },
          "metadata": {},
          "output_type": "display_data"
        },
        {
          "name": "stderr",
          "output_type": "stream",
          "text": [
            "PyTorch: setting up devices\n",
            "The default value for the training argument `--report_to` will change in v5 (from all installed integrations to none). In v5, you will need to use `--report_to all` to get the same behavior as now. You should start updating your code and make this info disappear :-).\n",
            "/usr/local/lib/python3.7/dist-packages/transformers/optimization.py:310: FutureWarning: This implementation of AdamW is deprecated and will be removed in a future version. Use the PyTorch implementation torch.optim.AdamW instead, or set `no_deprecation_warning=True` to disable this warning\n",
            "  FutureWarning,\n",
            "***** Running training *****\n",
            "  Num examples = 3257\n",
            "  Num Epochs = 3\n",
            "  Instantaneous batch size per device = 16\n",
            "  Total train batch size (w. parallel, distributed & accumulation) = 16\n",
            "  Gradient Accumulation steps = 1\n",
            "  Total optimization steps = 612\n"
          ]
        },
        {
          "name": "stdout",
          "output_type": "stream",
          "text": [
            "\u001b[35m \n",
            "Validation accuracy (batch size 32 and epochs 2): 0.7914438502673797\n",
            " \u001b[30m\n"
          ]
        },
        {
          "data": {
            "text/html": [
              "\n",
              "    <div>\n",
              "      \n",
              "      <progress value='612' max='612' style='width:300px; height:20px; vertical-align: middle;'></progress>\n",
              "      [612/612 02:04, Epoch 3/3]\n",
              "    </div>\n",
              "    <table border=\"1\" class=\"dataframe\">\n",
              "  <thead>\n",
              " <tr style=\"text-align: left;\">\n",
              "      <th>Epoch</th>\n",
              "      <th>Training Loss</th>\n",
              "      <th>Validation Loss</th>\n",
              "      <th>Accuracy</th>\n",
              "    </tr>\n",
              "  </thead>\n",
              "  <tbody>\n",
              "    <tr>\n",
              "      <td>1</td>\n",
              "      <td>No log</td>\n",
              "      <td>1.900770</td>\n",
              "      <td>0.791444</td>\n",
              "    </tr>\n",
              "    <tr>\n",
              "      <td>2</td>\n",
              "      <td>No log</td>\n",
              "      <td>1.761048</td>\n",
              "      <td>0.794118</td>\n",
              "    </tr>\n",
              "    <tr>\n",
              "      <td>3</td>\n",
              "      <td>0.055300</td>\n",
              "      <td>1.865750</td>\n",
              "      <td>0.786096</td>\n",
              "    </tr>\n",
              "  </tbody>\n",
              "</table><p>"
            ],
            "text/plain": [
              "<IPython.core.display.HTML object>"
            ]
          },
          "metadata": {},
          "output_type": "display_data"
        },
        {
          "name": "stderr",
          "output_type": "stream",
          "text": [
            "***** Running Evaluation *****\n",
            "  Num examples = 374\n",
            "  Batch size = 8\n",
            "***** Running Evaluation *****\n",
            "  Num examples = 374\n",
            "  Batch size = 8\n",
            "Saving model checkpoint to trainer_emotion_prep16_3/checkpoint-500\n",
            "Configuration saved in trainer_emotion_prep16_3/checkpoint-500/config.json\n",
            "Model weights saved in trainer_emotion_prep16_3/checkpoint-500/pytorch_model.bin\n",
            "***** Running Evaluation *****\n",
            "  Num examples = 374\n",
            "  Batch size = 8\n",
            "\n",
            "\n",
            "Training completed. Do not forget to share your model on huggingface.co/models =)\n",
            "\n",
            "\n",
            "***** Running Prediction *****\n",
            "  Num examples = 374\n",
            "  Batch size = 8\n"
          ]
        },
        {
          "data": {
            "text/html": [
              "\n",
              "    <div>\n",
              "      \n",
              "      <progress value='47' max='47' style='width:300px; height:20px; vertical-align: middle;'></progress>\n",
              "      [47/47 00:01]\n",
              "    </div>\n",
              "    "
            ],
            "text/plain": [
              "<IPython.core.display.HTML object>"
            ]
          },
          "metadata": {},
          "output_type": "display_data"
        },
        {
          "name": "stderr",
          "output_type": "stream",
          "text": [
            "PyTorch: setting up devices\n",
            "The default value for the training argument `--report_to` will change in v5 (from all installed integrations to none). In v5, you will need to use `--report_to all` to get the same behavior as now. You should start updating your code and make this info disappear :-).\n",
            "/usr/local/lib/python3.7/dist-packages/transformers/optimization.py:310: FutureWarning: This implementation of AdamW is deprecated and will be removed in a future version. Use the PyTorch implementation torch.optim.AdamW instead, or set `no_deprecation_warning=True` to disable this warning\n",
            "  FutureWarning,\n",
            "***** Running training *****\n",
            "  Num examples = 3257\n",
            "  Num Epochs = 3\n",
            "  Instantaneous batch size per device = 32\n",
            "  Total train batch size (w. parallel, distributed & accumulation) = 32\n",
            "  Gradient Accumulation steps = 1\n",
            "  Total optimization steps = 306\n"
          ]
        },
        {
          "name": "stdout",
          "output_type": "stream",
          "text": [
            "\u001b[35m \n",
            "Validation accuracy (batch size 16 and epochs 3): 0.786096256684492\n",
            " \u001b[30m\n"
          ]
        },
        {
          "data": {
            "text/html": [
              "\n",
              "    <div>\n",
              "      \n",
              "      <progress value='306' max='306' style='width:300px; height:20px; vertical-align: middle;'></progress>\n",
              "      [306/306 01:43, Epoch 3/3]\n",
              "    </div>\n",
              "    <table border=\"1\" class=\"dataframe\">\n",
              "  <thead>\n",
              " <tr style=\"text-align: left;\">\n",
              "      <th>Epoch</th>\n",
              "      <th>Training Loss</th>\n",
              "      <th>Validation Loss</th>\n",
              "      <th>Accuracy</th>\n",
              "    </tr>\n",
              "  </thead>\n",
              "  <tbody>\n",
              "    <tr>\n",
              "      <td>1</td>\n",
              "      <td>No log</td>\n",
              "      <td>1.822865</td>\n",
              "      <td>0.804813</td>\n",
              "    </tr>\n",
              "    <tr>\n",
              "      <td>2</td>\n",
              "      <td>No log</td>\n",
              "      <td>2.159995</td>\n",
              "      <td>0.759358</td>\n",
              "    </tr>\n",
              "    <tr>\n",
              "      <td>3</td>\n",
              "      <td>No log</td>\n",
              "      <td>1.867091</td>\n",
              "      <td>0.783422</td>\n",
              "    </tr>\n",
              "  </tbody>\n",
              "</table><p>"
            ],
            "text/plain": [
              "<IPython.core.display.HTML object>"
            ]
          },
          "metadata": {},
          "output_type": "display_data"
        },
        {
          "name": "stderr",
          "output_type": "stream",
          "text": [
            "***** Running Evaluation *****\n",
            "  Num examples = 374\n",
            "  Batch size = 8\n",
            "***** Running Evaluation *****\n",
            "  Num examples = 374\n",
            "  Batch size = 8\n",
            "***** Running Evaluation *****\n",
            "  Num examples = 374\n",
            "  Batch size = 8\n",
            "\n",
            "\n",
            "Training completed. Do not forget to share your model on huggingface.co/models =)\n",
            "\n",
            "\n",
            "***** Running Prediction *****\n",
            "  Num examples = 374\n",
            "  Batch size = 8\n"
          ]
        },
        {
          "data": {
            "text/html": [
              "\n",
              "    <div>\n",
              "      \n",
              "      <progress value='47' max='47' style='width:300px; height:20px; vertical-align: middle;'></progress>\n",
              "      [47/47 00:01]\n",
              "    </div>\n",
              "    "
            ],
            "text/plain": [
              "<IPython.core.display.HTML object>"
            ]
          },
          "metadata": {},
          "output_type": "display_data"
        },
        {
          "name": "stderr",
          "output_type": "stream",
          "text": [
            "PyTorch: setting up devices\n",
            "The default value for the training argument `--report_to` will change in v5 (from all installed integrations to none). In v5, you will need to use `--report_to all` to get the same behavior as now. You should start updating your code and make this info disappear :-).\n",
            "/usr/local/lib/python3.7/dist-packages/transformers/optimization.py:310: FutureWarning: This implementation of AdamW is deprecated and will be removed in a future version. Use the PyTorch implementation torch.optim.AdamW instead, or set `no_deprecation_warning=True` to disable this warning\n",
            "  FutureWarning,\n",
            "***** Running training *****\n",
            "  Num examples = 3257\n",
            "  Num Epochs = 4\n",
            "  Instantaneous batch size per device = 16\n",
            "  Total train batch size (w. parallel, distributed & accumulation) = 16\n",
            "  Gradient Accumulation steps = 1\n",
            "  Total optimization steps = 816\n"
          ]
        },
        {
          "name": "stdout",
          "output_type": "stream",
          "text": [
            "\u001b[35m \n",
            "Validation accuracy (batch size 32 and epochs 3): 0.7834224598930482\n",
            " \u001b[30m\n"
          ]
        },
        {
          "data": {
            "text/html": [
              "\n",
              "    <div>\n",
              "      \n",
              "      <progress value='816' max='816' style='width:300px; height:20px; vertical-align: middle;'></progress>\n",
              "      [816/816 02:43, Epoch 4/4]\n",
              "    </div>\n",
              "    <table border=\"1\" class=\"dataframe\">\n",
              "  <thead>\n",
              " <tr style=\"text-align: left;\">\n",
              "      <th>Epoch</th>\n",
              "      <th>Training Loss</th>\n",
              "      <th>Validation Loss</th>\n",
              "      <th>Accuracy</th>\n",
              "    </tr>\n",
              "  </thead>\n",
              "  <tbody>\n",
              "    <tr>\n",
              "      <td>1</td>\n",
              "      <td>No log</td>\n",
              "      <td>1.536469</td>\n",
              "      <td>0.791444</td>\n",
              "    </tr>\n",
              "    <tr>\n",
              "      <td>2</td>\n",
              "      <td>No log</td>\n",
              "      <td>1.657659</td>\n",
              "      <td>0.788770</td>\n",
              "    </tr>\n",
              "    <tr>\n",
              "      <td>3</td>\n",
              "      <td>0.050400</td>\n",
              "      <td>1.725545</td>\n",
              "      <td>0.796791</td>\n",
              "    </tr>\n",
              "    <tr>\n",
              "      <td>4</td>\n",
              "      <td>0.050400</td>\n",
              "      <td>1.787939</td>\n",
              "      <td>0.788770</td>\n",
              "    </tr>\n",
              "  </tbody>\n",
              "</table><p>"
            ],
            "text/plain": [
              "<IPython.core.display.HTML object>"
            ]
          },
          "metadata": {},
          "output_type": "display_data"
        },
        {
          "name": "stderr",
          "output_type": "stream",
          "text": [
            "***** Running Evaluation *****\n",
            "  Num examples = 374\n",
            "  Batch size = 8\n",
            "***** Running Evaluation *****\n",
            "  Num examples = 374\n",
            "  Batch size = 8\n",
            "Saving model checkpoint to trainer_emotion_prep16_4/checkpoint-500\n",
            "Configuration saved in trainer_emotion_prep16_4/checkpoint-500/config.json\n",
            "Model weights saved in trainer_emotion_prep16_4/checkpoint-500/pytorch_model.bin\n",
            "***** Running Evaluation *****\n",
            "  Num examples = 374\n",
            "  Batch size = 8\n",
            "***** Running Evaluation *****\n",
            "  Num examples = 374\n",
            "  Batch size = 8\n",
            "\n",
            "\n",
            "Training completed. Do not forget to share your model on huggingface.co/models =)\n",
            "\n",
            "\n",
            "***** Running Prediction *****\n",
            "  Num examples = 374\n",
            "  Batch size = 8\n"
          ]
        },
        {
          "data": {
            "text/html": [
              "\n",
              "    <div>\n",
              "      \n",
              "      <progress value='47' max='47' style='width:300px; height:20px; vertical-align: middle;'></progress>\n",
              "      [47/47 00:01]\n",
              "    </div>\n",
              "    "
            ],
            "text/plain": [
              "<IPython.core.display.HTML object>"
            ]
          },
          "metadata": {},
          "output_type": "display_data"
        },
        {
          "name": "stderr",
          "output_type": "stream",
          "text": [
            "PyTorch: setting up devices\n",
            "The default value for the training argument `--report_to` will change in v5 (from all installed integrations to none). In v5, you will need to use `--report_to all` to get the same behavior as now. You should start updating your code and make this info disappear :-).\n",
            "/usr/local/lib/python3.7/dist-packages/transformers/optimization.py:310: FutureWarning: This implementation of AdamW is deprecated and will be removed in a future version. Use the PyTorch implementation torch.optim.AdamW instead, or set `no_deprecation_warning=True` to disable this warning\n",
            "  FutureWarning,\n",
            "***** Running training *****\n",
            "  Num examples = 3257\n",
            "  Num Epochs = 4\n",
            "  Instantaneous batch size per device = 32\n",
            "  Total train batch size (w. parallel, distributed & accumulation) = 32\n",
            "  Gradient Accumulation steps = 1\n",
            "  Total optimization steps = 408\n"
          ]
        },
        {
          "name": "stdout",
          "output_type": "stream",
          "text": [
            "\u001b[35m \n",
            "Validation accuracy (batch size 16 and epochs 4): 0.7887700534759359\n",
            " \u001b[30m\n"
          ]
        },
        {
          "data": {
            "text/html": [
              "\n",
              "    <div>\n",
              "      \n",
              "      <progress value='408' max='408' style='width:300px; height:20px; vertical-align: middle;'></progress>\n",
              "      [408/408 02:17, Epoch 4/4]\n",
              "    </div>\n",
              "    <table border=\"1\" class=\"dataframe\">\n",
              "  <thead>\n",
              " <tr style=\"text-align: left;\">\n",
              "      <th>Epoch</th>\n",
              "      <th>Training Loss</th>\n",
              "      <th>Validation Loss</th>\n",
              "      <th>Accuracy</th>\n",
              "    </tr>\n",
              "  </thead>\n",
              "  <tbody>\n",
              "    <tr>\n",
              "      <td>1</td>\n",
              "      <td>No log</td>\n",
              "      <td>2.052785</td>\n",
              "      <td>0.786096</td>\n",
              "    </tr>\n",
              "    <tr>\n",
              "      <td>2</td>\n",
              "      <td>No log</td>\n",
              "      <td>2.123596</td>\n",
              "      <td>0.772727</td>\n",
              "    </tr>\n",
              "    <tr>\n",
              "      <td>3</td>\n",
              "      <td>No log</td>\n",
              "      <td>2.149477</td>\n",
              "      <td>0.764706</td>\n",
              "    </tr>\n",
              "    <tr>\n",
              "      <td>4</td>\n",
              "      <td>No log</td>\n",
              "      <td>2.175174</td>\n",
              "      <td>0.772727</td>\n",
              "    </tr>\n",
              "  </tbody>\n",
              "</table><p>"
            ],
            "text/plain": [
              "<IPython.core.display.HTML object>"
            ]
          },
          "metadata": {},
          "output_type": "display_data"
        },
        {
          "name": "stderr",
          "output_type": "stream",
          "text": [
            "***** Running Evaluation *****\n",
            "  Num examples = 374\n",
            "  Batch size = 8\n",
            "***** Running Evaluation *****\n",
            "  Num examples = 374\n",
            "  Batch size = 8\n",
            "***** Running Evaluation *****\n",
            "  Num examples = 374\n",
            "  Batch size = 8\n",
            "***** Running Evaluation *****\n",
            "  Num examples = 374\n",
            "  Batch size = 8\n",
            "\n",
            "\n",
            "Training completed. Do not forget to share your model on huggingface.co/models =)\n",
            "\n",
            "\n",
            "***** Running Prediction *****\n",
            "  Num examples = 374\n",
            "  Batch size = 8\n"
          ]
        },
        {
          "data": {
            "text/html": [
              "\n",
              "    <div>\n",
              "      \n",
              "      <progress value='47' max='47' style='width:300px; height:20px; vertical-align: middle;'></progress>\n",
              "      [47/47 00:01]\n",
              "    </div>\n",
              "    "
            ],
            "text/plain": [
              "<IPython.core.display.HTML object>"
            ]
          },
          "metadata": {},
          "output_type": "display_data"
        },
        {
          "name": "stdout",
          "output_type": "stream",
          "text": [
            "\u001b[35m \n",
            "Validation accuracy (batch size 32 and epochs 4): 0.7727272727272727\n",
            " \u001b[30m\n"
          ]
        }
      ],
      "source": [
        "best_model_emotion_prep = None\n",
        "best_accuracy_emotion_prep = 0\n",
        "best_epoch_emotion_prep = 0\n",
        "best_batch_size_emotion_prep = 0\n",
        "\n",
        "models_emotion_prep = []\n",
        "\n",
        "for epoch in epochs:\n",
        "  for batch_size in batch_sizes:\n",
        "\n",
        "    args = TrainingArguments(output_dir='trainer_emotion_prep'+str(batch_size)+'_'+str(epoch),\n",
        "                              evaluation_strategy=\"epoch\",\n",
        "                              num_train_epochs=epoch,\n",
        "                              per_device_train_batch_size=batch_size)\n",
        "    \n",
        "    trainer = Trainer(\n",
        "        model=bertweet_emotion,\n",
        "        args=args,\n",
        "        train_dataset=train_tokenized_emotion_prep,\n",
        "        eval_dataset=val_tokenized_emotion_prep,\n",
        "        compute_metrics=compute_accuracy,\n",
        "    )\n",
        "\n",
        "    trainer.train()\n",
        "  \n",
        "    predictions = trainer.predict(val_tokenized_emotion_prep)\n",
        "    preds = np.argmax(predictions.predictions, axis=-1)\n",
        "    val_accuracy = accuracy.compute(predictions=preds, references=predictions.label_ids)['accuracy']\n",
        "\n",
        "    print(f'{Fore.MAGENTA} \\nValidation accuracy (batch size {batch_size} and epochs {epoch}): {val_accuracy}\\n {Fore.BLACK}')\n",
        "    \n",
        "    models_emotion_prep.append(dict(val_accuracy=val_accuracy,\n",
        "                       batch_size=batch_size,\n",
        "                       epochs=epoch\n",
        "                       ))\n",
        "\n",
        "    if val_accuracy > best_accuracy_emotion_prep:\n",
        "      best_accuracy_emotion_prep = val_accuracy\n",
        "      best_model_emotion_prep = trainer\n",
        "      best_epoch_emotion_prep = epoch\n",
        "      best_batch_size_emotion_prep = batch_size"
      ]
    },
    {
      "cell_type": "code",
      "execution_count": null,
      "metadata": {
        "colab": {
          "base_uri": "https://localhost:8080/"
        },
        "id": "a6FPu4MJpuNo",
        "outputId": "6defbf7f-0db8-4b5e-8e6d-9144bceecb8f"
      },
      "outputs": [
        {
          "name": "stdout",
          "output_type": "stream",
          "text": [
            "** Best model for Emotion Recognition with preprocessed tweets **\n",
            "batch size: 16, epochs: 2, validation accuracy: 0.8074866310160428\n"
          ]
        }
      ],
      "source": [
        "print('** Best model for Emotion Recognition with preprocessed tweets **')\n",
        "print(f'batch size: {best_batch_size_emotion_prep}, epochs: {best_epoch_emotion_prep}, validation accuracy: {best_accuracy_emotion_prep}')\n"
      ]
    },
    {
      "cell_type": "markdown",
      "metadata": {
        "id": "bBg5aXJ3t_Wm"
      },
      "source": [
        "#### 4.4.2 - Hate Speech Detection"
      ]
    },
    {
      "cell_type": "code",
      "execution_count": null,
      "metadata": {
        "colab": {
          "base_uri": "https://localhost:8080/",
          "height": 158,
          "referenced_widgets": [
            "7a69f0f8cf294d6c9f04be68775dda91",
            "36c718b3225b49b6a6887e924fc5dc91",
            "19ab0d30c08b4210b8fbef08584eb38f",
            "c93dee28aec54539be5d37532f7e5d8a",
            "e5b7267744e644d0a09745874d8e7c59",
            "99d22ef683ed4f31bff77da9ae8a7ec9",
            "ee6cbf6f41484994a65059d718781ec8",
            "82f6852fbc414e6bb4f68d671367a354",
            "1e1cc05b179348b89662e896f01fd221",
            "2b5aa557752245ba91b3da67d673a517",
            "7c98307563fe4e10b3d8568528de3b62"
          ]
        },
        "id": "yT2mHavmtHN-",
        "outputId": "920ae501-58db-4cac-95a1-4440f314275d"
      },
      "outputs": [
        {
          "output_type": "display_data",
          "data": {
            "text/plain": [
              "Downloading:   0%|          | 0.00/517M [00:00<?, ?B/s]"
            ],
            "application/vnd.jupyter.widget-view+json": {
              "version_major": 2,
              "version_minor": 0,
              "model_id": "7a69f0f8cf294d6c9f04be68775dda91"
            }
          },
          "metadata": {}
        },
        {
          "output_type": "stream",
          "name": "stderr",
          "text": [
            "Some weights of the model checkpoint at vinai/bertweet-base were not used when initializing RobertaForSequenceClassification: ['roberta.pooler.dense.weight', 'lm_head.layer_norm.bias', 'lm_head.dense.bias', 'lm_head.bias', 'lm_head.dense.weight', 'lm_head.decoder.bias', 'roberta.pooler.dense.bias', 'lm_head.layer_norm.weight', 'lm_head.decoder.weight']\n",
            "- This IS expected if you are initializing RobertaForSequenceClassification from the checkpoint of a model trained on another task or with another architecture (e.g. initializing a BertForSequenceClassification model from a BertForPreTraining model).\n",
            "- This IS NOT expected if you are initializing RobertaForSequenceClassification from the checkpoint of a model that you expect to be exactly identical (initializing a BertForSequenceClassification model from a BertForSequenceClassification model).\n",
            "Some weights of RobertaForSequenceClassification were not initialized from the model checkpoint at vinai/bertweet-base and are newly initialized: ['classifier.out_proj.weight', 'classifier.out_proj.bias', 'classifier.dense.weight', 'classifier.dense.bias']\n",
            "You should probably TRAIN this model on a down-stream task to be able to use it for predictions and inference.\n"
          ]
        }
      ],
      "source": [
        "num_classes = train_hate.features['label'].num_classes\n",
        "bertweet_hate = AutoModelForSequenceClassification.from_pretrained(BERTWEET_BASE, num_labels=num_classes)"
      ]
    },
    {
      "cell_type": "markdown",
      "metadata": {
        "id": "pKYcBecPiZvQ"
      },
      "source": [
        "**Original data**"
      ]
    },
    {
      "cell_type": "code",
      "execution_count": null,
      "metadata": {
        "colab": {
          "base_uri": "https://localhost:8080/",
          "height": 1000
        },
        "id": "T5tTv1W-iZvR",
        "outputId": "162d8454-d957-42fb-e805-c6daac727940"
      },
      "outputs": [
        {
          "name": "stderr",
          "output_type": "stream",
          "text": [
            "PyTorch: setting up devices\n",
            "The default value for the training argument `--report_to` will change in v5 (from all installed integrations to none). In v5, you will need to use `--report_to all` to get the same behavior as now. You should start updating your code and make this info disappear :-).\n",
            "/usr/local/lib/python3.7/dist-packages/transformers/optimization.py:310: FutureWarning: This implementation of AdamW is deprecated and will be removed in a future version. Use the PyTorch implementation torch.optim.AdamW instead, or set `no_deprecation_warning=True` to disable this warning\n",
            "  FutureWarning,\n",
            "***** Running training *****\n",
            "  Num examples = 9000\n",
            "  Num Epochs = 2\n",
            "  Instantaneous batch size per device = 16\n",
            "  Total train batch size (w. parallel, distributed & accumulation) = 16\n",
            "  Gradient Accumulation steps = 1\n",
            "  Total optimization steps = 1126\n"
          ]
        },
        {
          "data": {
            "text/html": [
              "\n",
              "    <div>\n",
              "      \n",
              "      <progress value='1126' max='1126' style='width:300px; height:20px; vertical-align: middle;'></progress>\n",
              "      [1126/1126 03:52, Epoch 2/2]\n",
              "    </div>\n",
              "    <table border=\"1\" class=\"dataframe\">\n",
              "  <thead>\n",
              " <tr style=\"text-align: left;\">\n",
              "      <th>Epoch</th>\n",
              "      <th>Training Loss</th>\n",
              "      <th>Validation Loss</th>\n",
              "      <th>Accuracy</th>\n",
              "    </tr>\n",
              "  </thead>\n",
              "  <tbody>\n",
              "    <tr>\n",
              "      <td>1</td>\n",
              "      <td>0.684600</td>\n",
              "      <td>0.690615</td>\n",
              "      <td>0.573000</td>\n",
              "    </tr>\n",
              "    <tr>\n",
              "      <td>2</td>\n",
              "      <td>0.674100</td>\n",
              "      <td>0.660920</td>\n",
              "      <td>0.661000</td>\n",
              "    </tr>\n",
              "  </tbody>\n",
              "</table><p>"
            ],
            "text/plain": [
              "<IPython.core.display.HTML object>"
            ]
          },
          "metadata": {},
          "output_type": "display_data"
        },
        {
          "name": "stderr",
          "output_type": "stream",
          "text": [
            "Saving model checkpoint to trainer_hate_16_2/checkpoint-500\n",
            "Configuration saved in trainer_hate_16_2/checkpoint-500/config.json\n",
            "Model weights saved in trainer_hate_16_2/checkpoint-500/pytorch_model.bin\n",
            "***** Running Evaluation *****\n",
            "  Num examples = 1000\n",
            "  Batch size = 8\n",
            "Saving model checkpoint to trainer_hate_16_2/checkpoint-1000\n",
            "Configuration saved in trainer_hate_16_2/checkpoint-1000/config.json\n",
            "Model weights saved in trainer_hate_16_2/checkpoint-1000/pytorch_model.bin\n",
            "***** Running Evaluation *****\n",
            "  Num examples = 1000\n",
            "  Batch size = 8\n",
            "\n",
            "\n",
            "Training completed. Do not forget to share your model on huggingface.co/models =)\n",
            "\n",
            "\n",
            "***** Running Prediction *****\n",
            "  Num examples = 1000\n",
            "  Batch size = 8\n"
          ]
        },
        {
          "data": {
            "text/html": [
              "\n",
              "    <div>\n",
              "      \n",
              "      <progress value='125' max='125' style='width:300px; height:20px; vertical-align: middle;'></progress>\n",
              "      [125/125 00:04]\n",
              "    </div>\n",
              "    "
            ],
            "text/plain": [
              "<IPython.core.display.HTML object>"
            ]
          },
          "metadata": {},
          "output_type": "display_data"
        },
        {
          "name": "stderr",
          "output_type": "stream",
          "text": [
            "PyTorch: setting up devices\n",
            "The default value for the training argument `--report_to` will change in v5 (from all installed integrations to none). In v5, you will need to use `--report_to all` to get the same behavior as now. You should start updating your code and make this info disappear :-).\n",
            "/usr/local/lib/python3.7/dist-packages/transformers/optimization.py:310: FutureWarning: This implementation of AdamW is deprecated and will be removed in a future version. Use the PyTorch implementation torch.optim.AdamW instead, or set `no_deprecation_warning=True` to disable this warning\n",
            "  FutureWarning,\n",
            "***** Running training *****\n",
            "  Num examples = 9000\n",
            "  Num Epochs = 2\n",
            "  Instantaneous batch size per device = 32\n",
            "  Total train batch size (w. parallel, distributed & accumulation) = 32\n",
            "  Gradient Accumulation steps = 1\n",
            "  Total optimization steps = 564\n"
          ]
        },
        {
          "name": "stdout",
          "output_type": "stream",
          "text": [
            "\u001b[35m \n",
            "Validation accuracy (batch size 16 and epochs 2): 0.661\n",
            " \u001b[30m\n"
          ]
        },
        {
          "data": {
            "text/html": [
              "\n",
              "    <div>\n",
              "      \n",
              "      <progress value='564' max='564' style='width:300px; height:20px; vertical-align: middle;'></progress>\n",
              "      [564/564 03:16, Epoch 2/2]\n",
              "    </div>\n",
              "    <table border=\"1\" class=\"dataframe\">\n",
              "  <thead>\n",
              " <tr style=\"text-align: left;\">\n",
              "      <th>Epoch</th>\n",
              "      <th>Training Loss</th>\n",
              "      <th>Validation Loss</th>\n",
              "      <th>Accuracy</th>\n",
              "    </tr>\n",
              "  </thead>\n",
              "  <tbody>\n",
              "    <tr>\n",
              "      <td>1</td>\n",
              "      <td>No log</td>\n",
              "      <td>0.478203</td>\n",
              "      <td>0.774000</td>\n",
              "    </tr>\n",
              "    <tr>\n",
              "      <td>2</td>\n",
              "      <td>0.400600</td>\n",
              "      <td>0.454387</td>\n",
              "      <td>0.803000</td>\n",
              "    </tr>\n",
              "  </tbody>\n",
              "</table><p>"
            ],
            "text/plain": [
              "<IPython.core.display.HTML object>"
            ]
          },
          "metadata": {},
          "output_type": "display_data"
        },
        {
          "name": "stderr",
          "output_type": "stream",
          "text": [
            "***** Running Evaluation *****\n",
            "  Num examples = 1000\n",
            "  Batch size = 8\n",
            "Saving model checkpoint to trainer_hate_32_2/checkpoint-500\n",
            "Configuration saved in trainer_hate_32_2/checkpoint-500/config.json\n",
            "Model weights saved in trainer_hate_32_2/checkpoint-500/pytorch_model.bin\n",
            "***** Running Evaluation *****\n",
            "  Num examples = 1000\n",
            "  Batch size = 8\n",
            "\n",
            "\n",
            "Training completed. Do not forget to share your model on huggingface.co/models =)\n",
            "\n",
            "\n",
            "***** Running Prediction *****\n",
            "  Num examples = 1000\n",
            "  Batch size = 8\n"
          ]
        },
        {
          "data": {
            "text/html": [
              "\n",
              "    <div>\n",
              "      \n",
              "      <progress value='125' max='125' style='width:300px; height:20px; vertical-align: middle;'></progress>\n",
              "      [125/125 00:04]\n",
              "    </div>\n",
              "    "
            ],
            "text/plain": [
              "<IPython.core.display.HTML object>"
            ]
          },
          "metadata": {},
          "output_type": "display_data"
        },
        {
          "name": "stderr",
          "output_type": "stream",
          "text": [
            "PyTorch: setting up devices\n",
            "The default value for the training argument `--report_to` will change in v5 (from all installed integrations to none). In v5, you will need to use `--report_to all` to get the same behavior as now. You should start updating your code and make this info disappear :-).\n",
            "/usr/local/lib/python3.7/dist-packages/transformers/optimization.py:310: FutureWarning: This implementation of AdamW is deprecated and will be removed in a future version. Use the PyTorch implementation torch.optim.AdamW instead, or set `no_deprecation_warning=True` to disable this warning\n",
            "  FutureWarning,\n",
            "***** Running training *****\n",
            "  Num examples = 9000\n",
            "  Num Epochs = 3\n",
            "  Instantaneous batch size per device = 16\n",
            "  Total train batch size (w. parallel, distributed & accumulation) = 16\n",
            "  Gradient Accumulation steps = 1\n",
            "  Total optimization steps = 1689\n"
          ]
        },
        {
          "name": "stdout",
          "output_type": "stream",
          "text": [
            "\u001b[35m \n",
            "Validation accuracy (batch size 32 and epochs 2): 0.803\n",
            " \u001b[30m\n"
          ]
        },
        {
          "data": {
            "text/html": [
              "\n",
              "    <div>\n",
              "      \n",
              "      <progress value='1689' max='1689' style='width:300px; height:20px; vertical-align: middle;'></progress>\n",
              "      [1689/1689 05:44, Epoch 3/3]\n",
              "    </div>\n",
              "    <table border=\"1\" class=\"dataframe\">\n",
              "  <thead>\n",
              " <tr style=\"text-align: left;\">\n",
              "      <th>Epoch</th>\n",
              "      <th>Training Loss</th>\n",
              "      <th>Validation Loss</th>\n",
              "      <th>Accuracy</th>\n",
              "    </tr>\n",
              "  </thead>\n",
              "  <tbody>\n",
              "    <tr>\n",
              "      <td>1</td>\n",
              "      <td>0.332800</td>\n",
              "      <td>0.544180</td>\n",
              "      <td>0.766000</td>\n",
              "    </tr>\n",
              "    <tr>\n",
              "      <td>2</td>\n",
              "      <td>0.226900</td>\n",
              "      <td>0.718171</td>\n",
              "      <td>0.794000</td>\n",
              "    </tr>\n",
              "    <tr>\n",
              "      <td>3</td>\n",
              "      <td>0.132200</td>\n",
              "      <td>0.869335</td>\n",
              "      <td>0.789000</td>\n",
              "    </tr>\n",
              "  </tbody>\n",
              "</table><p>"
            ],
            "text/plain": [
              "<IPython.core.display.HTML object>"
            ]
          },
          "metadata": {},
          "output_type": "display_data"
        },
        {
          "name": "stderr",
          "output_type": "stream",
          "text": [
            "Saving model checkpoint to trainer_hate_16_3/checkpoint-500\n",
            "Configuration saved in trainer_hate_16_3/checkpoint-500/config.json\n",
            "Model weights saved in trainer_hate_16_3/checkpoint-500/pytorch_model.bin\n",
            "***** Running Evaluation *****\n",
            "  Num examples = 1000\n",
            "  Batch size = 8\n",
            "Saving model checkpoint to trainer_hate_16_3/checkpoint-1000\n",
            "Configuration saved in trainer_hate_16_3/checkpoint-1000/config.json\n",
            "Model weights saved in trainer_hate_16_3/checkpoint-1000/pytorch_model.bin\n",
            "***** Running Evaluation *****\n",
            "  Num examples = 1000\n",
            "  Batch size = 8\n",
            "Saving model checkpoint to trainer_hate_16_3/checkpoint-1500\n",
            "Configuration saved in trainer_hate_16_3/checkpoint-1500/config.json\n",
            "Model weights saved in trainer_hate_16_3/checkpoint-1500/pytorch_model.bin\n",
            "***** Running Evaluation *****\n",
            "  Num examples = 1000\n",
            "  Batch size = 8\n",
            "\n",
            "\n",
            "Training completed. Do not forget to share your model on huggingface.co/models =)\n",
            "\n",
            "\n",
            "***** Running Prediction *****\n",
            "  Num examples = 1000\n",
            "  Batch size = 8\n"
          ]
        },
        {
          "data": {
            "text/html": [
              "\n",
              "    <div>\n",
              "      \n",
              "      <progress value='125' max='125' style='width:300px; height:20px; vertical-align: middle;'></progress>\n",
              "      [125/125 00:04]\n",
              "    </div>\n",
              "    "
            ],
            "text/plain": [
              "<IPython.core.display.HTML object>"
            ]
          },
          "metadata": {},
          "output_type": "display_data"
        },
        {
          "name": "stderr",
          "output_type": "stream",
          "text": [
            "PyTorch: setting up devices\n",
            "The default value for the training argument `--report_to` will change in v5 (from all installed integrations to none). In v5, you will need to use `--report_to all` to get the same behavior as now. You should start updating your code and make this info disappear :-).\n",
            "/usr/local/lib/python3.7/dist-packages/transformers/optimization.py:310: FutureWarning: This implementation of AdamW is deprecated and will be removed in a future version. Use the PyTorch implementation torch.optim.AdamW instead, or set `no_deprecation_warning=True` to disable this warning\n",
            "  FutureWarning,\n",
            "***** Running training *****\n",
            "  Num examples = 9000\n",
            "  Num Epochs = 3\n",
            "  Instantaneous batch size per device = 32\n",
            "  Total train batch size (w. parallel, distributed & accumulation) = 32\n",
            "  Gradient Accumulation steps = 1\n",
            "  Total optimization steps = 846\n"
          ]
        },
        {
          "name": "stdout",
          "output_type": "stream",
          "text": [
            "\u001b[35m \n",
            "Validation accuracy (batch size 16 and epochs 3): 0.789\n",
            " \u001b[30m\n"
          ]
        },
        {
          "data": {
            "text/html": [
              "\n",
              "    <div>\n",
              "      \n",
              "      <progress value='417' max='846' style='width:300px; height:20px; vertical-align: middle;'></progress>\n",
              "      [417/846 02:18 < 02:22, 3.00 it/s, Epoch 1.48/3]\n",
              "    </div>\n",
              "    <table border=\"1\" class=\"dataframe\">\n",
              "  <thead>\n",
              " <tr style=\"text-align: left;\">\n",
              "      <th>Epoch</th>\n",
              "      <th>Training Loss</th>\n",
              "      <th>Validation Loss</th>\n",
              "      <th>Accuracy</th>\n",
              "    </tr>\n",
              "  </thead>\n",
              "  <tbody>\n",
              "    <tr>\n",
              "      <td>1</td>\n",
              "      <td>No log</td>\n",
              "      <td>0.793692</td>\n",
              "      <td>0.776000</td>\n",
              "    </tr>\n",
              "  </tbody>\n",
              "</table><p>"
            ],
            "text/plain": [
              "<IPython.core.display.HTML object>"
            ]
          },
          "metadata": {},
          "output_type": "display_data"
        },
        {
          "name": "stderr",
          "output_type": "stream",
          "text": [
            "***** Running Evaluation *****\n",
            "  Num examples = 1000\n",
            "  Batch size = 8\n"
          ]
        },
        {
          "data": {
            "text/html": [
              "\n",
              "    <div>\n",
              "      \n",
              "      <progress value='846' max='846' style='width:300px; height:20px; vertical-align: middle;'></progress>\n",
              "      [846/846 04:51, Epoch 3/3]\n",
              "    </div>\n",
              "    <table border=\"1\" class=\"dataframe\">\n",
              "  <thead>\n",
              " <tr style=\"text-align: left;\">\n",
              "      <th>Epoch</th>\n",
              "      <th>Training Loss</th>\n",
              "      <th>Validation Loss</th>\n",
              "      <th>Accuracy</th>\n",
              "    </tr>\n",
              "  </thead>\n",
              "  <tbody>\n",
              "    <tr>\n",
              "      <td>1</td>\n",
              "      <td>No log</td>\n",
              "      <td>0.793692</td>\n",
              "      <td>0.776000</td>\n",
              "    </tr>\n",
              "    <tr>\n",
              "      <td>2</td>\n",
              "      <td>0.099600</td>\n",
              "      <td>1.005491</td>\n",
              "      <td>0.769000</td>\n",
              "    </tr>\n",
              "    <tr>\n",
              "      <td>3</td>\n",
              "      <td>0.099600</td>\n",
              "      <td>1.114714</td>\n",
              "      <td>0.790000</td>\n",
              "    </tr>\n",
              "  </tbody>\n",
              "</table><p>"
            ],
            "text/plain": [
              "<IPython.core.display.HTML object>"
            ]
          },
          "metadata": {},
          "output_type": "display_data"
        },
        {
          "name": "stderr",
          "output_type": "stream",
          "text": [
            "Saving model checkpoint to trainer_hate_32_3/checkpoint-500\n",
            "Configuration saved in trainer_hate_32_3/checkpoint-500/config.json\n",
            "Model weights saved in trainer_hate_32_3/checkpoint-500/pytorch_model.bin\n",
            "***** Running Evaluation *****\n",
            "  Num examples = 1000\n",
            "  Batch size = 8\n",
            "***** Running Evaluation *****\n",
            "  Num examples = 1000\n",
            "  Batch size = 8\n",
            "\n",
            "\n",
            "Training completed. Do not forget to share your model on huggingface.co/models =)\n",
            "\n",
            "\n",
            "***** Running Prediction *****\n",
            "  Num examples = 1000\n",
            "  Batch size = 8\n"
          ]
        },
        {
          "data": {
            "text/html": [
              "\n",
              "    <div>\n",
              "      \n",
              "      <progress value='125' max='125' style='width:300px; height:20px; vertical-align: middle;'></progress>\n",
              "      [125/125 00:04]\n",
              "    </div>\n",
              "    "
            ],
            "text/plain": [
              "<IPython.core.display.HTML object>"
            ]
          },
          "metadata": {},
          "output_type": "display_data"
        },
        {
          "name": "stderr",
          "output_type": "stream",
          "text": [
            "PyTorch: setting up devices\n",
            "The default value for the training argument `--report_to` will change in v5 (from all installed integrations to none). In v5, you will need to use `--report_to all` to get the same behavior as now. You should start updating your code and make this info disappear :-).\n",
            "/usr/local/lib/python3.7/dist-packages/transformers/optimization.py:310: FutureWarning: This implementation of AdamW is deprecated and will be removed in a future version. Use the PyTorch implementation torch.optim.AdamW instead, or set `no_deprecation_warning=True` to disable this warning\n",
            "  FutureWarning,\n",
            "***** Running training *****\n",
            "  Num examples = 9000\n",
            "  Num Epochs = 4\n",
            "  Instantaneous batch size per device = 16\n",
            "  Total train batch size (w. parallel, distributed & accumulation) = 16\n",
            "  Gradient Accumulation steps = 1\n",
            "  Total optimization steps = 2252\n"
          ]
        },
        {
          "name": "stdout",
          "output_type": "stream",
          "text": [
            "\u001b[35m \n",
            "Validation accuracy (batch size 32 and epochs 3): 0.79\n",
            " \u001b[30m\n"
          ]
        },
        {
          "data": {
            "text/html": [
              "\n",
              "    <div>\n",
              "      \n",
              "      <progress value='2252' max='2252' style='width:300px; height:20px; vertical-align: middle;'></progress>\n",
              "      [2252/2252 07:40, Epoch 4/4]\n",
              "    </div>\n",
              "    <table border=\"1\" class=\"dataframe\">\n",
              "  <thead>\n",
              " <tr style=\"text-align: left;\">\n",
              "      <th>Epoch</th>\n",
              "      <th>Training Loss</th>\n",
              "      <th>Validation Loss</th>\n",
              "      <th>Accuracy</th>\n",
              "    </tr>\n",
              "  </thead>\n",
              "  <tbody>\n",
              "    <tr>\n",
              "      <td>1</td>\n",
              "      <td>0.092400</td>\n",
              "      <td>0.905089</td>\n",
              "      <td>0.786000</td>\n",
              "    </tr>\n",
              "    <tr>\n",
              "      <td>2</td>\n",
              "      <td>0.074500</td>\n",
              "      <td>1.206654</td>\n",
              "      <td>0.776000</td>\n",
              "    </tr>\n",
              "    <tr>\n",
              "      <td>3</td>\n",
              "      <td>0.045100</td>\n",
              "      <td>1.237608</td>\n",
              "      <td>0.787000</td>\n",
              "    </tr>\n",
              "    <tr>\n",
              "      <td>4</td>\n",
              "      <td>0.028100</td>\n",
              "      <td>1.341593</td>\n",
              "      <td>0.793000</td>\n",
              "    </tr>\n",
              "  </tbody>\n",
              "</table><p>"
            ],
            "text/plain": [
              "<IPython.core.display.HTML object>"
            ]
          },
          "metadata": {},
          "output_type": "display_data"
        },
        {
          "name": "stderr",
          "output_type": "stream",
          "text": [
            "Saving model checkpoint to trainer_hate_16_4/checkpoint-500\n",
            "Configuration saved in trainer_hate_16_4/checkpoint-500/config.json\n",
            "Model weights saved in trainer_hate_16_4/checkpoint-500/pytorch_model.bin\n",
            "***** Running Evaluation *****\n",
            "  Num examples = 1000\n",
            "  Batch size = 8\n",
            "Saving model checkpoint to trainer_hate_16_4/checkpoint-1000\n",
            "Configuration saved in trainer_hate_16_4/checkpoint-1000/config.json\n",
            "Model weights saved in trainer_hate_16_4/checkpoint-1000/pytorch_model.bin\n",
            "***** Running Evaluation *****\n",
            "  Num examples = 1000\n",
            "  Batch size = 8\n",
            "Saving model checkpoint to trainer_hate_16_4/checkpoint-1500\n",
            "Configuration saved in trainer_hate_16_4/checkpoint-1500/config.json\n",
            "Model weights saved in trainer_hate_16_4/checkpoint-1500/pytorch_model.bin\n",
            "***** Running Evaluation *****\n",
            "  Num examples = 1000\n",
            "  Batch size = 8\n",
            "Saving model checkpoint to trainer_hate_16_4/checkpoint-2000\n",
            "Configuration saved in trainer_hate_16_4/checkpoint-2000/config.json\n",
            "Model weights saved in trainer_hate_16_4/checkpoint-2000/pytorch_model.bin\n",
            "***** Running Evaluation *****\n",
            "  Num examples = 1000\n",
            "  Batch size = 8\n",
            "\n",
            "\n",
            "Training completed. Do not forget to share your model on huggingface.co/models =)\n",
            "\n",
            "\n",
            "***** Running Prediction *****\n",
            "  Num examples = 1000\n",
            "  Batch size = 8\n"
          ]
        },
        {
          "data": {
            "text/html": [
              "\n",
              "    <div>\n",
              "      \n",
              "      <progress value='125' max='125' style='width:300px; height:20px; vertical-align: middle;'></progress>\n",
              "      [125/125 00:04]\n",
              "    </div>\n",
              "    "
            ],
            "text/plain": [
              "<IPython.core.display.HTML object>"
            ]
          },
          "metadata": {},
          "output_type": "display_data"
        },
        {
          "name": "stderr",
          "output_type": "stream",
          "text": [
            "PyTorch: setting up devices\n",
            "The default value for the training argument `--report_to` will change in v5 (from all installed integrations to none). In v5, you will need to use `--report_to all` to get the same behavior as now. You should start updating your code and make this info disappear :-).\n",
            "/usr/local/lib/python3.7/dist-packages/transformers/optimization.py:310: FutureWarning: This implementation of AdamW is deprecated and will be removed in a future version. Use the PyTorch implementation torch.optim.AdamW instead, or set `no_deprecation_warning=True` to disable this warning\n",
            "  FutureWarning,\n",
            "***** Running training *****\n",
            "  Num examples = 9000\n",
            "  Num Epochs = 4\n",
            "  Instantaneous batch size per device = 32\n",
            "  Total train batch size (w. parallel, distributed & accumulation) = 32\n",
            "  Gradient Accumulation steps = 1\n",
            "  Total optimization steps = 1128\n"
          ]
        },
        {
          "name": "stdout",
          "output_type": "stream",
          "text": [
            "\u001b[35m \n",
            "Validation accuracy (batch size 16 and epochs 4): 0.793\n",
            " \u001b[30m\n"
          ]
        },
        {
          "data": {
            "text/html": [
              "\n",
              "    <div>\n",
              "      \n",
              "      <progress value='1128' max='1128' style='width:300px; height:20px; vertical-align: middle;'></progress>\n",
              "      [1128/1128 06:33, Epoch 4/4]\n",
              "    </div>\n",
              "    <table border=\"1\" class=\"dataframe\">\n",
              "  <thead>\n",
              " <tr style=\"text-align: left;\">\n",
              "      <th>Epoch</th>\n",
              "      <th>Training Loss</th>\n",
              "      <th>Validation Loss</th>\n",
              "      <th>Accuracy</th>\n",
              "    </tr>\n",
              "  </thead>\n",
              "  <tbody>\n",
              "    <tr>\n",
              "      <td>1</td>\n",
              "      <td>No log</td>\n",
              "      <td>1.206334</td>\n",
              "      <td>0.776000</td>\n",
              "    </tr>\n",
              "    <tr>\n",
              "      <td>2</td>\n",
              "      <td>0.039400</td>\n",
              "      <td>1.251963</td>\n",
              "      <td>0.788000</td>\n",
              "    </tr>\n",
              "    <tr>\n",
              "      <td>3</td>\n",
              "      <td>0.039400</td>\n",
              "      <td>1.458718</td>\n",
              "      <td>0.780000</td>\n",
              "    </tr>\n",
              "    <tr>\n",
              "      <td>4</td>\n",
              "      <td>0.020000</td>\n",
              "      <td>1.435398</td>\n",
              "      <td>0.779000</td>\n",
              "    </tr>\n",
              "  </tbody>\n",
              "</table><p>"
            ],
            "text/plain": [
              "<IPython.core.display.HTML object>"
            ]
          },
          "metadata": {},
          "output_type": "display_data"
        },
        {
          "name": "stderr",
          "output_type": "stream",
          "text": [
            "***** Running Evaluation *****\n",
            "  Num examples = 1000\n",
            "  Batch size = 8\n",
            "Saving model checkpoint to trainer_hate_32_4/checkpoint-500\n",
            "Configuration saved in trainer_hate_32_4/checkpoint-500/config.json\n",
            "Model weights saved in trainer_hate_32_4/checkpoint-500/pytorch_model.bin\n",
            "***** Running Evaluation *****\n",
            "  Num examples = 1000\n",
            "  Batch size = 8\n",
            "***** Running Evaluation *****\n",
            "  Num examples = 1000\n",
            "  Batch size = 8\n",
            "Saving model checkpoint to trainer_hate_32_4/checkpoint-1000\n",
            "Configuration saved in trainer_hate_32_4/checkpoint-1000/config.json\n",
            "Model weights saved in trainer_hate_32_4/checkpoint-1000/pytorch_model.bin\n",
            "***** Running Evaluation *****\n",
            "  Num examples = 1000\n",
            "  Batch size = 8\n",
            "\n",
            "\n",
            "Training completed. Do not forget to share your model on huggingface.co/models =)\n",
            "\n",
            "\n",
            "***** Running Prediction *****\n",
            "  Num examples = 1000\n",
            "  Batch size = 8\n"
          ]
        },
        {
          "data": {
            "text/html": [
              "\n",
              "    <div>\n",
              "      \n",
              "      <progress value='125' max='125' style='width:300px; height:20px; vertical-align: middle;'></progress>\n",
              "      [125/125 00:04]\n",
              "    </div>\n",
              "    "
            ],
            "text/plain": [
              "<IPython.core.display.HTML object>"
            ]
          },
          "metadata": {},
          "output_type": "display_data"
        },
        {
          "name": "stdout",
          "output_type": "stream",
          "text": [
            "\u001b[35m \n",
            "Validation accuracy (batch size 32 and epochs 4): 0.779\n",
            " \u001b[30m\n"
          ]
        }
      ],
      "source": [
        "best_model_hate = None\n",
        "best_accuracy_hate = 0\n",
        "best_epoch_hate = 0\n",
        "best_batch_size_hate = 0\n",
        "\n",
        "models_hate = []\n",
        "\n",
        "for epoch in epochs:\n",
        "  for batch_size in batch_sizes:\n",
        "\n",
        "    args = TrainingArguments(output_dir='trainer_hate_'+str(batch_size)+'_'+str(epoch),\n",
        "                              evaluation_strategy=\"epoch\",\n",
        "                              num_train_epochs=epoch,\n",
        "                              per_device_train_batch_size=batch_size)\n",
        "\n",
        "    trainer = Trainer(\n",
        "        model=bertweet_hate,\n",
        "        args=args,\n",
        "        train_dataset=train_tokenized_hate,\n",
        "        eval_dataset=val_tokenized_hate,\n",
        "        compute_metrics=compute_accuracy,\n",
        "    )\n",
        "\n",
        "    trainer.train()\n",
        "  \n",
        "    predictions = trainer.predict(val_tokenized_hate)\n",
        "    preds = np.argmax(predictions.predictions, axis=-1)\n",
        "    val_accuracy = accuracy.compute(predictions=preds, references=predictions.label_ids)['accuracy']\n",
        "\n",
        "    print(f'{Fore.MAGENTA} \\nValidation accuracy (batch size {batch_size} and epochs {epoch}): {val_accuracy}\\n {Fore.BLACK}')\n",
        "    \n",
        "    models_hate.append(dict(val_accuracy=val_accuracy,\n",
        "                       batch_size=batch_size,\n",
        "                       epochs=epoch\n",
        "                       ))\n",
        "\n",
        "    if val_accuracy > best_accuracy_hate:\n",
        "      best_accuracy_hate = val_accuracy\n",
        "      best_model_hate = trainer\n",
        "      best_epoch_hate = epoch\n",
        "      best_batch_size_hate = batch_size\n"
      ]
    },
    {
      "cell_type": "code",
      "execution_count": null,
      "metadata": {
        "colab": {
          "base_uri": "https://localhost:8080/"
        },
        "id": "yEPMEhBCzYBE",
        "outputId": "58b1ff9b-d020-469a-83b8-8a41226640da"
      },
      "outputs": [
        {
          "name": "stdout",
          "output_type": "stream",
          "text": [
            "** Best model for Hate Speech Detection **\n",
            "batch size: 32, epochs: 2, validation accuracy: 0.803\n"
          ]
        }
      ],
      "source": [
        "print('** Best model for Hate Speech Detection **')\n",
        "print(f'batch size: {best_batch_size_hate}, epochs: {best_epoch_hate}, validation accuracy: {best_accuracy_hate}')\n",
        "# 16-4, 32-4"
      ]
    },
    {
      "cell_type": "markdown",
      "metadata": {
        "id": "PIrEsEGdiZvR"
      },
      "source": [
        "**Preprocessed data**"
      ]
    },
    {
      "cell_type": "code",
      "execution_count": null,
      "metadata": {
        "colab": {
          "base_uri": "https://localhost:8080/",
          "height": 1000
        },
        "id": "vrdD-kW9iZvR",
        "outputId": "93b6b01d-7eeb-416f-8454-7fb65d6f197c"
      },
      "outputs": [
        {
          "name": "stderr",
          "output_type": "stream",
          "text": [
            "PyTorch: setting up devices\n",
            "The default value for the training argument `--report_to` will change in v5 (from all installed integrations to none). In v5, you will need to use `--report_to all` to get the same behavior as now. You should start updating your code and make this info disappear :-).\n",
            "/usr/local/lib/python3.7/dist-packages/transformers/optimization.py:310: FutureWarning: This implementation of AdamW is deprecated and will be removed in a future version. Use the PyTorch implementation torch.optim.AdamW instead, or set `no_deprecation_warning=True` to disable this warning\n",
            "  FutureWarning,\n",
            "***** Running training *****\n",
            "  Num examples = 9000\n",
            "  Num Epochs = 2\n",
            "  Instantaneous batch size per device = 16\n",
            "  Total train batch size (w. parallel, distributed & accumulation) = 16\n",
            "  Gradient Accumulation steps = 1\n",
            "  Total optimization steps = 1126\n"
          ]
        },
        {
          "data": {
            "text/html": [
              "\n",
              "    <div>\n",
              "      \n",
              "      <progress value='1126' max='1126' style='width:300px; height:20px; vertical-align: middle;'></progress>\n",
              "      [1126/1126 03:51, Epoch 2/2]\n",
              "    </div>\n",
              "    <table border=\"1\" class=\"dataframe\">\n",
              "  <thead>\n",
              " <tr style=\"text-align: left;\">\n",
              "      <th>Epoch</th>\n",
              "      <th>Training Loss</th>\n",
              "      <th>Validation Loss</th>\n",
              "      <th>Accuracy</th>\n",
              "    </tr>\n",
              "  </thead>\n",
              "  <tbody>\n",
              "    <tr>\n",
              "      <td>1</td>\n",
              "      <td>0.083800</td>\n",
              "      <td>1.144966</td>\n",
              "      <td>0.784000</td>\n",
              "    </tr>\n",
              "    <tr>\n",
              "      <td>2</td>\n",
              "      <td>0.043100</td>\n",
              "      <td>1.390039</td>\n",
              "      <td>0.781000</td>\n",
              "    </tr>\n",
              "  </tbody>\n",
              "</table><p>"
            ],
            "text/plain": [
              "<IPython.core.display.HTML object>"
            ]
          },
          "metadata": {},
          "output_type": "display_data"
        },
        {
          "name": "stderr",
          "output_type": "stream",
          "text": [
            "Saving model checkpoint to trainer_hate_prep16_2/checkpoint-500\n",
            "Configuration saved in trainer_hate_prep16_2/checkpoint-500/config.json\n",
            "Model weights saved in trainer_hate_prep16_2/checkpoint-500/pytorch_model.bin\n",
            "***** Running Evaluation *****\n",
            "  Num examples = 1000\n",
            "  Batch size = 8\n",
            "Saving model checkpoint to trainer_hate_prep16_2/checkpoint-1000\n",
            "Configuration saved in trainer_hate_prep16_2/checkpoint-1000/config.json\n",
            "Model weights saved in trainer_hate_prep16_2/checkpoint-1000/pytorch_model.bin\n",
            "***** Running Evaluation *****\n",
            "  Num examples = 1000\n",
            "  Batch size = 8\n",
            "\n",
            "\n",
            "Training completed. Do not forget to share your model on huggingface.co/models =)\n",
            "\n",
            "\n",
            "***** Running Prediction *****\n",
            "  Num examples = 1000\n",
            "  Batch size = 8\n"
          ]
        },
        {
          "data": {
            "text/html": [
              "\n",
              "    <div>\n",
              "      \n",
              "      <progress value='125' max='125' style='width:300px; height:20px; vertical-align: middle;'></progress>\n",
              "      [125/125 00:04]\n",
              "    </div>\n",
              "    "
            ],
            "text/plain": [
              "<IPython.core.display.HTML object>"
            ]
          },
          "metadata": {},
          "output_type": "display_data"
        },
        {
          "name": "stderr",
          "output_type": "stream",
          "text": [
            "PyTorch: setting up devices\n",
            "The default value for the training argument `--report_to` will change in v5 (from all installed integrations to none). In v5, you will need to use `--report_to all` to get the same behavior as now. You should start updating your code and make this info disappear :-).\n",
            "/usr/local/lib/python3.7/dist-packages/transformers/optimization.py:310: FutureWarning: This implementation of AdamW is deprecated and will be removed in a future version. Use the PyTorch implementation torch.optim.AdamW instead, or set `no_deprecation_warning=True` to disable this warning\n",
            "  FutureWarning,\n",
            "***** Running training *****\n",
            "  Num examples = 9000\n",
            "  Num Epochs = 2\n",
            "  Instantaneous batch size per device = 32\n",
            "  Total train batch size (w. parallel, distributed & accumulation) = 32\n",
            "  Gradient Accumulation steps = 1\n",
            "  Total optimization steps = 564\n"
          ]
        },
        {
          "name": "stdout",
          "output_type": "stream",
          "text": [
            "\u001b[35m \n",
            "Validation accuracy (batch size 16 and epochs 2): 0.781\n",
            " \u001b[30m\n"
          ]
        },
        {
          "data": {
            "text/html": [
              "\n",
              "    <div>\n",
              "      \n",
              "      <progress value='564' max='564' style='width:300px; height:20px; vertical-align: middle;'></progress>\n",
              "      [564/564 03:16, Epoch 2/2]\n",
              "    </div>\n",
              "    <table border=\"1\" class=\"dataframe\">\n",
              "  <thead>\n",
              " <tr style=\"text-align: left;\">\n",
              "      <th>Epoch</th>\n",
              "      <th>Training Loss</th>\n",
              "      <th>Validation Loss</th>\n",
              "      <th>Accuracy</th>\n",
              "    </tr>\n",
              "  </thead>\n",
              "  <tbody>\n",
              "    <tr>\n",
              "      <td>1</td>\n",
              "      <td>No log</td>\n",
              "      <td>1.238325</td>\n",
              "      <td>0.773000</td>\n",
              "    </tr>\n",
              "    <tr>\n",
              "      <td>2</td>\n",
              "      <td>0.031200</td>\n",
              "      <td>1.477002</td>\n",
              "      <td>0.778000</td>\n",
              "    </tr>\n",
              "  </tbody>\n",
              "</table><p>"
            ],
            "text/plain": [
              "<IPython.core.display.HTML object>"
            ]
          },
          "metadata": {},
          "output_type": "display_data"
        },
        {
          "name": "stderr",
          "output_type": "stream",
          "text": [
            "***** Running Evaluation *****\n",
            "  Num examples = 1000\n",
            "  Batch size = 8\n",
            "Saving model checkpoint to trainer_hate_prep32_2/checkpoint-500\n",
            "Configuration saved in trainer_hate_prep32_2/checkpoint-500/config.json\n",
            "Model weights saved in trainer_hate_prep32_2/checkpoint-500/pytorch_model.bin\n",
            "***** Running Evaluation *****\n",
            "  Num examples = 1000\n",
            "  Batch size = 8\n",
            "\n",
            "\n",
            "Training completed. Do not forget to share your model on huggingface.co/models =)\n",
            "\n",
            "\n",
            "***** Running Prediction *****\n",
            "  Num examples = 1000\n",
            "  Batch size = 8\n"
          ]
        },
        {
          "data": {
            "text/html": [
              "\n",
              "    <div>\n",
              "      \n",
              "      <progress value='125' max='125' style='width:300px; height:20px; vertical-align: middle;'></progress>\n",
              "      [125/125 00:04]\n",
              "    </div>\n",
              "    "
            ],
            "text/plain": [
              "<IPython.core.display.HTML object>"
            ]
          },
          "metadata": {},
          "output_type": "display_data"
        },
        {
          "name": "stderr",
          "output_type": "stream",
          "text": [
            "PyTorch: setting up devices\n",
            "The default value for the training argument `--report_to` will change in v5 (from all installed integrations to none). In v5, you will need to use `--report_to all` to get the same behavior as now. You should start updating your code and make this info disappear :-).\n",
            "/usr/local/lib/python3.7/dist-packages/transformers/optimization.py:310: FutureWarning: This implementation of AdamW is deprecated and will be removed in a future version. Use the PyTorch implementation torch.optim.AdamW instead, or set `no_deprecation_warning=True` to disable this warning\n",
            "  FutureWarning,\n",
            "***** Running training *****\n",
            "  Num examples = 9000\n",
            "  Num Epochs = 3\n",
            "  Instantaneous batch size per device = 16\n",
            "  Total train batch size (w. parallel, distributed & accumulation) = 16\n",
            "  Gradient Accumulation steps = 1\n",
            "  Total optimization steps = 1689\n"
          ]
        },
        {
          "name": "stdout",
          "output_type": "stream",
          "text": [
            "\u001b[35m \n",
            "Validation accuracy (batch size 32 and epochs 2): 0.778\n",
            " \u001b[30m\n"
          ]
        },
        {
          "data": {
            "text/html": [
              "\n",
              "    <div>\n",
              "      \n",
              "      <progress value='1689' max='1689' style='width:300px; height:20px; vertical-align: middle;'></progress>\n",
              "      [1689/1689 05:43, Epoch 3/3]\n",
              "    </div>\n",
              "    <table border=\"1\" class=\"dataframe\">\n",
              "  <thead>\n",
              " <tr style=\"text-align: left;\">\n",
              "      <th>Epoch</th>\n",
              "      <th>Training Loss</th>\n",
              "      <th>Validation Loss</th>\n",
              "      <th>Accuracy</th>\n",
              "    </tr>\n",
              "  </thead>\n",
              "  <tbody>\n",
              "    <tr>\n",
              "      <td>1</td>\n",
              "      <td>0.062700</td>\n",
              "      <td>1.618517</td>\n",
              "      <td>0.764000</td>\n",
              "    </tr>\n",
              "    <tr>\n",
              "      <td>2</td>\n",
              "      <td>0.025700</td>\n",
              "      <td>1.531692</td>\n",
              "      <td>0.785000</td>\n",
              "    </tr>\n",
              "    <tr>\n",
              "      <td>3</td>\n",
              "      <td>0.010400</td>\n",
              "      <td>1.666404</td>\n",
              "      <td>0.779000</td>\n",
              "    </tr>\n",
              "  </tbody>\n",
              "</table><p>"
            ],
            "text/plain": [
              "<IPython.core.display.HTML object>"
            ]
          },
          "metadata": {},
          "output_type": "display_data"
        },
        {
          "name": "stderr",
          "output_type": "stream",
          "text": [
            "Saving model checkpoint to trainer_hate_prep16_3/checkpoint-500\n",
            "Configuration saved in trainer_hate_prep16_3/checkpoint-500/config.json\n",
            "Model weights saved in trainer_hate_prep16_3/checkpoint-500/pytorch_model.bin\n",
            "***** Running Evaluation *****\n",
            "  Num examples = 1000\n",
            "  Batch size = 8\n",
            "Saving model checkpoint to trainer_hate_prep16_3/checkpoint-1000\n",
            "Configuration saved in trainer_hate_prep16_3/checkpoint-1000/config.json\n",
            "Model weights saved in trainer_hate_prep16_3/checkpoint-1000/pytorch_model.bin\n",
            "***** Running Evaluation *****\n",
            "  Num examples = 1000\n",
            "  Batch size = 8\n",
            "Saving model checkpoint to trainer_hate_prep16_3/checkpoint-1500\n",
            "Configuration saved in trainer_hate_prep16_3/checkpoint-1500/config.json\n",
            "Model weights saved in trainer_hate_prep16_3/checkpoint-1500/pytorch_model.bin\n",
            "***** Running Evaluation *****\n",
            "  Num examples = 1000\n",
            "  Batch size = 8\n",
            "\n",
            "\n",
            "Training completed. Do not forget to share your model on huggingface.co/models =)\n",
            "\n",
            "\n",
            "***** Running Prediction *****\n",
            "  Num examples = 1000\n",
            "  Batch size = 8\n"
          ]
        },
        {
          "data": {
            "text/html": [
              "\n",
              "    <div>\n",
              "      \n",
              "      <progress value='125' max='125' style='width:300px; height:20px; vertical-align: middle;'></progress>\n",
              "      [125/125 00:04]\n",
              "    </div>\n",
              "    "
            ],
            "text/plain": [
              "<IPython.core.display.HTML object>"
            ]
          },
          "metadata": {},
          "output_type": "display_data"
        },
        {
          "name": "stderr",
          "output_type": "stream",
          "text": [
            "PyTorch: setting up devices\n",
            "The default value for the training argument `--report_to` will change in v5 (from all installed integrations to none). In v5, you will need to use `--report_to all` to get the same behavior as now. You should start updating your code and make this info disappear :-).\n",
            "/usr/local/lib/python3.7/dist-packages/transformers/optimization.py:310: FutureWarning: This implementation of AdamW is deprecated and will be removed in a future version. Use the PyTorch implementation torch.optim.AdamW instead, or set `no_deprecation_warning=True` to disable this warning\n",
            "  FutureWarning,\n",
            "***** Running training *****\n",
            "  Num examples = 9000\n",
            "  Num Epochs = 3\n",
            "  Instantaneous batch size per device = 32\n",
            "  Total train batch size (w. parallel, distributed & accumulation) = 32\n",
            "  Gradient Accumulation steps = 1\n",
            "  Total optimization steps = 846\n"
          ]
        },
        {
          "name": "stdout",
          "output_type": "stream",
          "text": [
            "\u001b[35m \n",
            "Validation accuracy (batch size 16 and epochs 3): 0.779\n",
            " \u001b[30m\n"
          ]
        },
        {
          "data": {
            "text/html": [
              "\n",
              "    <div>\n",
              "      \n",
              "      <progress value='846' max='846' style='width:300px; height:20px; vertical-align: middle;'></progress>\n",
              "      [846/846 04:51, Epoch 3/3]\n",
              "    </div>\n",
              "    <table border=\"1\" class=\"dataframe\">\n",
              "  <thead>\n",
              " <tr style=\"text-align: left;\">\n",
              "      <th>Epoch</th>\n",
              "      <th>Training Loss</th>\n",
              "      <th>Validation Loss</th>\n",
              "      <th>Accuracy</th>\n",
              "    </tr>\n",
              "  </thead>\n",
              "  <tbody>\n",
              "    <tr>\n",
              "      <td>1</td>\n",
              "      <td>No log</td>\n",
              "      <td>1.724600</td>\n",
              "      <td>0.762000</td>\n",
              "    </tr>\n",
              "    <tr>\n",
              "      <td>2</td>\n",
              "      <td>0.017600</td>\n",
              "      <td>1.743068</td>\n",
              "      <td>0.763000</td>\n",
              "    </tr>\n",
              "    <tr>\n",
              "      <td>3</td>\n",
              "      <td>0.017600</td>\n",
              "      <td>1.768635</td>\n",
              "      <td>0.769000</td>\n",
              "    </tr>\n",
              "  </tbody>\n",
              "</table><p>"
            ],
            "text/plain": [
              "<IPython.core.display.HTML object>"
            ]
          },
          "metadata": {},
          "output_type": "display_data"
        },
        {
          "name": "stderr",
          "output_type": "stream",
          "text": [
            "***** Running Evaluation *****\n",
            "  Num examples = 1000\n",
            "  Batch size = 8\n",
            "Saving model checkpoint to trainer_hate_prep32_3/checkpoint-500\n",
            "Configuration saved in trainer_hate_prep32_3/checkpoint-500/config.json\n",
            "Model weights saved in trainer_hate_prep32_3/checkpoint-500/pytorch_model.bin\n",
            "***** Running Evaluation *****\n",
            "  Num examples = 1000\n",
            "  Batch size = 8\n",
            "***** Running Evaluation *****\n",
            "  Num examples = 1000\n",
            "  Batch size = 8\n",
            "\n",
            "\n",
            "Training completed. Do not forget to share your model on huggingface.co/models =)\n",
            "\n",
            "\n",
            "***** Running Prediction *****\n",
            "  Num examples = 1000\n",
            "  Batch size = 8\n"
          ]
        },
        {
          "data": {
            "text/html": [
              "\n",
              "    <div>\n",
              "      \n",
              "      <progress value='125' max='125' style='width:300px; height:20px; vertical-align: middle;'></progress>\n",
              "      [125/125 00:04]\n",
              "    </div>\n",
              "    "
            ],
            "text/plain": [
              "<IPython.core.display.HTML object>"
            ]
          },
          "metadata": {},
          "output_type": "display_data"
        },
        {
          "name": "stderr",
          "output_type": "stream",
          "text": [
            "PyTorch: setting up devices\n",
            "The default value for the training argument `--report_to` will change in v5 (from all installed integrations to none). In v5, you will need to use `--report_to all` to get the same behavior as now. You should start updating your code and make this info disappear :-).\n",
            "/usr/local/lib/python3.7/dist-packages/transformers/optimization.py:310: FutureWarning: This implementation of AdamW is deprecated and will be removed in a future version. Use the PyTorch implementation torch.optim.AdamW instead, or set `no_deprecation_warning=True` to disable this warning\n",
            "  FutureWarning,\n",
            "***** Running training *****\n",
            "  Num examples = 9000\n",
            "  Num Epochs = 4\n",
            "  Instantaneous batch size per device = 16\n",
            "  Total train batch size (w. parallel, distributed & accumulation) = 16\n",
            "  Gradient Accumulation steps = 1\n",
            "  Total optimization steps = 2252\n"
          ]
        },
        {
          "name": "stdout",
          "output_type": "stream",
          "text": [
            "\u001b[35m \n",
            "Validation accuracy (batch size 32 and epochs 3): 0.769\n",
            " \u001b[30m\n"
          ]
        },
        {
          "data": {
            "text/html": [
              "\n",
              "    <div>\n",
              "      \n",
              "      <progress value='2252' max='2252' style='width:300px; height:20px; vertical-align: middle;'></progress>\n",
              "      [2252/2252 07:38, Epoch 4/4]\n",
              "    </div>\n",
              "    <table border=\"1\" class=\"dataframe\">\n",
              "  <thead>\n",
              " <tr style=\"text-align: left;\">\n",
              "      <th>Epoch</th>\n",
              "      <th>Training Loss</th>\n",
              "      <th>Validation Loss</th>\n",
              "      <th>Accuracy</th>\n",
              "    </tr>\n",
              "  </thead>\n",
              "  <tbody>\n",
              "    <tr>\n",
              "      <td>1</td>\n",
              "      <td>0.041000</td>\n",
              "      <td>1.744837</td>\n",
              "      <td>0.759000</td>\n",
              "    </tr>\n",
              "    <tr>\n",
              "      <td>2</td>\n",
              "      <td>0.028900</td>\n",
              "      <td>1.557923</td>\n",
              "      <td>0.753000</td>\n",
              "    </tr>\n",
              "    <tr>\n",
              "      <td>3</td>\n",
              "      <td>0.015900</td>\n",
              "      <td>1.713759</td>\n",
              "      <td>0.773000</td>\n",
              "    </tr>\n",
              "    <tr>\n",
              "      <td>4</td>\n",
              "      <td>0.010600</td>\n",
              "      <td>1.927164</td>\n",
              "      <td>0.767000</td>\n",
              "    </tr>\n",
              "  </tbody>\n",
              "</table><p>"
            ],
            "text/plain": [
              "<IPython.core.display.HTML object>"
            ]
          },
          "metadata": {},
          "output_type": "display_data"
        },
        {
          "name": "stderr",
          "output_type": "stream",
          "text": [
            "Saving model checkpoint to trainer_hate_prep16_4/checkpoint-500\n",
            "Configuration saved in trainer_hate_prep16_4/checkpoint-500/config.json\n",
            "Model weights saved in trainer_hate_prep16_4/checkpoint-500/pytorch_model.bin\n",
            "***** Running Evaluation *****\n",
            "  Num examples = 1000\n",
            "  Batch size = 8\n",
            "Saving model checkpoint to trainer_hate_prep16_4/checkpoint-1000\n",
            "Configuration saved in trainer_hate_prep16_4/checkpoint-1000/config.json\n",
            "Model weights saved in trainer_hate_prep16_4/checkpoint-1000/pytorch_model.bin\n",
            "***** Running Evaluation *****\n",
            "  Num examples = 1000\n",
            "  Batch size = 8\n",
            "Saving model checkpoint to trainer_hate_prep16_4/checkpoint-1500\n",
            "Configuration saved in trainer_hate_prep16_4/checkpoint-1500/config.json\n",
            "Model weights saved in trainer_hate_prep16_4/checkpoint-1500/pytorch_model.bin\n",
            "***** Running Evaluation *****\n",
            "  Num examples = 1000\n",
            "  Batch size = 8\n",
            "Saving model checkpoint to trainer_hate_prep16_4/checkpoint-2000\n",
            "Configuration saved in trainer_hate_prep16_4/checkpoint-2000/config.json\n",
            "Model weights saved in trainer_hate_prep16_4/checkpoint-2000/pytorch_model.bin\n",
            "***** Running Evaluation *****\n",
            "  Num examples = 1000\n",
            "  Batch size = 8\n",
            "\n",
            "\n",
            "Training completed. Do not forget to share your model on huggingface.co/models =)\n",
            "\n",
            "\n",
            "***** Running Prediction *****\n",
            "  Num examples = 1000\n",
            "  Batch size = 8\n"
          ]
        },
        {
          "data": {
            "text/html": [
              "\n",
              "    <div>\n",
              "      \n",
              "      <progress value='125' max='125' style='width:300px; height:20px; vertical-align: middle;'></progress>\n",
              "      [125/125 00:04]\n",
              "    </div>\n",
              "    "
            ],
            "text/plain": [
              "<IPython.core.display.HTML object>"
            ]
          },
          "metadata": {},
          "output_type": "display_data"
        },
        {
          "name": "stderr",
          "output_type": "stream",
          "text": [
            "PyTorch: setting up devices\n",
            "The default value for the training argument `--report_to` will change in v5 (from all installed integrations to none). In v5, you will need to use `--report_to all` to get the same behavior as now. You should start updating your code and make this info disappear :-).\n",
            "/usr/local/lib/python3.7/dist-packages/transformers/optimization.py:310: FutureWarning: This implementation of AdamW is deprecated and will be removed in a future version. Use the PyTorch implementation torch.optim.AdamW instead, or set `no_deprecation_warning=True` to disable this warning\n",
            "  FutureWarning,\n",
            "***** Running training *****\n",
            "  Num examples = 9000\n",
            "  Num Epochs = 4\n",
            "  Instantaneous batch size per device = 32\n",
            "  Total train batch size (w. parallel, distributed & accumulation) = 32\n",
            "  Gradient Accumulation steps = 1\n",
            "  Total optimization steps = 1128\n"
          ]
        },
        {
          "name": "stdout",
          "output_type": "stream",
          "text": [
            "\u001b[35m \n",
            "Validation accuracy (batch size 16 and epochs 4): 0.767\n",
            " \u001b[30m\n"
          ]
        },
        {
          "data": {
            "text/html": [
              "\n",
              "    <div>\n",
              "      \n",
              "      <progress value='1128' max='1128' style='width:300px; height:20px; vertical-align: middle;'></progress>\n",
              "      [1128/1128 06:33, Epoch 4/4]\n",
              "    </div>\n",
              "    <table border=\"1\" class=\"dataframe\">\n",
              "  <thead>\n",
              " <tr style=\"text-align: left;\">\n",
              "      <th>Epoch</th>\n",
              "      <th>Training Loss</th>\n",
              "      <th>Validation Loss</th>\n",
              "      <th>Accuracy</th>\n",
              "    </tr>\n",
              "  </thead>\n",
              "  <tbody>\n",
              "    <tr>\n",
              "      <td>1</td>\n",
              "      <td>No log</td>\n",
              "      <td>1.834215</td>\n",
              "      <td>0.762000</td>\n",
              "    </tr>\n",
              "    <tr>\n",
              "      <td>2</td>\n",
              "      <td>0.022300</td>\n",
              "      <td>2.130250</td>\n",
              "      <td>0.760000</td>\n",
              "    </tr>\n",
              "    <tr>\n",
              "      <td>3</td>\n",
              "      <td>0.022300</td>\n",
              "      <td>1.965113</td>\n",
              "      <td>0.763000</td>\n",
              "    </tr>\n",
              "    <tr>\n",
              "      <td>4</td>\n",
              "      <td>0.005500</td>\n",
              "      <td>2.040073</td>\n",
              "      <td>0.759000</td>\n",
              "    </tr>\n",
              "  </tbody>\n",
              "</table><p>"
            ],
            "text/plain": [
              "<IPython.core.display.HTML object>"
            ]
          },
          "metadata": {},
          "output_type": "display_data"
        },
        {
          "name": "stderr",
          "output_type": "stream",
          "text": [
            "***** Running Evaluation *****\n",
            "  Num examples = 1000\n",
            "  Batch size = 8\n",
            "Saving model checkpoint to trainer_hate_prep32_4/checkpoint-500\n",
            "Configuration saved in trainer_hate_prep32_4/checkpoint-500/config.json\n",
            "Model weights saved in trainer_hate_prep32_4/checkpoint-500/pytorch_model.bin\n",
            "***** Running Evaluation *****\n",
            "  Num examples = 1000\n",
            "  Batch size = 8\n",
            "***** Running Evaluation *****\n",
            "  Num examples = 1000\n",
            "  Batch size = 8\n",
            "Saving model checkpoint to trainer_hate_prep32_4/checkpoint-1000\n",
            "Configuration saved in trainer_hate_prep32_4/checkpoint-1000/config.json\n",
            "Model weights saved in trainer_hate_prep32_4/checkpoint-1000/pytorch_model.bin\n",
            "***** Running Evaluation *****\n",
            "  Num examples = 1000\n",
            "  Batch size = 8\n",
            "\n",
            "\n",
            "Training completed. Do not forget to share your model on huggingface.co/models =)\n",
            "\n",
            "\n",
            "***** Running Prediction *****\n",
            "  Num examples = 1000\n",
            "  Batch size = 8\n"
          ]
        },
        {
          "data": {
            "text/html": [
              "\n",
              "    <div>\n",
              "      \n",
              "      <progress value='125' max='125' style='width:300px; height:20px; vertical-align: middle;'></progress>\n",
              "      [125/125 00:04]\n",
              "    </div>\n",
              "    "
            ],
            "text/plain": [
              "<IPython.core.display.HTML object>"
            ]
          },
          "metadata": {},
          "output_type": "display_data"
        },
        {
          "name": "stdout",
          "output_type": "stream",
          "text": [
            "\u001b[35m \n",
            "Validation accuracy (batch size 32 and epochs 4): 0.759\n",
            " \u001b[30m\n"
          ]
        }
      ],
      "source": [
        "best_model_hate_prep = None\n",
        "best_accuracy_hate_prep = 0\n",
        "best_epoch_haten_prep = 0\n",
        "best_batch_size_hate_prep = 0\n",
        "\n",
        "models_hate_prep = []\n",
        "\n",
        "for epoch in epochs:\n",
        "  for batch_size in batch_sizes:\n",
        "\n",
        "    args = TrainingArguments(output_dir='trainer_hate_prep'+str(batch_size)+'_'+str(epoch),\n",
        "                              evaluation_strategy=\"epoch\",\n",
        "                              num_train_epochs=epoch,\n",
        "                              per_device_train_batch_size=batch_size)\n",
        "    \n",
        "    trainer = Trainer(\n",
        "        model=bertweet_hate,\n",
        "        args=args,\n",
        "        train_dataset=train_tokenized_hate_prep,\n",
        "        eval_dataset=val_tokenized_hate_prep,\n",
        "        compute_metrics=compute_accuracy,\n",
        "    )\n",
        "\n",
        "    trainer.train()\n",
        "  \n",
        "    predictions = trainer.predict(val_tokenized_hate_prep)\n",
        "    preds = np.argmax(predictions.predictions, axis=-1)\n",
        "    val_accuracy = accuracy.compute(predictions=preds, references=predictions.label_ids)['accuracy']\n",
        "\n",
        "    print(f'{Fore.MAGENTA} \\nValidation accuracy (batch size {batch_size} and epochs {epoch}): {val_accuracy}\\n {Fore.BLACK}')\n",
        "    \n",
        "    models_hate_prep.append(dict(val_accuracy=val_accuracy,\n",
        "                       batch_size=batch_size,\n",
        "                       epochs=epoch\n",
        "                       ))\n",
        "\n",
        "    if val_accuracy > best_accuracy_hate_prep:\n",
        "      best_accuracy_hate_prep = val_accuracy\n",
        "      best_model_hate_prep = trainer\n",
        "      best_epoch_hate_prep = epoch\n",
        "      best_batch_size_hate_prep = batch_size\n"
      ]
    },
    {
      "cell_type": "code",
      "execution_count": null,
      "metadata": {
        "colab": {
          "base_uri": "https://localhost:8080/"
        },
        "id": "qNT-MjS40NXF",
        "outputId": "d7178095-58e0-40b9-ce90-c07f095cba1a"
      },
      "outputs": [
        {
          "name": "stdout",
          "output_type": "stream",
          "text": [
            "** Best model for Hate Speech Detection with preprocessed tweets **\n",
            "batch size: 16, epochs: 2, validation accuracy: 0.781\n"
          ]
        }
      ],
      "source": [
        "print('** Best model for Hate Speech Detection with preprocessed tweets **')\n",
        "print(f'batch size: {best_batch_size_hate_prep}, epochs: {best_epoch_hate_prep}, validation accuracy: {best_accuracy_hate_prep}')\n"
      ]
    },
    {
      "cell_type": "markdown",
      "metadata": {
        "id": "JH8HuEMQuAn3"
      },
      "source": [
        "#### 4.4.3 -  Sentiment Analysis\n",
        "\n",
        "Note that, due to the bigger size of this dataset compared to the previous ones, I had to run in a separate cell the code for the finetuning with 4 epochs, since Colab gave me an error message while running the model's finetuning of the preprocessed tweets."
      ]
    },
    {
      "cell_type": "code",
      "execution_count": null,
      "metadata": {
        "id": "zWxPMWKrtJPZ"
      },
      "outputs": [],
      "source": [
        "num_classes = train_sentiment.features['label'].num_classes\n",
        "bertweet_sentiment = AutoModelForSequenceClassification.from_pretrained(BERTWEET_BASE, num_labels=num_classes)"
      ]
    },
    {
      "cell_type": "markdown",
      "metadata": {
        "id": "i19cF3_RkmAP"
      },
      "source": [
        "**Original data**"
      ]
    },
    {
      "cell_type": "code",
      "execution_count": null,
      "metadata": {
        "colab": {
          "base_uri": "https://localhost:8080/",
          "height": 1000
        },
        "id": "5bOKXS0tkmAQ",
        "outputId": "19921fbe-0806-45fb-f393-e28c787d8e7c"
      },
      "outputs": [
        {
          "name": "stderr",
          "output_type": "stream",
          "text": [
            "PyTorch: setting up devices\n",
            "The default value for the training argument `--report_to` will change in v5 (from all installed integrations to none). In v5, you will need to use `--report_to all` to get the same behavior as now. You should start updating your code and make this info disappear :-).\n",
            "/usr/local/lib/python3.7/dist-packages/transformers/optimization.py:310: FutureWarning: This implementation of AdamW is deprecated and will be removed in a future version. Use the PyTorch implementation torch.optim.AdamW instead, or set `no_deprecation_warning=True` to disable this warning\n",
            "  FutureWarning,\n",
            "***** Running training *****\n",
            "  Num examples = 45615\n",
            "  Num Epochs = 2\n",
            "  Instantaneous batch size per device = 16\n",
            "  Total train batch size (w. parallel, distributed & accumulation) = 16\n",
            "  Gradient Accumulation steps = 1\n",
            "  Total optimization steps = 5702\n"
          ]
        },
        {
          "data": {
            "text/html": [
              "\n",
              "    <div>\n",
              "      \n",
              "      <progress value='5702' max='5702' style='width:300px; height:20px; vertical-align: middle;'></progress>\n",
              "      [5702/5702 18:59, Epoch 2/2]\n",
              "    </div>\n",
              "    <table border=\"1\" class=\"dataframe\">\n",
              "  <thead>\n",
              " <tr style=\"text-align: left;\">\n",
              "      <th>Epoch</th>\n",
              "      <th>Training Loss</th>\n",
              "      <th>Validation Loss</th>\n",
              "      <th>Accuracy</th>\n",
              "    </tr>\n",
              "  </thead>\n",
              "  <tbody>\n",
              "    <tr>\n",
              "      <td>1</td>\n",
              "      <td>0.350600</td>\n",
              "      <td>0.798745</td>\n",
              "      <td>0.731000</td>\n",
              "    </tr>\n",
              "    <tr>\n",
              "      <td>2</td>\n",
              "      <td>0.217500</td>\n",
              "      <td>1.044886</td>\n",
              "      <td>0.736500</td>\n",
              "    </tr>\n",
              "  </tbody>\n",
              "</table><p>"
            ],
            "text/plain": [
              "<IPython.core.display.HTML object>"
            ]
          },
          "metadata": {},
          "output_type": "display_data"
        },
        {
          "name": "stderr",
          "output_type": "stream",
          "text": [
            "Saving model checkpoint to trainer_sentiment_16_2/checkpoint-500\n",
            "Configuration saved in trainer_sentiment_16_2/checkpoint-500/config.json\n",
            "Model weights saved in trainer_sentiment_16_2/checkpoint-500/pytorch_model.bin\n",
            "Saving model checkpoint to trainer_sentiment_16_2/checkpoint-1000\n",
            "Configuration saved in trainer_sentiment_16_2/checkpoint-1000/config.json\n",
            "Model weights saved in trainer_sentiment_16_2/checkpoint-1000/pytorch_model.bin\n",
            "Saving model checkpoint to trainer_sentiment_16_2/checkpoint-1500\n",
            "Configuration saved in trainer_sentiment_16_2/checkpoint-1500/config.json\n",
            "Model weights saved in trainer_sentiment_16_2/checkpoint-1500/pytorch_model.bin\n",
            "Saving model checkpoint to trainer_sentiment_16_2/checkpoint-2000\n",
            "Configuration saved in trainer_sentiment_16_2/checkpoint-2000/config.json\n",
            "Model weights saved in trainer_sentiment_16_2/checkpoint-2000/pytorch_model.bin\n",
            "Saving model checkpoint to trainer_sentiment_16_2/checkpoint-2500\n",
            "Configuration saved in trainer_sentiment_16_2/checkpoint-2500/config.json\n",
            "Model weights saved in trainer_sentiment_16_2/checkpoint-2500/pytorch_model.bin\n",
            "***** Running Evaluation *****\n",
            "  Num examples = 2000\n",
            "  Batch size = 8\n",
            "Saving model checkpoint to trainer_sentiment_16_2/checkpoint-3000\n",
            "Configuration saved in trainer_sentiment_16_2/checkpoint-3000/config.json\n",
            "Model weights saved in trainer_sentiment_16_2/checkpoint-3000/pytorch_model.bin\n",
            "Saving model checkpoint to trainer_sentiment_16_2/checkpoint-3500\n",
            "Configuration saved in trainer_sentiment_16_2/checkpoint-3500/config.json\n",
            "Model weights saved in trainer_sentiment_16_2/checkpoint-3500/pytorch_model.bin\n",
            "Saving model checkpoint to trainer_sentiment_16_2/checkpoint-4000\n",
            "Configuration saved in trainer_sentiment_16_2/checkpoint-4000/config.json\n",
            "Model weights saved in trainer_sentiment_16_2/checkpoint-4000/pytorch_model.bin\n",
            "Saving model checkpoint to trainer_sentiment_16_2/checkpoint-4500\n",
            "Configuration saved in trainer_sentiment_16_2/checkpoint-4500/config.json\n",
            "Model weights saved in trainer_sentiment_16_2/checkpoint-4500/pytorch_model.bin\n",
            "Saving model checkpoint to trainer_sentiment_16_2/checkpoint-5000\n",
            "Configuration saved in trainer_sentiment_16_2/checkpoint-5000/config.json\n",
            "Model weights saved in trainer_sentiment_16_2/checkpoint-5000/pytorch_model.bin\n",
            "Saving model checkpoint to trainer_sentiment_16_2/checkpoint-5500\n",
            "Configuration saved in trainer_sentiment_16_2/checkpoint-5500/config.json\n",
            "Model weights saved in trainer_sentiment_16_2/checkpoint-5500/pytorch_model.bin\n",
            "***** Running Evaluation *****\n",
            "  Num examples = 2000\n",
            "  Batch size = 8\n",
            "\n",
            "\n",
            "Training completed. Do not forget to share your model on huggingface.co/models =)\n",
            "\n",
            "\n",
            "***** Running Prediction *****\n",
            "  Num examples = 2000\n",
            "  Batch size = 8\n"
          ]
        },
        {
          "data": {
            "text/html": [
              "\n",
              "    <div>\n",
              "      \n",
              "      <progress value='250' max='250' style='width:300px; height:20px; vertical-align: middle;'></progress>\n",
              "      [250/250 00:08]\n",
              "    </div>\n",
              "    "
            ],
            "text/plain": [
              "<IPython.core.display.HTML object>"
            ]
          },
          "metadata": {},
          "output_type": "display_data"
        },
        {
          "name": "stderr",
          "output_type": "stream",
          "text": [
            "PyTorch: setting up devices\n",
            "The default value for the training argument `--report_to` will change in v5 (from all installed integrations to none). In v5, you will need to use `--report_to all` to get the same behavior as now. You should start updating your code and make this info disappear :-).\n",
            "/usr/local/lib/python3.7/dist-packages/transformers/optimization.py:310: FutureWarning: This implementation of AdamW is deprecated and will be removed in a future version. Use the PyTorch implementation torch.optim.AdamW instead, or set `no_deprecation_warning=True` to disable this warning\n",
            "  FutureWarning,\n",
            "***** Running training *****\n",
            "  Num examples = 45615\n",
            "  Num Epochs = 2\n",
            "  Instantaneous batch size per device = 32\n",
            "  Total train batch size (w. parallel, distributed & accumulation) = 32\n",
            "  Gradient Accumulation steps = 1\n",
            "  Total optimization steps = 2852\n"
          ]
        },
        {
          "name": "stdout",
          "output_type": "stream",
          "text": [
            "\u001b[35m \n",
            "Validation accuracy (batch size 16 and epochs 2): 0.7365\n",
            " \u001b[30m\n"
          ]
        },
        {
          "data": {
            "text/html": [
              "\n",
              "    <div>\n",
              "      \n",
              "      <progress value='2852' max='2852' style='width:300px; height:20px; vertical-align: middle;'></progress>\n",
              "      [2852/2852 16:09, Epoch 2/2]\n",
              "    </div>\n",
              "    <table border=\"1\" class=\"dataframe\">\n",
              "  <thead>\n",
              " <tr style=\"text-align: left;\">\n",
              "      <th>Epoch</th>\n",
              "      <th>Training Loss</th>\n",
              "      <th>Validation Loss</th>\n",
              "      <th>Accuracy</th>\n",
              "    </tr>\n",
              "  </thead>\n",
              "  <tbody>\n",
              "    <tr>\n",
              "      <td>1</td>\n",
              "      <td>0.183100</td>\n",
              "      <td>0.969851</td>\n",
              "      <td>0.724000</td>\n",
              "    </tr>\n",
              "    <tr>\n",
              "      <td>2</td>\n",
              "      <td>0.116300</td>\n",
              "      <td>1.181408</td>\n",
              "      <td>0.719500</td>\n",
              "    </tr>\n",
              "  </tbody>\n",
              "</table><p>"
            ],
            "text/plain": [
              "<IPython.core.display.HTML object>"
            ]
          },
          "metadata": {},
          "output_type": "display_data"
        },
        {
          "name": "stderr",
          "output_type": "stream",
          "text": [
            "Saving model checkpoint to trainer_sentiment_32_2/checkpoint-500\n",
            "Configuration saved in trainer_sentiment_32_2/checkpoint-500/config.json\n",
            "Model weights saved in trainer_sentiment_32_2/checkpoint-500/pytorch_model.bin\n",
            "Saving model checkpoint to trainer_sentiment_32_2/checkpoint-1000\n",
            "Configuration saved in trainer_sentiment_32_2/checkpoint-1000/config.json\n",
            "Model weights saved in trainer_sentiment_32_2/checkpoint-1000/pytorch_model.bin\n",
            "***** Running Evaluation *****\n",
            "  Num examples = 2000\n",
            "  Batch size = 8\n",
            "Saving model checkpoint to trainer_sentiment_32_2/checkpoint-1500\n",
            "Configuration saved in trainer_sentiment_32_2/checkpoint-1500/config.json\n",
            "Model weights saved in trainer_sentiment_32_2/checkpoint-1500/pytorch_model.bin\n",
            "Saving model checkpoint to trainer_sentiment_32_2/checkpoint-2000\n",
            "Configuration saved in trainer_sentiment_32_2/checkpoint-2000/config.json\n",
            "Model weights saved in trainer_sentiment_32_2/checkpoint-2000/pytorch_model.bin\n",
            "Saving model checkpoint to trainer_sentiment_32_2/checkpoint-2500\n",
            "Configuration saved in trainer_sentiment_32_2/checkpoint-2500/config.json\n",
            "Model weights saved in trainer_sentiment_32_2/checkpoint-2500/pytorch_model.bin\n",
            "***** Running Evaluation *****\n",
            "  Num examples = 2000\n",
            "  Batch size = 8\n",
            "\n",
            "\n",
            "Training completed. Do not forget to share your model on huggingface.co/models =)\n",
            "\n",
            "\n",
            "***** Running Prediction *****\n",
            "  Num examples = 2000\n",
            "  Batch size = 8\n"
          ]
        },
        {
          "data": {
            "text/html": [
              "\n",
              "    <div>\n",
              "      \n",
              "      <progress value='250' max='250' style='width:300px; height:20px; vertical-align: middle;'></progress>\n",
              "      [250/250 00:08]\n",
              "    </div>\n",
              "    "
            ],
            "text/plain": [
              "<IPython.core.display.HTML object>"
            ]
          },
          "metadata": {},
          "output_type": "display_data"
        },
        {
          "name": "stderr",
          "output_type": "stream",
          "text": [
            "PyTorch: setting up devices\n",
            "The default value for the training argument `--report_to` will change in v5 (from all installed integrations to none). In v5, you will need to use `--report_to all` to get the same behavior as now. You should start updating your code and make this info disappear :-).\n",
            "/usr/local/lib/python3.7/dist-packages/transformers/optimization.py:310: FutureWarning: This implementation of AdamW is deprecated and will be removed in a future version. Use the PyTorch implementation torch.optim.AdamW instead, or set `no_deprecation_warning=True` to disable this warning\n",
            "  FutureWarning,\n",
            "***** Running training *****\n",
            "  Num examples = 45615\n",
            "  Num Epochs = 3\n",
            "  Instantaneous batch size per device = 16\n",
            "  Total train batch size (w. parallel, distributed & accumulation) = 16\n",
            "  Gradient Accumulation steps = 1\n",
            "  Total optimization steps = 8553\n"
          ]
        },
        {
          "name": "stdout",
          "output_type": "stream",
          "text": [
            "\u001b[35m \n",
            "Validation accuracy (batch size 32 and epochs 2): 0.7195\n",
            " \u001b[30m\n"
          ]
        },
        {
          "data": {
            "text/html": [
              "\n",
              "    <div>\n",
              "      \n",
              "      <progress value='8553' max='8553' style='width:300px; height:20px; vertical-align: middle;'></progress>\n",
              "      [8553/8553 28:32, Epoch 3/3]\n",
              "    </div>\n",
              "    <table border=\"1\" class=\"dataframe\">\n",
              "  <thead>\n",
              " <tr style=\"text-align: left;\">\n",
              "      <th>Epoch</th>\n",
              "      <th>Training Loss</th>\n",
              "      <th>Validation Loss</th>\n",
              "      <th>Accuracy</th>\n",
              "    </tr>\n",
              "  </thead>\n",
              "  <tbody>\n",
              "    <tr>\n",
              "      <td>1</td>\n",
              "      <td>0.162400</td>\n",
              "      <td>1.359866</td>\n",
              "      <td>0.717000</td>\n",
              "    </tr>\n",
              "    <tr>\n",
              "      <td>2</td>\n",
              "      <td>0.165300</td>\n",
              "      <td>1.225962</td>\n",
              "      <td>0.717500</td>\n",
              "    </tr>\n",
              "    <tr>\n",
              "      <td>3</td>\n",
              "      <td>0.076000</td>\n",
              "      <td>1.743252</td>\n",
              "      <td>0.714000</td>\n",
              "    </tr>\n",
              "  </tbody>\n",
              "</table><p>"
            ],
            "text/plain": [
              "<IPython.core.display.HTML object>"
            ]
          },
          "metadata": {},
          "output_type": "display_data"
        },
        {
          "name": "stderr",
          "output_type": "stream",
          "text": [
            "Saving model checkpoint to trainer_sentiment_16_3/checkpoint-500\n",
            "Configuration saved in trainer_sentiment_16_3/checkpoint-500/config.json\n",
            "Model weights saved in trainer_sentiment_16_3/checkpoint-500/pytorch_model.bin\n",
            "Saving model checkpoint to trainer_sentiment_16_3/checkpoint-1000\n",
            "Configuration saved in trainer_sentiment_16_3/checkpoint-1000/config.json\n",
            "Model weights saved in trainer_sentiment_16_3/checkpoint-1000/pytorch_model.bin\n",
            "Saving model checkpoint to trainer_sentiment_16_3/checkpoint-1500\n",
            "Configuration saved in trainer_sentiment_16_3/checkpoint-1500/config.json\n",
            "Model weights saved in trainer_sentiment_16_3/checkpoint-1500/pytorch_model.bin\n",
            "Saving model checkpoint to trainer_sentiment_16_3/checkpoint-2000\n",
            "Configuration saved in trainer_sentiment_16_3/checkpoint-2000/config.json\n",
            "Model weights saved in trainer_sentiment_16_3/checkpoint-2000/pytorch_model.bin\n",
            "Saving model checkpoint to trainer_sentiment_16_3/checkpoint-2500\n",
            "Configuration saved in trainer_sentiment_16_3/checkpoint-2500/config.json\n",
            "Model weights saved in trainer_sentiment_16_3/checkpoint-2500/pytorch_model.bin\n",
            "***** Running Evaluation *****\n",
            "  Num examples = 2000\n",
            "  Batch size = 8\n",
            "Saving model checkpoint to trainer_sentiment_16_3/checkpoint-3000\n",
            "Configuration saved in trainer_sentiment_16_3/checkpoint-3000/config.json\n",
            "Model weights saved in trainer_sentiment_16_3/checkpoint-3000/pytorch_model.bin\n",
            "Saving model checkpoint to trainer_sentiment_16_3/checkpoint-3500\n",
            "Configuration saved in trainer_sentiment_16_3/checkpoint-3500/config.json\n",
            "Model weights saved in trainer_sentiment_16_3/checkpoint-3500/pytorch_model.bin\n",
            "Saving model checkpoint to trainer_sentiment_16_3/checkpoint-4000\n",
            "Configuration saved in trainer_sentiment_16_3/checkpoint-4000/config.json\n",
            "Model weights saved in trainer_sentiment_16_3/checkpoint-4000/pytorch_model.bin\n",
            "Saving model checkpoint to trainer_sentiment_16_3/checkpoint-4500\n",
            "Configuration saved in trainer_sentiment_16_3/checkpoint-4500/config.json\n",
            "Model weights saved in trainer_sentiment_16_3/checkpoint-4500/pytorch_model.bin\n",
            "Saving model checkpoint to trainer_sentiment_16_3/checkpoint-5000\n",
            "Configuration saved in trainer_sentiment_16_3/checkpoint-5000/config.json\n",
            "Model weights saved in trainer_sentiment_16_3/checkpoint-5000/pytorch_model.bin\n",
            "Saving model checkpoint to trainer_sentiment_16_3/checkpoint-5500\n",
            "Configuration saved in trainer_sentiment_16_3/checkpoint-5500/config.json\n",
            "Model weights saved in trainer_sentiment_16_3/checkpoint-5500/pytorch_model.bin\n",
            "***** Running Evaluation *****\n",
            "  Num examples = 2000\n",
            "  Batch size = 8\n",
            "Saving model checkpoint to trainer_sentiment_16_3/checkpoint-6000\n",
            "Configuration saved in trainer_sentiment_16_3/checkpoint-6000/config.json\n",
            "Model weights saved in trainer_sentiment_16_3/checkpoint-6000/pytorch_model.bin\n",
            "Saving model checkpoint to trainer_sentiment_16_3/checkpoint-6500\n",
            "Configuration saved in trainer_sentiment_16_3/checkpoint-6500/config.json\n",
            "Model weights saved in trainer_sentiment_16_3/checkpoint-6500/pytorch_model.bin\n",
            "Saving model checkpoint to trainer_sentiment_16_3/checkpoint-7000\n",
            "Configuration saved in trainer_sentiment_16_3/checkpoint-7000/config.json\n",
            "Model weights saved in trainer_sentiment_16_3/checkpoint-7000/pytorch_model.bin\n",
            "Saving model checkpoint to trainer_sentiment_16_3/checkpoint-7500\n",
            "Configuration saved in trainer_sentiment_16_3/checkpoint-7500/config.json\n",
            "Model weights saved in trainer_sentiment_16_3/checkpoint-7500/pytorch_model.bin\n",
            "Saving model checkpoint to trainer_sentiment_16_3/checkpoint-8000\n",
            "Configuration saved in trainer_sentiment_16_3/checkpoint-8000/config.json\n",
            "Model weights saved in trainer_sentiment_16_3/checkpoint-8000/pytorch_model.bin\n",
            "Saving model checkpoint to trainer_sentiment_16_3/checkpoint-8500\n",
            "Configuration saved in trainer_sentiment_16_3/checkpoint-8500/config.json\n",
            "Model weights saved in trainer_sentiment_16_3/checkpoint-8500/pytorch_model.bin\n",
            "***** Running Evaluation *****\n",
            "  Num examples = 2000\n",
            "  Batch size = 8\n",
            "\n",
            "\n",
            "Training completed. Do not forget to share your model on huggingface.co/models =)\n",
            "\n",
            "\n",
            "***** Running Prediction *****\n",
            "  Num examples = 2000\n",
            "  Batch size = 8\n"
          ]
        },
        {
          "data": {
            "text/html": [
              "\n",
              "    <div>\n",
              "      \n",
              "      <progress value='250' max='250' style='width:300px; height:20px; vertical-align: middle;'></progress>\n",
              "      [250/250 00:08]\n",
              "    </div>\n",
              "    "
            ],
            "text/plain": [
              "<IPython.core.display.HTML object>"
            ]
          },
          "metadata": {},
          "output_type": "display_data"
        },
        {
          "name": "stderr",
          "output_type": "stream",
          "text": [
            "PyTorch: setting up devices\n",
            "The default value for the training argument `--report_to` will change in v5 (from all installed integrations to none). In v5, you will need to use `--report_to all` to get the same behavior as now. You should start updating your code and make this info disappear :-).\n",
            "/usr/local/lib/python3.7/dist-packages/transformers/optimization.py:310: FutureWarning: This implementation of AdamW is deprecated and will be removed in a future version. Use the PyTorch implementation torch.optim.AdamW instead, or set `no_deprecation_warning=True` to disable this warning\n",
            "  FutureWarning,\n",
            "***** Running training *****\n",
            "  Num examples = 45615\n",
            "  Num Epochs = 3\n",
            "  Instantaneous batch size per device = 32\n",
            "  Total train batch size (w. parallel, distributed & accumulation) = 32\n",
            "  Gradient Accumulation steps = 1\n",
            "  Total optimization steps = 4278\n"
          ]
        },
        {
          "name": "stdout",
          "output_type": "stream",
          "text": [
            "\u001b[35m \n",
            "Validation accuracy (batch size 16 and epochs 3): 0.714\n",
            " \u001b[30m\n"
          ]
        },
        {
          "data": {
            "text/html": [
              "\n",
              "    <div>\n",
              "      \n",
              "      <progress value='4278' max='4278' style='width:300px; height:20px; vertical-align: middle;'></progress>\n",
              "      [4278/4278 24:19, Epoch 3/3]\n",
              "    </div>\n",
              "    <table border=\"1\" class=\"dataframe\">\n",
              "  <thead>\n",
              " <tr style=\"text-align: left;\">\n",
              "      <th>Epoch</th>\n",
              "      <th>Training Loss</th>\n",
              "      <th>Validation Loss</th>\n",
              "      <th>Accuracy</th>\n",
              "    </tr>\n",
              "  </thead>\n",
              "  <tbody>\n",
              "    <tr>\n",
              "      <td>1</td>\n",
              "      <td>0.083800</td>\n",
              "      <td>1.677044</td>\n",
              "      <td>0.708000</td>\n",
              "    </tr>\n",
              "    <tr>\n",
              "      <td>2</td>\n",
              "      <td>0.060000</td>\n",
              "      <td>1.620835</td>\n",
              "      <td>0.704000</td>\n",
              "    </tr>\n",
              "    <tr>\n",
              "      <td>3</td>\n",
              "      <td>0.033600</td>\n",
              "      <td>1.960095</td>\n",
              "      <td>0.712000</td>\n",
              "    </tr>\n",
              "  </tbody>\n",
              "</table><p>"
            ],
            "text/plain": [
              "<IPython.core.display.HTML object>"
            ]
          },
          "metadata": {},
          "output_type": "display_data"
        },
        {
          "name": "stderr",
          "output_type": "stream",
          "text": [
            "Saving model checkpoint to trainer_sentiment_32_3/checkpoint-500\n",
            "Configuration saved in trainer_sentiment_32_3/checkpoint-500/config.json\n",
            "Model weights saved in trainer_sentiment_32_3/checkpoint-500/pytorch_model.bin\n",
            "Saving model checkpoint to trainer_sentiment_32_3/checkpoint-1000\n",
            "Configuration saved in trainer_sentiment_32_3/checkpoint-1000/config.json\n",
            "Model weights saved in trainer_sentiment_32_3/checkpoint-1000/pytorch_model.bin\n",
            "***** Running Evaluation *****\n",
            "  Num examples = 2000\n",
            "  Batch size = 8\n",
            "Saving model checkpoint to trainer_sentiment_32_3/checkpoint-1500\n",
            "Configuration saved in trainer_sentiment_32_3/checkpoint-1500/config.json\n",
            "Model weights saved in trainer_sentiment_32_3/checkpoint-1500/pytorch_model.bin\n",
            "Saving model checkpoint to trainer_sentiment_32_3/checkpoint-2000\n",
            "Configuration saved in trainer_sentiment_32_3/checkpoint-2000/config.json\n",
            "Model weights saved in trainer_sentiment_32_3/checkpoint-2000/pytorch_model.bin\n",
            "Saving model checkpoint to trainer_sentiment_32_3/checkpoint-2500\n",
            "Configuration saved in trainer_sentiment_32_3/checkpoint-2500/config.json\n",
            "Model weights saved in trainer_sentiment_32_3/checkpoint-2500/pytorch_model.bin\n",
            "***** Running Evaluation *****\n",
            "  Num examples = 2000\n",
            "  Batch size = 8\n",
            "Saving model checkpoint to trainer_sentiment_32_3/checkpoint-3000\n",
            "Configuration saved in trainer_sentiment_32_3/checkpoint-3000/config.json\n",
            "Model weights saved in trainer_sentiment_32_3/checkpoint-3000/pytorch_model.bin\n",
            "Saving model checkpoint to trainer_sentiment_32_3/checkpoint-3500\n",
            "Configuration saved in trainer_sentiment_32_3/checkpoint-3500/config.json\n",
            "Model weights saved in trainer_sentiment_32_3/checkpoint-3500/pytorch_model.bin\n",
            "Saving model checkpoint to trainer_sentiment_32_3/checkpoint-4000\n",
            "Configuration saved in trainer_sentiment_32_3/checkpoint-4000/config.json\n",
            "Model weights saved in trainer_sentiment_32_3/checkpoint-4000/pytorch_model.bin\n",
            "***** Running Evaluation *****\n",
            "  Num examples = 2000\n",
            "  Batch size = 8\n",
            "\n",
            "\n",
            "Training completed. Do not forget to share your model on huggingface.co/models =)\n",
            "\n",
            "\n",
            "***** Running Prediction *****\n",
            "  Num examples = 2000\n",
            "  Batch size = 8\n"
          ]
        },
        {
          "data": {
            "text/html": [
              "\n",
              "    <div>\n",
              "      \n",
              "      <progress value='250' max='250' style='width:300px; height:20px; vertical-align: middle;'></progress>\n",
              "      [250/250 00:08]\n",
              "    </div>\n",
              "    "
            ],
            "text/plain": [
              "<IPython.core.display.HTML object>"
            ]
          },
          "metadata": {},
          "output_type": "display_data"
        },
        {
          "name": "stderr",
          "output_type": "stream",
          "text": [
            "PyTorch: setting up devices\n",
            "The default value for the training argument `--report_to` will change in v5 (from all installed integrations to none). In v5, you will need to use `--report_to all` to get the same behavior as now. You should start updating your code and make this info disappear :-).\n",
            "/usr/local/lib/python3.7/dist-packages/transformers/optimization.py:310: FutureWarning: This implementation of AdamW is deprecated and will be removed in a future version. Use the PyTorch implementation torch.optim.AdamW instead, or set `no_deprecation_warning=True` to disable this warning\n",
            "  FutureWarning,\n",
            "***** Running training *****\n",
            "  Num examples = 45615\n",
            "  Num Epochs = 4\n",
            "  Instantaneous batch size per device = 16\n",
            "  Total train batch size (w. parallel, distributed & accumulation) = 16\n",
            "  Gradient Accumulation steps = 1\n",
            "  Total optimization steps = 11404\n"
          ]
        },
        {
          "name": "stdout",
          "output_type": "stream",
          "text": [
            "\u001b[35m \n",
            "Validation accuracy (batch size 32 and epochs 3): 0.712\n",
            " \u001b[30m\n"
          ]
        },
        {
          "data": {
            "text/html": [
              "\n",
              "    <div>\n",
              "      \n",
              "      <progress value='11404' max='11404' style='width:300px; height:20px; vertical-align: middle;'></progress>\n",
              "      [11404/11404 38:00, Epoch 4/4]\n",
              "    </div>\n",
              "    <table border=\"1\" class=\"dataframe\">\n",
              "  <thead>\n",
              " <tr style=\"text-align: left;\">\n",
              "      <th>Epoch</th>\n",
              "      <th>Training Loss</th>\n",
              "      <th>Validation Loss</th>\n",
              "      <th>Accuracy</th>\n",
              "    </tr>\n",
              "  </thead>\n",
              "  <tbody>\n",
              "    <tr>\n",
              "      <td>1</td>\n",
              "      <td>0.110500</td>\n",
              "      <td>1.762147</td>\n",
              "      <td>0.708000</td>\n",
              "    </tr>\n",
              "    <tr>\n",
              "      <td>2</td>\n",
              "      <td>0.102000</td>\n",
              "      <td>2.118553</td>\n",
              "      <td>0.704000</td>\n",
              "    </tr>\n",
              "    <tr>\n",
              "      <td>3</td>\n",
              "      <td>0.065100</td>\n",
              "      <td>2.081534</td>\n",
              "      <td>0.702500</td>\n",
              "    </tr>\n",
              "    <tr>\n",
              "      <td>4</td>\n",
              "      <td>0.024900</td>\n",
              "      <td>2.202028</td>\n",
              "      <td>0.707500</td>\n",
              "    </tr>\n",
              "  </tbody>\n",
              "</table><p>"
            ],
            "text/plain": [
              "<IPython.core.display.HTML object>"
            ]
          },
          "metadata": {},
          "output_type": "display_data"
        },
        {
          "name": "stderr",
          "output_type": "stream",
          "text": [
            "Saving model checkpoint to trainer_sentiment_16_4/checkpoint-500\n",
            "Configuration saved in trainer_sentiment_16_4/checkpoint-500/config.json\n",
            "Model weights saved in trainer_sentiment_16_4/checkpoint-500/pytorch_model.bin\n",
            "Saving model checkpoint to trainer_sentiment_16_4/checkpoint-1000\n",
            "Configuration saved in trainer_sentiment_16_4/checkpoint-1000/config.json\n",
            "Model weights saved in trainer_sentiment_16_4/checkpoint-1000/pytorch_model.bin\n",
            "Saving model checkpoint to trainer_sentiment_16_4/checkpoint-1500\n",
            "Configuration saved in trainer_sentiment_16_4/checkpoint-1500/config.json\n",
            "Model weights saved in trainer_sentiment_16_4/checkpoint-1500/pytorch_model.bin\n",
            "Saving model checkpoint to trainer_sentiment_16_4/checkpoint-2000\n",
            "Configuration saved in trainer_sentiment_16_4/checkpoint-2000/config.json\n",
            "Model weights saved in trainer_sentiment_16_4/checkpoint-2000/pytorch_model.bin\n",
            "Saving model checkpoint to trainer_sentiment_16_4/checkpoint-2500\n",
            "Configuration saved in trainer_sentiment_16_4/checkpoint-2500/config.json\n",
            "Model weights saved in trainer_sentiment_16_4/checkpoint-2500/pytorch_model.bin\n",
            "***** Running Evaluation *****\n",
            "  Num examples = 2000\n",
            "  Batch size = 8\n",
            "Saving model checkpoint to trainer_sentiment_16_4/checkpoint-3000\n",
            "Configuration saved in trainer_sentiment_16_4/checkpoint-3000/config.json\n",
            "Model weights saved in trainer_sentiment_16_4/checkpoint-3000/pytorch_model.bin\n",
            "Saving model checkpoint to trainer_sentiment_16_4/checkpoint-3500\n",
            "Configuration saved in trainer_sentiment_16_4/checkpoint-3500/config.json\n",
            "Model weights saved in trainer_sentiment_16_4/checkpoint-3500/pytorch_model.bin\n",
            "Saving model checkpoint to trainer_sentiment_16_4/checkpoint-4000\n",
            "Configuration saved in trainer_sentiment_16_4/checkpoint-4000/config.json\n",
            "Model weights saved in trainer_sentiment_16_4/checkpoint-4000/pytorch_model.bin\n",
            "Saving model checkpoint to trainer_sentiment_16_4/checkpoint-4500\n",
            "Configuration saved in trainer_sentiment_16_4/checkpoint-4500/config.json\n",
            "Model weights saved in trainer_sentiment_16_4/checkpoint-4500/pytorch_model.bin\n",
            "Saving model checkpoint to trainer_sentiment_16_4/checkpoint-5000\n",
            "Configuration saved in trainer_sentiment_16_4/checkpoint-5000/config.json\n",
            "Model weights saved in trainer_sentiment_16_4/checkpoint-5000/pytorch_model.bin\n",
            "Saving model checkpoint to trainer_sentiment_16_4/checkpoint-5500\n",
            "Configuration saved in trainer_sentiment_16_4/checkpoint-5500/config.json\n",
            "Model weights saved in trainer_sentiment_16_4/checkpoint-5500/pytorch_model.bin\n",
            "***** Running Evaluation *****\n",
            "  Num examples = 2000\n",
            "  Batch size = 8\n",
            "Saving model checkpoint to trainer_sentiment_16_4/checkpoint-6000\n",
            "Configuration saved in trainer_sentiment_16_4/checkpoint-6000/config.json\n",
            "Model weights saved in trainer_sentiment_16_4/checkpoint-6000/pytorch_model.bin\n",
            "Saving model checkpoint to trainer_sentiment_16_4/checkpoint-6500\n",
            "Configuration saved in trainer_sentiment_16_4/checkpoint-6500/config.json\n",
            "Model weights saved in trainer_sentiment_16_4/checkpoint-6500/pytorch_model.bin\n",
            "Saving model checkpoint to trainer_sentiment_16_4/checkpoint-7000\n",
            "Configuration saved in trainer_sentiment_16_4/checkpoint-7000/config.json\n",
            "Model weights saved in trainer_sentiment_16_4/checkpoint-7000/pytorch_model.bin\n",
            "Saving model checkpoint to trainer_sentiment_16_4/checkpoint-7500\n",
            "Configuration saved in trainer_sentiment_16_4/checkpoint-7500/config.json\n",
            "Model weights saved in trainer_sentiment_16_4/checkpoint-7500/pytorch_model.bin\n",
            "Saving model checkpoint to trainer_sentiment_16_4/checkpoint-8000\n",
            "Configuration saved in trainer_sentiment_16_4/checkpoint-8000/config.json\n",
            "Model weights saved in trainer_sentiment_16_4/checkpoint-8000/pytorch_model.bin\n",
            "Saving model checkpoint to trainer_sentiment_16_4/checkpoint-8500\n",
            "Configuration saved in trainer_sentiment_16_4/checkpoint-8500/config.json\n",
            "Model weights saved in trainer_sentiment_16_4/checkpoint-8500/pytorch_model.bin\n",
            "***** Running Evaluation *****\n",
            "  Num examples = 2000\n",
            "  Batch size = 8\n",
            "Saving model checkpoint to trainer_sentiment_16_4/checkpoint-9000\n",
            "Configuration saved in trainer_sentiment_16_4/checkpoint-9000/config.json\n",
            "Model weights saved in trainer_sentiment_16_4/checkpoint-9000/pytorch_model.bin\n",
            "Saving model checkpoint to trainer_sentiment_16_4/checkpoint-9500\n",
            "Configuration saved in trainer_sentiment_16_4/checkpoint-9500/config.json\n",
            "Model weights saved in trainer_sentiment_16_4/checkpoint-9500/pytorch_model.bin\n",
            "Saving model checkpoint to trainer_sentiment_16_4/checkpoint-10000\n",
            "Configuration saved in trainer_sentiment_16_4/checkpoint-10000/config.json\n",
            "Model weights saved in trainer_sentiment_16_4/checkpoint-10000/pytorch_model.bin\n",
            "Saving model checkpoint to trainer_sentiment_16_4/checkpoint-10500\n",
            "Configuration saved in trainer_sentiment_16_4/checkpoint-10500/config.json\n",
            "Model weights saved in trainer_sentiment_16_4/checkpoint-10500/pytorch_model.bin\n",
            "Saving model checkpoint to trainer_sentiment_16_4/checkpoint-11000\n",
            "Configuration saved in trainer_sentiment_16_4/checkpoint-11000/config.json\n",
            "Model weights saved in trainer_sentiment_16_4/checkpoint-11000/pytorch_model.bin\n",
            "***** Running Evaluation *****\n",
            "  Num examples = 2000\n",
            "  Batch size = 8\n",
            "\n",
            "\n",
            "Training completed. Do not forget to share your model on huggingface.co/models =)\n",
            "\n",
            "\n",
            "***** Running Prediction *****\n",
            "  Num examples = 2000\n",
            "  Batch size = 8\n"
          ]
        },
        {
          "data": {
            "text/html": [
              "\n",
              "    <div>\n",
              "      \n",
              "      <progress value='250' max='250' style='width:300px; height:20px; vertical-align: middle;'></progress>\n",
              "      [250/250 00:08]\n",
              "    </div>\n",
              "    "
            ],
            "text/plain": [
              "<IPython.core.display.HTML object>"
            ]
          },
          "metadata": {},
          "output_type": "display_data"
        },
        {
          "name": "stderr",
          "output_type": "stream",
          "text": [
            "PyTorch: setting up devices\n",
            "The default value for the training argument `--report_to` will change in v5 (from all installed integrations to none). In v5, you will need to use `--report_to all` to get the same behavior as now. You should start updating your code and make this info disappear :-).\n",
            "/usr/local/lib/python3.7/dist-packages/transformers/optimization.py:310: FutureWarning: This implementation of AdamW is deprecated and will be removed in a future version. Use the PyTorch implementation torch.optim.AdamW instead, or set `no_deprecation_warning=True` to disable this warning\n",
            "  FutureWarning,\n",
            "***** Running training *****\n",
            "  Num examples = 45615\n",
            "  Num Epochs = 4\n",
            "  Instantaneous batch size per device = 32\n",
            "  Total train batch size (w. parallel, distributed & accumulation) = 32\n",
            "  Gradient Accumulation steps = 1\n",
            "  Total optimization steps = 5704\n"
          ]
        },
        {
          "name": "stdout",
          "output_type": "stream",
          "text": [
            "\u001b[35m \n",
            "Validation accuracy (batch size 16 and epochs 4): 0.7075\n",
            " \u001b[30m\n"
          ]
        },
        {
          "data": {
            "text/html": [
              "\n",
              "    <div>\n",
              "      \n",
              "      <progress value='5704' max='5704' style='width:300px; height:20px; vertical-align: middle;'></progress>\n",
              "      [5704/5704 32:30, Epoch 4/4]\n",
              "    </div>\n",
              "    <table border=\"1\" class=\"dataframe\">\n",
              "  <thead>\n",
              " <tr style=\"text-align: left;\">\n",
              "      <th>Epoch</th>\n",
              "      <th>Training Loss</th>\n",
              "      <th>Validation Loss</th>\n",
              "      <th>Accuracy</th>\n",
              "    </tr>\n",
              "  </thead>\n",
              "  <tbody>\n",
              "    <tr>\n",
              "      <td>1</td>\n",
              "      <td>0.050800</td>\n",
              "      <td>2.006563</td>\n",
              "      <td>0.706000</td>\n",
              "    </tr>\n",
              "    <tr>\n",
              "      <td>2</td>\n",
              "      <td>0.035800</td>\n",
              "      <td>2.011760</td>\n",
              "      <td>0.702000</td>\n",
              "    </tr>\n",
              "    <tr>\n",
              "      <td>3</td>\n",
              "      <td>0.025100</td>\n",
              "      <td>2.123718</td>\n",
              "      <td>0.703500</td>\n",
              "    </tr>\n",
              "    <tr>\n",
              "      <td>4</td>\n",
              "      <td>0.012600</td>\n",
              "      <td>2.193744</td>\n",
              "      <td>0.711000</td>\n",
              "    </tr>\n",
              "  </tbody>\n",
              "</table><p>"
            ],
            "text/plain": [
              "<IPython.core.display.HTML object>"
            ]
          },
          "metadata": {},
          "output_type": "display_data"
        },
        {
          "name": "stderr",
          "output_type": "stream",
          "text": [
            "Saving model checkpoint to trainer_sentiment_32_4/checkpoint-500\n",
            "Configuration saved in trainer_sentiment_32_4/checkpoint-500/config.json\n",
            "Model weights saved in trainer_sentiment_32_4/checkpoint-500/pytorch_model.bin\n",
            "Saving model checkpoint to trainer_sentiment_32_4/checkpoint-1000\n",
            "Configuration saved in trainer_sentiment_32_4/checkpoint-1000/config.json\n",
            "Model weights saved in trainer_sentiment_32_4/checkpoint-1000/pytorch_model.bin\n",
            "***** Running Evaluation *****\n",
            "  Num examples = 2000\n",
            "  Batch size = 8\n",
            "Saving model checkpoint to trainer_sentiment_32_4/checkpoint-1500\n",
            "Configuration saved in trainer_sentiment_32_4/checkpoint-1500/config.json\n",
            "Model weights saved in trainer_sentiment_32_4/checkpoint-1500/pytorch_model.bin\n",
            "Saving model checkpoint to trainer_sentiment_32_4/checkpoint-2000\n",
            "Configuration saved in trainer_sentiment_32_4/checkpoint-2000/config.json\n",
            "Model weights saved in trainer_sentiment_32_4/checkpoint-2000/pytorch_model.bin\n",
            "Saving model checkpoint to trainer_sentiment_32_4/checkpoint-2500\n",
            "Configuration saved in trainer_sentiment_32_4/checkpoint-2500/config.json\n",
            "Model weights saved in trainer_sentiment_32_4/checkpoint-2500/pytorch_model.bin\n",
            "***** Running Evaluation *****\n",
            "  Num examples = 2000\n",
            "  Batch size = 8\n",
            "Saving model checkpoint to trainer_sentiment_32_4/checkpoint-3000\n",
            "Configuration saved in trainer_sentiment_32_4/checkpoint-3000/config.json\n",
            "Model weights saved in trainer_sentiment_32_4/checkpoint-3000/pytorch_model.bin\n",
            "Saving model checkpoint to trainer_sentiment_32_4/checkpoint-3500\n",
            "Configuration saved in trainer_sentiment_32_4/checkpoint-3500/config.json\n",
            "Model weights saved in trainer_sentiment_32_4/checkpoint-3500/pytorch_model.bin\n",
            "Saving model checkpoint to trainer_sentiment_32_4/checkpoint-4000\n",
            "Configuration saved in trainer_sentiment_32_4/checkpoint-4000/config.json\n",
            "Model weights saved in trainer_sentiment_32_4/checkpoint-4000/pytorch_model.bin\n",
            "***** Running Evaluation *****\n",
            "  Num examples = 2000\n",
            "  Batch size = 8\n",
            "Saving model checkpoint to trainer_sentiment_32_4/checkpoint-4500\n",
            "Configuration saved in trainer_sentiment_32_4/checkpoint-4500/config.json\n",
            "Model weights saved in trainer_sentiment_32_4/checkpoint-4500/pytorch_model.bin\n",
            "Saving model checkpoint to trainer_sentiment_32_4/checkpoint-5000\n",
            "Configuration saved in trainer_sentiment_32_4/checkpoint-5000/config.json\n",
            "Model weights saved in trainer_sentiment_32_4/checkpoint-5000/pytorch_model.bin\n",
            "Saving model checkpoint to trainer_sentiment_32_4/checkpoint-5500\n",
            "Configuration saved in trainer_sentiment_32_4/checkpoint-5500/config.json\n",
            "Model weights saved in trainer_sentiment_32_4/checkpoint-5500/pytorch_model.bin\n",
            "***** Running Evaluation *****\n",
            "  Num examples = 2000\n",
            "  Batch size = 8\n",
            "\n",
            "\n",
            "Training completed. Do not forget to share your model on huggingface.co/models =)\n",
            "\n",
            "\n",
            "***** Running Prediction *****\n",
            "  Num examples = 2000\n",
            "  Batch size = 8\n"
          ]
        },
        {
          "data": {
            "text/html": [
              "\n",
              "    <div>\n",
              "      \n",
              "      <progress value='250' max='250' style='width:300px; height:20px; vertical-align: middle;'></progress>\n",
              "      [250/250 00:08]\n",
              "    </div>\n",
              "    "
            ],
            "text/plain": [
              "<IPython.core.display.HTML object>"
            ]
          },
          "metadata": {},
          "output_type": "display_data"
        },
        {
          "name": "stdout",
          "output_type": "stream",
          "text": [
            "\u001b[35m \n",
            "Validation accuracy (batch size 32 and epochs 4): 0.711\n",
            " \u001b[30m\n"
          ]
        }
      ],
      "source": [
        "best_model_sentiment = None\n",
        "best_accuracy_sentiment = 0\n",
        "best_epoch_sentiment = 0\n",
        "best_batch_size_sentiment = 0\n",
        "\n",
        "models_sentiment = []\n",
        "\n",
        "for epoch in epochs:\n",
        "  for batch_size in batch_sizes:\n",
        "\n",
        "    args = TrainingArguments(output_dir='trainer_sentiment_'+str(batch_size)+'_'+str(epoch),\n",
        "                              evaluation_strategy=\"epoch\",\n",
        "                              num_train_epochs=epoch,\n",
        "                              per_device_train_batch_size=batch_size)\n",
        "\n",
        "    trainer = Trainer(\n",
        "        model=bertweet_sentiment,\n",
        "        args=args,\n",
        "        train_dataset=train_tokenized_sentiment,\n",
        "        eval_dataset=val_tokenized_sentiment,\n",
        "        compute_metrics=compute_accuracy,\n",
        "    )\n",
        "\n",
        "    trainer.train()\n",
        "  \n",
        "    predictions = trainer.predict(val_tokenized_sentiment)\n",
        "    preds = np.argmax(predictions.predictions, axis=-1)\n",
        "    val_accuracy = accuracy.compute(predictions=preds, references=predictions.label_ids)['accuracy']\n",
        "\n",
        "    print(f'{Fore.MAGENTA} \\nValidation accuracy (batch size {batch_size} and epochs {epoch}): {val_accuracy}\\n {Fore.BLACK}')\n",
        "    \n",
        "    models_sentiment.append(dict(val_accuracy=val_accuracy,\n",
        "                       batch_size=batch_size,\n",
        "                       epochs=epoch\n",
        "                       ))\n",
        "\n",
        "    if val_accuracy > best_accuracy_sentiment:\n",
        "      best_accuracy_sentiment = val_accuracy\n",
        "      best_model_sentiment = trainer\n",
        "      best_epoch_sentiment = epoch\n",
        "      best_batch_size_sentiment = batch_size\n"
      ]
    },
    {
      "cell_type": "code",
      "source": [
        "best_accuracy_sentiment = 0.7365"
      ],
      "metadata": {
        "id": "smMpPnebZoUp"
      },
      "execution_count": null,
      "outputs": []
    },
    {
      "cell_type": "code",
      "execution_count": null,
      "metadata": {
        "colab": {
          "base_uri": "https://localhost:8080/"
        },
        "id": "caRbCSJ91hKH",
        "outputId": "434d68e7-14d6-4f7b-9767-55f14e66ef71"
      },
      "outputs": [
        {
          "output_type": "stream",
          "name": "stdout",
          "text": [
            "** Best model for Sentiment Analysis **\n",
            "batch size: 16, epochs: 2, validation accuracy: 0.7365\n"
          ]
        }
      ],
      "source": [
        "print('** Best model for Sentiment Analysis **')\n",
        "print(f'batch size: {best_batch_size_sentiment}, epochs: {best_epoch_sentiment}, validation accuracy: {best_accuracy_sentiment}')\n"
      ]
    },
    {
      "cell_type": "markdown",
      "metadata": {
        "id": "4m4o-1K2kmAQ"
      },
      "source": [
        "**Preprocessed data**"
      ]
    },
    {
      "cell_type": "code",
      "execution_count": null,
      "metadata": {
        "colab": {
          "base_uri": "https://localhost:8080/",
          "height": 1000
        },
        "id": "8Cdd--CskmAQ",
        "outputId": "31028e10-31a9-47a9-f7fd-52c39495fd51"
      },
      "outputs": [
        {
          "name": "stderr",
          "output_type": "stream",
          "text": [
            "PyTorch: setting up devices\n",
            "The default value for the training argument `--report_to` will change in v5 (from all installed integrations to none). In v5, you will need to use `--report_to all` to get the same behavior as now. You should start updating your code and make this info disappear :-).\n",
            "/usr/local/lib/python3.7/dist-packages/transformers/optimization.py:310: FutureWarning: This implementation of AdamW is deprecated and will be removed in a future version. Use the PyTorch implementation torch.optim.AdamW instead, or set `no_deprecation_warning=True` to disable this warning\n",
            "  FutureWarning,\n",
            "***** Running training *****\n",
            "  Num examples = 45615\n",
            "  Num Epochs = 2\n",
            "  Instantaneous batch size per device = 16\n",
            "  Total train batch size (w. parallel, distributed & accumulation) = 16\n",
            "  Gradient Accumulation steps = 1\n",
            "  Total optimization steps = 5702\n"
          ]
        },
        {
          "data": {
            "text/html": [
              "\n",
              "    <div>\n",
              "      \n",
              "      <progress value='5702' max='5702' style='width:300px; height:20px; vertical-align: middle;'></progress>\n",
              "      [5702/5702 19:07, Epoch 2/2]\n",
              "    </div>\n",
              "    <table border=\"1\" class=\"dataframe\">\n",
              "  <thead>\n",
              " <tr style=\"text-align: left;\">\n",
              "      <th>Epoch</th>\n",
              "      <th>Training Loss</th>\n",
              "      <th>Validation Loss</th>\n",
              "      <th>Accuracy</th>\n",
              "    </tr>\n",
              "  </thead>\n",
              "  <tbody>\n",
              "    <tr>\n",
              "      <td>1</td>\n",
              "      <td>0.074600</td>\n",
              "      <td>2.148393</td>\n",
              "      <td>0.700000</td>\n",
              "    </tr>\n",
              "    <tr>\n",
              "      <td>2</td>\n",
              "      <td>0.020400</td>\n",
              "      <td>2.327605</td>\n",
              "      <td>0.707500</td>\n",
              "    </tr>\n",
              "  </tbody>\n",
              "</table><p>"
            ],
            "text/plain": [
              "<IPython.core.display.HTML object>"
            ]
          },
          "metadata": {},
          "output_type": "display_data"
        },
        {
          "name": "stderr",
          "output_type": "stream",
          "text": [
            "Saving model checkpoint to trainer_sentiment_prep16_2/checkpoint-500\n",
            "Configuration saved in trainer_sentiment_prep16_2/checkpoint-500/config.json\n",
            "Model weights saved in trainer_sentiment_prep16_2/checkpoint-500/pytorch_model.bin\n",
            "Saving model checkpoint to trainer_sentiment_prep16_2/checkpoint-1000\n",
            "Configuration saved in trainer_sentiment_prep16_2/checkpoint-1000/config.json\n",
            "Model weights saved in trainer_sentiment_prep16_2/checkpoint-1000/pytorch_model.bin\n",
            "Saving model checkpoint to trainer_sentiment_prep16_2/checkpoint-1500\n",
            "Configuration saved in trainer_sentiment_prep16_2/checkpoint-1500/config.json\n",
            "Model weights saved in trainer_sentiment_prep16_2/checkpoint-1500/pytorch_model.bin\n",
            "Saving model checkpoint to trainer_sentiment_prep16_2/checkpoint-2000\n",
            "Configuration saved in trainer_sentiment_prep16_2/checkpoint-2000/config.json\n",
            "Model weights saved in trainer_sentiment_prep16_2/checkpoint-2000/pytorch_model.bin\n",
            "Saving model checkpoint to trainer_sentiment_prep16_2/checkpoint-2500\n",
            "Configuration saved in trainer_sentiment_prep16_2/checkpoint-2500/config.json\n",
            "Model weights saved in trainer_sentiment_prep16_2/checkpoint-2500/pytorch_model.bin\n",
            "***** Running Evaluation *****\n",
            "  Num examples = 2000\n",
            "  Batch size = 8\n",
            "Saving model checkpoint to trainer_sentiment_prep16_2/checkpoint-3000\n",
            "Configuration saved in trainer_sentiment_prep16_2/checkpoint-3000/config.json\n",
            "Model weights saved in trainer_sentiment_prep16_2/checkpoint-3000/pytorch_model.bin\n",
            "Saving model checkpoint to trainer_sentiment_prep16_2/checkpoint-3500\n",
            "Configuration saved in trainer_sentiment_prep16_2/checkpoint-3500/config.json\n",
            "Model weights saved in trainer_sentiment_prep16_2/checkpoint-3500/pytorch_model.bin\n",
            "Saving model checkpoint to trainer_sentiment_prep16_2/checkpoint-4000\n",
            "Configuration saved in trainer_sentiment_prep16_2/checkpoint-4000/config.json\n",
            "Model weights saved in trainer_sentiment_prep16_2/checkpoint-4000/pytorch_model.bin\n",
            "Saving model checkpoint to trainer_sentiment_prep16_2/checkpoint-4500\n",
            "Configuration saved in trainer_sentiment_prep16_2/checkpoint-4500/config.json\n",
            "Model weights saved in trainer_sentiment_prep16_2/checkpoint-4500/pytorch_model.bin\n",
            "Saving model checkpoint to trainer_sentiment_prep16_2/checkpoint-5000\n",
            "Configuration saved in trainer_sentiment_prep16_2/checkpoint-5000/config.json\n",
            "Model weights saved in trainer_sentiment_prep16_2/checkpoint-5000/pytorch_model.bin\n",
            "Saving model checkpoint to trainer_sentiment_prep16_2/checkpoint-5500\n",
            "Configuration saved in trainer_sentiment_prep16_2/checkpoint-5500/config.json\n",
            "Model weights saved in trainer_sentiment_prep16_2/checkpoint-5500/pytorch_model.bin\n",
            "***** Running Evaluation *****\n",
            "  Num examples = 2000\n",
            "  Batch size = 8\n",
            "\n",
            "\n",
            "Training completed. Do not forget to share your model on huggingface.co/models =)\n",
            "\n",
            "\n",
            "***** Running Prediction *****\n",
            "  Num examples = 2000\n",
            "  Batch size = 8\n"
          ]
        },
        {
          "data": {
            "text/html": [
              "\n",
              "    <div>\n",
              "      \n",
              "      <progress value='250' max='250' style='width:300px; height:20px; vertical-align: middle;'></progress>\n",
              "      [250/250 00:08]\n",
              "    </div>\n",
              "    "
            ],
            "text/plain": [
              "<IPython.core.display.HTML object>"
            ]
          },
          "metadata": {},
          "output_type": "display_data"
        },
        {
          "name": "stderr",
          "output_type": "stream",
          "text": [
            "PyTorch: setting up devices\n",
            "The default value for the training argument `--report_to` will change in v5 (from all installed integrations to none). In v5, you will need to use `--report_to all` to get the same behavior as now. You should start updating your code and make this info disappear :-).\n",
            "/usr/local/lib/python3.7/dist-packages/transformers/optimization.py:310: FutureWarning: This implementation of AdamW is deprecated and will be removed in a future version. Use the PyTorch implementation torch.optim.AdamW instead, or set `no_deprecation_warning=True` to disable this warning\n",
            "  FutureWarning,\n",
            "***** Running training *****\n",
            "  Num examples = 45615\n",
            "  Num Epochs = 2\n",
            "  Instantaneous batch size per device = 32\n",
            "  Total train batch size (w. parallel, distributed & accumulation) = 32\n",
            "  Gradient Accumulation steps = 1\n",
            "  Total optimization steps = 2852\n"
          ]
        },
        {
          "name": "stdout",
          "output_type": "stream",
          "text": [
            "\u001b[35m \n",
            "Validation accuracy (batch size 16 and epochs 2): 0.7075\n",
            " \u001b[30m\n"
          ]
        },
        {
          "data": {
            "text/html": [
              "\n",
              "    <div>\n",
              "      \n",
              "      <progress value='2852' max='2852' style='width:300px; height:20px; vertical-align: middle;'></progress>\n",
              "      [2852/2852 16:12, Epoch 2/2]\n",
              "    </div>\n",
              "    <table border=\"1\" class=\"dataframe\">\n",
              "  <thead>\n",
              " <tr style=\"text-align: left;\">\n",
              "      <th>Epoch</th>\n",
              "      <th>Training Loss</th>\n",
              "      <th>Validation Loss</th>\n",
              "      <th>Accuracy</th>\n",
              "    </tr>\n",
              "  </thead>\n",
              "  <tbody>\n",
              "    <tr>\n",
              "      <td>1</td>\n",
              "      <td>0.031800</td>\n",
              "      <td>2.091320</td>\n",
              "      <td>0.703500</td>\n",
              "    </tr>\n",
              "    <tr>\n",
              "      <td>2</td>\n",
              "      <td>0.019300</td>\n",
              "      <td>2.215403</td>\n",
              "      <td>0.700500</td>\n",
              "    </tr>\n",
              "  </tbody>\n",
              "</table><p>"
            ],
            "text/plain": [
              "<IPython.core.display.HTML object>"
            ]
          },
          "metadata": {},
          "output_type": "display_data"
        },
        {
          "name": "stderr",
          "output_type": "stream",
          "text": [
            "Saving model checkpoint to trainer_sentiment_prep32_2/checkpoint-500\n",
            "Configuration saved in trainer_sentiment_prep32_2/checkpoint-500/config.json\n",
            "Model weights saved in trainer_sentiment_prep32_2/checkpoint-500/pytorch_model.bin\n",
            "Saving model checkpoint to trainer_sentiment_prep32_2/checkpoint-1000\n",
            "Configuration saved in trainer_sentiment_prep32_2/checkpoint-1000/config.json\n",
            "Model weights saved in trainer_sentiment_prep32_2/checkpoint-1000/pytorch_model.bin\n",
            "***** Running Evaluation *****\n",
            "  Num examples = 2000\n",
            "  Batch size = 8\n",
            "Saving model checkpoint to trainer_sentiment_prep32_2/checkpoint-1500\n",
            "Configuration saved in trainer_sentiment_prep32_2/checkpoint-1500/config.json\n",
            "Model weights saved in trainer_sentiment_prep32_2/checkpoint-1500/pytorch_model.bin\n",
            "Saving model checkpoint to trainer_sentiment_prep32_2/checkpoint-2000\n",
            "Configuration saved in trainer_sentiment_prep32_2/checkpoint-2000/config.json\n",
            "Model weights saved in trainer_sentiment_prep32_2/checkpoint-2000/pytorch_model.bin\n",
            "Saving model checkpoint to trainer_sentiment_prep32_2/checkpoint-2500\n",
            "Configuration saved in trainer_sentiment_prep32_2/checkpoint-2500/config.json\n",
            "Model weights saved in trainer_sentiment_prep32_2/checkpoint-2500/pytorch_model.bin\n",
            "***** Running Evaluation *****\n",
            "  Num examples = 2000\n",
            "  Batch size = 8\n",
            "\n",
            "\n",
            "Training completed. Do not forget to share your model on huggingface.co/models =)\n",
            "\n",
            "\n",
            "***** Running Prediction *****\n",
            "  Num examples = 2000\n",
            "  Batch size = 8\n"
          ]
        },
        {
          "data": {
            "text/html": [
              "\n",
              "    <div>\n",
              "      \n",
              "      <progress value='250' max='250' style='width:300px; height:20px; vertical-align: middle;'></progress>\n",
              "      [250/250 00:08]\n",
              "    </div>\n",
              "    "
            ],
            "text/plain": [
              "<IPython.core.display.HTML object>"
            ]
          },
          "metadata": {},
          "output_type": "display_data"
        },
        {
          "name": "stderr",
          "output_type": "stream",
          "text": [
            "PyTorch: setting up devices\n",
            "The default value for the training argument `--report_to` will change in v5 (from all installed integrations to none). In v5, you will need to use `--report_to all` to get the same behavior as now. You should start updating your code and make this info disappear :-).\n",
            "/usr/local/lib/python3.7/dist-packages/transformers/optimization.py:310: FutureWarning: This implementation of AdamW is deprecated and will be removed in a future version. Use the PyTorch implementation torch.optim.AdamW instead, or set `no_deprecation_warning=True` to disable this warning\n",
            "  FutureWarning,\n",
            "***** Running training *****\n",
            "  Num examples = 45615\n",
            "  Num Epochs = 3\n",
            "  Instantaneous batch size per device = 16\n",
            "  Total train batch size (w. parallel, distributed & accumulation) = 16\n",
            "  Gradient Accumulation steps = 1\n",
            "  Total optimization steps = 8553\n"
          ]
        },
        {
          "name": "stdout",
          "output_type": "stream",
          "text": [
            "\u001b[35m \n",
            "Validation accuracy (batch size 32 and epochs 2): 0.7005\n",
            " \u001b[30m\n"
          ]
        },
        {
          "data": {
            "text/html": [
              "\n",
              "    <div>\n",
              "      \n",
              "      <progress value='1275' max='8553' style='width:300px; height:20px; vertical-align: middle;'></progress>\n",
              "      [1275/8553 04:09 < 23:48, 5.10 it/s, Epoch 0.45/3]\n",
              "    </div>\n",
              "    <table border=\"1\" class=\"dataframe\">\n",
              "  <thead>\n",
              " <tr style=\"text-align: left;\">\n",
              "      <th>Epoch</th>\n",
              "      <th>Training Loss</th>\n",
              "      <th>Validation Loss</th>\n",
              "    </tr>\n",
              "  </thead>\n",
              "  <tbody>\n",
              "  </tbody>\n",
              "</table><p>"
            ],
            "text/plain": [
              "<IPython.core.display.HTML object>"
            ]
          },
          "metadata": {},
          "output_type": "display_data"
        },
        {
          "name": "stderr",
          "output_type": "stream",
          "text": [
            "Saving model checkpoint to trainer_sentiment_prep16_3/checkpoint-500\n",
            "Configuration saved in trainer_sentiment_prep16_3/checkpoint-500/config.json\n",
            "Model weights saved in trainer_sentiment_prep16_3/checkpoint-500/pytorch_model.bin\n",
            "Saving model checkpoint to trainer_sentiment_prep16_3/checkpoint-1000\n",
            "Configuration saved in trainer_sentiment_prep16_3/checkpoint-1000/config.json\n",
            "Model weights saved in trainer_sentiment_prep16_3/checkpoint-1000/pytorch_model.bin\n"
          ]
        },
        {
          "data": {
            "text/html": [
              "\n",
              "    <div>\n",
              "      \n",
              "      <progress value='8553' max='8553' style='width:300px; height:20px; vertical-align: middle;'></progress>\n",
              "      [8553/8553 28:45, Epoch 3/3]\n",
              "    </div>\n",
              "    <table border=\"1\" class=\"dataframe\">\n",
              "  <thead>\n",
              " <tr style=\"text-align: left;\">\n",
              "      <th>Epoch</th>\n",
              "      <th>Training Loss</th>\n",
              "      <th>Validation Loss</th>\n",
              "      <th>Accuracy</th>\n",
              "    </tr>\n",
              "  </thead>\n",
              "  <tbody>\n",
              "    <tr>\n",
              "      <td>1</td>\n",
              "      <td>0.051800</td>\n",
              "      <td>2.238690</td>\n",
              "      <td>0.704000</td>\n",
              "    </tr>\n",
              "    <tr>\n",
              "      <td>2</td>\n",
              "      <td>0.043400</td>\n",
              "      <td>2.232193</td>\n",
              "      <td>0.705000</td>\n",
              "    </tr>\n",
              "    <tr>\n",
              "      <td>3</td>\n",
              "      <td>0.019700</td>\n",
              "      <td>2.405436</td>\n",
              "      <td>0.706500</td>\n",
              "    </tr>\n",
              "  </tbody>\n",
              "</table><p>"
            ],
            "text/plain": [
              "<IPython.core.display.HTML object>"
            ]
          },
          "metadata": {},
          "output_type": "display_data"
        },
        {
          "name": "stderr",
          "output_type": "stream",
          "text": [
            "Saving model checkpoint to trainer_sentiment_prep16_3/checkpoint-1500\n",
            "Configuration saved in trainer_sentiment_prep16_3/checkpoint-1500/config.json\n",
            "Model weights saved in trainer_sentiment_prep16_3/checkpoint-1500/pytorch_model.bin\n",
            "Saving model checkpoint to trainer_sentiment_prep16_3/checkpoint-2000\n",
            "Configuration saved in trainer_sentiment_prep16_3/checkpoint-2000/config.json\n",
            "Model weights saved in trainer_sentiment_prep16_3/checkpoint-2000/pytorch_model.bin\n",
            "Saving model checkpoint to trainer_sentiment_prep16_3/checkpoint-2500\n",
            "Configuration saved in trainer_sentiment_prep16_3/checkpoint-2500/config.json\n",
            "Model weights saved in trainer_sentiment_prep16_3/checkpoint-2500/pytorch_model.bin\n",
            "***** Running Evaluation *****\n",
            "  Num examples = 2000\n",
            "  Batch size = 8\n",
            "Saving model checkpoint to trainer_sentiment_prep16_3/checkpoint-3000\n",
            "Configuration saved in trainer_sentiment_prep16_3/checkpoint-3000/config.json\n",
            "Model weights saved in trainer_sentiment_prep16_3/checkpoint-3000/pytorch_model.bin\n",
            "Saving model checkpoint to trainer_sentiment_prep16_3/checkpoint-3500\n",
            "Configuration saved in trainer_sentiment_prep16_3/checkpoint-3500/config.json\n",
            "Model weights saved in trainer_sentiment_prep16_3/checkpoint-3500/pytorch_model.bin\n",
            "Saving model checkpoint to trainer_sentiment_prep16_3/checkpoint-4000\n",
            "Configuration saved in trainer_sentiment_prep16_3/checkpoint-4000/config.json\n",
            "Model weights saved in trainer_sentiment_prep16_3/checkpoint-4000/pytorch_model.bin\n",
            "Saving model checkpoint to trainer_sentiment_prep16_3/checkpoint-4500\n",
            "Configuration saved in trainer_sentiment_prep16_3/checkpoint-4500/config.json\n",
            "Model weights saved in trainer_sentiment_prep16_3/checkpoint-4500/pytorch_model.bin\n",
            "Saving model checkpoint to trainer_sentiment_prep16_3/checkpoint-5000\n",
            "Configuration saved in trainer_sentiment_prep16_3/checkpoint-5000/config.json\n",
            "Model weights saved in trainer_sentiment_prep16_3/checkpoint-5000/pytorch_model.bin\n",
            "Saving model checkpoint to trainer_sentiment_prep16_3/checkpoint-5500\n",
            "Configuration saved in trainer_sentiment_prep16_3/checkpoint-5500/config.json\n",
            "Model weights saved in trainer_sentiment_prep16_3/checkpoint-5500/pytorch_model.bin\n",
            "***** Running Evaluation *****\n",
            "  Num examples = 2000\n",
            "  Batch size = 8\n",
            "Saving model checkpoint to trainer_sentiment_prep16_3/checkpoint-6000\n",
            "Configuration saved in trainer_sentiment_prep16_3/checkpoint-6000/config.json\n",
            "Model weights saved in trainer_sentiment_prep16_3/checkpoint-6000/pytorch_model.bin\n",
            "Saving model checkpoint to trainer_sentiment_prep16_3/checkpoint-6500\n",
            "Configuration saved in trainer_sentiment_prep16_3/checkpoint-6500/config.json\n",
            "Model weights saved in trainer_sentiment_prep16_3/checkpoint-6500/pytorch_model.bin\n",
            "Saving model checkpoint to trainer_sentiment_prep16_3/checkpoint-7000\n",
            "Configuration saved in trainer_sentiment_prep16_3/checkpoint-7000/config.json\n",
            "Model weights saved in trainer_sentiment_prep16_3/checkpoint-7000/pytorch_model.bin\n",
            "Saving model checkpoint to trainer_sentiment_prep16_3/checkpoint-7500\n",
            "Configuration saved in trainer_sentiment_prep16_3/checkpoint-7500/config.json\n",
            "Model weights saved in trainer_sentiment_prep16_3/checkpoint-7500/pytorch_model.bin\n",
            "Saving model checkpoint to trainer_sentiment_prep16_3/checkpoint-8000\n",
            "Configuration saved in trainer_sentiment_prep16_3/checkpoint-8000/config.json\n",
            "Model weights saved in trainer_sentiment_prep16_3/checkpoint-8000/pytorch_model.bin\n",
            "Saving model checkpoint to trainer_sentiment_prep16_3/checkpoint-8500\n",
            "Configuration saved in trainer_sentiment_prep16_3/checkpoint-8500/config.json\n",
            "Model weights saved in trainer_sentiment_prep16_3/checkpoint-8500/pytorch_model.bin\n",
            "***** Running Evaluation *****\n",
            "  Num examples = 2000\n",
            "  Batch size = 8\n",
            "\n",
            "\n",
            "Training completed. Do not forget to share your model on huggingface.co/models =)\n",
            "\n",
            "\n",
            "***** Running Prediction *****\n",
            "  Num examples = 2000\n",
            "  Batch size = 8\n"
          ]
        },
        {
          "data": {
            "text/html": [
              "\n",
              "    <div>\n",
              "      \n",
              "      <progress value='250' max='250' style='width:300px; height:20px; vertical-align: middle;'></progress>\n",
              "      [250/250 00:08]\n",
              "    </div>\n",
              "    "
            ],
            "text/plain": [
              "<IPython.core.display.HTML object>"
            ]
          },
          "metadata": {},
          "output_type": "display_data"
        },
        {
          "name": "stderr",
          "output_type": "stream",
          "text": [
            "PyTorch: setting up devices\n",
            "The default value for the training argument `--report_to` will change in v5 (from all installed integrations to none). In v5, you will need to use `--report_to all` to get the same behavior as now. You should start updating your code and make this info disappear :-).\n",
            "/usr/local/lib/python3.7/dist-packages/transformers/optimization.py:310: FutureWarning: This implementation of AdamW is deprecated and will be removed in a future version. Use the PyTorch implementation torch.optim.AdamW instead, or set `no_deprecation_warning=True` to disable this warning\n",
            "  FutureWarning,\n",
            "***** Running training *****\n",
            "  Num examples = 45615\n",
            "  Num Epochs = 3\n",
            "  Instantaneous batch size per device = 32\n",
            "  Total train batch size (w. parallel, distributed & accumulation) = 32\n",
            "  Gradient Accumulation steps = 1\n",
            "  Total optimization steps = 4278\n"
          ]
        },
        {
          "name": "stdout",
          "output_type": "stream",
          "text": [
            "\u001b[35m \n",
            "Validation accuracy (batch size 16 and epochs 3): 0.7065\n",
            " \u001b[30m\n"
          ]
        },
        {
          "data": {
            "text/html": [
              "\n",
              "    <div>\n",
              "      \n",
              "      <progress value='4278' max='4278' style='width:300px; height:20px; vertical-align: middle;'></progress>\n",
              "      [4278/4278 24:21, Epoch 3/3]\n",
              "    </div>\n",
              "    <table border=\"1\" class=\"dataframe\">\n",
              "  <thead>\n",
              " <tr style=\"text-align: left;\">\n",
              "      <th>Epoch</th>\n",
              "      <th>Training Loss</th>\n",
              "      <th>Validation Loss</th>\n",
              "      <th>Accuracy</th>\n",
              "    </tr>\n",
              "  </thead>\n",
              "  <tbody>\n",
              "    <tr>\n",
              "      <td>1</td>\n",
              "      <td>0.035400</td>\n",
              "      <td>2.324620</td>\n",
              "      <td>0.691000</td>\n",
              "    </tr>\n",
              "    <tr>\n",
              "      <td>2</td>\n",
              "      <td>0.022400</td>\n",
              "      <td>2.009466</td>\n",
              "      <td>0.693500</td>\n",
              "    </tr>\n",
              "    <tr>\n",
              "      <td>3</td>\n",
              "      <td>0.011400</td>\n",
              "      <td>2.364296</td>\n",
              "      <td>0.692000</td>\n",
              "    </tr>\n",
              "  </tbody>\n",
              "</table><p>"
            ],
            "text/plain": [
              "<IPython.core.display.HTML object>"
            ]
          },
          "metadata": {},
          "output_type": "display_data"
        },
        {
          "name": "stderr",
          "output_type": "stream",
          "text": [
            "Saving model checkpoint to trainer_sentiment_prep32_3/checkpoint-500\n",
            "Configuration saved in trainer_sentiment_prep32_3/checkpoint-500/config.json\n",
            "Model weights saved in trainer_sentiment_prep32_3/checkpoint-500/pytorch_model.bin\n",
            "Saving model checkpoint to trainer_sentiment_prep32_3/checkpoint-1000\n",
            "Configuration saved in trainer_sentiment_prep32_3/checkpoint-1000/config.json\n",
            "Model weights saved in trainer_sentiment_prep32_3/checkpoint-1000/pytorch_model.bin\n",
            "***** Running Evaluation *****\n",
            "  Num examples = 2000\n",
            "  Batch size = 8\n",
            "Saving model checkpoint to trainer_sentiment_prep32_3/checkpoint-1500\n",
            "Configuration saved in trainer_sentiment_prep32_3/checkpoint-1500/config.json\n",
            "Model weights saved in trainer_sentiment_prep32_3/checkpoint-1500/pytorch_model.bin\n",
            "Saving model checkpoint to trainer_sentiment_prep32_3/checkpoint-2000\n",
            "Configuration saved in trainer_sentiment_prep32_3/checkpoint-2000/config.json\n",
            "Model weights saved in trainer_sentiment_prep32_3/checkpoint-2000/pytorch_model.bin\n",
            "Saving model checkpoint to trainer_sentiment_prep32_3/checkpoint-2500\n",
            "Configuration saved in trainer_sentiment_prep32_3/checkpoint-2500/config.json\n",
            "Model weights saved in trainer_sentiment_prep32_3/checkpoint-2500/pytorch_model.bin\n",
            "***** Running Evaluation *****\n",
            "  Num examples = 2000\n",
            "  Batch size = 8\n",
            "Saving model checkpoint to trainer_sentiment_prep32_3/checkpoint-3000\n",
            "Configuration saved in trainer_sentiment_prep32_3/checkpoint-3000/config.json\n",
            "Model weights saved in trainer_sentiment_prep32_3/checkpoint-3000/pytorch_model.bin\n",
            "Saving model checkpoint to trainer_sentiment_prep32_3/checkpoint-3500\n",
            "Configuration saved in trainer_sentiment_prep32_3/checkpoint-3500/config.json\n",
            "Model weights saved in trainer_sentiment_prep32_3/checkpoint-3500/pytorch_model.bin\n",
            "Saving model checkpoint to trainer_sentiment_prep32_3/checkpoint-4000\n",
            "Configuration saved in trainer_sentiment_prep32_3/checkpoint-4000/config.json\n",
            "Model weights saved in trainer_sentiment_prep32_3/checkpoint-4000/pytorch_model.bin\n",
            "***** Running Evaluation *****\n",
            "  Num examples = 2000\n",
            "  Batch size = 8\n",
            "\n",
            "\n",
            "Training completed. Do not forget to share your model on huggingface.co/models =)\n",
            "\n",
            "\n",
            "***** Running Prediction *****\n",
            "  Num examples = 2000\n",
            "  Batch size = 8\n"
          ]
        },
        {
          "data": {
            "text/html": [
              "\n",
              "    <div>\n",
              "      \n",
              "      <progress value='250' max='250' style='width:300px; height:20px; vertical-align: middle;'></progress>\n",
              "      [250/250 00:08]\n",
              "    </div>\n",
              "    "
            ],
            "text/plain": [
              "<IPython.core.display.HTML object>"
            ]
          },
          "metadata": {},
          "output_type": "display_data"
        },
        {
          "name": "stderr",
          "output_type": "stream",
          "text": [
            "PyTorch: setting up devices\n",
            "The default value for the training argument `--report_to` will change in v5 (from all installed integrations to none). In v5, you will need to use `--report_to all` to get the same behavior as now. You should start updating your code and make this info disappear :-).\n",
            "/usr/local/lib/python3.7/dist-packages/transformers/optimization.py:310: FutureWarning: This implementation of AdamW is deprecated and will be removed in a future version. Use the PyTorch implementation torch.optim.AdamW instead, or set `no_deprecation_warning=True` to disable this warning\n",
            "  FutureWarning,\n",
            "***** Running training *****\n",
            "  Num examples = 45615\n",
            "  Num Epochs = 4\n",
            "  Instantaneous batch size per device = 16\n",
            "  Total train batch size (w. parallel, distributed & accumulation) = 16\n",
            "  Gradient Accumulation steps = 1\n",
            "  Total optimization steps = 11404\n"
          ]
        },
        {
          "name": "stdout",
          "output_type": "stream",
          "text": [
            "\u001b[35m \n",
            "Validation accuracy (batch size 32 and epochs 3): 0.692\n",
            " \u001b[30m\n"
          ]
        },
        {
          "data": {
            "text/html": [
              "\n",
              "    <div>\n",
              "      \n",
              "      <progress value='2001' max='11404' style='width:300px; height:20px; vertical-align: middle;'></progress>\n",
              "      [ 2001/11404 06:31 < 30:43, 5.10 it/s, Epoch 0.70/4]\n",
              "    </div>\n",
              "    <table border=\"1\" class=\"dataframe\">\n",
              "  <thead>\n",
              " <tr style=\"text-align: left;\">\n",
              "      <th>Epoch</th>\n",
              "      <th>Training Loss</th>\n",
              "      <th>Validation Loss</th>\n",
              "    </tr>\n",
              "  </thead>\n",
              "  <tbody>\n",
              "  </tbody>\n",
              "</table><p>"
            ],
            "text/plain": [
              "<IPython.core.display.HTML object>"
            ]
          },
          "metadata": {},
          "output_type": "display_data"
        },
        {
          "name": "stderr",
          "output_type": "stream",
          "text": [
            "Saving model checkpoint to trainer_sentiment_prep16_4/checkpoint-500\n",
            "Configuration saved in trainer_sentiment_prep16_4/checkpoint-500/config.json\n",
            "Model weights saved in trainer_sentiment_prep16_4/checkpoint-500/pytorch_model.bin\n",
            "Saving model checkpoint to trainer_sentiment_prep16_4/checkpoint-1000\n",
            "Configuration saved in trainer_sentiment_prep16_4/checkpoint-1000/config.json\n",
            "Model weights saved in trainer_sentiment_prep16_4/checkpoint-1000/pytorch_model.bin\n",
            "Saving model checkpoint to trainer_sentiment_prep16_4/checkpoint-1500\n",
            "Configuration saved in trainer_sentiment_prep16_4/checkpoint-1500/config.json\n",
            "Model weights saved in trainer_sentiment_prep16_4/checkpoint-1500/pytorch_model.bin\n",
            "Saving model checkpoint to trainer_sentiment_prep16_4/checkpoint-2000\n",
            "Configuration saved in trainer_sentiment_prep16_4/checkpoint-2000/config.json\n",
            "Model weights saved in trainer_sentiment_prep16_4/checkpoint-2000/pytorch_model.bin\n"
          ]
        },
        {
          "ename": "RuntimeError",
          "evalue": "ignored",
          "output_type": "error",
          "traceback": [
            "\u001b[0;31m---------------------------------------------------------------------------\u001b[0m",
            "\u001b[0;31mOSError\u001b[0m                                   Traceback (most recent call last)",
            "\u001b[0;32m/usr/local/lib/python3.7/dist-packages/torch/serialization.py\u001b[0m in \u001b[0;36msave\u001b[0;34m(obj, f, pickle_module, pickle_protocol, _use_new_zipfile_serialization)\u001b[0m\n\u001b[1;32m    378\u001b[0m             \u001b[0;32mwith\u001b[0m \u001b[0m_open_zipfile_writer\u001b[0m\u001b[0;34m(\u001b[0m\u001b[0mopened_file\u001b[0m\u001b[0;34m)\u001b[0m \u001b[0;32mas\u001b[0m \u001b[0mopened_zipfile\u001b[0m\u001b[0;34m:\u001b[0m\u001b[0;34m\u001b[0m\u001b[0;34m\u001b[0m\u001b[0m\n\u001b[0;32m--> 379\u001b[0;31m                 \u001b[0m_save\u001b[0m\u001b[0;34m(\u001b[0m\u001b[0mobj\u001b[0m\u001b[0;34m,\u001b[0m \u001b[0mopened_zipfile\u001b[0m\u001b[0;34m,\u001b[0m \u001b[0mpickle_module\u001b[0m\u001b[0;34m,\u001b[0m \u001b[0mpickle_protocol\u001b[0m\u001b[0;34m)\u001b[0m\u001b[0;34m\u001b[0m\u001b[0;34m\u001b[0m\u001b[0m\n\u001b[0m\u001b[1;32m    380\u001b[0m                 \u001b[0;32mreturn\u001b[0m\u001b[0;34m\u001b[0m\u001b[0;34m\u001b[0m\u001b[0m\n",
            "\u001b[0;32m/usr/local/lib/python3.7/dist-packages/torch/serialization.py\u001b[0m in \u001b[0;36m_save\u001b[0;34m(obj, zip_file, pickle_module, pickle_protocol)\u001b[0m\n\u001b[1;32m    603\u001b[0m         \u001b[0mnum_bytes\u001b[0m \u001b[0;34m=\u001b[0m \u001b[0mstorage\u001b[0m\u001b[0;34m.\u001b[0m\u001b[0mnbytes\u001b[0m\u001b[0;34m(\u001b[0m\u001b[0;34m)\u001b[0m\u001b[0;34m\u001b[0m\u001b[0;34m\u001b[0m\u001b[0m\n\u001b[0;32m--> 604\u001b[0;31m         \u001b[0mzip_file\u001b[0m\u001b[0;34m.\u001b[0m\u001b[0mwrite_record\u001b[0m\u001b[0;34m(\u001b[0m\u001b[0mname\u001b[0m\u001b[0;34m,\u001b[0m \u001b[0mstorage\u001b[0m\u001b[0;34m.\u001b[0m\u001b[0mdata_ptr\u001b[0m\u001b[0;34m(\u001b[0m\u001b[0;34m)\u001b[0m\u001b[0;34m,\u001b[0m \u001b[0mnum_bytes\u001b[0m\u001b[0;34m)\u001b[0m\u001b[0;34m\u001b[0m\u001b[0;34m\u001b[0m\u001b[0m\n\u001b[0m\u001b[1;32m    605\u001b[0m \u001b[0;34m\u001b[0m\u001b[0m\n",
            "\u001b[0;31mOSError\u001b[0m: [Errno 28] No space left on device",
            "\nDuring handling of the above exception, another exception occurred:\n",
            "\u001b[0;31mRuntimeError\u001b[0m                              Traceback (most recent call last)",
            "\u001b[0;32m<ipython-input-59-eb6e2f097417>\u001b[0m in \u001b[0;36m<module>\u001b[0;34m()\u001b[0m\n\u001b[1;32m     22\u001b[0m     )\n\u001b[1;32m     23\u001b[0m \u001b[0;34m\u001b[0m\u001b[0m\n\u001b[0;32m---> 24\u001b[0;31m     \u001b[0mtrainer\u001b[0m\u001b[0;34m.\u001b[0m\u001b[0mtrain\u001b[0m\u001b[0;34m(\u001b[0m\u001b[0;34m)\u001b[0m\u001b[0;34m\u001b[0m\u001b[0;34m\u001b[0m\u001b[0m\n\u001b[0m\u001b[1;32m     25\u001b[0m \u001b[0;34m\u001b[0m\u001b[0m\n\u001b[1;32m     26\u001b[0m     \u001b[0mpredictions\u001b[0m \u001b[0;34m=\u001b[0m \u001b[0mtrainer\u001b[0m\u001b[0;34m.\u001b[0m\u001b[0mpredict\u001b[0m\u001b[0;34m(\u001b[0m\u001b[0mval_tokenized_sentiment_prep\u001b[0m\u001b[0;34m)\u001b[0m\u001b[0;34m\u001b[0m\u001b[0;34m\u001b[0m\u001b[0m\n",
            "\u001b[0;32m/usr/local/lib/python3.7/dist-packages/transformers/trainer.py\u001b[0m in \u001b[0;36mtrain\u001b[0;34m(self, resume_from_checkpoint, trial, ignore_keys_for_eval, **kwargs)\u001b[0m\n\u001b[1;32m   1411\u001b[0m             \u001b[0mresume_from_checkpoint\u001b[0m\u001b[0;34m=\u001b[0m\u001b[0mresume_from_checkpoint\u001b[0m\u001b[0;34m,\u001b[0m\u001b[0;34m\u001b[0m\u001b[0;34m\u001b[0m\u001b[0m\n\u001b[1;32m   1412\u001b[0m             \u001b[0mtrial\u001b[0m\u001b[0;34m=\u001b[0m\u001b[0mtrial\u001b[0m\u001b[0;34m,\u001b[0m\u001b[0;34m\u001b[0m\u001b[0;34m\u001b[0m\u001b[0m\n\u001b[0;32m-> 1413\u001b[0;31m             \u001b[0mignore_keys_for_eval\u001b[0m\u001b[0;34m=\u001b[0m\u001b[0mignore_keys_for_eval\u001b[0m\u001b[0;34m,\u001b[0m\u001b[0;34m\u001b[0m\u001b[0;34m\u001b[0m\u001b[0m\n\u001b[0m\u001b[1;32m   1414\u001b[0m         )\n\u001b[1;32m   1415\u001b[0m \u001b[0;34m\u001b[0m\u001b[0m\n",
            "\u001b[0;32m/usr/local/lib/python3.7/dist-packages/transformers/trainer.py\u001b[0m in \u001b[0;36m_inner_training_loop\u001b[0;34m(self, batch_size, args, resume_from_checkpoint, trial, ignore_keys_for_eval)\u001b[0m\n\u001b[1;32m   1726\u001b[0m                     \u001b[0mself\u001b[0m\u001b[0;34m.\u001b[0m\u001b[0mcontrol\u001b[0m \u001b[0;34m=\u001b[0m \u001b[0mself\u001b[0m\u001b[0;34m.\u001b[0m\u001b[0mcallback_handler\u001b[0m\u001b[0;34m.\u001b[0m\u001b[0mon_step_end\u001b[0m\u001b[0;34m(\u001b[0m\u001b[0margs\u001b[0m\u001b[0;34m,\u001b[0m \u001b[0mself\u001b[0m\u001b[0;34m.\u001b[0m\u001b[0mstate\u001b[0m\u001b[0;34m,\u001b[0m \u001b[0mself\u001b[0m\u001b[0;34m.\u001b[0m\u001b[0mcontrol\u001b[0m\u001b[0;34m)\u001b[0m\u001b[0;34m\u001b[0m\u001b[0;34m\u001b[0m\u001b[0m\n\u001b[1;32m   1727\u001b[0m \u001b[0;34m\u001b[0m\u001b[0m\n\u001b[0;32m-> 1728\u001b[0;31m                     \u001b[0mself\u001b[0m\u001b[0;34m.\u001b[0m\u001b[0m_maybe_log_save_evaluate\u001b[0m\u001b[0;34m(\u001b[0m\u001b[0mtr_loss\u001b[0m\u001b[0;34m,\u001b[0m \u001b[0mmodel\u001b[0m\u001b[0;34m,\u001b[0m \u001b[0mtrial\u001b[0m\u001b[0;34m,\u001b[0m \u001b[0mepoch\u001b[0m\u001b[0;34m,\u001b[0m \u001b[0mignore_keys_for_eval\u001b[0m\u001b[0;34m)\u001b[0m\u001b[0;34m\u001b[0m\u001b[0;34m\u001b[0m\u001b[0m\n\u001b[0m\u001b[1;32m   1729\u001b[0m                 \u001b[0;32melse\u001b[0m\u001b[0;34m:\u001b[0m\u001b[0;34m\u001b[0m\u001b[0;34m\u001b[0m\u001b[0m\n\u001b[1;32m   1730\u001b[0m                     \u001b[0mself\u001b[0m\u001b[0;34m.\u001b[0m\u001b[0mcontrol\u001b[0m \u001b[0;34m=\u001b[0m \u001b[0mself\u001b[0m\u001b[0;34m.\u001b[0m\u001b[0mcallback_handler\u001b[0m\u001b[0;34m.\u001b[0m\u001b[0mon_substep_end\u001b[0m\u001b[0;34m(\u001b[0m\u001b[0margs\u001b[0m\u001b[0;34m,\u001b[0m \u001b[0mself\u001b[0m\u001b[0;34m.\u001b[0m\u001b[0mstate\u001b[0m\u001b[0;34m,\u001b[0m \u001b[0mself\u001b[0m\u001b[0;34m.\u001b[0m\u001b[0mcontrol\u001b[0m\u001b[0;34m)\u001b[0m\u001b[0;34m\u001b[0m\u001b[0;34m\u001b[0m\u001b[0m\n",
            "\u001b[0;32m/usr/local/lib/python3.7/dist-packages/transformers/trainer.py\u001b[0m in \u001b[0;36m_maybe_log_save_evaluate\u001b[0;34m(self, tr_loss, model, trial, epoch, ignore_keys_for_eval)\u001b[0m\n\u001b[1;32m   1914\u001b[0m \u001b[0;34m\u001b[0m\u001b[0m\n\u001b[1;32m   1915\u001b[0m         \u001b[0;32mif\u001b[0m \u001b[0mself\u001b[0m\u001b[0;34m.\u001b[0m\u001b[0mcontrol\u001b[0m\u001b[0;34m.\u001b[0m\u001b[0mshould_save\u001b[0m\u001b[0;34m:\u001b[0m\u001b[0;34m\u001b[0m\u001b[0;34m\u001b[0m\u001b[0m\n\u001b[0;32m-> 1916\u001b[0;31m             \u001b[0mself\u001b[0m\u001b[0;34m.\u001b[0m\u001b[0m_save_checkpoint\u001b[0m\u001b[0;34m(\u001b[0m\u001b[0mmodel\u001b[0m\u001b[0;34m,\u001b[0m \u001b[0mtrial\u001b[0m\u001b[0;34m,\u001b[0m \u001b[0mmetrics\u001b[0m\u001b[0;34m=\u001b[0m\u001b[0mmetrics\u001b[0m\u001b[0;34m)\u001b[0m\u001b[0;34m\u001b[0m\u001b[0;34m\u001b[0m\u001b[0m\n\u001b[0m\u001b[1;32m   1917\u001b[0m             \u001b[0mself\u001b[0m\u001b[0;34m.\u001b[0m\u001b[0mcontrol\u001b[0m \u001b[0;34m=\u001b[0m \u001b[0mself\u001b[0m\u001b[0;34m.\u001b[0m\u001b[0mcallback_handler\u001b[0m\u001b[0;34m.\u001b[0m\u001b[0mon_save\u001b[0m\u001b[0;34m(\u001b[0m\u001b[0mself\u001b[0m\u001b[0;34m.\u001b[0m\u001b[0margs\u001b[0m\u001b[0;34m,\u001b[0m \u001b[0mself\u001b[0m\u001b[0;34m.\u001b[0m\u001b[0mstate\u001b[0m\u001b[0;34m,\u001b[0m \u001b[0mself\u001b[0m\u001b[0;34m.\u001b[0m\u001b[0mcontrol\u001b[0m\u001b[0;34m)\u001b[0m\u001b[0;34m\u001b[0m\u001b[0;34m\u001b[0m\u001b[0m\n\u001b[1;32m   1918\u001b[0m \u001b[0;34m\u001b[0m\u001b[0m\n",
            "\u001b[0;32m/usr/local/lib/python3.7/dist-packages/transformers/trainer.py\u001b[0m in \u001b[0;36m_save_checkpoint\u001b[0;34m(self, model, trial, metrics)\u001b[0m\n\u001b[1;32m   2020\u001b[0m         \u001b[0;32melif\u001b[0m \u001b[0mself\u001b[0m\u001b[0;34m.\u001b[0m\u001b[0margs\u001b[0m\u001b[0;34m.\u001b[0m\u001b[0mshould_save\u001b[0m \u001b[0;32mand\u001b[0m \u001b[0;32mnot\u001b[0m \u001b[0mself\u001b[0m\u001b[0;34m.\u001b[0m\u001b[0mdeepspeed\u001b[0m\u001b[0;34m:\u001b[0m\u001b[0;34m\u001b[0m\u001b[0;34m\u001b[0m\u001b[0m\n\u001b[1;32m   2021\u001b[0m             \u001b[0;31m# deepspeed.save_checkpoint above saves model/optim/sched\u001b[0m\u001b[0;34m\u001b[0m\u001b[0;34m\u001b[0m\u001b[0;34m\u001b[0m\u001b[0m\n\u001b[0;32m-> 2022\u001b[0;31m             \u001b[0mtorch\u001b[0m\u001b[0;34m.\u001b[0m\u001b[0msave\u001b[0m\u001b[0;34m(\u001b[0m\u001b[0mself\u001b[0m\u001b[0;34m.\u001b[0m\u001b[0moptimizer\u001b[0m\u001b[0;34m.\u001b[0m\u001b[0mstate_dict\u001b[0m\u001b[0;34m(\u001b[0m\u001b[0;34m)\u001b[0m\u001b[0;34m,\u001b[0m \u001b[0mos\u001b[0m\u001b[0;34m.\u001b[0m\u001b[0mpath\u001b[0m\u001b[0;34m.\u001b[0m\u001b[0mjoin\u001b[0m\u001b[0;34m(\u001b[0m\u001b[0moutput_dir\u001b[0m\u001b[0;34m,\u001b[0m \u001b[0mOPTIMIZER_NAME\u001b[0m\u001b[0;34m)\u001b[0m\u001b[0;34m)\u001b[0m\u001b[0;34m\u001b[0m\u001b[0;34m\u001b[0m\u001b[0m\n\u001b[0m\u001b[1;32m   2023\u001b[0m             \u001b[0;32mwith\u001b[0m \u001b[0mwarnings\u001b[0m\u001b[0;34m.\u001b[0m\u001b[0mcatch_warnings\u001b[0m\u001b[0;34m(\u001b[0m\u001b[0mrecord\u001b[0m\u001b[0;34m=\u001b[0m\u001b[0;32mTrue\u001b[0m\u001b[0;34m)\u001b[0m \u001b[0;32mas\u001b[0m \u001b[0mcaught_warnings\u001b[0m\u001b[0;34m:\u001b[0m\u001b[0;34m\u001b[0m\u001b[0;34m\u001b[0m\u001b[0m\n\u001b[1;32m   2024\u001b[0m                 \u001b[0mtorch\u001b[0m\u001b[0;34m.\u001b[0m\u001b[0msave\u001b[0m\u001b[0;34m(\u001b[0m\u001b[0mself\u001b[0m\u001b[0;34m.\u001b[0m\u001b[0mlr_scheduler\u001b[0m\u001b[0;34m.\u001b[0m\u001b[0mstate_dict\u001b[0m\u001b[0;34m(\u001b[0m\u001b[0;34m)\u001b[0m\u001b[0;34m,\u001b[0m \u001b[0mos\u001b[0m\u001b[0;34m.\u001b[0m\u001b[0mpath\u001b[0m\u001b[0;34m.\u001b[0m\u001b[0mjoin\u001b[0m\u001b[0;34m(\u001b[0m\u001b[0moutput_dir\u001b[0m\u001b[0;34m,\u001b[0m \u001b[0mSCHEDULER_NAME\u001b[0m\u001b[0;34m)\u001b[0m\u001b[0;34m)\u001b[0m\u001b[0;34m\u001b[0m\u001b[0;34m\u001b[0m\u001b[0m\n",
            "\u001b[0;32m/usr/local/lib/python3.7/dist-packages/torch/serialization.py\u001b[0m in \u001b[0;36msave\u001b[0;34m(obj, f, pickle_module, pickle_protocol, _use_new_zipfile_serialization)\u001b[0m\n\u001b[1;32m    378\u001b[0m             \u001b[0;32mwith\u001b[0m \u001b[0m_open_zipfile_writer\u001b[0m\u001b[0;34m(\u001b[0m\u001b[0mopened_file\u001b[0m\u001b[0;34m)\u001b[0m \u001b[0;32mas\u001b[0m \u001b[0mopened_zipfile\u001b[0m\u001b[0;34m:\u001b[0m\u001b[0;34m\u001b[0m\u001b[0;34m\u001b[0m\u001b[0m\n\u001b[1;32m    379\u001b[0m                 \u001b[0m_save\u001b[0m\u001b[0;34m(\u001b[0m\u001b[0mobj\u001b[0m\u001b[0;34m,\u001b[0m \u001b[0mopened_zipfile\u001b[0m\u001b[0;34m,\u001b[0m \u001b[0mpickle_module\u001b[0m\u001b[0;34m,\u001b[0m \u001b[0mpickle_protocol\u001b[0m\u001b[0;34m)\u001b[0m\u001b[0;34m\u001b[0m\u001b[0;34m\u001b[0m\u001b[0m\n\u001b[0;32m--> 380\u001b[0;31m                 \u001b[0;32mreturn\u001b[0m\u001b[0;34m\u001b[0m\u001b[0;34m\u001b[0m\u001b[0m\n\u001b[0m\u001b[1;32m    381\u001b[0m         \u001b[0m_legacy_save\u001b[0m\u001b[0;34m(\u001b[0m\u001b[0mobj\u001b[0m\u001b[0;34m,\u001b[0m \u001b[0mopened_file\u001b[0m\u001b[0;34m,\u001b[0m \u001b[0mpickle_module\u001b[0m\u001b[0;34m,\u001b[0m \u001b[0mpickle_protocol\u001b[0m\u001b[0;34m)\u001b[0m\u001b[0;34m\u001b[0m\u001b[0;34m\u001b[0m\u001b[0m\n\u001b[1;32m    382\u001b[0m \u001b[0;34m\u001b[0m\u001b[0m\n",
            "\u001b[0;32m/usr/local/lib/python3.7/dist-packages/torch/serialization.py\u001b[0m in \u001b[0;36m__exit__\u001b[0;34m(self, *args)\u001b[0m\n\u001b[1;32m    257\u001b[0m \u001b[0;34m\u001b[0m\u001b[0m\n\u001b[1;32m    258\u001b[0m     \u001b[0;32mdef\u001b[0m \u001b[0m__exit__\u001b[0m\u001b[0;34m(\u001b[0m\u001b[0mself\u001b[0m\u001b[0;34m,\u001b[0m \u001b[0;34m*\u001b[0m\u001b[0margs\u001b[0m\u001b[0;34m)\u001b[0m \u001b[0;34m->\u001b[0m \u001b[0;32mNone\u001b[0m\u001b[0;34m:\u001b[0m\u001b[0;34m\u001b[0m\u001b[0;34m\u001b[0m\u001b[0m\n\u001b[0;32m--> 259\u001b[0;31m         \u001b[0mself\u001b[0m\u001b[0;34m.\u001b[0m\u001b[0mfile_like\u001b[0m\u001b[0;34m.\u001b[0m\u001b[0mwrite_end_of_file\u001b[0m\u001b[0;34m(\u001b[0m\u001b[0;34m)\u001b[0m\u001b[0;34m\u001b[0m\u001b[0;34m\u001b[0m\u001b[0m\n\u001b[0m\u001b[1;32m    260\u001b[0m         \u001b[0mself\u001b[0m\u001b[0;34m.\u001b[0m\u001b[0mbuffer\u001b[0m\u001b[0;34m.\u001b[0m\u001b[0mflush\u001b[0m\u001b[0;34m(\u001b[0m\u001b[0;34m)\u001b[0m\u001b[0;34m\u001b[0m\u001b[0;34m\u001b[0m\u001b[0m\n\u001b[1;32m    261\u001b[0m \u001b[0;34m\u001b[0m\u001b[0m\n",
            "\u001b[0;31mRuntimeError\u001b[0m: [enforce fail at inline_container.cc:319] . unexpected pos 454606400 vs 454606288"
          ]
        }
      ],
      "source": [
        "best_model_sentiment_prep = None\n",
        "best_accuracy_sentiment_prep = 0\n",
        "best_epoch_sentiment_prep = 0\n",
        "best_batch_size_sentiment_prep = 0\n",
        "\n",
        "models_sentiment_prep = []\n",
        "\n",
        "for epoch in epochs:\n",
        "  for batch_size in batch_sizes:\n",
        "\n",
        "    args = TrainingArguments(output_dir='trainer_sentiment_prep'+str(batch_size)+'_'+str(epoch),\n",
        "                              evaluation_strategy=\"epoch\",\n",
        "                              num_train_epochs=epoch,\n",
        "                              per_device_train_batch_size=batch_size)\n",
        "    \n",
        "    trainer = Trainer(\n",
        "        model=bertweet_sentiment,\n",
        "        args=args,\n",
        "        train_dataset=train_tokenized_sentiment_prep,\n",
        "        eval_dataset=val_tokenized_sentiment_prep,\n",
        "        compute_metrics=compute_accuracy,\n",
        "    )\n",
        "\n",
        "    trainer.train()\n",
        "  \n",
        "    predictions = trainer.predict(val_tokenized_sentiment_prep)\n",
        "    preds = np.argmax(predictions.predictions, axis=-1)\n",
        "    val_accuracy = accuracy.compute(predictions=preds, references=predictions.label_ids)['accuracy']\n",
        "\n",
        "    print(f'{Fore.MAGENTA} \\nValidation accuracy (batch size {batch_size} and epochs {epoch}): {val_accuracy}\\n {Fore.BLACK}')\n",
        "    \n",
        "    models_sentiment_prep.append(dict(val_accuracy=val_accuracy,\n",
        "                       batch_size=batch_size,\n",
        "                       epochs=epoch\n",
        "                       ))\n",
        "\n",
        "    if val_accuracy > best_accuracy_sentiment_prep:\n",
        "      best_accuracy_sentiment_prep = val_accuracy\n",
        "      best_model_sentiment_prep = trainer\n",
        "      best_epoch_sentiment_prep = epoch\n",
        "      best_batch_size_sentiment_prep = batch_size\n"
      ]
    },
    {
      "cell_type": "code",
      "execution_count": null,
      "metadata": {
        "colab": {
          "background_save": true,
          "base_uri": "https://localhost:8080/",
          "height": 1000
        },
        "id": "d-VfaKx9AsEd",
        "outputId": "25b88512-3669-4881-8913-882d889ce52d"
      },
      "outputs": [
        {
          "name": "stderr",
          "output_type": "stream",
          "text": [
            "PyTorch: setting up devices\n",
            "The default value for the training argument `--report_to` will change in v5 (from all installed integrations to none). In v5, you will need to use `--report_to all` to get the same behavior as now. You should start updating your code and make this info disappear :-).\n",
            "/usr/local/lib/python3.7/dist-packages/transformers/optimization.py:310: FutureWarning: This implementation of AdamW is deprecated and will be removed in a future version. Use the PyTorch implementation torch.optim.AdamW instead, or set `no_deprecation_warning=True` to disable this warning\n",
            "  FutureWarning,\n",
            "***** Running training *****\n",
            "  Num examples = 45615\n",
            "  Num Epochs = 4\n",
            "  Instantaneous batch size per device = 16\n",
            "  Total train batch size (w. parallel, distributed & accumulation) = 16\n",
            "  Gradient Accumulation steps = 1\n",
            "  Total optimization steps = 11404\n"
          ]
        },
        {
          "data": {
            "text/html": [
              "\n",
              "    <div>\n",
              "      \n",
              "      <progress value='11404' max='11404' style='width:300px; height:20px; vertical-align: middle;'></progress>\n",
              "      [11404/11404 37:53, Epoch 4/4]\n",
              "    </div>\n",
              "    <table border=\"1\" class=\"dataframe\">\n",
              "  <thead>\n",
              " <tr style=\"text-align: left;\">\n",
              "      <th>Epoch</th>\n",
              "      <th>Training Loss</th>\n",
              "      <th>Validation Loss</th>\n",
              "      <th>Accuracy</th>\n",
              "    </tr>\n",
              "  </thead>\n",
              "  <tbody>\n",
              "    <tr>\n",
              "      <td>1</td>\n",
              "      <td>0.188100</td>\n",
              "      <td>1.276782</td>\n",
              "      <td>0.704500</td>\n",
              "    </tr>\n",
              "    <tr>\n",
              "      <td>2</td>\n",
              "      <td>0.139200</td>\n",
              "      <td>1.423379</td>\n",
              "      <td>0.716500</td>\n",
              "    </tr>\n",
              "    <tr>\n",
              "      <td>3</td>\n",
              "      <td>0.081300</td>\n",
              "      <td>1.621965</td>\n",
              "      <td>0.721500</td>\n",
              "    </tr>\n",
              "    <tr>\n",
              "      <td>4</td>\n",
              "      <td>0.030500</td>\n",
              "      <td>1.905787</td>\n",
              "      <td>0.720500</td>\n",
              "    </tr>\n",
              "  </tbody>\n",
              "</table><p>"
            ],
            "text/plain": [
              "<IPython.core.display.HTML object>"
            ]
          },
          "metadata": {},
          "output_type": "display_data"
        },
        {
          "name": "stderr",
          "output_type": "stream",
          "text": [
            "Saving model checkpoint to trainer_sentiment_prep16_4/checkpoint-500\n",
            "Configuration saved in trainer_sentiment_prep16_4/checkpoint-500/config.json\n",
            "Model weights saved in trainer_sentiment_prep16_4/checkpoint-500/pytorch_model.bin\n",
            "Saving model checkpoint to trainer_sentiment_prep16_4/checkpoint-1000\n",
            "Configuration saved in trainer_sentiment_prep16_4/checkpoint-1000/config.json\n",
            "Model weights saved in trainer_sentiment_prep16_4/checkpoint-1000/pytorch_model.bin\n",
            "Saving model checkpoint to trainer_sentiment_prep16_4/checkpoint-1500\n",
            "Configuration saved in trainer_sentiment_prep16_4/checkpoint-1500/config.json\n",
            "Model weights saved in trainer_sentiment_prep16_4/checkpoint-1500/pytorch_model.bin\n",
            "Saving model checkpoint to trainer_sentiment_prep16_4/checkpoint-2000\n",
            "Configuration saved in trainer_sentiment_prep16_4/checkpoint-2000/config.json\n",
            "Model weights saved in trainer_sentiment_prep16_4/checkpoint-2000/pytorch_model.bin\n",
            "Saving model checkpoint to trainer_sentiment_prep16_4/checkpoint-2500\n",
            "Configuration saved in trainer_sentiment_prep16_4/checkpoint-2500/config.json\n",
            "Model weights saved in trainer_sentiment_prep16_4/checkpoint-2500/pytorch_model.bin\n",
            "***** Running Evaluation *****\n",
            "  Num examples = 2000\n",
            "  Batch size = 8\n",
            "Saving model checkpoint to trainer_sentiment_prep16_4/checkpoint-3000\n",
            "Configuration saved in trainer_sentiment_prep16_4/checkpoint-3000/config.json\n",
            "Model weights saved in trainer_sentiment_prep16_4/checkpoint-3000/pytorch_model.bin\n",
            "Saving model checkpoint to trainer_sentiment_prep16_4/checkpoint-3500\n",
            "Configuration saved in trainer_sentiment_prep16_4/checkpoint-3500/config.json\n",
            "Model weights saved in trainer_sentiment_prep16_4/checkpoint-3500/pytorch_model.bin\n",
            "Saving model checkpoint to trainer_sentiment_prep16_4/checkpoint-4000\n",
            "Configuration saved in trainer_sentiment_prep16_4/checkpoint-4000/config.json\n",
            "Model weights saved in trainer_sentiment_prep16_4/checkpoint-4000/pytorch_model.bin\n",
            "Saving model checkpoint to trainer_sentiment_prep16_4/checkpoint-4500\n",
            "Configuration saved in trainer_sentiment_prep16_4/checkpoint-4500/config.json\n",
            "Model weights saved in trainer_sentiment_prep16_4/checkpoint-4500/pytorch_model.bin\n",
            "Saving model checkpoint to trainer_sentiment_prep16_4/checkpoint-5000\n",
            "Configuration saved in trainer_sentiment_prep16_4/checkpoint-5000/config.json\n",
            "Model weights saved in trainer_sentiment_prep16_4/checkpoint-5000/pytorch_model.bin\n",
            "Saving model checkpoint to trainer_sentiment_prep16_4/checkpoint-5500\n",
            "Configuration saved in trainer_sentiment_prep16_4/checkpoint-5500/config.json\n",
            "Model weights saved in trainer_sentiment_prep16_4/checkpoint-5500/pytorch_model.bin\n",
            "***** Running Evaluation *****\n",
            "  Num examples = 2000\n",
            "  Batch size = 8\n",
            "Saving model checkpoint to trainer_sentiment_prep16_4/checkpoint-6000\n",
            "Configuration saved in trainer_sentiment_prep16_4/checkpoint-6000/config.json\n",
            "Model weights saved in trainer_sentiment_prep16_4/checkpoint-6000/pytorch_model.bin\n",
            "Saving model checkpoint to trainer_sentiment_prep16_4/checkpoint-6500\n",
            "Configuration saved in trainer_sentiment_prep16_4/checkpoint-6500/config.json\n",
            "Model weights saved in trainer_sentiment_prep16_4/checkpoint-6500/pytorch_model.bin\n",
            "Saving model checkpoint to trainer_sentiment_prep16_4/checkpoint-7000\n",
            "Configuration saved in trainer_sentiment_prep16_4/checkpoint-7000/config.json\n",
            "Model weights saved in trainer_sentiment_prep16_4/checkpoint-7000/pytorch_model.bin\n",
            "Saving model checkpoint to trainer_sentiment_prep16_4/checkpoint-7500\n",
            "Configuration saved in trainer_sentiment_prep16_4/checkpoint-7500/config.json\n",
            "Model weights saved in trainer_sentiment_prep16_4/checkpoint-7500/pytorch_model.bin\n",
            "Saving model checkpoint to trainer_sentiment_prep16_4/checkpoint-8000\n",
            "Configuration saved in trainer_sentiment_prep16_4/checkpoint-8000/config.json\n",
            "Model weights saved in trainer_sentiment_prep16_4/checkpoint-8000/pytorch_model.bin\n",
            "Saving model checkpoint to trainer_sentiment_prep16_4/checkpoint-8500\n",
            "Configuration saved in trainer_sentiment_prep16_4/checkpoint-8500/config.json\n",
            "Model weights saved in trainer_sentiment_prep16_4/checkpoint-8500/pytorch_model.bin\n",
            "***** Running Evaluation *****\n",
            "  Num examples = 2000\n",
            "  Batch size = 8\n",
            "Saving model checkpoint to trainer_sentiment_prep16_4/checkpoint-9000\n",
            "Configuration saved in trainer_sentiment_prep16_4/checkpoint-9000/config.json\n",
            "Model weights saved in trainer_sentiment_prep16_4/checkpoint-9000/pytorch_model.bin\n",
            "Saving model checkpoint to trainer_sentiment_prep16_4/checkpoint-9500\n",
            "Configuration saved in trainer_sentiment_prep16_4/checkpoint-9500/config.json\n",
            "Model weights saved in trainer_sentiment_prep16_4/checkpoint-9500/pytorch_model.bin\n",
            "Saving model checkpoint to trainer_sentiment_prep16_4/checkpoint-10000\n",
            "Configuration saved in trainer_sentiment_prep16_4/checkpoint-10000/config.json\n",
            "Model weights saved in trainer_sentiment_prep16_4/checkpoint-10000/pytorch_model.bin\n",
            "Saving model checkpoint to trainer_sentiment_prep16_4/checkpoint-10500\n",
            "Configuration saved in trainer_sentiment_prep16_4/checkpoint-10500/config.json\n",
            "Model weights saved in trainer_sentiment_prep16_4/checkpoint-10500/pytorch_model.bin\n",
            "Saving model checkpoint to trainer_sentiment_prep16_4/checkpoint-11000\n",
            "Configuration saved in trainer_sentiment_prep16_4/checkpoint-11000/config.json\n",
            "Model weights saved in trainer_sentiment_prep16_4/checkpoint-11000/pytorch_model.bin\n",
            "***** Running Evaluation *****\n",
            "  Num examples = 2000\n",
            "  Batch size = 8\n",
            "\n",
            "\n",
            "Training completed. Do not forget to share your model on huggingface.co/models =)\n",
            "\n",
            "\n",
            "***** Running Prediction *****\n",
            "  Num examples = 2000\n",
            "  Batch size = 8\n"
          ]
        },
        {
          "data": {
            "text/html": [
              "\n",
              "    <div>\n",
              "      \n",
              "      <progress value='250' max='250' style='width:300px; height:20px; vertical-align: middle;'></progress>\n",
              "      [250/250 00:08]\n",
              "    </div>\n",
              "    "
            ],
            "text/plain": [
              "<IPython.core.display.HTML object>"
            ]
          },
          "metadata": {},
          "output_type": "display_data"
        },
        {
          "name": "stderr",
          "output_type": "stream",
          "text": [
            "PyTorch: setting up devices\n",
            "The default value for the training argument `--report_to` will change in v5 (from all installed integrations to none). In v5, you will need to use `--report_to all` to get the same behavior as now. You should start updating your code and make this info disappear :-).\n",
            "/usr/local/lib/python3.7/dist-packages/transformers/optimization.py:310: FutureWarning: This implementation of AdamW is deprecated and will be removed in a future version. Use the PyTorch implementation torch.optim.AdamW instead, or set `no_deprecation_warning=True` to disable this warning\n",
            "  FutureWarning,\n",
            "***** Running training *****\n",
            "  Num examples = 45615\n",
            "  Num Epochs = 4\n",
            "  Instantaneous batch size per device = 32\n",
            "  Total train batch size (w. parallel, distributed & accumulation) = 32\n",
            "  Gradient Accumulation steps = 1\n",
            "  Total optimization steps = 5704\n"
          ]
        },
        {
          "name": "stdout",
          "output_type": "stream",
          "text": [
            "\u001b[35m \n",
            "Validation accuracy (batch size 16 and epochs 4): 0.7205\n",
            " \u001b[30m\n"
          ]
        },
        {
          "data": {
            "text/html": [
              "\n",
              "    <div>\n",
              "      \n",
              "      <progress value='5704' max='5704' style='width:300px; height:20px; vertical-align: middle;'></progress>\n",
              "      [5704/5704 32:16, Epoch 4/4]\n",
              "    </div>\n",
              "    <table border=\"1\" class=\"dataframe\">\n",
              "  <thead>\n",
              " <tr style=\"text-align: left;\">\n",
              "      <th>Epoch</th>\n",
              "      <th>Training Loss</th>\n",
              "      <th>Validation Loss</th>\n",
              "      <th>Accuracy</th>\n",
              "    </tr>\n",
              "  </thead>\n",
              "  <tbody>\n",
              "    <tr>\n",
              "      <td>1</td>\n",
              "      <td>0.080200</td>\n",
              "      <td>1.505808</td>\n",
              "      <td>0.719500</td>\n",
              "    </tr>\n",
              "    <tr>\n",
              "      <td>2</td>\n",
              "      <td>0.057900</td>\n",
              "      <td>1.610113</td>\n",
              "      <td>0.716500</td>\n",
              "    </tr>\n",
              "    <tr>\n",
              "      <td>3</td>\n",
              "      <td>0.035200</td>\n",
              "      <td>1.827515</td>\n",
              "      <td>0.717000</td>\n",
              "    </tr>\n",
              "    <tr>\n",
              "      <td>4</td>\n",
              "      <td>0.016600</td>\n",
              "      <td>2.050598</td>\n",
              "      <td>0.718500</td>\n",
              "    </tr>\n",
              "  </tbody>\n",
              "</table><p>"
            ],
            "text/plain": [
              "<IPython.core.display.HTML object>"
            ]
          },
          "metadata": {},
          "output_type": "display_data"
        },
        {
          "name": "stderr",
          "output_type": "stream",
          "text": [
            "Saving model checkpoint to trainer_sentiment_prep32_4/checkpoint-500\n",
            "Configuration saved in trainer_sentiment_prep32_4/checkpoint-500/config.json\n",
            "Model weights saved in trainer_sentiment_prep32_4/checkpoint-500/pytorch_model.bin\n",
            "Saving model checkpoint to trainer_sentiment_prep32_4/checkpoint-1000\n",
            "Configuration saved in trainer_sentiment_prep32_4/checkpoint-1000/config.json\n",
            "Model weights saved in trainer_sentiment_prep32_4/checkpoint-1000/pytorch_model.bin\n",
            "***** Running Evaluation *****\n",
            "  Num examples = 2000\n",
            "  Batch size = 8\n",
            "Saving model checkpoint to trainer_sentiment_prep32_4/checkpoint-1500\n",
            "Configuration saved in trainer_sentiment_prep32_4/checkpoint-1500/config.json\n",
            "Model weights saved in trainer_sentiment_prep32_4/checkpoint-1500/pytorch_model.bin\n",
            "Saving model checkpoint to trainer_sentiment_prep32_4/checkpoint-2000\n",
            "Configuration saved in trainer_sentiment_prep32_4/checkpoint-2000/config.json\n",
            "Model weights saved in trainer_sentiment_prep32_4/checkpoint-2000/pytorch_model.bin\n",
            "Saving model checkpoint to trainer_sentiment_prep32_4/checkpoint-2500\n",
            "Configuration saved in trainer_sentiment_prep32_4/checkpoint-2500/config.json\n",
            "Model weights saved in trainer_sentiment_prep32_4/checkpoint-2500/pytorch_model.bin\n",
            "***** Running Evaluation *****\n",
            "  Num examples = 2000\n",
            "  Batch size = 8\n",
            "Saving model checkpoint to trainer_sentiment_prep32_4/checkpoint-3000\n",
            "Configuration saved in trainer_sentiment_prep32_4/checkpoint-3000/config.json\n",
            "Model weights saved in trainer_sentiment_prep32_4/checkpoint-3000/pytorch_model.bin\n",
            "Saving model checkpoint to trainer_sentiment_prep32_4/checkpoint-3500\n",
            "Configuration saved in trainer_sentiment_prep32_4/checkpoint-3500/config.json\n",
            "Model weights saved in trainer_sentiment_prep32_4/checkpoint-3500/pytorch_model.bin\n",
            "Saving model checkpoint to trainer_sentiment_prep32_4/checkpoint-4000\n",
            "Configuration saved in trainer_sentiment_prep32_4/checkpoint-4000/config.json\n",
            "Model weights saved in trainer_sentiment_prep32_4/checkpoint-4000/pytorch_model.bin\n",
            "***** Running Evaluation *****\n",
            "  Num examples = 2000\n",
            "  Batch size = 8\n",
            "Saving model checkpoint to trainer_sentiment_prep32_4/checkpoint-4500\n",
            "Configuration saved in trainer_sentiment_prep32_4/checkpoint-4500/config.json\n",
            "Model weights saved in trainer_sentiment_prep32_4/checkpoint-4500/pytorch_model.bin\n",
            "Saving model checkpoint to trainer_sentiment_prep32_4/checkpoint-5000\n",
            "Configuration saved in trainer_sentiment_prep32_4/checkpoint-5000/config.json\n",
            "Model weights saved in trainer_sentiment_prep32_4/checkpoint-5000/pytorch_model.bin\n",
            "Saving model checkpoint to trainer_sentiment_prep32_4/checkpoint-5500\n",
            "Configuration saved in trainer_sentiment_prep32_4/checkpoint-5500/config.json\n",
            "Model weights saved in trainer_sentiment_prep32_4/checkpoint-5500/pytorch_model.bin\n",
            "***** Running Evaluation *****\n",
            "  Num examples = 2000\n",
            "  Batch size = 8\n",
            "\n",
            "\n",
            "Training completed. Do not forget to share your model on huggingface.co/models =)\n",
            "\n",
            "\n",
            "***** Running Prediction *****\n",
            "  Num examples = 2000\n",
            "  Batch size = 8\n"
          ]
        },
        {
          "data": {
            "text/html": [
              "\n",
              "    <div>\n",
              "      \n",
              "      <progress value='250' max='250' style='width:300px; height:20px; vertical-align: middle;'></progress>\n",
              "      [250/250 00:08]\n",
              "    </div>\n",
              "    "
            ],
            "text/plain": [
              "<IPython.core.display.HTML object>"
            ]
          },
          "metadata": {},
          "output_type": "display_data"
        },
        {
          "name": "stdout",
          "output_type": "stream",
          "text": [
            "\u001b[35m \n",
            "Validation accuracy (batch size 32 and epochs 4): 0.7185\n",
            " \u001b[30m\n"
          ]
        }
      ],
      "source": [
        "# I had to repeat the training with 4 epochs for both batch sizes because, \n",
        "# due to Colab's usage limits, I got an error message in the previous cell\n",
        "\n",
        "best_model_sentiment_prep = None\n",
        "best_accuracy_sentiment_prep = 0\n",
        "best_epoch_sentiment_prep = 0\n",
        "best_batch_size_sentiment_prep = 0\n",
        "\n",
        "models_sentiment_prep = []\n",
        "\n",
        "for epoch in [4]:\n",
        "  for batch_size in batch_sizes:\n",
        "\n",
        "    args = TrainingArguments(output_dir='trainer_sentiment_prep'+str(batch_size)+'_'+str(epoch),\n",
        "                              evaluation_strategy=\"epoch\",\n",
        "                              num_train_epochs=epoch,\n",
        "                              per_device_train_batch_size=batch_size)\n",
        "    \n",
        "    trainer = Trainer(\n",
        "        model=bertweet_sentiment,\n",
        "        args=args,\n",
        "        train_dataset=train_tokenized_sentiment_prep,\n",
        "        eval_dataset=val_tokenized_sentiment_prep,\n",
        "        compute_metrics=compute_metrics,\n",
        "    )\n",
        "\n",
        "    trainer.train()\n",
        "  \n",
        "    predictions = trainer.predict(val_tokenized_sentiment_prep)\n",
        "    preds = np.argmax(predictions.predictions, axis=-1)\n",
        "    val_accuracy = accuracy.compute(predictions=preds, references=predictions.label_ids)['accuracy']\n",
        "\n",
        "    print(f'{Fore.MAGENTA} \\nValidation accuracy (batch size {batch_size} and epochs {epoch}): {val_accuracy}\\n {Fore.BLACK}')\n",
        "    \n",
        "    models_sentiment_prep.append(dict(val_accuracy=val_accuracy,\n",
        "                       batch_size=batch_size,\n",
        "                       epochs=epoch\n",
        "                       ))\n",
        "\n",
        "    if val_accuracy > best_accuracy_sentiment_prep:\n",
        "      best_accuracy_sentiment_prep = val_accuracy\n",
        "      best_model_sentiment_prep = trainer\n",
        "      best_epoch_sentiment_prep = epoch\n",
        "      best_batch_size_sentiment_prep = batch_size\n"
      ]
    },
    {
      "cell_type": "code",
      "execution_count": null,
      "metadata": {
        "colab": {
          "base_uri": "https://localhost:8080/"
        },
        "outputId": "ace06c07-dd4e-49e4-aa26-20a3814670d5",
        "id": "pQKbKlPnZ9Nr"
      },
      "outputs": [
        {
          "output_type": "stream",
          "name": "stdout",
          "text": [
            "** Best model for Sentiment Analysis with preprocessed tweets **\n",
            "batch size: 16, epochs: 4, validation accuracy: 0.7205\n"
          ]
        }
      ],
      "source": [
        "print('** Best model for Sentiment Analysis with preprocessed tweets **')\n",
        "print(f'batch size: {best_batch_size_sentiment_prep}, epochs: {best_epoch_sentiment_prep}, validation accuracy: {best_accuracy_sentiment_prep}')\n"
      ]
    },
    {
      "cell_type": "markdown",
      "metadata": {
        "id": "oz6hKkw8gBf2"
      },
      "source": [
        "### 4.5 - Models evaluation\n",
        "\n",
        "In order to evaluate the models' performances, I computed the following metrics on the test sets:\n",
        "- Accuracy\n",
        "- Macro-averaged precision\n",
        "- Macro-averaged recall\n",
        "- Macro-averaged $F_{1}$  score\n",
        "\n",
        "The results are shown in the table below, together with the $F_{1}$  scores obtained by **RoB-RT**, one of the models reported as a benchmark by TweetEval. I have chosen to compare my models' performances with RoB-RT because this is the benchmark model that obtained overall the highest results. \n",
        "\n",
        "Dataset                 | Accuracy | Precision | Recall | $F_{1}$  score | TweetEval benchmark ($F_{1}$  score)\n",
        "----------------------  |-------| ------|-------|------| ---\n",
        "emotion (original)      | 79.8 | 76.8 | 76.6 | 76.6 | 78.5±1.2\n",
        "emotion (preprocessed)  | 81.2 | 78.8 | 78.0 | 78.3\n",
        "hate (original)         | 57.0 | 70.6 | 62.3 | 54.2 | 52.3±0.2\n",
        "hate (preprocessed)     | 56.0 | 67.7 | 61.1 | 53.5\n",
        "sentiment (original)    | 69.0 | 68.1 | 69.8 | 68.8 | 72.6±0.4 \n",
        "sentiment (preprocessed)| 68.8 | 67.8 | 69.8 | 68.6\n",
        "\n",
        "Conversely to what I was expecting, the best test performances have been reached in the Emotion Recognition task, even though the corresponding dataset (*emotion*) is the smallest one. Since this is the best performing task also for what concerns the TweetEval benchmark, it might be an easier task compared to the other two. Furthermore, I was expecting that the models finetuned on the preprocessed tweets would reach higer performances compared to the models finetuned on the original tweets. However, this is not the case: the two groups of models obtained more or less the same results in terms of performances. This might be due to the fact that, the way emoji and hashtags get encoded does not depend much on how they are represented in the input tweets, but rather on the context in which they appear.\n",
        "\n",
        "To conclude, we can see that, overall, the $F_{1}$  scores obtained by finetuning BERTweet are in the same range of the $F_{1}$ scores reported in the TweetEval benchmark."
      ]
    },
    {
      "cell_type": "code",
      "execution_count": null,
      "metadata": {
        "id": "Tqt-rJXKgpzm"
      },
      "outputs": [],
      "source": [
        "f1_score = load_metric('f1')\n",
        "precision = load_metric('precision')\n",
        "recall = load_metric('recall')"
      ]
    },
    {
      "cell_type": "markdown",
      "metadata": {
        "id": "SUmVeq1egZ5C"
      },
      "source": [
        "#### 4.5.1 - Emotion Recognition"
      ]
    },
    {
      "cell_type": "markdown",
      "metadata": {
        "id": "rfBps4Vonc9p"
      },
      "source": [
        "**Original data**"
      ]
    },
    {
      "cell_type": "code",
      "execution_count": null,
      "metadata": {
        "colab": {
          "base_uri": "https://localhost:8080/",
          "height": 91
        },
        "id": "GFBvUcoxnS0u",
        "outputId": "98047b7c-be81-4fc3-9980-99027ec68226"
      },
      "outputs": [
        {
          "name": "stderr",
          "output_type": "stream",
          "text": [
            "***** Running Prediction *****\n",
            "  Num examples = 1421\n",
            "  Batch size = 8\n"
          ]
        },
        {
          "data": {
            "text/html": [
              "\n",
              "    <div>\n",
              "      \n",
              "      <progress value='225' max='47' style='width:300px; height:20px; vertical-align: middle;'></progress>\n",
              "      [47/47 22:57]\n",
              "    </div>\n",
              "    "
            ],
            "text/plain": [
              "<IPython.core.display.HTML object>"
            ]
          },
          "metadata": {},
          "output_type": "display_data"
        }
      ],
      "source": [
        "predictions_emotion = best_model_emotion.predict(test_tokenized_emotion)\n",
        "preds_emotion = np.argmax(predictions_emotion.predictions, axis=-1)"
      ]
    },
    {
      "cell_type": "code",
      "execution_count": null,
      "metadata": {
        "id": "5PK8GzfKgGXk"
      },
      "outputs": [],
      "source": [
        "accuracy_emotion = accuracy.compute(predictions=preds_emotion, references=predictions_emotion.label_ids)\n",
        "precision_emotion = precision.compute(predictions=preds_emotion, references=predictions_emotion.label_ids, average='macro')\n",
        "recall_emotion = recall.compute(predictions=preds_emotion, references=predictions_emotion.label_ids, average='macro')\n",
        "f1_score_emotion = f1_score.compute(predictions=preds_emotion, references=predictions_emotion.label_ids, average='macro')"
      ]
    },
    {
      "cell_type": "code",
      "execution_count": null,
      "metadata": {
        "colab": {
          "base_uri": "https://localhost:8080/"
        },
        "id": "rmlt_P_7skpj",
        "outputId": "ca69c1a8-777d-45a5-a592-c525b36336b5"
      },
      "outputs": [
        {
          "name": "stdout",
          "output_type": "stream",
          "text": [
            "** Emotion Recognition **\n",
            "Test accuracy: 0.7980295566502463\n",
            "Precision (macro average): 0.7684214664777839\n",
            "Recall (macro average): 0.7662547440637084\n",
            "F1 score (macro average): 0.7662017599803118\n"
          ]
        }
      ],
      "source": [
        "print('** Emotion Recognition **')\n",
        "print('Test accuracy:', accuracy_emotion['accuracy'])\n",
        "print('Precision (macro average):', precision_emotion['precision'])\n",
        "print('Recall (macro average):', recall_emotion['recall'])\n",
        "print('F1 score (macro average):', f1_score_emotion['f1'])"
      ]
    },
    {
      "cell_type": "markdown",
      "metadata": {
        "id": "mE391kgPniKU"
      },
      "source": [
        "**Preprocessed data**"
      ]
    },
    {
      "cell_type": "code",
      "execution_count": null,
      "metadata": {
        "colab": {
          "base_uri": "https://localhost:8080/",
          "height": 91
        },
        "id": "AMXdWCG9niKU",
        "outputId": "ac7ac4af-b442-4fa2-b469-eadf1ffa750a"
      },
      "outputs": [
        {
          "name": "stderr",
          "output_type": "stream",
          "text": [
            "***** Running Prediction *****\n",
            "  Num examples = 1421\n",
            "  Batch size = 8\n"
          ]
        },
        {
          "data": {
            "text/html": [
              "\n",
              "    <div>\n",
              "      \n",
              "      <progress value='225' max='47' style='width:300px; height:20px; vertical-align: middle;'></progress>\n",
              "      [47/47 10:25]\n",
              "    </div>\n",
              "    "
            ],
            "text/plain": [
              "<IPython.core.display.HTML object>"
            ]
          },
          "metadata": {},
          "output_type": "display_data"
        }
      ],
      "source": [
        "predictions_emotion_prep = best_model_emotion_prep.predict(test_tokenized_emotion_prep)\n",
        "preds_emotion_prep = np.argmax(predictions_emotion_prep.predictions, axis=-1)"
      ]
    },
    {
      "cell_type": "code",
      "execution_count": null,
      "metadata": {
        "id": "ejttgGGVniKV"
      },
      "outputs": [],
      "source": [
        "accuracy_emotion_prep = accuracy.compute(predictions=preds_emotion_prep, references=predictions_emotion_prep.label_ids)\n",
        "precision_emotion_prep = precision.compute(predictions=preds_emotion_prep, references=predictions_emotion_prep.label_ids, average='macro')\n",
        "recall_emotion_prep = recall.compute(predictions=preds_emotion_prep, references=predictions_emotion_prep.label_ids, average='macro')\n",
        "f1_score_emotion_prep = f1_score.compute(predictions=preds_emotion_prep, references=predictions_emotion_prep.label_ids, average='macro')"
      ]
    },
    {
      "cell_type": "code",
      "execution_count": null,
      "metadata": {
        "colab": {
          "base_uri": "https://localhost:8080/"
        },
        "id": "JDF4dSSNs1js",
        "outputId": "478fcef3-98ec-4a46-f992-ec69273ac8f6"
      },
      "outputs": [
        {
          "name": "stdout",
          "output_type": "stream",
          "text": [
            "** Emotion Recognition with preprocessed tweets **\n",
            "Test accuracy: 0.812807881773399\n",
            "Precision (macro average): 0.7882459868992376\n",
            "Recall (macro average): 0.7795752963084616\n",
            "F1 score (macro average): 0.7829250037944357\n"
          ]
        }
      ],
      "source": [
        "print('** Emotion Recognition with preprocessed tweets **')\n",
        "print('Test accuracy:', accuracy_emotion_prep['accuracy'])\n",
        "print('Precision (macro average):', precision_emotion_prep['precision'])\n",
        "print('Recall (macro average):', recall_emotion_prep['recall'])\n",
        "print('F1 score (macro average):', f1_score_emotion_prep['f1'])"
      ]
    },
    {
      "cell_type": "markdown",
      "metadata": {
        "id": "K1hCjtlNgX5T"
      },
      "source": [
        "#### 4.5.2 - Hate Speech Detection"
      ]
    },
    {
      "cell_type": "markdown",
      "metadata": {
        "id": "aH7QRBWAiqP7"
      },
      "source": [
        "**Original data**"
      ]
    },
    {
      "cell_type": "code",
      "execution_count": null,
      "metadata": {
        "colab": {
          "base_uri": "https://localhost:8080/",
          "height": 91
        },
        "id": "GNkxAAMAiUTx",
        "outputId": "fe7474d5-2eb9-4ccf-df03-beaddce68e7c"
      },
      "outputs": [
        {
          "name": "stderr",
          "output_type": "stream",
          "text": [
            "***** Running Prediction *****\n",
            "  Num examples = 2970\n",
            "  Batch size = 8\n"
          ]
        },
        {
          "data": {
            "text/html": [
              "\n",
              "    <div>\n",
              "      \n",
              "      <progress value='497' max='125' style='width:300px; height:20px; vertical-align: middle;'></progress>\n",
              "      [125/125 25:26]\n",
              "    </div>\n",
              "    "
            ],
            "text/plain": [
              "<IPython.core.display.HTML object>"
            ]
          },
          "metadata": {},
          "output_type": "display_data"
        }
      ],
      "source": [
        "predictions_hate = best_model_hate.predict(test_tokenized_hate)\n",
        "preds_hate = np.argmax(predictions_hate.predictions, axis=-1)"
      ]
    },
    {
      "cell_type": "code",
      "execution_count": null,
      "metadata": {
        "id": "HzROxXrpiUTy"
      },
      "outputs": [],
      "source": [
        "accuracy_hate = accuracy.compute(predictions=preds_hate, references=predictions_hate.label_ids)\n",
        "precision_hate = precision.compute(predictions=preds_hate, references=predictions_hate.label_ids, average='macro')\n",
        "recall_hate = recall.compute(predictions=preds_hate, references=predictions_hate.label_ids, average='macro')\n",
        "f1_score_hate = f1_score.compute(predictions=preds_hate, references=predictions_hate.label_ids, average='macro')"
      ]
    },
    {
      "cell_type": "code",
      "execution_count": null,
      "metadata": {
        "colab": {
          "base_uri": "https://localhost:8080/"
        },
        "id": "85p_GXekrzZW",
        "outputId": "cf44d2bf-4eda-4c20-949a-a5b6bf0c8a0c"
      },
      "outputs": [
        {
          "name": "stdout",
          "output_type": "stream",
          "text": [
            "** Hate Speech Detection **\n",
            "Test accuracy: 0.5696969696969697\n",
            "Precision (macro average): 0.7056715806715806\n",
            "Recall (macro average): 0.6232895818378603\n",
            "F1 score (macro average): 0.5425109959063361\n"
          ]
        }
      ],
      "source": [
        "print('** Hate Speech Detection **')\n",
        "print('Test accuracy:', accuracy_hate['accuracy'])\n",
        "print('Precision (macro average):', precision_hate['precision'])\n",
        "print('Recall (macro average):', recall_hate['recall'])\n",
        "print('F1 score (macro average):', f1_score_hate['f1'])"
      ]
    },
    {
      "cell_type": "markdown",
      "metadata": {
        "id": "SS4lSGuvirhT"
      },
      "source": [
        "**Preprocessed data**"
      ]
    },
    {
      "cell_type": "code",
      "execution_count": null,
      "metadata": {
        "colab": {
          "base_uri": "https://localhost:8080/",
          "height": 91
        },
        "id": "OTjWwQ6AirhU",
        "outputId": "f5f00e80-e82f-45bf-cbdd-15600a9bb173"
      },
      "outputs": [
        {
          "name": "stderr",
          "output_type": "stream",
          "text": [
            "***** Running Prediction *****\n",
            "  Num examples = 2970\n",
            "  Batch size = 8\n"
          ]
        },
        {
          "data": {
            "text/html": [
              "\n",
              "    <div>\n",
              "      \n",
              "      <progress value='497' max='125' style='width:300px; height:20px; vertical-align: middle;'></progress>\n",
              "      [125/125 35:32]\n",
              "    </div>\n",
              "    "
            ],
            "text/plain": [
              "<IPython.core.display.HTML object>"
            ]
          },
          "metadata": {},
          "output_type": "display_data"
        }
      ],
      "source": [
        "predictions_hate_prep = best_model_hate_prep.predict(test_tokenized_hate_prep)\n",
        "preds_hate_prep = np.argmax(predictions_hate_prep.predictions, axis=-1)"
      ]
    },
    {
      "cell_type": "code",
      "execution_count": null,
      "metadata": {
        "id": "CxgllQwbirhU"
      },
      "outputs": [],
      "source": [
        "accuracy_hate_prep = accuracy.compute(predictions=preds_hate_prep, references=predictions_hate_prep.label_ids)\n",
        "precision_hate_prep = precision.compute(predictions=preds_hate_prep, references=predictions_hate_prep.label_ids, average='macro')\n",
        "recall_hate_prep = recall.compute(predictions=preds_hate_prep, references=predictions_hate_prep.label_ids, average='macro')\n",
        "f1_score_hate_prep = f1_score.compute(predictions=preds_hate_prep, references=predictions_hate_prep.label_ids, average='macro')"
      ]
    },
    {
      "cell_type": "code",
      "execution_count": null,
      "metadata": {
        "colab": {
          "base_uri": "https://localhost:8080/"
        },
        "id": "LR0YDroKLWEF",
        "outputId": "c7fcb513-fa33-46a2-8625-2e1c9172834b"
      },
      "outputs": [
        {
          "name": "stdout",
          "output_type": "stream",
          "text": [
            "** Hate Speech Detection with preprocessed tweets **\n",
            "Test accuracy: 0.55993265993266\n",
            "Precision (macro average): 0.6774473176568261\n",
            "Recall (macro average): 0.6114914623215195\n",
            "F1 score (macro average): 0.5347482848458168\n"
          ]
        }
      ],
      "source": [
        "print('** Hate Speech Detection with preprocessed tweets **')\n",
        "print('Test accuracy:', accuracy_hate_prep['accuracy'])\n",
        "print('Precision (macro average):', precision_hate_prep['precision'])\n",
        "print('Recall (macro average):', recall_hate_prep['recall'])\n",
        "print('F1 score (macro average):', f1_score_hate_prep['f1'])"
      ]
    },
    {
      "cell_type": "markdown",
      "metadata": {
        "id": "Dh3A2OpNgUuS"
      },
      "source": [
        "#### 4.5.3 - Sentiment Analysis"
      ]
    },
    {
      "cell_type": "markdown",
      "metadata": {
        "id": "J9vYEZWbkie8"
      },
      "source": [
        "**Original data**"
      ]
    },
    {
      "cell_type": "code",
      "execution_count": null,
      "metadata": {
        "colab": {
          "base_uri": "https://localhost:8080/",
          "height": 91
        },
        "id": "ztKOOinnkie8",
        "outputId": "0cd99ce1-9955-44b2-b1b5-d6a7405c29d3"
      },
      "outputs": [
        {
          "name": "stderr",
          "output_type": "stream",
          "text": [
            "***** Running Prediction *****\n",
            "  Num examples = 12284\n",
            "  Batch size = 8\n"
          ]
        },
        {
          "data": {
            "text/html": [
              "\n",
              "    <div>\n",
              "      \n",
              "      <progress value='1786' max='250' style='width:300px; height:20px; vertical-align: middle;'></progress>\n",
              "      [250/250 2:21:22]\n",
              "    </div>\n",
              "    "
            ],
            "text/plain": [
              "<IPython.core.display.HTML object>"
            ]
          },
          "metadata": {},
          "output_type": "display_data"
        }
      ],
      "source": [
        "predictions_sentiment = best_model_sentiment.predict(test_tokenized_sentiment)\n",
        "preds_sentiment = np.argmax(predictions_sentiment.predictions, axis=-1)"
      ]
    },
    {
      "cell_type": "code",
      "execution_count": null,
      "metadata": {
        "id": "KQA2qIUDkie8"
      },
      "outputs": [],
      "source": [
        "accuracy_sentiment = accuracy.compute(predictions=preds_sentiment, references=predictions_sentiment.label_ids)\n",
        "precision_sentiment = precision.compute(predictions=preds_sentiment, references=predictions_sentiment.label_ids, average='macro')\n",
        "recall_sentiment = recall.compute(predictions=preds_sentiment, references=predictions_sentiment.label_ids, average='macro')\n",
        "f1_score_sentiment = f1_score.compute(predictions=preds_sentiment, references=predictions_sentiment.label_ids, average='macro')"
      ]
    },
    {
      "cell_type": "code",
      "execution_count": null,
      "metadata": {
        "colab": {
          "base_uri": "https://localhost:8080/"
        },
        "id": "8--ADZhLtOyK",
        "outputId": "cf1890c8-2a7c-4058-9c9e-a6c953d09b5c"
      },
      "outputs": [
        {
          "name": "stdout",
          "output_type": "stream",
          "text": [
            "** Sentiment Analysis **\n",
            "Test accuracy: 0.6899218495604038\n",
            "Precision (macro average): 0.6806857319505905\n",
            "Recall (macro average): 0.697790141711554\n",
            "F1 score (macro average): 0.6880374168190911\n"
          ]
        }
      ],
      "source": [
        "print('** Sentiment Analysis **')\n",
        "print('Test accuracy:', accuracy_sentiment['accuracy'])\n",
        "print('Precision (macro average):', precision_sentiment['precision'])\n",
        "print('Recall (macro average):', recall_sentiment['recall'])\n",
        "print('F1 score (macro average):', f1_score_sentiment['f1'])"
      ]
    },
    {
      "cell_type": "markdown",
      "metadata": {
        "id": "ECjEM2yzkie9"
      },
      "source": [
        "**Preprocessed data**"
      ]
    },
    {
      "cell_type": "code",
      "execution_count": null,
      "metadata": {
        "id": "OifXO6z7kie9",
        "colab": {
          "base_uri": "https://localhost:8080/",
          "height": 91
        },
        "outputId": "db9056ee-e6d5-4e55-8366-34d94987c661"
      },
      "outputs": [
        {
          "output_type": "stream",
          "name": "stderr",
          "text": [
            "***** Running Prediction *****\n",
            "  Num examples = 12284\n",
            "  Batch size = 8\n"
          ]
        },
        {
          "output_type": "display_data",
          "data": {
            "text/plain": [
              "<IPython.core.display.HTML object>"
            ],
            "text/html": [
              "\n",
              "    <div>\n",
              "      \n",
              "      <progress value='1786' max='250' style='width:300px; height:20px; vertical-align: middle;'></progress>\n",
              "      [250/250 37:28]\n",
              "    </div>\n",
              "    "
            ]
          },
          "metadata": {}
        }
      ],
      "source": [
        "predictions_sentiment_prep = best_model_sentiment_prep.predict(test_tokenized_sentiment_prep)\n",
        "preds_sentiment_prep = np.argmax(predictions_sentiment_prep.predictions, axis=-1)"
      ]
    },
    {
      "cell_type": "code",
      "execution_count": null,
      "metadata": {
        "id": "nrSc2YESkie-"
      },
      "outputs": [],
      "source": [
        "accuracy_sentiment_prep = accuracy.compute(predictions=preds_sentiment_prep, references=predictions_sentiment_prep.label_ids)\n",
        "precision_sentiment_prep = precision.compute(predictions=preds_sentiment_prep, references=predictions_sentiment_prep.label_ids, average='macro')\n",
        "recall_sentiment_prep = recall.compute(predictions=preds_sentiment_prep, references=predictions_sentiment_prep.label_ids, average='macro')\n",
        "f1_score_sentiment_prep = f1_score.compute(predictions=preds_sentiment_prep, references=predictions_sentiment_prep.label_ids, average='macro')"
      ]
    },
    {
      "cell_type": "code",
      "execution_count": null,
      "metadata": {
        "id": "E11D-1n9tmDw",
        "colab": {
          "base_uri": "https://localhost:8080/"
        },
        "outputId": "21d3df89-e6bc-4a62-a59e-d8a3f1961871"
      },
      "outputs": [
        {
          "output_type": "stream",
          "name": "stdout",
          "text": [
            "** Sentiment Analysis with preprocessed tweets **\n",
            "Test accuracy: 0.688049495278411\n",
            "Precision (macro average): 0.6784757109850013\n",
            "Recall (macro average): 0.6975528667517477\n",
            "F1 score (macro average): 0.6863696323074912\n"
          ]
        }
      ],
      "source": [
        "print('** Sentiment Analysis with preprocessed tweets **')\n",
        "print('Test accuracy:', accuracy_sentiment_prep['accuracy'])\n",
        "print('Precision (macro average):', precision_sentiment_prep['precision'])\n",
        "print('Recall (macro average):', recall_sentiment_prep['recall'])\n",
        "print('F1 score (macro average):', f1_score_sentiment_prep['f1'])"
      ]
    },
    {
      "cell_type": "markdown",
      "source": [
        "### 5 - Conclusions\n",
        "\n",
        "In this notebook I finetuned BERTweet on three NLP tasks: Emotion Recognition, Hate Speech Detection and Sentiment Analysis.\n",
        "\n",
        "Emotion Recognition is the task which obtained higher performances on the test set, probably due to the fact that it is an easier task compared to Hate Speech Detection and Sentiment Analysis.\n",
        "\n",
        "Furthermore, there are no big differences in finetuning BERTweet with or without applying a further tweet preprocessing step to replace emojies and hashtags with text. This can be explained by the fact that BERT is a contextual encoder that considers both right and left contexts when generating the input embedding. Therefore, the way emojis and hashtags are encoded in the input tweets doesn't seem to have an impact on the tweet embedding and, consequently, on the task performances.\n",
        "\n",
        "To conclude, it is interesting to notice that finetuning BERTweet with just 2 or 3 training epochs allows us to reach the same performaces reported in the TweetEval benchmark."
      ],
      "metadata": {
        "id": "pDR-_CezCyvM"
      }
    }
  ]
}